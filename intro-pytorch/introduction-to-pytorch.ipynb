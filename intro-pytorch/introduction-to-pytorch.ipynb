{
 "cells": [
  {
   "cell_type": "markdown",
   "metadata": {},
   "source": [
    "# Introduction to PyTorch"
   ]
  },
  {
   "cell_type": "markdown",
   "metadata": {},
   "source": [
    "The purpose of this notebook is to introduce you to the basics of [PyTorch](https://pytorch.org), the deep learning framework we will be using for the labs. Many good introductions to PyTorch are available online. This notebook focuses on those basics that you will encounter in the labs. Beyond it, you will also need to get comfortable with the [PyTorch documentation](https://pytorch.org/docs/stable/).\n",
    "\n",
    "We start by importing the PyTorch module:"
   ]
  },
  {
   "cell_type": "code",
   "execution_count": 3,
   "metadata": {},
   "outputs": [],
   "source": [
    "import torch"
   ]
  },
  {
   "cell_type": "markdown",
   "metadata": {},
   "source": [
    "The following code prints the current version of the module:"
   ]
  },
  {
   "cell_type": "code",
   "execution_count": 4,
   "metadata": {},
   "outputs": [
    {
     "name": "stdout",
     "output_type": "stream",
     "text": [
      "2.1.2\n"
     ]
    }
   ],
   "source": [
    "print(torch.__version__)"
   ]
  },
  {
   "cell_type": "markdown",
   "metadata": {},
   "source": [
    "The version of PyTorch at the time of writing this notebook was 2.1.\n",
    "\n",
    "## Tensors\n",
    "\n",
    "The fundamental data structure in PyTorch is the **tensor**, a multi-dimensional matrix containing elements of a single numerical data type. Tensors are similar to *arrays* as you may know them from NumPy or MATLAB.\n",
    "\n",
    "### Creating tensors\n",
    "\n",
    "One way to create a tensor is to call the function [`torch.tensor()`](https://pytorch.org/docs/stable/generated/torch.tensor.html) on a Python list or NumPy array.\n",
    "\n",
    "The code in the following cell creates a 2-dimensional tensor with 4 elements."
   ]
  },
  {
   "cell_type": "code",
   "execution_count": 5,
   "metadata": {},
   "outputs": [
    {
     "data": {
      "text/plain": [
       "tensor([[0, 1],\n",
       "        [2, 3],\n",
       "        [4, 5]])"
      ]
     },
     "execution_count": 5,
     "metadata": {},
     "output_type": "execute_result"
    }
   ],
   "source": [
    "x = torch.tensor([[0, 1], [2, 3], [4, 5]])\n",
    "x"
   ]
  },
  {
   "cell_type": "markdown",
   "metadata": {},
   "source": [
    "Each tensor has a *shape*, which specifies the number and sizes of its dimensions:"
   ]
  },
  {
   "cell_type": "code",
   "execution_count": 6,
   "metadata": {},
   "outputs": [
    {
     "data": {
      "text/plain": [
       "torch.Size([3, 2])"
      ]
     },
     "execution_count": 6,
     "metadata": {},
     "output_type": "execute_result"
    }
   ],
   "source": [
    "x.shape"
   ]
  },
  {
   "cell_type": "markdown",
   "metadata": {},
   "source": [
    "Each tensor also has a *data type* for its elements. [More information about data types](https://pytorch.org/docs/stable/tensors.html#data-types)"
   ]
  },
  {
   "cell_type": "code",
   "execution_count": 7,
   "metadata": {},
   "outputs": [
    {
     "data": {
      "text/plain": [
       "torch.int64"
      ]
     },
     "execution_count": 7,
     "metadata": {},
     "output_type": "execute_result"
    }
   ],
   "source": [
    "x.dtype"
   ]
  },
  {
   "cell_type": "markdown",
   "metadata": {},
   "source": [
    "When creating a tensor, you can explicitly pass the intended data type as a keyword argument:"
   ]
  },
  {
   "cell_type": "code",
   "execution_count": 8,
   "metadata": {},
   "outputs": [
    {
     "data": {
      "text/plain": [
       "torch.float32"
      ]
     },
     "execution_count": 8,
     "metadata": {},
     "output_type": "execute_result"
    }
   ],
   "source": [
    "y = torch.tensor([[0, 1], [2, 3]], dtype=torch.float)\n",
    "y.dtype"
   ]
  },
  {
   "cell_type": "markdown",
   "metadata": {},
   "source": [
    "For many data types, there also exists a specialised constructor:"
   ]
  },
  {
   "cell_type": "code",
   "execution_count": 9,
   "metadata": {},
   "outputs": [
    {
     "data": {
      "text/plain": [
       "torch.float32"
      ]
     },
     "execution_count": 9,
     "metadata": {},
     "output_type": "execute_result"
    }
   ],
   "source": [
    "z = torch.FloatTensor([[0, 1], [2, 3]])\n",
    "z.dtype"
   ]
  },
  {
   "cell_type": "markdown",
   "metadata": {},
   "source": [
    "### More creation operations\n",
    "\n",
    "Create a 3D-tensor of the specified shape and filled with the scalar value zero:"
   ]
  },
  {
   "cell_type": "code",
   "execution_count": 10,
   "metadata": {},
   "outputs": [
    {
     "data": {
      "text/plain": [
       "tensor([[[0., 0., 0., 0., 0.],\n",
       "         [0., 0., 0., 0., 0.],\n",
       "         [0., 0., 0., 0., 0.]],\n",
       "\n",
       "        [[0., 0., 0., 0., 0.],\n",
       "         [0., 0., 0., 0., 0.],\n",
       "         [0., 0., 0., 0., 0.]]])"
      ]
     },
     "execution_count": 10,
     "metadata": {},
     "output_type": "execute_result"
    }
   ],
   "source": [
    "x = torch.zeros(2, 3, 5)\n",
    "x"
   ]
  },
  {
   "cell_type": "markdown",
   "metadata": {},
   "source": [
    "Create a 3D-tensor filled with random values:"
   ]
  },
  {
   "cell_type": "code",
   "execution_count": 11,
   "metadata": {},
   "outputs": [
    {
     "data": {
      "text/plain": [
       "tensor([[[0.4561, 0.5243, 0.4978, 0.8228, 0.1649],\n",
       "         [0.8501, 0.3605, 0.3097, 0.3173, 0.1659],\n",
       "         [0.1066, 0.4760, 0.7144, 0.1627, 0.9090]],\n",
       "\n",
       "        [[0.6183, 0.8648, 0.2419, 0.5475, 0.1817],\n",
       "         [0.5548, 0.3774, 0.4313, 0.8695, 0.0339],\n",
       "         [0.7542, 0.3928, 0.1840, 0.9438, 0.4670]]])"
      ]
     },
     "execution_count": 11,
     "metadata": {},
     "output_type": "execute_result"
    }
   ],
   "source": [
    "x = torch.rand(2, 3, 5)\n",
    "x"
   ]
  },
  {
   "cell_type": "markdown",
   "metadata": {},
   "source": [
    "Create a tensor with the same shape as another one, but filled with ones:"
   ]
  },
  {
   "cell_type": "code",
   "execution_count": 12,
   "metadata": {},
   "outputs": [
    {
     "data": {
      "text/plain": [
       "tensor([[[1., 1., 1., 1., 1.],\n",
       "         [1., 1., 1., 1., 1.],\n",
       "         [1., 1., 1., 1., 1.]],\n",
       "\n",
       "        [[1., 1., 1., 1., 1.],\n",
       "         [1., 1., 1., 1., 1.],\n",
       "         [1., 1., 1., 1., 1.]]])"
      ]
     },
     "execution_count": 12,
     "metadata": {},
     "output_type": "execute_result"
    }
   ],
   "source": [
    "y = torch.ones_like(x)\n",
    "y    # shape: [2, 3, 5]"
   ]
  },
  {
   "cell_type": "markdown",
   "metadata": {},
   "source": [
    "For a complete list of tensor-creating operations, see [Creation ops](https://pytorch.org/docs/stable/torch.html#creation-ops).\n",
    "\n",
    "### Embrace vectorisation!\n",
    "\n",
    "Iteration or “looping” is of one the most useful techniques for processing data in Python. However, you should **not loop over tensors**. Instead, try to *vectorise* any operations. Looping over tensors is slow, while vectorised operations on tensors are fast (and can be made even faster when the code runs on a GPU). To illustrate this point, let us create a 1D-tensor containing the first 1M integers:"
   ]
  },
  {
   "cell_type": "code",
   "execution_count": 13,
   "metadata": {},
   "outputs": [
    {
     "data": {
      "text/plain": [
       "tensor([     0,      1,      2,  ..., 999997, 999998, 999999])"
      ]
     },
     "execution_count": 13,
     "metadata": {},
     "output_type": "execute_result"
    }
   ],
   "source": [
    "x = torch.arange(1000000)\n",
    "x"
   ]
  },
  {
   "cell_type": "markdown",
   "metadata": {},
   "source": [
    "Summing up the elements of the tensor using a loop is relatively slow:"
   ]
  },
  {
   "cell_type": "code",
   "execution_count": 14,
   "metadata": {},
   "outputs": [
    {
     "data": {
      "text/plain": [
       "tensor(499999500000)"
      ]
     },
     "execution_count": 14,
     "metadata": {},
     "output_type": "execute_result"
    }
   ],
   "source": [
    "sum(x)"
   ]
  },
  {
   "cell_type": "markdown",
   "metadata": {},
   "source": [
    "Doing the same thing using a tensor operation is much faster:"
   ]
  },
  {
   "cell_type": "code",
   "execution_count": 15,
   "metadata": {},
   "outputs": [
    {
     "data": {
      "text/plain": [
       "tensor(499999500000)"
      ]
     },
     "execution_count": 15,
     "metadata": {},
     "output_type": "execute_result"
    }
   ],
   "source": [
    "x.sum()"
   ]
  },
  {
   "cell_type": "markdown",
   "metadata": {},
   "source": [
    "### Indexing and slicing\n",
    "\n",
    "To access the contents of a tensor, you can use an extended version of Python’s syntax for indexing and slicing. Essentially the same syntax is used by NumPy. For more information, see [Indexing on ndarrays](https://numpy.org/doc/stable/user/basics.indexing.html).\n",
    "\n",
    "To illustrate indexing and slicing, we create a 3D-tensor with random numbers:"
   ]
  },
  {
   "cell_type": "code",
   "execution_count": 16,
   "metadata": {},
   "outputs": [
    {
     "data": {
      "text/plain": [
       "tensor([[[0.1003, 0.9905, 0.8991, 0.1735, 0.5223],\n",
       "         [0.6886, 0.5166, 0.6429, 0.0819, 0.8269],\n",
       "         [0.8790, 0.2386, 0.4991, 0.9787, 0.7416]],\n",
       "\n",
       "        [[0.4174, 0.0354, 0.0306, 0.1949, 0.5941],\n",
       "         [0.9924, 0.8662, 0.9629, 0.3169, 0.0669],\n",
       "         [0.9994, 0.3516, 0.3254, 0.1529, 0.4934]]])"
      ]
     },
     "execution_count": 16,
     "metadata": {},
     "output_type": "execute_result"
    }
   ],
   "source": [
    "x = torch.rand(2, 3, 5)\n",
    "x"
   ]
  },
  {
   "cell_type": "markdown",
   "metadata": {},
   "source": [
    "Index an element by a 3D-coordinate; this gives a 0D-tensor:"
   ]
  },
  {
   "cell_type": "code",
   "execution_count": 17,
   "metadata": {},
   "outputs": [
    {
     "data": {
      "text/plain": [
       "tensor(0.6429)"
      ]
     },
     "execution_count": 17,
     "metadata": {},
     "output_type": "execute_result"
    }
   ],
   "source": [
    "x[0,1,2]"
   ]
  },
  {
   "cell_type": "markdown",
   "metadata": {},
   "source": [
    "(If you want the result as a non-tensor, use the method [`item()`](https://pytorch.org/docs/stable/generated/torch.Tensor.item.html#torch.Tensor.item).)\n",
    "\n",
    "Index the second element; this gives a 2D-tensor:"
   ]
  },
  {
   "cell_type": "code",
   "execution_count": 18,
   "metadata": {},
   "outputs": [
    {
     "data": {
      "text/plain": [
       "tensor([[0.4174, 0.0354, 0.0306, 0.1949, 0.5941],\n",
       "        [0.9924, 0.8662, 0.9629, 0.3169, 0.0669],\n",
       "        [0.9994, 0.3516, 0.3254, 0.1529, 0.4934]])"
      ]
     },
     "execution_count": 18,
     "metadata": {},
     "output_type": "execute_result"
    }
   ],
   "source": [
    "x[1]"
   ]
  },
  {
   "cell_type": "markdown",
   "metadata": {},
   "source": [
    "Index the second-to-last element:"
   ]
  },
  {
   "cell_type": "code",
   "execution_count": 19,
   "metadata": {},
   "outputs": [
    {
     "data": {
      "text/plain": [
       "tensor([[0.1003, 0.9905, 0.8991, 0.1735, 0.5223],\n",
       "        [0.6886, 0.5166, 0.6429, 0.0819, 0.8269],\n",
       "        [0.8790, 0.2386, 0.4991, 0.9787, 0.7416]])"
      ]
     },
     "execution_count": 19,
     "metadata": {},
     "output_type": "execute_result"
    }
   ],
   "source": [
    "x[-2]"
   ]
  },
  {
   "cell_type": "markdown",
   "metadata": {},
   "source": [
    "Slice out the sub-tensor with elements from index 1 onwards; this gives a 3D-tensor:"
   ]
  },
  {
   "cell_type": "code",
   "execution_count": 20,
   "metadata": {},
   "outputs": [
    {
     "data": {
      "text/plain": [
       "tensor([[[0.4174, 0.0354, 0.0306, 0.1949, 0.5941],\n",
       "         [0.9924, 0.8662, 0.9629, 0.3169, 0.0669],\n",
       "         [0.9994, 0.3516, 0.3254, 0.1529, 0.4934]]])"
      ]
     },
     "execution_count": 20,
     "metadata": {},
     "output_type": "execute_result"
    }
   ],
   "source": [
    "x[1:]"
   ]
  },
  {
   "cell_type": "markdown",
   "metadata": {},
   "source": [
    "Here is a more complex example of slicing. As in Python, the colon `:` selects all indices of a dimension."
   ]
  },
  {
   "cell_type": "code",
   "execution_count": 21,
   "metadata": {},
   "outputs": [
    {
     "data": {
      "text/plain": [
       "tensor([[[0.8991, 0.1735],\n",
       "         [0.6429, 0.0819],\n",
       "         [0.4991, 0.9787]],\n",
       "\n",
       "        [[0.0306, 0.1949],\n",
       "         [0.9629, 0.3169],\n",
       "         [0.3254, 0.1529]]])"
      ]
     },
     "execution_count": 21,
     "metadata": {},
     "output_type": "execute_result"
    }
   ],
   "source": [
    "x[:,:,2:4]"
   ]
  },
  {
   "cell_type": "markdown",
   "metadata": {},
   "source": [
    "The syntax for indexing and slicing is very powerful. For example, the same effect as in the previous cell can be obtained with the following code, which uses the ellipsis (`...`) to match all dimensions but the ones explicitly mentioned:"
   ]
  },
  {
   "cell_type": "code",
   "execution_count": 22,
   "metadata": {},
   "outputs": [
    {
     "data": {
      "text/plain": [
       "tensor([[[0.8991, 0.1735],\n",
       "         [0.6429, 0.0819],\n",
       "         [0.4991, 0.9787]],\n",
       "\n",
       "        [[0.0306, 0.1949],\n",
       "         [0.9629, 0.3169],\n",
       "         [0.3254, 0.1529]]])"
      ]
     },
     "execution_count": 22,
     "metadata": {},
     "output_type": "execute_result"
    }
   ],
   "source": [
    "x[...,2:4]"
   ]
  },
  {
   "cell_type": "markdown",
   "metadata": {},
   "source": [
    "### Creating views\n",
    "\n",
    "You will sometimes want to use a tensor with a different shape than its initial shape. In these situations, you can **re-shape** the tensor or create a **view** of the tensor. The latter is preferable because views can share the same data as their base tensors and thus do not require copying.\n",
    "\n",
    "We create a 3D-tensor of 12 random values:"
   ]
  },
  {
   "cell_type": "code",
   "execution_count": 23,
   "metadata": {},
   "outputs": [
    {
     "data": {
      "text/plain": [
       "tensor([[[0.7428, 0.4083],\n",
       "         [0.7336, 0.9327],\n",
       "         [0.3158, 0.1044]],\n",
       "\n",
       "        [[0.5331, 0.0530],\n",
       "         [0.6005, 0.7430],\n",
       "         [0.2964, 0.9022]]])"
      ]
     },
     "execution_count": 23,
     "metadata": {},
     "output_type": "execute_result"
    }
   ],
   "source": [
    "x = torch.rand(2, 3, 2)\n",
    "x"
   ]
  },
  {
   "cell_type": "markdown",
   "metadata": {},
   "source": [
    "Create a view of this tensor as a 2D-tensor:"
   ]
  },
  {
   "cell_type": "code",
   "execution_count": 24,
   "metadata": {},
   "outputs": [
    {
     "data": {
      "text/plain": [
       "tensor([[0.7428, 0.4083, 0.7336, 0.9327],\n",
       "        [0.3158, 0.1044, 0.5331, 0.0530],\n",
       "        [0.6005, 0.7430, 0.2964, 0.9022]])"
      ]
     },
     "execution_count": 24,
     "metadata": {},
     "output_type": "execute_result"
    }
   ],
   "source": [
    "x.view(3, 4)"
   ]
  },
  {
   "cell_type": "markdown",
   "metadata": {},
   "source": [
    "When creating a view, the special size `-1` is inferred from the other sizes:"
   ]
  },
  {
   "cell_type": "code",
   "execution_count": 25,
   "metadata": {},
   "outputs": [
    {
     "data": {
      "text/plain": [
       "tensor([[0.7428, 0.4083, 0.7336, 0.9327],\n",
       "        [0.3158, 0.1044, 0.5331, 0.0530],\n",
       "        [0.6005, 0.7430, 0.2964, 0.9022]])"
      ]
     },
     "execution_count": 25,
     "metadata": {},
     "output_type": "execute_result"
    }
   ],
   "source": [
    "x.view(3, -1)"
   ]
  },
  {
   "cell_type": "markdown",
   "metadata": {},
   "source": [
    "Modifying a view affects the data in the base tensor:"
   ]
  },
  {
   "cell_type": "code",
   "execution_count": 26,
   "metadata": {},
   "outputs": [
    {
     "data": {
      "text/plain": [
       "tensor([[[3.6031e-01, 2.6687e-01],\n",
       "         [1.4483e-01, 3.1500e-02],\n",
       "         [7.0499e-03, 9.9077e-01]],\n",
       "\n",
       "        [[7.0778e-01, 6.7439e-01],\n",
       "         [8.3727e-01, 4.7870e-01],\n",
       "         [3.7974e-01, 4.2000e+01]]])"
      ]
     },
     "execution_count": 26,
     "metadata": {},
     "output_type": "execute_result"
    }
   ],
   "source": [
    "y = torch.rand(2, 3, 2)\n",
    "z = y.view(3, 4)\n",
    "z[2, 3] = 42\n",
    "y"
   ]
  },
  {
   "cell_type": "markdown",
   "metadata": {},
   "source": [
    "### More viewing operations\n",
    "\n",
    "There are a few other useful methods that create views. [More information about views](https://pytorch.org/docs/stable/tensor_view.html)"
   ]
  },
  {
   "cell_type": "code",
   "execution_count": 54,
   "metadata": {},
   "outputs": [
    {
     "data": {
      "text/plain": [
       "tensor([[[0.9722, 0.4227, 0.3226, 0.9890, 0.2643],\n",
       "         [0.1302, 0.0887, 0.7545, 0.9075, 0.9207],\n",
       "         [0.1368, 0.0811, 0.0603, 0.0808, 0.4803]],\n",
       "\n",
       "        [[0.1570, 0.6173, 0.0157, 0.3208, 0.1117],\n",
       "         [0.8970, 0.5553, 0.2426, 0.5659, 0.7321],\n",
       "         [0.5832, 0.6361, 0.4880, 0.0492, 0.9175]]])"
      ]
     },
     "execution_count": 54,
     "metadata": {},
     "output_type": "execute_result"
    }
   ],
   "source": [
    "x = torch.rand(2, 3, 5)\n",
    "x"
   ]
  },
  {
   "cell_type": "markdown",
   "metadata": {},
   "source": [
    "The [`permute()`](https://pytorch.org/docs/stable/generated/torch.permute.html) method returns a view of the base tensor with some of its dimensions permuted. In the example, we maintain the first dimension but swap the second and the third dimension:"
   ]
  },
  {
   "cell_type": "code",
   "execution_count": 57,
   "metadata": {},
   "outputs": [
    {
     "name": "stdout",
     "output_type": "stream",
     "text": [
      "tensor([[[0.9722, 0.4227, 0.3226, 0.9890, 0.2643],\n",
      "         [0.1302, 0.0887, 0.7545, 0.9075, 0.9207],\n",
      "         [0.1368, 0.0811, 0.0603, 0.0808, 0.4803]],\n",
      "\n",
      "        [[0.1570, 0.6173, 0.0157, 0.3208, 0.1117],\n",
      "         [0.8970, 0.5553, 0.2426, 0.5659, 0.7321],\n",
      "         [0.5832, 0.6361, 0.4880, 0.0492, 0.9175]]])\n"
     ]
    },
    {
     "data": {
      "text/plain": [
       "torch.Size([2, 3, 5])"
      ]
     },
     "execution_count": 57,
     "metadata": {},
     "output_type": "execute_result"
    }
   ],
   "source": [
    "y = x.permute(0, 1, 2)\n",
    "print(y)\n",
    "y.shape"
   ]
  },
  {
   "cell_type": "markdown",
   "metadata": {},
   "source": [
    "The [`unsqueeze()`](https://pytorch.org/docs/stable/generated/torch.unsqueeze.html) method returns a tensor with a dimension of size one inserted at the specified position. This is useful e.g. in the training of neural networks when you want to create a batch with just one example."
   ]
  },
  {
   "cell_type": "code",
   "execution_count": 29,
   "metadata": {},
   "outputs": [
    {
     "name": "stdout",
     "output_type": "stream",
     "text": [
      "tensor([[[[0.9333, 0.0918, 0.1581, 0.8336, 0.8305],\n",
      "          [0.4392, 0.2776, 0.7523, 0.4437, 0.0149],\n",
      "          [0.3071, 0.6161, 0.8722, 0.6783, 0.4370]],\n",
      "\n",
      "         [[0.0091, 0.6290, 0.2706, 0.8549, 0.4595],\n",
      "          [0.5334, 0.2215, 0.6503, 0.5870, 0.2148],\n",
      "          [0.0525, 0.1580, 0.9518, 0.2619, 0.7184]]]])\n"
     ]
    },
    {
     "data": {
      "text/plain": [
       "torch.Size([1, 2, 3, 5])"
      ]
     },
     "execution_count": 29,
     "metadata": {},
     "output_type": "execute_result"
    }
   ],
   "source": [
    "y = x.unsqueeze(0)\n",
    "print(y)\n",
    "y.shape"
   ]
  },
  {
   "cell_type": "markdown",
   "metadata": {},
   "source": [
    "The inverse operation to [`unsqueeze()`](https://pytorch.org/docs/stable/generated/torch.unsqueeze.html) is [`squeeze()`](https://pytorch.org/docs/stable/generated/torch.squeeze.html):"
   ]
  },
  {
   "cell_type": "code",
   "execution_count": 30,
   "metadata": {},
   "outputs": [
    {
     "name": "stdout",
     "output_type": "stream",
     "text": [
      "tensor([[[0.9333, 0.0918, 0.1581, 0.8336, 0.8305],\n",
      "         [0.4392, 0.2776, 0.7523, 0.4437, 0.0149],\n",
      "         [0.3071, 0.6161, 0.8722, 0.6783, 0.4370]],\n",
      "\n",
      "        [[0.0091, 0.6290, 0.2706, 0.8549, 0.4595],\n",
      "         [0.5334, 0.2215, 0.6503, 0.5870, 0.2148],\n",
      "         [0.0525, 0.1580, 0.9518, 0.2619, 0.7184]]])\n"
     ]
    },
    {
     "data": {
      "text/plain": [
       "torch.Size([2, 3, 5])"
      ]
     },
     "execution_count": 30,
     "metadata": {},
     "output_type": "execute_result"
    }
   ],
   "source": [
    "y = y.squeeze(0)\n",
    "print(y)\n",
    "y.shape"
   ]
  },
  {
   "cell_type": "markdown",
   "metadata": {},
   "source": [
    "### Re-shaping tensors\n",
    "\n",
    "In some cases, you cannot create a view and need to explicitly re-shape a tensor. In particular, this happens when the data in the base tensor and the view are not in contiguous memory regions."
   ]
  },
  {
   "cell_type": "code",
   "execution_count": 31,
   "metadata": {},
   "outputs": [
    {
     "data": {
      "text/plain": [
       "tensor([[[0.1319, 0.8939, 0.4121, 0.1729, 0.6917],\n",
       "         [0.1636, 0.9197, 0.3545, 0.1788, 0.9670],\n",
       "         [0.2796, 0.6879, 0.4504, 0.8926, 0.6292]],\n",
       "\n",
       "        [[0.2882, 0.9400, 0.8134, 0.7959, 0.2771],\n",
       "         [0.2977, 0.2532, 0.4869, 0.0256, 0.6910],\n",
       "         [0.3494, 0.4048, 0.3029, 0.2504, 0.0617]]])"
      ]
     },
     "execution_count": 31,
     "metadata": {},
     "output_type": "execute_result"
    }
   ],
   "source": [
    "x = torch.rand(2, 3, 5)\n",
    "x"
   ]
  },
  {
   "cell_type": "markdown",
   "metadata": {},
   "source": [
    "We permute the tensor `x` to create a new tensor `y` in which the data is no longer consecutive in memory:"
   ]
  },
  {
   "cell_type": "code",
   "execution_count": 32,
   "metadata": {},
   "outputs": [
    {
     "data": {
      "text/plain": [
       "tensor([[[0.1319, 0.1636, 0.2796],\n",
       "         [0.8939, 0.9197, 0.6879],\n",
       "         [0.4121, 0.3545, 0.4504],\n",
       "         [0.1729, 0.1788, 0.8926],\n",
       "         [0.6917, 0.9670, 0.6292]],\n",
       "\n",
       "        [[0.2882, 0.2977, 0.3494],\n",
       "         [0.9400, 0.2532, 0.4048],\n",
       "         [0.8134, 0.4869, 0.3029],\n",
       "         [0.7959, 0.0256, 0.2504],\n",
       "         [0.2771, 0.6910, 0.0617]]])"
      ]
     },
     "execution_count": 32,
     "metadata": {},
     "output_type": "execute_result"
    }
   ],
   "source": [
    "y = x.permute(0, 2, 1)\n",
    "# y = y.view(-1)    # raises a runtime error\n",
    "y"
   ]
  },
  {
   "cell_type": "markdown",
   "metadata": {},
   "source": [
    "When it is not possible to create a view of a tensor, you can explicitly re-shape it, which will *copy* the data if necessary:"
   ]
  },
  {
   "cell_type": "code",
   "execution_count": 33,
   "metadata": {},
   "outputs": [
    {
     "data": {
      "text/plain": [
       "tensor([0.1319, 0.1636, 0.2796, 0.8939, 0.9197, 0.6879, 0.4121, 0.3545, 0.4504,\n",
       "        0.1729, 0.1788, 0.8926, 0.6917, 0.9670, 0.6292, 0.2882, 0.2977, 0.3494,\n",
       "        0.9400, 0.2532, 0.4048, 0.8134, 0.4869, 0.3029, 0.7959, 0.0256, 0.2504,\n",
       "        0.2771, 0.6910, 0.0617])"
      ]
     },
     "execution_count": 33,
     "metadata": {},
     "output_type": "execute_result"
    }
   ],
   "source": [
    "y = x.permute(0, 2, 1)\n",
    "y = y.reshape(-1)\n",
    "y"
   ]
  },
  {
   "cell_type": "markdown",
   "metadata": {},
   "source": [
    "Modifying a reshaped tensor *will not necessarily* change the data in the base tensor. This depends on whether the reshaped tensor is a copy of the base tensor or a view."
   ]
  },
  {
   "cell_type": "code",
   "execution_count": 34,
   "metadata": {},
   "outputs": [
    {
     "data": {
      "text/plain": [
       "tensor([[[0.8353, 0.4381],\n",
       "         [0.0623, 0.2403],\n",
       "         [0.1184, 0.4363]],\n",
       "\n",
       "        [[0.3825, 0.6181],\n",
       "         [0.9638, 0.4991],\n",
       "         [0.7223, 0.5757]]])"
      ]
     },
     "execution_count": 34,
     "metadata": {},
     "output_type": "execute_result"
    }
   ],
   "source": [
    "y = torch.rand(2, 3, 2)\n",
    "# z = y.permute(0, 1, 2).reshape(-1)    # z is a view of y => data is shared\n",
    "z = y.permute(0, 2, 1).reshape(-1)    # z is a copy of y => data is not shared\n",
    "z[0] = 42\n",
    "y"
   ]
  },
  {
   "cell_type": "markdown",
   "metadata": {},
   "source": [
    "## Computing with tensors\n",
    "\n",
    "Now that you know how to create tensors and extract data from them, we can turn to actual computations on tensors.\n",
    "\n",
    "### Element-wise operations\n",
    "\n",
    "Unary mathematical operations defined on numbers can be “lifted” to tensors by applying them element-wise. This includes multiplication by a constant, exponentiation (`**`), taking roots ([`torch.sqrt()`](https://pytorch.org/docs/stable/generated/torch.sqrt.html)), and the logarithm ([`torch.log()`](https://pytorch.org/docs/stable/generated/torch.sqrt.html))."
   ]
  },
  {
   "cell_type": "code",
   "execution_count": 35,
   "metadata": {},
   "outputs": [
    {
     "name": "stdout",
     "output_type": "stream",
     "text": [
      "tensor([[0.8271, 0.3331, 0.1830],\n",
      "        [0.4699, 0.1842, 0.3299]])\n"
     ]
    },
    {
     "data": {
      "text/plain": [
       "tensor([[1.6543, 0.6663, 0.3660],\n",
       "        [0.9397, 0.3685, 0.6598]])"
      ]
     },
     "execution_count": 35,
     "metadata": {},
     "output_type": "execute_result"
    }
   ],
   "source": [
    "x = torch.rand(2, 3)\n",
    "print(x)\n",
    "x * 2    # element-wise multiplication with 2"
   ]
  },
  {
   "cell_type": "markdown",
   "metadata": {},
   "source": [
    "Similarly, we can apply binary mathematical operations to tensors, as long as they have the same shape. For example, the Hadamard product of two tensors $X$ and $Y$ is the tensor $X \\odot Y$ obtained by the element-wise multiplication of the elements of $X$ and $Y$."
   ]
  },
  {
   "cell_type": "code",
   "execution_count": 36,
   "metadata": {},
   "outputs": [
    {
     "data": {
      "text/plain": [
       "tensor([[0.2249, 0.4057, 0.1616],\n",
       "        [0.0712, 0.5947, 0.6181]])"
      ]
     },
     "execution_count": 36,
     "metadata": {},
     "output_type": "execute_result"
    }
   ],
   "source": [
    "x = torch.rand(2, 3)\n",
    "y = torch.rand(2, 3)\n",
    "torch.mul(x, y)    # shape: [2, 3]"
   ]
  },
  {
   "cell_type": "markdown",
   "metadata": {},
   "source": [
    "The Hadamard product can be written more succinctly as follows:"
   ]
  },
  {
   "cell_type": "code",
   "execution_count": 37,
   "metadata": {},
   "outputs": [
    {
     "data": {
      "text/plain": [
       "tensor([[0.2249, 0.4057, 0.1616],\n",
       "        [0.0712, 0.5947, 0.6181]])"
      ]
     },
     "execution_count": 37,
     "metadata": {},
     "output_type": "execute_result"
    }
   ],
   "source": [
    "x * y"
   ]
  },
  {
   "cell_type": "markdown",
   "metadata": {},
   "source": [
    "### Matrix product\n",
    "\n",
    "When computing the matrix product between two tensors $X$ and $Y$, the sizes of the last dimension of $X$ and the first dimension of $Y$ must match. The shape of the resulting tensor is the concatenation of the shapes of $X$ and $Y$, with the last dimension of $X$ and the first dimension of $Y$ removed."
   ]
  },
  {
   "cell_type": "code",
   "execution_count": 38,
   "metadata": {},
   "outputs": [
    {
     "data": {
      "text/plain": [
       "tensor([[0.3332, 0.6590, 0.5223, 0.3933, 1.2094],\n",
       "        [0.3290, 0.4804, 0.5400, 0.3636, 1.4149]])"
      ]
     },
     "execution_count": 38,
     "metadata": {},
     "output_type": "execute_result"
    }
   ],
   "source": [
    "x = torch.rand(2, 3)\n",
    "y = torch.rand(3, 5)\n",
    "torch.matmul(x, y)    # shape: [2, 5]"
   ]
  },
  {
   "cell_type": "markdown",
   "metadata": {},
   "source": [
    "The matrix product can be written more succinctly as follows:"
   ]
  },
  {
   "cell_type": "code",
   "execution_count": 39,
   "metadata": {},
   "outputs": [
    {
     "data": {
      "text/plain": [
       "tensor([[0.3332, 0.6590, 0.5223, 0.3933, 1.2094],\n",
       "        [0.3290, 0.4804, 0.5400, 0.3636, 1.4149]])"
      ]
     },
     "execution_count": 39,
     "metadata": {},
     "output_type": "execute_result"
    }
   ],
   "source": [
    "x @ y"
   ]
  },
  {
   "cell_type": "markdown",
   "metadata": {},
   "source": [
    "### Sum and argmax\n",
    "\n",
    "Let us define a tensor of random numbers:"
   ]
  },
  {
   "cell_type": "code",
   "execution_count": 40,
   "metadata": {},
   "outputs": [
    {
     "data": {
      "text/plain": [
       "tensor([[[0.7891, 0.8400, 0.6199, 0.5722, 0.6327],\n",
       "         [0.5597, 0.9359, 0.8881, 0.8674, 0.7825],\n",
       "         [0.3276, 0.3749, 0.0025, 0.7391, 0.8039]],\n",
       "\n",
       "        [[0.9525, 0.3713, 0.2261, 0.9209, 0.7260],\n",
       "         [0.3792, 0.8696, 0.0382, 0.7355, 0.1128],\n",
       "         [0.7554, 0.2945, 0.0362, 0.9346, 0.5832]]])"
      ]
     },
     "execution_count": 40,
     "metadata": {},
     "output_type": "execute_result"
    }
   ],
   "source": [
    "x = torch.rand(2, 3, 5)\n",
    "x"
   ]
  },
  {
   "cell_type": "markdown",
   "metadata": {},
   "source": [
    "You have already seen that we can compute the sum of a tensor:"
   ]
  },
  {
   "cell_type": "code",
   "execution_count": 41,
   "metadata": {},
   "outputs": [
    {
     "data": {
      "text/plain": [
       "tensor(17.6714)"
      ]
     },
     "execution_count": 41,
     "metadata": {},
     "output_type": "execute_result"
    }
   ],
   "source": [
    "torch.sum(x)"
   ]
  },
  {
   "cell_type": "markdown",
   "metadata": {},
   "source": [
    "There is a second form of the sum operation where we can specify the dimension along which the sum should be computed. This will return a tensor with the specified dimension removed."
   ]
  },
  {
   "cell_type": "code",
   "execution_count": 42,
   "metadata": {},
   "outputs": [
    {
     "data": {
      "text/plain": [
       "tensor([[1.7416, 1.2113, 0.8460, 1.4930, 1.3587],\n",
       "        [0.9390, 1.8055, 0.9263, 1.6029, 0.8953],\n",
       "        [1.0830, 0.6694, 0.0387, 1.6736, 1.3870]])"
      ]
     },
     "execution_count": 42,
     "metadata": {},
     "output_type": "execute_result"
    }
   ],
   "source": [
    "torch.sum(x, dim=0)    # shape: [3, 5]"
   ]
  },
  {
   "cell_type": "code",
   "execution_count": 43,
   "metadata": {},
   "outputs": [
    {
     "data": {
      "text/plain": [
       "tensor([[1.6764, 2.1508, 1.5105, 2.1786, 2.2191],\n",
       "        [2.0871, 1.5354, 0.3005, 2.5909, 1.4220]])"
      ]
     },
     "execution_count": 43,
     "metadata": {},
     "output_type": "execute_result"
    }
   ],
   "source": [
    "torch.sum(x, dim=1)   # shape: [2, 5]"
   ]
  },
  {
   "cell_type": "markdown",
   "metadata": {},
   "source": [
    "The same idea also applies to the operation [`torch.argmax()`](https://pytorch.org/docs/stable/generated/torch.argmax.html), which returns the index of the component with the maximal value along the specified dimension."
   ]
  },
  {
   "cell_type": "code",
   "execution_count": 44,
   "metadata": {},
   "outputs": [
    {
     "data": {
      "text/plain": [
       "tensor(15)"
      ]
     },
     "execution_count": 44,
     "metadata": {},
     "output_type": "execute_result"
    }
   ],
   "source": [
    "torch.argmax(x)    # index of the highest component, numbered in consecutive order"
   ]
  },
  {
   "cell_type": "code",
   "execution_count": 45,
   "metadata": {},
   "outputs": [
    {
     "data": {
      "text/plain": [
       "tensor([[1, 0, 0, 1, 1],\n",
       "        [0, 0, 0, 0, 0],\n",
       "        [1, 0, 1, 1, 0]])"
      ]
     },
     "execution_count": 45,
     "metadata": {},
     "output_type": "execute_result"
    }
   ],
   "source": [
    "torch.argmax(x, dim=0)   # index of the highest component along the first dimension"
   ]
  },
  {
   "cell_type": "markdown",
   "metadata": {},
   "source": [
    "### Concatenating tensors\n",
    "\n",
    "A list or tuple of tensors can be combined into one long tensor by concatenation."
   ]
  },
  {
   "cell_type": "code",
   "execution_count": 46,
   "metadata": {},
   "outputs": [
    {
     "name": "stdout",
     "output_type": "stream",
     "text": [
      "tensor([[0.9086, 0.5704, 0.5662],\n",
      "        [0.6535, 0.7060, 0.6415],\n",
      "        [0.9210, 0.5370, 0.4547],\n",
      "        [0.8344, 0.7260, 0.9962],\n",
      "        [0.1048, 0.8156, 0.1752]])\n"
     ]
    },
    {
     "data": {
      "text/plain": [
       "torch.Size([5, 3])"
      ]
     },
     "execution_count": 46,
     "metadata": {},
     "output_type": "execute_result"
    }
   ],
   "source": [
    "x = torch.rand(2, 3)\n",
    "y = torch.rand(3, 3)\n",
    "z = torch.cat((x, y))\n",
    "print(z)\n",
    "z.shape"
   ]
  },
  {
   "cell_type": "markdown",
   "metadata": {},
   "source": [
    "You can also concatenate along a specific dimension:"
   ]
  },
  {
   "cell_type": "code",
   "execution_count": 47,
   "metadata": {},
   "outputs": [
    {
     "name": "stdout",
     "output_type": "stream",
     "text": [
      "tensor([[0.3320, 0.5990],\n",
      "        [0.4332, 0.4374]])\n",
      "tensor([[0.8822, 0.2632],\n",
      "        [0.2777, 0.1563]])\n",
      "tensor([[0.3320, 0.5990],\n",
      "        [0.4332, 0.4374],\n",
      "        [0.8822, 0.2632],\n",
      "        [0.2777, 0.1563]])\n",
      "tensor([[0.3320, 0.5990, 0.8822, 0.2632],\n",
      "        [0.4332, 0.4374, 0.2777, 0.1563]])\n"
     ]
    }
   ],
   "source": [
    "x = torch.rand(2, 2)\n",
    "y = torch.rand(2, 2)\n",
    "print(x)\n",
    "print(y)\n",
    "print(torch.cat((x, y), dim=0))    # shape: [4, 2]\n",
    "print(torch.cat((x, y), dim=1))    # shape: [2, 4]"
   ]
  },
  {
   "cell_type": "markdown",
   "metadata": {},
   "source": [
    "### Broadcasting\n",
    "\n",
    "The term *broadcasting* describes how PyTorch treats tensors with different shapes. In short, if a PyTorch operation supports broadcasting, then its Tensor arguments can be automatically expanded to be of equal sizes (without making copies of the data). In many situations, this can avoid explicit looping. \n",
    "\n",
    "In the simplest case, two tensors have the same shapes. This is the case for the matrix `x @ W` and the bias vector `b` in the linear model below:"
   ]
  },
  {
   "cell_type": "code",
   "execution_count": 48,
   "metadata": {},
   "outputs": [
    {
     "name": "stdout",
     "output_type": "stream",
     "text": [
      "tensor([[0.6311, 0.8472, 0.4779]])\n"
     ]
    },
    {
     "data": {
      "text/plain": [
       "torch.Size([1, 3])"
      ]
     },
     "execution_count": 48,
     "metadata": {},
     "output_type": "execute_result"
    }
   ],
   "source": [
    "x = torch.rand(1, 2)\n",
    "W = torch.rand(2, 3)\n",
    "b = torch.rand(1, 3)\n",
    "z = x @ W    # shape: [1, 3]\n",
    "z = z + b    # shape: [1, 3]\n",
    "print(z)\n",
    "z.shape"
   ]
  },
  {
   "cell_type": "markdown",
   "metadata": {},
   "source": [
    "Now suppose that we do not have a single input `x` but a whole batch (a matrix) of inputs `X`. Watch what happens when adding the bias vector `b`:"
   ]
  },
  {
   "cell_type": "code",
   "execution_count": 62,
   "metadata": {},
   "outputs": [
    {
     "name": "stdout",
     "output_type": "stream",
     "text": [
      "tensor([[0.8055, 1.2098, 1.8740],\n",
      "        [0.6859, 1.0974, 1.6407],\n",
      "        [0.7023, 1.0978, 1.6736],\n",
      "        [0.6323, 1.0430, 1.5362],\n",
      "        [0.5292, 0.9706, 1.3334],\n",
      "        [0.3994, 0.8156, 1.0825]])\n"
     ]
    },
    {
     "data": {
      "text/plain": [
       "torch.Size([6, 3])"
      ]
     },
     "execution_count": 62,
     "metadata": {},
     "output_type": "execute_result"
    }
   ],
   "source": [
    "b = torch.rand(1, 3)\n",
    "X = torch.rand(6, 2)\n",
    "Z = X @ W    # shape: [5, 3]\n",
    "Z = Z + b    # shape: [5, 3]    Broadcasting happens here!\n",
    "print(Z)\n",
    "Z.shape"
   ]
  },
  {
   "cell_type": "markdown",
   "metadata": {},
   "source": [
    "In the example, broadcasting expands the shape of `b` from $[1, 3]$ into $[5, 3]$. The matrix `Z` is formed by effectively adding `b` *to each row* of `X`. However, this is not implemented by a Python loop but happens implicitly through broadcasting.\n",
    "\n",
    "PyTorch uses the same broadcasting semantics as NumPy. [More information about broadcasting](https://numpy.org/doc/stable/user/basics.broadcasting.html)\n",
    "\n",
    "## Final note\n",
    "\n",
    "There is a lot more to learn about PyTorch, but after working through this notebook, you should be in a good position to take on the labs. Have a look at the [PyTorch documentation](https://pytorch.org/docs/stable/) for further details and more examples."
   ]
  }
 ],
 "metadata": {
  "kernelspec": {
   "display_name": "Python 3 (ipykernel)",
   "language": "python",
   "name": "python3"
  },
  "language_info": {
   "codemirror_mode": {
    "name": "ipython",
    "version": 3
   },
   "file_extension": ".py",
   "mimetype": "text/x-python",
   "name": "python",
   "nbconvert_exporter": "python",
   "pygments_lexer": "ipython3",
   "version": "3.11.4"
  }
 },
 "nbformat": 4,
 "nbformat_minor": 4
}
