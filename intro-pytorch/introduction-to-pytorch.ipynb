{
 "cells": [
  {
   "cell_type": "markdown",
   "metadata": {},
   "source": [
    "# Introduction to PyTorch"
   ]
  },
  {
   "cell_type": "markdown",
   "metadata": {},
   "source": [
    "The purpose of this notebook is to introduce you to the basics of [PyTorch](https://pytorch.org), the deep learning framework we will be using for the labs. Many good introductions to PyTorch are available online. This notebook focuses on those basics that you will encounter in the labs. Beyond it, you will also need to get comfortable with the [PyTorch documentation](https://pytorch.org/docs/stable/).\n",
    "\n",
    "We start by importing the PyTorch module:"
   ]
  },
  {
   "cell_type": "code",
   "execution_count": 2,
   "metadata": {},
   "outputs": [],
   "source": [
    "import torch"
   ]
  },
  {
   "cell_type": "markdown",
   "metadata": {},
   "source": [
    "The following code prints the current version of the module:"
   ]
  },
  {
   "cell_type": "code",
   "execution_count": 3,
   "metadata": {},
   "outputs": [
    {
     "name": "stdout",
     "output_type": "stream",
     "text": [
      "2.1.2\n"
     ]
    }
   ],
   "source": [
    "print(torch.__version__)"
   ]
  },
  {
   "cell_type": "markdown",
   "metadata": {},
   "source": [
    "The version of PyTorch at the time of writing this notebook was 2.1.\n",
    "\n",
    "## Tensors\n",
    "\n",
    "The fundamental data structure in PyTorch is the **tensor**, a multi-dimensional matrix containing elements of a single numerical data type. Tensors are similar to *arrays* as you may know them from NumPy or MATLAB.\n",
    "\n",
    "### Creating tensors\n",
    "\n",
    "One way to create a tensor is to call the function [`torch.tensor()`](https://pytorch.org/docs/stable/generated/torch.tensor.html) on a Python list or NumPy array.\n",
    "\n",
    "The code in the following cell creates a 2-dimensional tensor with 4 elements."
   ]
  },
  {
   "cell_type": "code",
   "execution_count": 50,
   "metadata": {},
   "outputs": [
    {
     "data": {
      "text/plain": [
       "tensor([[0, 1],\n",
       "        [2, 3],\n",
       "        [4, 5]])"
      ]
     },
     "execution_count": 50,
     "metadata": {},
     "output_type": "execute_result"
    }
   ],
   "source": [
    "x = torch.tensor([[0, 1], [2, 3], [4, 5]])\n",
    "x"
   ]
  },
  {
   "cell_type": "markdown",
   "metadata": {},
   "source": [
    "Each tensor has a *shape*, which specifies the number and sizes of its dimensions:"
   ]
  },
  {
   "cell_type": "code",
   "execution_count": 51,
   "metadata": {},
   "outputs": [
    {
     "data": {
      "text/plain": [
       "torch.Size([3, 2])"
      ]
     },
     "execution_count": 51,
     "metadata": {},
     "output_type": "execute_result"
    }
   ],
   "source": [
    "x.shape"
   ]
  },
  {
   "cell_type": "markdown",
   "metadata": {},
   "source": [
    "Each tensor also has a *data type* for its elements. [More information about data types](https://pytorch.org/docs/stable/tensors.html#data-types)"
   ]
  },
  {
   "cell_type": "code",
   "execution_count": 52,
   "metadata": {},
   "outputs": [
    {
     "data": {
      "text/plain": [
       "torch.int64"
      ]
     },
     "execution_count": 52,
     "metadata": {},
     "output_type": "execute_result"
    }
   ],
   "source": [
    "x.dtype"
   ]
  },
  {
   "cell_type": "markdown",
   "metadata": {},
   "source": [
    "When creating a tensor, you can explicitly pass the intended data type as a keyword argument:"
   ]
  },
  {
   "cell_type": "code",
   "execution_count": 53,
   "metadata": {},
   "outputs": [
    {
     "data": {
      "text/plain": [
       "torch.float32"
      ]
     },
     "execution_count": 53,
     "metadata": {},
     "output_type": "execute_result"
    }
   ],
   "source": [
    "y = torch.tensor([[0, 1], [2, 3]], dtype=torch.float)\n",
    "y.dtype"
   ]
  },
  {
   "cell_type": "markdown",
   "metadata": {},
   "source": [
    "For many data types, there also exists a specialised constructor:"
   ]
  },
  {
   "cell_type": "code",
   "execution_count": 54,
   "metadata": {},
   "outputs": [
    {
     "data": {
      "text/plain": [
       "torch.float32"
      ]
     },
     "execution_count": 54,
     "metadata": {},
     "output_type": "execute_result"
    }
   ],
   "source": [
    "z = torch.FloatTensor([[0, 1], [2, 3]])\n",
    "z.dtype"
   ]
  },
  {
   "cell_type": "markdown",
   "metadata": {},
   "source": [
    "### More creation operations\n",
    "\n",
    "Create a 3D-tensor of the specified shape and filled with the scalar value zero:"
   ]
  },
  {
   "cell_type": "code",
   "execution_count": 55,
   "metadata": {},
   "outputs": [
    {
     "data": {
      "text/plain": [
       "tensor([[[0., 0., 0., 0., 0.],\n",
       "         [0., 0., 0., 0., 0.],\n",
       "         [0., 0., 0., 0., 0.]],\n",
       "\n",
       "        [[0., 0., 0., 0., 0.],\n",
       "         [0., 0., 0., 0., 0.],\n",
       "         [0., 0., 0., 0., 0.]]])"
      ]
     },
     "execution_count": 55,
     "metadata": {},
     "output_type": "execute_result"
    }
   ],
   "source": [
    "x = torch.zeros(2, 3, 5)\n",
    "x"
   ]
  },
  {
   "cell_type": "markdown",
   "metadata": {},
   "source": [
    "Create a 3D-tensor filled with random values:"
   ]
  },
  {
   "cell_type": "code",
   "execution_count": 56,
   "metadata": {},
   "outputs": [
    {
     "data": {
      "text/plain": [
       "tensor([[[0.3113, 0.9343, 0.4477, 0.6092, 0.8165],\n",
       "         [0.4770, 0.1532, 0.1519, 0.9417, 0.4405],\n",
       "         [0.1377, 0.3985, 0.9749, 0.5541, 0.8318]],\n",
       "\n",
       "        [[0.4670, 0.3857, 0.6819, 0.3168, 0.2592],\n",
       "         [0.4646, 0.5030, 0.8671, 0.4915, 0.9246],\n",
       "         [0.4282, 0.0896, 0.8197, 0.4843, 0.2696]]])"
      ]
     },
     "execution_count": 56,
     "metadata": {},
     "output_type": "execute_result"
    }
   ],
   "source": [
    "x = torch.rand(2, 3, 5)\n",
    "x"
   ]
  },
  {
   "cell_type": "markdown",
   "metadata": {},
   "source": [
    "Create a tensor with the same shape as another one, but filled with ones:"
   ]
  },
  {
   "cell_type": "code",
   "execution_count": 57,
   "metadata": {},
   "outputs": [
    {
     "data": {
      "text/plain": [
       "tensor([[[1., 1., 1., 1., 1.],\n",
       "         [1., 1., 1., 1., 1.],\n",
       "         [1., 1., 1., 1., 1.]],\n",
       "\n",
       "        [[1., 1., 1., 1., 1.],\n",
       "         [1., 1., 1., 1., 1.],\n",
       "         [1., 1., 1., 1., 1.]]])"
      ]
     },
     "execution_count": 57,
     "metadata": {},
     "output_type": "execute_result"
    }
   ],
   "source": [
    "y = torch.ones_like(x)\n",
    "y    # shape: [2, 3, 5]"
   ]
  },
  {
   "cell_type": "markdown",
   "metadata": {},
   "source": [
    "For a complete list of tensor-creating operations, see [Creation ops](https://pytorch.org/docs/stable/torch.html#creation-ops).\n",
    "\n",
    "### Embrace vectorisation!\n",
    "\n",
    "Iteration or “looping” is of one the most useful techniques for processing data in Python. However, you should **not loop over tensors**. Instead, try to *vectorise* any operations. Looping over tensors is slow, while vectorised operations on tensors are fast (and can be made even faster when the code runs on a GPU). To illustrate this point, let us create a 1D-tensor containing the first 1M integers:"
   ]
  },
  {
   "cell_type": "code",
   "execution_count": 58,
   "metadata": {},
   "outputs": [
    {
     "data": {
      "text/plain": [
       "tensor([     0,      1,      2,  ..., 999997, 999998, 999999])"
      ]
     },
     "execution_count": 58,
     "metadata": {},
     "output_type": "execute_result"
    }
   ],
   "source": [
    "x = torch.arange(1000000)\n",
    "x"
   ]
  },
  {
   "cell_type": "markdown",
   "metadata": {},
   "source": [
    "Summing up the elements of the tensor using a loop is relatively slow:"
   ]
  },
  {
   "cell_type": "code",
   "execution_count": 59,
   "metadata": {},
   "outputs": [
    {
     "data": {
      "text/plain": [
       "tensor(499999500000)"
      ]
     },
     "execution_count": 59,
     "metadata": {},
     "output_type": "execute_result"
    }
   ],
   "source": [
    "sum(x)"
   ]
  },
  {
   "cell_type": "markdown",
   "metadata": {},
   "source": [
    "Doing the same thing using a tensor operation is much faster:"
   ]
  },
  {
   "cell_type": "code",
   "execution_count": 60,
   "metadata": {},
   "outputs": [
    {
     "data": {
      "text/plain": [
       "tensor(499999500000)"
      ]
     },
     "execution_count": 60,
     "metadata": {},
     "output_type": "execute_result"
    }
   ],
   "source": [
    "x.sum()"
   ]
  },
  {
   "cell_type": "markdown",
   "metadata": {},
   "source": [
    "### Indexing and slicing\n",
    "\n",
    "To access the contents of a tensor, you can use an extended version of Python’s syntax for indexing and slicing. Essentially the same syntax is used by NumPy. For more information, see [Indexing on ndarrays](https://numpy.org/doc/stable/user/basics.indexing.html).\n",
    "\n",
    "To illustrate indexing and slicing, we create a 3D-tensor with random numbers:"
   ]
  },
  {
   "cell_type": "code",
   "execution_count": 61,
   "metadata": {},
   "outputs": [
    {
     "data": {
      "text/plain": [
       "tensor([[[5.3614e-01, 3.4440e-01, 8.9838e-01, 7.1896e-01, 6.7769e-01],\n",
       "         [5.3981e-01, 9.2821e-01, 1.3306e-01, 4.7824e-01, 1.5586e-01],\n",
       "         [4.4742e-01, 9.8816e-01, 6.9594e-01, 7.5710e-04, 1.5651e-01]],\n",
       "\n",
       "        [[7.8596e-01, 5.1590e-02, 3.2763e-01, 1.2461e-01, 7.8996e-01],\n",
       "         [3.1382e-01, 3.4203e-02, 4.7324e-01, 1.5514e-01, 9.2148e-01],\n",
       "         [6.1717e-02, 7.4640e-01, 1.8310e-01, 7.4365e-01, 4.8397e-01]]])"
      ]
     },
     "execution_count": 61,
     "metadata": {},
     "output_type": "execute_result"
    }
   ],
   "source": [
    "x = torch.rand(2, 3, 5)\n",
    "x"
   ]
  },
  {
   "cell_type": "markdown",
   "metadata": {},
   "source": [
    "Index an element by a 3D-coordinate; this gives a 0D-tensor:"
   ]
  },
  {
   "cell_type": "code",
   "execution_count": 62,
   "metadata": {},
   "outputs": [
    {
     "data": {
      "text/plain": [
       "tensor(0.1331)"
      ]
     },
     "execution_count": 62,
     "metadata": {},
     "output_type": "execute_result"
    }
   ],
   "source": [
    "x[0,1,2]"
   ]
  },
  {
   "cell_type": "markdown",
   "metadata": {},
   "source": [
    "(If you want the result as a non-tensor, use the method [`item()`](https://pytorch.org/docs/stable/generated/torch.Tensor.item.html#torch.Tensor.item).)\n",
    "\n",
    "Index the second element; this gives a 2D-tensor:"
   ]
  },
  {
   "cell_type": "code",
   "execution_count": 63,
   "metadata": {},
   "outputs": [
    {
     "data": {
      "text/plain": [
       "tensor([[0.7860, 0.0516, 0.3276, 0.1246, 0.7900],\n",
       "        [0.3138, 0.0342, 0.4732, 0.1551, 0.9215],\n",
       "        [0.0617, 0.7464, 0.1831, 0.7436, 0.4840]])"
      ]
     },
     "execution_count": 63,
     "metadata": {},
     "output_type": "execute_result"
    }
   ],
   "source": [
    "x[1]"
   ]
  },
  {
   "cell_type": "markdown",
   "metadata": {},
   "source": [
    "Index the second-to-last element:"
   ]
  },
  {
   "cell_type": "code",
   "execution_count": 64,
   "metadata": {},
   "outputs": [
    {
     "data": {
      "text/plain": [
       "tensor([[5.3614e-01, 3.4440e-01, 8.9838e-01, 7.1896e-01, 6.7769e-01],\n",
       "        [5.3981e-01, 9.2821e-01, 1.3306e-01, 4.7824e-01, 1.5586e-01],\n",
       "        [4.4742e-01, 9.8816e-01, 6.9594e-01, 7.5710e-04, 1.5651e-01]])"
      ]
     },
     "execution_count": 64,
     "metadata": {},
     "output_type": "execute_result"
    }
   ],
   "source": [
    "x[-2]"
   ]
  },
  {
   "cell_type": "markdown",
   "metadata": {},
   "source": [
    "Slice out the sub-tensor with elements from index 1 onwards; this gives a 3D-tensor:"
   ]
  },
  {
   "cell_type": "code",
   "execution_count": 65,
   "metadata": {},
   "outputs": [
    {
     "data": {
      "text/plain": [
       "tensor([[[0.7860, 0.0516, 0.3276, 0.1246, 0.7900],\n",
       "         [0.3138, 0.0342, 0.4732, 0.1551, 0.9215],\n",
       "         [0.0617, 0.7464, 0.1831, 0.7436, 0.4840]]])"
      ]
     },
     "execution_count": 65,
     "metadata": {},
     "output_type": "execute_result"
    }
   ],
   "source": [
    "x[1:]"
   ]
  },
  {
   "cell_type": "markdown",
   "metadata": {},
   "source": [
    "Here is a more complex example of slicing. As in Python, the colon `:` selects all indices of a dimension."
   ]
  },
  {
   "cell_type": "code",
   "execution_count": 66,
   "metadata": {},
   "outputs": [
    {
     "data": {
      "text/plain": [
       "tensor([[[8.9838e-01, 7.1896e-01],\n",
       "         [1.3306e-01, 4.7824e-01],\n",
       "         [6.9594e-01, 7.5710e-04]],\n",
       "\n",
       "        [[3.2763e-01, 1.2461e-01],\n",
       "         [4.7324e-01, 1.5514e-01],\n",
       "         [1.8310e-01, 7.4365e-01]]])"
      ]
     },
     "execution_count": 66,
     "metadata": {},
     "output_type": "execute_result"
    }
   ],
   "source": [
    "x[:,:,2:4]"
   ]
  },
  {
   "cell_type": "markdown",
   "metadata": {},
   "source": [
    "The syntax for indexing and slicing is very powerful. For example, the same effect as in the previous cell can be obtained with the following code, which uses the ellipsis (`...`) to match all dimensions but the ones explicitly mentioned:"
   ]
  },
  {
   "cell_type": "code",
   "execution_count": 67,
   "metadata": {},
   "outputs": [
    {
     "data": {
      "text/plain": [
       "tensor([[[8.9838e-01, 7.1896e-01],\n",
       "         [1.3306e-01, 4.7824e-01],\n",
       "         [6.9594e-01, 7.5710e-04]],\n",
       "\n",
       "        [[3.2763e-01, 1.2461e-01],\n",
       "         [4.7324e-01, 1.5514e-01],\n",
       "         [1.8310e-01, 7.4365e-01]]])"
      ]
     },
     "execution_count": 67,
     "metadata": {},
     "output_type": "execute_result"
    }
   ],
   "source": [
    "x[...,2:4]"
   ]
  },
  {
   "cell_type": "markdown",
   "metadata": {},
   "source": [
    "### Creating views\n",
    "\n",
    "You will sometimes want to use a tensor with a different shape than its initial shape. In these situations, you can **re-shape** the tensor or create a **view** of the tensor. The latter is preferable because views can share the same data as their base tensors and thus do not require copying.\n",
    "\n",
    "We create a 3D-tensor of 12 random values:"
   ]
  },
  {
   "cell_type": "code",
   "execution_count": 68,
   "metadata": {},
   "outputs": [
    {
     "data": {
      "text/plain": [
       "tensor([[[0.9688, 0.4003],\n",
       "         [0.1284, 0.8557],\n",
       "         [0.5541, 0.9129]],\n",
       "\n",
       "        [[0.9131, 0.5686],\n",
       "         [0.9711, 0.1883],\n",
       "         [0.7466, 0.8989]]])"
      ]
     },
     "execution_count": 68,
     "metadata": {},
     "output_type": "execute_result"
    }
   ],
   "source": [
    "x = torch.rand(2, 3, 2)\n",
    "x"
   ]
  },
  {
   "cell_type": "markdown",
   "metadata": {},
   "source": [
    "Create a view of this tensor as a 2D-tensor:"
   ]
  },
  {
   "cell_type": "code",
   "execution_count": 69,
   "metadata": {},
   "outputs": [
    {
     "data": {
      "text/plain": [
       "tensor([[0.9688, 0.4003, 0.1284, 0.8557],\n",
       "        [0.5541, 0.9129, 0.9131, 0.5686],\n",
       "        [0.9711, 0.1883, 0.7466, 0.8989]])"
      ]
     },
     "execution_count": 69,
     "metadata": {},
     "output_type": "execute_result"
    }
   ],
   "source": [
    "x.view(3, 4)"
   ]
  },
  {
   "cell_type": "markdown",
   "metadata": {},
   "source": [
    "When creating a view, the special size `-1` is inferred from the other sizes:"
   ]
  },
  {
   "cell_type": "code",
   "execution_count": 70,
   "metadata": {},
   "outputs": [
    {
     "data": {
      "text/plain": [
       "tensor([[0.9688, 0.4003, 0.1284, 0.8557],\n",
       "        [0.5541, 0.9129, 0.9131, 0.5686],\n",
       "        [0.9711, 0.1883, 0.7466, 0.8989]])"
      ]
     },
     "execution_count": 70,
     "metadata": {},
     "output_type": "execute_result"
    }
   ],
   "source": [
    "x.view(3, -1)"
   ]
  },
  {
   "cell_type": "markdown",
   "metadata": {},
   "source": [
    "Modifying a view affects the data in the base tensor:"
   ]
  },
  {
   "cell_type": "code",
   "execution_count": 71,
   "metadata": {},
   "outputs": [
    {
     "data": {
      "text/plain": [
       "tensor([[[3.8182e-01, 1.0064e-01],\n",
       "         [9.4814e-01, 9.0693e-01],\n",
       "         [1.0290e-01, 4.5800e-01]],\n",
       "\n",
       "        [[2.0307e-01, 2.4900e-03],\n",
       "         [1.6206e-02, 8.3018e-01],\n",
       "         [9.1108e-01, 4.2000e+01]]])"
      ]
     },
     "execution_count": 71,
     "metadata": {},
     "output_type": "execute_result"
    }
   ],
   "source": [
    "y = torch.rand(2, 3, 2)\n",
    "z = y.view(3, 4)\n",
    "z[2, 3] = 42\n",
    "y"
   ]
  },
  {
   "cell_type": "markdown",
   "metadata": {},
   "source": [
    "### More viewing operations\n",
    "\n",
    "There are a few other useful methods that create views. [More information about views](https://pytorch.org/docs/stable/tensor_view.html)"
   ]
  },
  {
   "cell_type": "code",
   "execution_count": 72,
   "metadata": {},
   "outputs": [
    {
     "data": {
      "text/plain": [
       "tensor([[[0.4318, 0.3627, 0.5504, 0.4598, 0.6257],\n",
       "         [0.5000, 0.5736, 0.8347, 0.5464, 0.3199],\n",
       "         [0.5252, 0.0924, 0.9240, 0.2942, 0.8962]],\n",
       "\n",
       "        [[0.6027, 0.3941, 0.1889, 0.1357, 0.6998],\n",
       "         [0.2299, 0.0463, 0.4690, 0.8300, 0.0741],\n",
       "         [0.2520, 0.4386, 0.5039, 0.2491, 0.3865]]])"
      ]
     },
     "execution_count": 72,
     "metadata": {},
     "output_type": "execute_result"
    }
   ],
   "source": [
    "x = torch.rand(2, 3, 5)\n",
    "x"
   ]
  },
  {
   "cell_type": "markdown",
   "metadata": {},
   "source": [
    "The [`permute()`](https://pytorch.org/docs/stable/generated/torch.permute.html) method returns a view of the base tensor with some of its dimensions permuted. In the example, we maintain the first dimension but swap the second and the third dimension:"
   ]
  },
  {
   "cell_type": "code",
   "execution_count": 73,
   "metadata": {},
   "outputs": [
    {
     "name": "stdout",
     "output_type": "stream",
     "text": [
      "tensor([[[0.4318, 0.5000, 0.5252],\n",
      "         [0.3627, 0.5736, 0.0924],\n",
      "         [0.5504, 0.8347, 0.9240],\n",
      "         [0.4598, 0.5464, 0.2942],\n",
      "         [0.6257, 0.3199, 0.8962]],\n",
      "\n",
      "        [[0.6027, 0.2299, 0.2520],\n",
      "         [0.3941, 0.0463, 0.4386],\n",
      "         [0.1889, 0.4690, 0.5039],\n",
      "         [0.1357, 0.8300, 0.2491],\n",
      "         [0.6998, 0.0741, 0.3865]]])\n"
     ]
    },
    {
     "data": {
      "text/plain": [
       "torch.Size([2, 5, 3])"
      ]
     },
     "execution_count": 73,
     "metadata": {},
     "output_type": "execute_result"
    }
   ],
   "source": [
    "y = x.permute(0, 2, 1)\n",
    "print(y)\n",
    "y.shape"
   ]
  },
  {
   "cell_type": "markdown",
   "metadata": {},
   "source": [
    "The [`unsqueeze()`](https://pytorch.org/docs/stable/generated/torch.unsqueeze.html) method returns a tensor with a dimension of size one inserted at the specified position. This is useful e.g. in the training of neural networks when you want to create a batch with just one example."
   ]
  },
  {
   "cell_type": "code",
   "execution_count": 74,
   "metadata": {},
   "outputs": [
    {
     "name": "stdout",
     "output_type": "stream",
     "text": [
      "tensor([[[[0.4318, 0.3627, 0.5504, 0.4598, 0.6257],\n",
      "          [0.5000, 0.5736, 0.8347, 0.5464, 0.3199],\n",
      "          [0.5252, 0.0924, 0.9240, 0.2942, 0.8962]],\n",
      "\n",
      "         [[0.6027, 0.3941, 0.1889, 0.1357, 0.6998],\n",
      "          [0.2299, 0.0463, 0.4690, 0.8300, 0.0741],\n",
      "          [0.2520, 0.4386, 0.5039, 0.2491, 0.3865]]]])\n"
     ]
    },
    {
     "data": {
      "text/plain": [
       "torch.Size([1, 2, 3, 5])"
      ]
     },
     "execution_count": 74,
     "metadata": {},
     "output_type": "execute_result"
    }
   ],
   "source": [
    "y = x.unsqueeze(0)\n",
    "print(y)\n",
    "y.shape"
   ]
  },
  {
   "cell_type": "markdown",
   "metadata": {},
   "source": [
    "The inverse operation to [`unsqueeze()`](https://pytorch.org/docs/stable/generated/torch.unsqueeze.html) is [`squeeze()`](https://pytorch.org/docs/stable/generated/torch.squeeze.html):"
   ]
  },
  {
   "cell_type": "code",
   "execution_count": 75,
   "metadata": {},
   "outputs": [
    {
     "name": "stdout",
     "output_type": "stream",
     "text": [
      "tensor([[[0.4318, 0.3627, 0.5504, 0.4598, 0.6257],\n",
      "         [0.5000, 0.5736, 0.8347, 0.5464, 0.3199],\n",
      "         [0.5252, 0.0924, 0.9240, 0.2942, 0.8962]],\n",
      "\n",
      "        [[0.6027, 0.3941, 0.1889, 0.1357, 0.6998],\n",
      "         [0.2299, 0.0463, 0.4690, 0.8300, 0.0741],\n",
      "         [0.2520, 0.4386, 0.5039, 0.2491, 0.3865]]])\n"
     ]
    },
    {
     "data": {
      "text/plain": [
       "torch.Size([2, 3, 5])"
      ]
     },
     "execution_count": 75,
     "metadata": {},
     "output_type": "execute_result"
    }
   ],
   "source": [
    "y = y.squeeze(0)\n",
    "print(y)\n",
    "y.shape"
   ]
  },
  {
   "cell_type": "markdown",
   "metadata": {},
   "source": [
    "### Re-shaping tensors\n",
    "\n",
    "In some cases, you cannot create a view and need to explicitly re-shape a tensor. In particular, this happens when the data in the base tensor and the view are not in contiguous memory regions."
   ]
  },
  {
   "cell_type": "code",
   "execution_count": 76,
   "metadata": {},
   "outputs": [
    {
     "data": {
      "text/plain": [
       "tensor([[[4.1362e-01, 4.6118e-02, 4.0673e-01, 4.2021e-01, 4.4881e-01],\n",
       "         [5.0239e-01, 3.8500e-01, 3.4440e-04, 6.7296e-01, 1.1425e-02],\n",
       "         [4.2576e-02, 2.0829e-02, 4.3965e-01, 1.3103e-01, 1.6363e-01]],\n",
       "\n",
       "        [[1.3335e-01, 6.0064e-01, 1.6714e-01, 4.6694e-01, 9.5164e-01],\n",
       "         [6.4728e-01, 7.9456e-01, 3.5125e-01, 4.4782e-01, 9.6748e-01],\n",
       "         [9.8672e-01, 4.8409e-01, 5.3076e-01, 3.6957e-01, 5.1174e-01]]])"
      ]
     },
     "execution_count": 76,
     "metadata": {},
     "output_type": "execute_result"
    }
   ],
   "source": [
    "x = torch.rand(2, 3, 5)\n",
    "x"
   ]
  },
  {
   "cell_type": "markdown",
   "metadata": {},
   "source": [
    "We permute the tensor `x` to create a new tensor `y` in which the data is no longer consecutive in memory:"
   ]
  },
  {
   "cell_type": "code",
   "execution_count": 77,
   "metadata": {},
   "outputs": [
    {
     "data": {
      "text/plain": [
       "tensor([[[4.1362e-01, 5.0239e-01, 4.2576e-02],\n",
       "         [4.6118e-02, 3.8500e-01, 2.0829e-02],\n",
       "         [4.0673e-01, 3.4440e-04, 4.3965e-01],\n",
       "         [4.2021e-01, 6.7296e-01, 1.3103e-01],\n",
       "         [4.4881e-01, 1.1425e-02, 1.6363e-01]],\n",
       "\n",
       "        [[1.3335e-01, 6.4728e-01, 9.8672e-01],\n",
       "         [6.0064e-01, 7.9456e-01, 4.8409e-01],\n",
       "         [1.6714e-01, 3.5125e-01, 5.3076e-01],\n",
       "         [4.6694e-01, 4.4782e-01, 3.6957e-01],\n",
       "         [9.5164e-01, 9.6748e-01, 5.1174e-01]]])"
      ]
     },
     "execution_count": 77,
     "metadata": {},
     "output_type": "execute_result"
    }
   ],
   "source": [
    "y = x.permute(0, 2, 1)\n",
    "# y = y.view(-1)    # raises a runtime error\n",
    "y"
   ]
  },
  {
   "cell_type": "markdown",
   "metadata": {},
   "source": [
    "When it is not possible to create a view of a tensor, you can explicitly re-shape it, which will *copy* the data if necessary:"
   ]
  },
  {
   "cell_type": "code",
   "execution_count": 78,
   "metadata": {},
   "outputs": [
    {
     "data": {
      "text/plain": [
       "tensor([4.1362e-01, 5.0239e-01, 4.2576e-02, 4.6118e-02, 3.8500e-01, 2.0829e-02,\n",
       "        4.0673e-01, 3.4440e-04, 4.3965e-01, 4.2021e-01, 6.7296e-01, 1.3103e-01,\n",
       "        4.4881e-01, 1.1425e-02, 1.6363e-01, 1.3335e-01, 6.4728e-01, 9.8672e-01,\n",
       "        6.0064e-01, 7.9456e-01, 4.8409e-01, 1.6714e-01, 3.5125e-01, 5.3076e-01,\n",
       "        4.6694e-01, 4.4782e-01, 3.6957e-01, 9.5164e-01, 9.6748e-01, 5.1174e-01])"
      ]
     },
     "execution_count": 78,
     "metadata": {},
     "output_type": "execute_result"
    }
   ],
   "source": [
    "y = x.permute(0, 2, 1)\n",
    "y = y.reshape(-1)\n",
    "y"
   ]
  },
  {
   "cell_type": "markdown",
   "metadata": {},
   "source": [
    "Modifying a reshaped tensor *will not necessarily* change the data in the base tensor. This depends on whether the reshaped tensor is a copy of the base tensor or a view."
   ]
  },
  {
   "cell_type": "code",
   "execution_count": 79,
   "metadata": {},
   "outputs": [
    {
     "data": {
      "text/plain": [
       "tensor([[[0.7278, 0.3232],\n",
       "         [0.5847, 0.2710],\n",
       "         [0.3931, 0.2374]],\n",
       "\n",
       "        [[0.2295, 0.4071],\n",
       "         [0.4341, 0.7029],\n",
       "         [0.5884, 0.1032]]])"
      ]
     },
     "execution_count": 79,
     "metadata": {},
     "output_type": "execute_result"
    }
   ],
   "source": [
    "y = torch.rand(2, 3, 2)\n",
    "# z = y.permute(0, 1, 2).reshape(-1)    # z is a view of y => data is shared\n",
    "z = y.permute(0, 2, 1).reshape(-1)    # z is a copy of y => data is not shared\n",
    "z[0] = 42\n",
    "y"
   ]
  },
  {
   "cell_type": "markdown",
   "metadata": {},
   "source": [
    "## Computing with tensors\n",
    "\n",
    "Now that you know how to create tensors and extract data from them, we can turn to actual computations on tensors.\n",
    "\n",
    "### Element-wise operations\n",
    "\n",
    "Unary mathematical operations defined on numbers can be “lifted” to tensors by applying them element-wise. This includes multiplication by a constant, exponentiation (`**`), taking roots ([`torch.sqrt()`](https://pytorch.org/docs/stable/generated/torch.sqrt.html)), and the logarithm ([`torch.log()`](https://pytorch.org/docs/stable/generated/torch.sqrt.html))."
   ]
  },
  {
   "cell_type": "code",
   "execution_count": 80,
   "metadata": {},
   "outputs": [
    {
     "name": "stdout",
     "output_type": "stream",
     "text": [
      "tensor([[0.6905, 0.1717, 0.9827],\n",
      "        [0.4640, 0.8866, 0.8085]])\n"
     ]
    },
    {
     "data": {
      "text/plain": [
       "tensor([[1.3809, 0.3434, 1.9653],\n",
       "        [0.9280, 1.7732, 1.6171]])"
      ]
     },
     "execution_count": 80,
     "metadata": {},
     "output_type": "execute_result"
    }
   ],
   "source": [
    "x = torch.rand(2, 3)\n",
    "print(x)\n",
    "x * 2    # element-wise multiplication with 2"
   ]
  },
  {
   "cell_type": "markdown",
   "metadata": {},
   "source": [
    "Similarly, we can apply binary mathematical operations to tensors, as long as they have the same shape. For example, the Hadamard product of two tensors $X$ and $Y$ is the tensor $X \\odot Y$ obtained by the element-wise multiplication of the elements of $X$ and $Y$."
   ]
  },
  {
   "cell_type": "code",
   "execution_count": 81,
   "metadata": {},
   "outputs": [
    {
     "data": {
      "text/plain": [
       "tensor([[0.2062, 0.1979, 0.4301],\n",
       "        [0.1263, 0.5052, 0.1040]])"
      ]
     },
     "execution_count": 81,
     "metadata": {},
     "output_type": "execute_result"
    }
   ],
   "source": [
    "x = torch.rand(2, 3)\n",
    "y = torch.rand(2, 3)\n",
    "torch.mul(x, y)    # shape: [2, 3]"
   ]
  },
  {
   "cell_type": "markdown",
   "metadata": {},
   "source": [
    "The Hadamard product can be written more succinctly as follows:"
   ]
  },
  {
   "cell_type": "code",
   "execution_count": 82,
   "metadata": {},
   "outputs": [
    {
     "data": {
      "text/plain": [
       "tensor([[0.2062, 0.1979, 0.4301],\n",
       "        [0.1263, 0.5052, 0.1040]])"
      ]
     },
     "execution_count": 82,
     "metadata": {},
     "output_type": "execute_result"
    }
   ],
   "source": [
    "x * y"
   ]
  },
  {
   "cell_type": "markdown",
   "metadata": {},
   "source": [
    "### Matrix product\n",
    "\n",
    "When computing the matrix product between two tensors $X$ and $Y$, the sizes of the last dimension of $X$ and the first dimension of $Y$ must match. The shape of the resulting tensor is the concatenation of the shapes of $X$ and $Y$, with the last dimension of $X$ and the first dimension of $Y$ removed."
   ]
  },
  {
   "cell_type": "code",
   "execution_count": 83,
   "metadata": {},
   "outputs": [
    {
     "data": {
      "text/plain": [
       "tensor([[1.4261, 1.3614, 1.5447, 0.9317, 1.3934],\n",
       "        [0.7735, 0.8114, 0.8819, 0.4983, 0.8010]])"
      ]
     },
     "execution_count": 83,
     "metadata": {},
     "output_type": "execute_result"
    }
   ],
   "source": [
    "x = torch.rand(2, 3)\n",
    "y = torch.rand(3, 5)\n",
    "torch.matmul(x, y)    # shape: [2, 5]"
   ]
  },
  {
   "cell_type": "markdown",
   "metadata": {},
   "source": [
    "The matrix product can be written more succinctly as follows:"
   ]
  },
  {
   "cell_type": "code",
   "execution_count": 84,
   "metadata": {},
   "outputs": [
    {
     "data": {
      "text/plain": [
       "tensor([[1.4261, 1.3614, 1.5447, 0.9317, 1.3934],\n",
       "        [0.7735, 0.8114, 0.8819, 0.4983, 0.8010]])"
      ]
     },
     "execution_count": 84,
     "metadata": {},
     "output_type": "execute_result"
    }
   ],
   "source": [
    "x @ y"
   ]
  },
  {
   "cell_type": "markdown",
   "metadata": {},
   "source": [
    "### Sum and argmax\n",
    "\n",
    "Let us define a tensor of random numbers:"
   ]
  },
  {
   "cell_type": "code",
   "execution_count": 85,
   "metadata": {},
   "outputs": [
    {
     "data": {
      "text/plain": [
       "tensor([[[0.9946, 0.1765, 0.1427, 0.6167, 0.3689],\n",
       "         [0.3916, 0.5444, 0.7264, 0.9859, 0.8441],\n",
       "         [0.8527, 0.8560, 0.1196, 0.9659, 0.8608]],\n",
       "\n",
       "        [[0.5400, 0.9104, 0.9223, 0.0539, 0.1279],\n",
       "         [0.0026, 0.7428, 0.5444, 0.3665, 0.7312],\n",
       "         [0.6876, 0.2385, 0.1674, 0.9081, 0.8283]]])"
      ]
     },
     "execution_count": 85,
     "metadata": {},
     "output_type": "execute_result"
    }
   ],
   "source": [
    "x = torch.rand(2, 3, 5)\n",
    "x"
   ]
  },
  {
   "cell_type": "markdown",
   "metadata": {},
   "source": [
    "You have already seen that we can compute the sum of a tensor:"
   ]
  },
  {
   "cell_type": "code",
   "execution_count": 86,
   "metadata": {},
   "outputs": [
    {
     "data": {
      "text/plain": [
       "tensor(17.2187)"
      ]
     },
     "execution_count": 86,
     "metadata": {},
     "output_type": "execute_result"
    }
   ],
   "source": [
    "torch.sum(x)"
   ]
  },
  {
   "cell_type": "markdown",
   "metadata": {},
   "source": [
    "There is a second form of the sum operation where we can specify the dimension along which the sum should be computed. This will return a tensor with the specified dimension removed."
   ]
  },
  {
   "cell_type": "code",
   "execution_count": 87,
   "metadata": {},
   "outputs": [
    {
     "data": {
      "text/plain": [
       "tensor([[1.5347, 1.0869, 1.0650, 0.6706, 0.4967],\n",
       "        [0.3941, 1.2873, 1.2707, 1.3524, 1.5753],\n",
       "        [1.5404, 1.0945, 0.2870, 1.8741, 1.6891]])"
      ]
     },
     "execution_count": 87,
     "metadata": {},
     "output_type": "execute_result"
    }
   ],
   "source": [
    "torch.sum(x, dim=0)    # shape: [3, 5]"
   ]
  },
  {
   "cell_type": "code",
   "execution_count": 88,
   "metadata": {},
   "outputs": [
    {
     "data": {
      "text/plain": [
       "tensor([[2.2390, 1.5769, 0.9886, 2.5686, 2.0738],\n",
       "        [1.2302, 1.8918, 1.6340, 1.3285, 1.6873]])"
      ]
     },
     "execution_count": 88,
     "metadata": {},
     "output_type": "execute_result"
    }
   ],
   "source": [
    "torch.sum(x, dim=1)   # shape: [2, 5]"
   ]
  },
  {
   "cell_type": "markdown",
   "metadata": {},
   "source": [
    "The same idea also applies to the operation [`torch.argmax()`](https://pytorch.org/docs/stable/generated/torch.argmax.html), which returns the index of the component with the maximal value along the specified dimension."
   ]
  },
  {
   "cell_type": "code",
   "execution_count": 89,
   "metadata": {},
   "outputs": [
    {
     "data": {
      "text/plain": [
       "tensor(0)"
      ]
     },
     "execution_count": 89,
     "metadata": {},
     "output_type": "execute_result"
    }
   ],
   "source": [
    "torch.argmax(x)    # index of the highest component, numbered in consecutive order"
   ]
  },
  {
   "cell_type": "code",
   "execution_count": 90,
   "metadata": {},
   "outputs": [
    {
     "data": {
      "text/plain": [
       "tensor([[0, 1, 1, 0, 0],\n",
       "        [0, 1, 0, 0, 0],\n",
       "        [0, 0, 1, 0, 0]])"
      ]
     },
     "execution_count": 90,
     "metadata": {},
     "output_type": "execute_result"
    }
   ],
   "source": [
    "torch.argmax(x, dim=0)   # index of the highest component along the first dimension"
   ]
  },
  {
   "cell_type": "markdown",
   "metadata": {},
   "source": [
    "### Concatenating tensors\n",
    "\n",
    "A list or tuple of tensors can be combined into one long tensor by concatenation."
   ]
  },
  {
   "cell_type": "code",
   "execution_count": 91,
   "metadata": {},
   "outputs": [
    {
     "name": "stdout",
     "output_type": "stream",
     "text": [
      "tensor([[0.9713, 0.3882, 0.6017],\n",
      "        [0.1714, 0.4240, 0.8010],\n",
      "        [0.7808, 0.1119, 0.0251],\n",
      "        [0.3291, 0.8617, 0.1563],\n",
      "        [0.1196, 0.7585, 0.3269]])\n"
     ]
    },
    {
     "data": {
      "text/plain": [
       "torch.Size([5, 3])"
      ]
     },
     "execution_count": 91,
     "metadata": {},
     "output_type": "execute_result"
    }
   ],
   "source": [
    "x = torch.rand(2, 3)\n",
    "y = torch.rand(3, 3)\n",
    "z = torch.cat((x, y))\n",
    "print(z)\n",
    "z.shape"
   ]
  },
  {
   "cell_type": "markdown",
   "metadata": {},
   "source": [
    "You can also concatenate along a specific dimension:"
   ]
  },
  {
   "cell_type": "code",
   "execution_count": 92,
   "metadata": {},
   "outputs": [
    {
     "name": "stdout",
     "output_type": "stream",
     "text": [
      "tensor([[0.1821, 0.3854],\n",
      "        [0.7153, 0.1561]])\n",
      "tensor([[0.5530, 0.5248],\n",
      "        [0.8867, 0.5011]])\n",
      "tensor([[0.1821, 0.3854],\n",
      "        [0.7153, 0.1561],\n",
      "        [0.5530, 0.5248],\n",
      "        [0.8867, 0.5011]])\n",
      "tensor([[0.1821, 0.3854, 0.5530, 0.5248],\n",
      "        [0.7153, 0.1561, 0.8867, 0.5011]])\n"
     ]
    }
   ],
   "source": [
    "x = torch.rand(2, 2)\n",
    "y = torch.rand(2, 2)\n",
    "print(x)\n",
    "print(y)\n",
    "print(torch.cat((x, y), dim=0))    # shape: [4, 2]\n",
    "print(torch.cat((x, y), dim=1))    # shape: [2, 4]"
   ]
  },
  {
   "cell_type": "markdown",
   "metadata": {},
   "source": [
    "### Broadcasting\n",
    "\n",
    "The term *broadcasting* describes how PyTorch treats tensors with different shapes. In short, if a PyTorch operation supports broadcasting, then its Tensor arguments can be automatically expanded to be of equal sizes (without making copies of the data). In many situations, this can avoid explicit looping. \n",
    "\n",
    "In the simplest case, two tensors have the same shapes. This is the case for the matrix `x @ W` and the bias vector `b` in the linear model below:"
   ]
  },
  {
   "cell_type": "code",
   "execution_count": 93,
   "metadata": {},
   "outputs": [
    {
     "name": "stdout",
     "output_type": "stream",
     "text": [
      "tensor([[0.9273, 1.8007, 1.9017]])\n"
     ]
    },
    {
     "data": {
      "text/plain": [
       "torch.Size([1, 3])"
      ]
     },
     "execution_count": 93,
     "metadata": {},
     "output_type": "execute_result"
    }
   ],
   "source": [
    "x = torch.rand(1, 2)\n",
    "W = torch.rand(2, 3)\n",
    "b = torch.rand(1, 3)\n",
    "z = x @ W    # shape: [1, 3]\n",
    "z = z + b    # shape: [1, 3]\n",
    "print(z)\n",
    "z.shape"
   ]
  },
  {
   "cell_type": "markdown",
   "metadata": {},
   "source": [
    "Now suppose that we do not have a single input `x` but a whole batch (a matrix) of inputs `X`. Watch what happens when adding the bias vector `b`:"
   ]
  },
  {
   "cell_type": "code",
   "execution_count": 94,
   "metadata": {},
   "outputs": [
    {
     "name": "stdout",
     "output_type": "stream",
     "text": [
      "tensor([[0.6309, 1.0138, 1.4166],\n",
      "        [0.7449, 1.2553, 1.5782],\n",
      "        [0.7743, 1.1501, 1.5514],\n",
      "        [0.5592, 1.6154, 1.6226],\n",
      "        [0.4754, 0.9605, 1.3088]])\n"
     ]
    },
    {
     "data": {
      "text/plain": [
       "torch.Size([5, 3])"
      ]
     },
     "execution_count": 94,
     "metadata": {},
     "output_type": "execute_result"
    }
   ],
   "source": [
    "X = torch.rand(5, 2)\n",
    "Z = X @ W    # shape: [5, 3]\n",
    "Z = Z + b    # shape: [5, 3]    Broadcasting happens here!\n",
    "print(Z)\n",
    "Z.shape"
   ]
  },
  {
   "cell_type": "markdown",
   "metadata": {},
   "source": [
    "In the example, broadcasting expands the shape of `b` from $[1, 3]$ into $[5, 3]$. The matrix `Z` is formed by effectively adding `b` *to each row* of `X`. However, this is not implemented by a Python loop but happens implicitly through broadcasting.\n",
    "\n",
    "PyTorch uses the same broadcasting semantics as NumPy. [More information about broadcasting](https://numpy.org/doc/stable/user/basics.broadcasting.html)\n",
    "\n",
    "## Final note\n",
    "\n",
    "There is a lot more to learn about PyTorch, but after working through this notebook, you should be in a good position to take on the labs. Have a look at the [PyTorch documentation](https://pytorch.org/docs/stable/) for further details and more examples."
   ]
  }
 ],
 "metadata": {
  "kernelspec": {
   "display_name": "Python 3 (ipykernel)",
   "language": "python",
   "name": "python3"
  },
  "language_info": {
   "codemirror_mode": {
    "name": "ipython",
    "version": 3
   },
   "file_extension": ".py",
   "mimetype": "text/x-python",
   "name": "python",
   "nbconvert_exporter": "python",
   "pygments_lexer": "ipython3",
   "version": "3.11.4"
  }
 },
 "nbformat": 4,
 "nbformat_minor": 4
}
