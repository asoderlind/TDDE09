{
 "cells": [
  {
   "cell_type": "markdown",
   "metadata": {},
   "source": [
    "# L4: Dependency parsing"
   ]
  },
  {
   "cell_type": "markdown",
   "metadata": {},
   "source": [
    "In this lab, you will implement a simplified version of the dependency parser presented by [Glavaš and Vulić (2021)](http://dx.doi.org/10.18653/v1/2021.eacl-main.270). This parser consists of a transformer encoder followed by a bi-affine layer that computes arc scores for all pairs of words. These scores are then used as logits in a classifier that predicts the position of the head of each word. In contrast to the parser described in the paper, yours will only support unlabelled parsing, that is, you will not implement what the authors call a *relation classifier*. As the encoder, you will use the [uncased DistilBERT base model](https://huggingface.co/docs/transformers/model_doc/distilbert) from the [Transformers](https://huggingface.co/docs/transformers/main/en/index) library, even though every other BERT-based encoder should work equally well."
   ]
  },
  {
   "cell_type": "markdown",
   "metadata": {},
   "source": [
    "## Dataset"
   ]
  },
  {
   "cell_type": "markdown",
   "metadata": {},
   "source": [
    "The data for this lab comes from the English Web Treebank from the [Universal Dependencies Project](http://universaldependencies.org). To read the data, we use the [CoNLL-U Parser](https://pypi.org/project/conllu/) library. The code in the next cell defines a PyTorch [Dataset](https://pytorch.org/docs/stable/data.html#torch.utils.data.Dataset) wrapper for the data."
   ]
  },
  {
   "cell_type": "code",
   "execution_count": 5,
   "metadata": {},
   "outputs": [],
   "source": [
    "import conllu\n",
    "\n",
    "from torch.utils.data import Dataset\n",
    "\n",
    "class ParserDataset(Dataset):\n",
    "\n",
    "    def __init__(self, filename):\n",
    "        super().__init__()\n",
    "        self.items = []\n",
    "        with open(filename, 'rt', encoding='utf-8') as fp:\n",
    "            for tokens in conllu.parse_incr(fp):\n",
    "                self.items.append([(t['form'], t['head']) for t in tokens if isinstance(t['id'], int)])\n",
    "\n",
    "    def __len__(self):\n",
    "        return len(self.items)\n",
    "\n",
    "    def __getitem__(self, idx):\n",
    "        return self.items[idx]"
   ]
  },
  {
   "cell_type": "markdown",
   "metadata": {},
   "source": [
    "We can now load the training data:"
   ]
  },
  {
   "cell_type": "code",
   "execution_count": 6,
   "metadata": {},
   "outputs": [],
   "source": [
    "TRAIN_DATA = ParserDataset('en_ewt-ud-train.conllu')"
   ]
  },
  {
   "cell_type": "markdown",
   "metadata": {},
   "source": [
    "Our data consists of **parsed sentences**. A parsed sentence is represented as a list of pairs. The first component of each pair (a string) represents a word; the second component (an integer) specifies the position of the word’s head, i.e., its parent in the dependency tree. Note that word positions are numbered starting at&nbsp;1; the head position&nbsp;0 represents the root of the tree.\n",
    "\n",
    "Run the next cell to see an example sentence:"
   ]
  },
  {
   "cell_type": "code",
   "execution_count": 7,
   "metadata": {},
   "outputs": [
    {
     "data": {
      "text/plain": [
       "(('I', 'like', 'yuor', 'blog', '.'), (2, 0, 4, 2, 2))"
      ]
     },
     "execution_count": 7,
     "metadata": {},
     "output_type": "execute_result"
    }
   ],
   "source": [
    "EXAMPLE_WORDS: tuple[str] = list(zip(*TRAIN_DATA[531]))[0]\n",
    "EXAMPLE_HEADS: tuple[int] = list(zip(*TRAIN_DATA[531]))[1]\n",
    "\n",
    "EXAMPLE_WORDS, EXAMPLE_HEADS"
   ]
  },
  {
   "cell_type": "markdown",
   "metadata": {},
   "source": [
    "The example sentence consists of five whitespace-separated words, including the final punctuation mark. The head of the pronoun *I* is the word at position&nbsp;2 – the verb *like*. The head of the word *like* is the root of the tree (position&nbsp;0). The dependents of *like* are *I* (position&nbsp;1), the noun *blog* (position&nbsp;4), and the final punctuation mark. Note that the pronoun *your* (position&nbsp;3) is misspelled as *yuor*."
   ]
  },
  {
   "cell_type": "markdown",
   "metadata": {},
   "source": [
    "## Problem 1: Tokenisation (2 points)"
   ]
  },
  {
   "cell_type": "markdown",
   "metadata": {},
   "source": [
    "To feed parsed sentences to DistilBERT, we need to tokenise them and encode the resulting tokens as integers in the model vocabulary. We start by loading the DistilBERT tokeniser using the [Auto classes](https://huggingface.co/docs/transformers/v4.37.2/en/model_doc/auto):"
   ]
  },
  {
   "cell_type": "code",
   "execution_count": 8,
   "metadata": {},
   "outputs": [
    {
     "name": "stderr",
     "output_type": "stream",
     "text": [
      "/Users/axel/envs/TDDE09/lib/python3.11/site-packages/tqdm/auto.py:21: TqdmWarning: IProgress not found. Please update jupyter and ipywidgets. See https://ipywidgets.readthedocs.io/en/stable/user_install.html\n",
      "  from .autonotebook import tqdm as notebook_tqdm\n"
     ]
    }
   ],
   "source": [
    "from transformers import AutoTokenizer\n",
    "from transformers import PreTrainedTokenizer, PreTrainedTokenizerFast\n",
    "\n",
    "TOKENIZER: PreTrainedTokenizer = AutoTokenizer.from_pretrained('distilbert-base-uncased')"
   ]
  },
  {
   "cell_type": "markdown",
   "metadata": {},
   "source": [
    "We can call the tokeniser on the example sentence as shown in the next cell. Note that we use the *is_split_into_words* keyword argument to indicate that the input is already pre-tokenised (split on whitespace)."
   ]
  },
  {
   "cell_type": "code",
   "execution_count": 9,
   "metadata": {},
   "outputs": [],
   "source": [
    "EXAMPLE_TOKENS = TOKENIZER(EXAMPLE_WORDS, is_split_into_words=True)"
   ]
  },
  {
   "cell_type": "markdown",
   "metadata": {},
   "source": [
    "The output of the tokeniser is an object of class [`BatchEncoding`](https://huggingface.co/docs/transformers/main_classes/tokenizer#transformers.BatchEncoding). The code in the following cell shows the list of tokens:"
   ]
  },
  {
   "cell_type": "code",
   "execution_count": 10,
   "metadata": {},
   "outputs": [
    {
     "data": {
      "text/plain": [
       "['[CLS]', 'i', 'like', 'yu', '##or', 'blog', '.', '[SEP]']"
      ]
     },
     "execution_count": 10,
     "metadata": {},
     "output_type": "execute_result"
    }
   ],
   "source": [
    "[TOKENIZER.decode(i) for i in EXAMPLE_TOKENS.input_ids]"
   ]
  },
  {
   "cell_type": "markdown",
   "metadata": {},
   "source": [
    "As you can see, the tokeniser adds the special tokens `[CLS]` and `[SEP]` and splits unknown words (here: the misspelled word *yuor*) into sub-word tokens. We will need to keep track of which tokens correspond to which word. To achieve that, we can use the method [`word_to_tokens()`](https://huggingface.co/docs/transformers/main_classes/tokenizer#transformers.BatchEncoding.word_to_tokens), which gets us the encoded token span (an object of class [`TokenSpan`](https://huggingface.co/docs/transformers/internal/tokenization_utils#transformers.TokenSpan)) corresponding to a word in a sequence of the input batch:"
   ]
  },
  {
   "cell_type": "code",
   "execution_count": 11,
   "metadata": {},
   "outputs": [
    {
     "name": "stdout",
     "output_type": "stream",
     "text": [
      "TokenSpan(start=1, end=2) -> I\n",
      "TokenSpan(start=2, end=3) -> like\n",
      "TokenSpan(start=3, end=5) -> yuor\n",
      "TokenSpan(start=5, end=6) -> blog\n",
      "TokenSpan(start=6, end=7) -> .\n"
     ]
    }
   ],
   "source": [
    "from transformers import TokenSpan\n",
    "\n",
    "for i, word in enumerate(EXAMPLE_WORDS):\n",
    "    token_span: TokenSpan = EXAMPLE_TOKENS.word_to_tokens(i)\n",
    "    print(token_span, '->', word)"
   ]
  },
  {
   "cell_type": "markdown",
   "metadata": {},
   "source": [
    "Your first task is to code a function `encode()` that takes a tokeniser and a list of sentences and returns the tokeniser&rsquo;s encoded input as well as the corresponding token spans. The following cell contains skeleton code for this function."
   ]
  },
  {
   "cell_type": "code",
   "execution_count": 12,
   "metadata": {},
   "outputs": [],
   "source": [
    "from transformers import BatchEncoding\n",
    "from typing import Iterable\n",
    "import torch\n",
    "\n",
    "def encode(tokenizer: PreTrainedTokenizer | PreTrainedTokenizerFast, sentences: list[list[tuple[str, int]]]) -> tuple[BatchEncoding, list[list[TokenSpan]]]:\n",
    "    '''\n",
    "    Returns tokeniser's encoded input and corresponding token spans\n",
    "    '''\n",
    "    \n",
    "    split_sentence_list = [[word for word, _ in sentence] for sentence in sentences]\n",
    "\n",
    "    tokens: BatchEncoding = tokenizer(split_sentence_list, truncation=True, padding=True, is_split_into_words=True, return_tensors='pt')\n",
    "    tokens.input_ids = torch.tensor(tokens.input_ids)\n",
    "\n",
    "    token_spans_list: list[list[TokenSpan]] = []\n",
    "    \n",
    "    for i in range(len(split_sentence_list)):\n",
    "        token_spans = []\n",
    "        for j in range(len(split_sentence_list[i])):\n",
    "            token_spans.append(tokens.word_to_tokens(i, j))\n",
    "        token_spans_list.append(token_spans)\n",
    "\n",
    "    return tokens, token_spans_list"
   ]
  },
  {
   "cell_type": "markdown",
   "metadata": {},
   "source": [
    "Implement this function to match the following specification:\n",
    "\n",
    "**encode** (*tokenizer*, *sentences*):\n",
    "\n",
    "> Uses the specified *tokenizer* to encode a batch of parsed sentences (*sentences*). Returns a pair consisting of a [`BatchEncoding`](https://huggingface.co/docs/transformers/main_classes/tokenizer#transformers.BatchEncoding) and a matching batch of token spans (as explained above). The [`BatchEncoding`](https://huggingface.co/docs/transformers/main_classes/tokenizer#transformers.BatchEncoding) is the standard batch encoding, but with tensors instead of lists of Python integers. Sentences have been truncated to the maximum acceptable input length."
   ]
  },
  {
   "cell_type": "markdown",
   "metadata": {},
   "source": [
    "### 🤞 Test your code\n",
    "\n",
    "To test you code, call `encode()` on a small number of sentences and check that output matches your expectations."
   ]
  },
  {
   "cell_type": "code",
   "execution_count": 13,
   "metadata": {},
   "outputs": [
    {
     "name": "stdout",
     "output_type": "stream",
     "text": [
      "tensor([[ 101, 1045, 2066, 9805, 2953, 9927, 1012,  102,    0,    0,    0,    0,\n",
      "            0,    0,    0,    0,    0,    0,    0,    0],\n",
      "        [ 101, 3531, 4638, 2041, 2026, 2040, 2292, 1996, 3899, 2041, 9927, 1012,\n",
      "          102,    0,    0,    0,    0,    0,    0,    0],\n",
      "        [ 101, 4931, 2008, 1005, 1055, 1037, 2307, 9927, 1010, 1045, 2036, 2031,\n",
      "         1037, 2609, 2055, 3050, 3349, 3784, 5306,  102]])\n",
      "[TokenSpan(start=1, end=2), TokenSpan(start=2, end=3), TokenSpan(start=3, end=5), TokenSpan(start=5, end=6), TokenSpan(start=6, end=7)]\n",
      "[TokenSpan(start=1, end=2), TokenSpan(start=2, end=3), TokenSpan(start=3, end=4), TokenSpan(start=4, end=5), TokenSpan(start=5, end=6), TokenSpan(start=6, end=7), TokenSpan(start=7, end=8), TokenSpan(start=8, end=9), TokenSpan(start=9, end=10), TokenSpan(start=10, end=11), TokenSpan(start=11, end=12)]\n",
      "[TokenSpan(start=1, end=2), TokenSpan(start=2, end=3), TokenSpan(start=3, end=5), TokenSpan(start=5, end=6), TokenSpan(start=6, end=7), TokenSpan(start=7, end=8), TokenSpan(start=8, end=9), TokenSpan(start=9, end=10), TokenSpan(start=10, end=11), TokenSpan(start=11, end=12), TokenSpan(start=12, end=13), TokenSpan(start=13, end=14), TokenSpan(start=14, end=15), TokenSpan(start=15, end=16), TokenSpan(start=16, end=17), TokenSpan(start=17, end=18), TokenSpan(start=18, end=19)]\n"
     ]
    },
    {
     "name": "stderr",
     "output_type": "stream",
     "text": [
      "/var/folders/_5/15p7683j6vz_5pj6pk23sx1c0000gn/T/ipykernel_15529/1440010210.py:13: UserWarning: To copy construct from a tensor, it is recommended to use sourceTensor.clone().detach() or sourceTensor.clone().detach().requires_grad_(True), rather than torch.tensor(sourceTensor).\n",
      "  tokens.input_ids = torch.tensor(tokens.input_ids)\n"
     ]
    }
   ],
   "source": [
    "# Test the encode() function\n",
    "sentences = TRAIN_DATA[531:534]\n",
    "encoded_batch = encode(TOKENIZER, sentences)\n",
    "\n",
    "print(encoded_batch[0]['input_ids'])\n",
    "\n",
    "for token_spans in encoded_batch[1]:\n",
    "    print(token_spans)\n"
   ]
  },
  {
   "cell_type": "markdown",
   "metadata": {},
   "source": [
    "## Problem 2: Merging tokens (4 points)"
   ]
  },
  {
   "cell_type": "markdown",
   "metadata": {},
   "source": [
    "DistilBERT gives us a representation for each *token* in a sentence. To compute scores between pairs of *words*, we will need to combine the token representations that correspond to each word. A standard strategy for this is to take their element-wise mean. The next cell contains skeleton code for a function `merge_tokens()` that implements this strategy."
   ]
  },
  {
   "cell_type": "code",
   "execution_count": 14,
   "metadata": {},
   "outputs": [],
   "source": [
    "from torch import Tensor\n",
    "\n",
    "def merge_tokens(tokens: Tensor, token_spans_list: list[list[TokenSpan]]):\n",
    "    '''\n",
    "    tokens: Tensor[batch_size, num_tokens, hidden_dim]\n",
    "    token_spans: list[TokenSpan]\n",
    "    return word_level_representations: Tensor[batch_size, max_num_words, hidden_dim]\n",
    "    '''\n",
    "    batch_size, num_tokens, hidden_dim = tokens.shape\n",
    "    max_num_words = max(len(token_spans) for token_spans in token_spans_list)\n",
    "    word_level_representations = tokens.new_zeros(batch_size, max_num_words, hidden_dim)\n",
    "\n",
    "    for i, token_spans in enumerate(token_spans_list):  # Iterate through each sentence in the batch\n",
    "        for j, (start, end) in enumerate(token_spans):  # Iterate through each word's span in the sentence\n",
    "            # Calculate the mean of the tokens for this word. Note that `end` is exclusive, so we add 1 to include it.\n",
    "            word_tensor = tokens[i, start:end].mean(dim=0)  \n",
    "            # Assign the mean tensor to the correct position in the word-level representations tensor.\n",
    "            word_level_representations[i, j] = word_tensor\n",
    "\n",
    "\n",
    "    return word_level_representations"
   ]
  },
  {
   "cell_type": "markdown",
   "metadata": {},
   "source": [
    "Implement this function to match the following specification:\n",
    "\n",
    "**merge_tokens** (*tokens*, *token_spans*)\n",
    "\n",
    "> Takes a batch of token vectors (*tokens*) and a list of matching token spans (*token_spans*) and returns a batch of word-level representations, computed using the element-wise mean. The token vectors are a tensor of shape (*batch_size*, *num_tokens*, *hidden_dim*), where *hidden_dim* is the dimensionality of the DistilBERT representations. The token spans are a nested list containing integer pairs, as computed in Problem&nbsp;1. The result is a tensor of shape (*batch_size*, *max_num_words*, *hidden_dim*), where *max_num_words* denotes the maximum number of words in any sentence in the batch. Entries corresponding to padding are represented by the zero vector of size *hidden_dim*."
   ]
  },
  {
   "cell_type": "markdown",
   "metadata": {},
   "source": [
    "### 🤞 Test your code\n",
    "\n",
    "To test you code, create a sample input to `merge_tokens()` and check that the output matches your expectations."
   ]
  },
  {
   "cell_type": "code",
   "execution_count": 15,
   "metadata": {},
   "outputs": [
    {
     "name": "stdout",
     "output_type": "stream",
     "text": [
      "tensor([[[0.6768, 0.7144, 0.9782],\n",
      "         [0.5660, 0.6876, 0.8947],\n",
      "         [0.4988, 0.3380, 0.4715],\n",
      "         [0.2212, 0.0921, 0.7122],\n",
      "         [0.8668, 0.6879, 0.3801]]])\n"
     ]
    },
    {
     "name": "stderr",
     "output_type": "stream",
     "text": [
      "/var/folders/_5/15p7683j6vz_5pj6pk23sx1c0000gn/T/ipykernel_15529/1440010210.py:13: UserWarning: To copy construct from a tensor, it is recommended to use sourceTensor.clone().detach() or sourceTensor.clone().detach().requires_grad_(True), rather than torch.tensor(sourceTensor).\n",
      "  tokens.input_ids = torch.tensor(tokens.input_ids)\n"
     ]
    }
   ],
   "source": [
    "from torch import Tensor, rand\n",
    "\n",
    "tokens = rand(1, 1000, 3)\n",
    "\n",
    "# Test the encode() function\n",
    "sentences = TRAIN_DATA[531:532]\n",
    "_, token_spans_list = encode(TOKENIZER, sentences)\n",
    "\n",
    "out = merge_tokens(tokens, token_spans_list)\n",
    "\n",
    "print(out)"
   ]
  },
  {
   "cell_type": "markdown",
   "metadata": {},
   "source": [
    "## Problem 3: Biaffine layer (2 points)"
   ]
  },
  {
   "cell_type": "markdown",
   "metadata": {},
   "source": [
    "Your next task is to implement the bi-affine layer. Given matrices $X \\in \\mathbb{R}^{m \\times d}$ and $X' \\in \\mathbb{R}^{n \\times d}$, this layer computes a matrix $Y \\in \\mathbb{R}^{m \\times n}$ as"
   ]
  },
  {
   "cell_type": "markdown",
   "metadata": {},
   "source": [
    "$$\n",
    "Y = X W X'{}^\\top + b\n",
    "$$"
   ]
  },
  {
   "cell_type": "markdown",
   "metadata": {},
   "source": [
    "where $W \\in \\mathbb{R}^{d \\times d}$ and $b \\in \\mathbb{R}$ are learnable weight and bias parameters. In the context of the dependency parser, the matrices $X$ and $X'$ hold the word representations of all dependents and all heads in the input sentence, and the entries of the matrix $Y$ are interpreted as scores of possible dependency arcs. More specifically, the entry $Y_{ij}$ represents the score of an arc from a head word at position&nbsp;$j$ to a dependent at position&nbsp;$i$."
   ]
  },
  {
   "cell_type": "markdown",
   "metadata": {},
   "source": [
    "\n",
    "The following cell contains skeleton code for the implementation of the bi-affine layer. Implement this layer according to the specification above."
   ]
  },
  {
   "cell_type": "code",
   "execution_count": 39,
   "metadata": {},
   "outputs": [],
   "source": [
    "import torch.nn as nn\n",
    "import torch\n",
    "\n",
    "class Biaffine(nn.Module):\n",
    "\n",
    "    def __init__(self, encoder_dim):\n",
    "        super().__init__()\n",
    "        # Weight matrix for the bi-affine transformation, shape: (d, d)\n",
    "        self.weight = nn.Parameter(torch.rand(encoder_dim, encoder_dim))\n",
    "        # Bias term\n",
    "        self.bias = nn.Parameter(torch.rand(1))\n",
    "\n",
    "    def forward(self, x1: torch.Tensor, x2: torch.Tensor) -> torch.Tensor:\n",
    "        # x1 shape: (batch_size, m, d), x2 shape: (batch_size, n, d)\n",
    "        y = x1 @ self.weight @ x2.transpose(1, 2) + self.bias\n",
    "\n",
    "        return y"
   ]
  },
  {
   "cell_type": "markdown",
   "metadata": {},
   "source": [
    "**⚠️ Note that your implementation should be able to handle *batches* of input sentences.**"
   ]
  },
  {
   "cell_type": "markdown",
   "metadata": {},
   "source": [
    "### 🤞 Test your code\n",
    "\n",
    "To test you code, create a sample input to the bi-affine layer as well as suitable weights and biases and check that the output of the `forward` method matches your expectations"
   ]
  },
  {
   "cell_type": "code",
   "execution_count": 40,
   "metadata": {},
   "outputs": [
    {
     "name": "stdout",
     "output_type": "stream",
     "text": [
      "torch.Size([1, 12, 13])\n"
     ]
    }
   ],
   "source": [
    "word_level_representations = rand(1, 12, 3)\n",
    "word_level_representations2 = rand(1, 13, 3)\n",
    "biaffine = Biaffine(3)\n",
    "out = biaffine(word_level_representations, word_level_representations2)\n",
    "print(out.shape) # should be (1, 12, 13)"
   ]
  },
  {
   "cell_type": "markdown",
   "metadata": {},
   "source": [
    "## Problem 4: Parser (6 points)"
   ]
  },
  {
   "cell_type": "markdown",
   "metadata": {},
   "source": [
    "We are now ready to put the two main components of the parser together: the encoder (DistilBert) and the bi-affine layer that computes the arc scores. We also add a dropout layer between the two components.\n",
    "\n",
    "The following code cell contains skeleton code for the parsing model with the `init()` method already complete. Your task is to implement the `forward()` method. If you are unsure how things should be wired up, have another look at the slides."
   ]
  },
  {
   "cell_type": "code",
   "execution_count": 41,
   "metadata": {},
   "outputs": [],
   "source": [
    "import torch.nn as nn\n",
    "import torch\n",
    "\n",
    "from transformers import DistilBertModel, DistilBertPreTrainedModel\n",
    "\n",
    "class DistilBertForParsing(DistilBertPreTrainedModel):\n",
    "\n",
    "    def __init__(self, config, dropout=0.1):\n",
    "        super().__init__(config)\n",
    "        self.config = config\n",
    "        self.distilbert = DistilBertModel(config)\n",
    "        self.dropout = nn.Dropout(dropout)\n",
    "        self.biaffine = Biaffine(config.hidden_size)\n",
    "\n",
    "    def forward(self, encoded_input: BatchEncoding, token_spans: list[list[TokenSpan]]) -> torch.Tensor:\n",
    "        '''\n",
    "        returns: torch.Tensor[batch_size, num_words, num_words + 1]\n",
    "        '''\n",
    "        # Encode the input\n",
    "        bert_outputs = self.distilbert(**encoded_input)\n",
    "        # Merge the tokens into word-level representations\n",
    "        word_representations = self.dropout(merge_tokens(bert_outputs.last_hidden_state, token_spans))\n",
    "        # Apply the bi-affine transformation\n",
    "        scores = self.biaffine(word_representations, word_representations)\n",
    "        batch_size, num_words, _ = scores.shape\n",
    "        root_scores = torch.cat([torch.zeros(batch_size, num_words, 1, device=scores.device), scores], dim=2)\n",
    "        \n",
    "        return root_scores\n"
   ]
  },
  {
   "cell_type": "markdown",
   "metadata": {},
   "source": [
    "Implement the `forward()` method to match the following specification:\n",
    "\n",
    "**forward** (*encoded_input*, *token_spans*)\n",
    "\n",
    "> Takes a tokeniser-encoded batch of sentences (*encoded_input*, of type `BatchEncoding`) and a corresponding nested list of token spans (*token_spans*) and returns a tensor with scores for each pair of words. More specifically, the output tensor $Y$ has shape (*batch_size*, *num_words*, *num_words+1*), where the entry $Y_{bij}$ represents the score of an arc from a head word at position&nbsp;$j$ to a dependent at position&nbsp;$i$ in the $b$th sentence of the batch. Note that the number of possible heads is one greater than the number of possible dependents because the possible heads include the root of the dependency tree, which we represent using the special token `[CLS]` (at position&nbsp;0)."
   ]
  },
  {
   "cell_type": "markdown",
   "metadata": {},
   "source": [
    "### 🤞 Test your code\n",
    "\n",
    "To test you code, instantiate the parsing model and feed it a small batch of sentences."
   ]
  },
  {
   "cell_type": "code",
   "execution_count": 42,
   "metadata": {},
   "outputs": [
    {
     "name": "stderr",
     "output_type": "stream",
     "text": [
      "Some weights of DistilBertForParsing were not initialized from the model checkpoint at distilbert-base-uncased and are newly initialized: ['biaffine.bias', 'biaffine.weight']\n",
      "You should probably TRAIN this model on a down-stream task to be able to use it for predictions and inference.\n"
     ]
    },
    {
     "name": "stdout",
     "output_type": "stream",
     "text": [
      "[('I', 2), ('like', 0), ('yuor', 4), ('blog', 2), ('.', 2)]\n",
      "[('Please', 2), ('check', 0), ('out', 2), ('my', 10), ('who', 6), ('let', 10), ('the', 8), ('dog', 6), ('out', 6), ('blog', 2), ('.', 2)]\n",
      "[('hey', 6), ('that', 6), (\"'s\", 6), ('a', 6), ('great', 6), ('blog', 0), (',', 10), ('I', 10), ('also', 10), ('have', 6), ('a', 12), ('site', 10), ('about', 17), ('los', 15), ('angeles', 17), ('online', 17), ('dating', 12)]\n",
      "tensor([[[  0.0000,  43.3005,  53.7186,  49.5788,  21.7824,  46.7035,   0.3854,\n",
      "            0.3854,   0.3854,   0.3854,   0.3854,   0.3854,   0.3854,   0.3854,\n",
      "            0.3854,   0.3854,   0.3854,   0.3854],\n",
      "         [  0.0000,  61.0644,  41.1456,  25.3444,  27.3706, 108.1893,   0.3854,\n",
      "            0.3854,   0.3854,   0.3854,   0.3854,   0.3854,   0.3854,   0.3854,\n",
      "            0.3854,   0.3854,   0.3854,   0.3854],\n",
      "         [  0.0000,  31.3393,   2.8185,  15.2271, -10.0084,  61.8483,   0.3854,\n",
      "            0.3854,   0.3854,   0.3854,   0.3854,   0.3854,   0.3854,   0.3854,\n",
      "            0.3854,   0.3854,   0.3854,   0.3854],\n",
      "         [  0.0000,  41.5346,  22.0771,   6.3356, -10.8154,  67.7071,   0.3854,\n",
      "            0.3854,   0.3854,   0.3854,   0.3854,   0.3854,   0.3854,   0.3854,\n",
      "            0.3854,   0.3854,   0.3854,   0.3854],\n",
      "         [  0.0000, -54.3688,  -6.6783,  11.9541,  45.5343,  72.8373,   0.3854,\n",
      "            0.3854,   0.3854,   0.3854,   0.3854,   0.3854,   0.3854,   0.3854,\n",
      "            0.3854,   0.3854,   0.3854,   0.3854],\n",
      "         [  0.0000,   0.3854,   0.3854,   0.3854,   0.3854,   0.3854,   0.3854,\n",
      "            0.3854,   0.3854,   0.3854,   0.3854,   0.3854,   0.3854,   0.3854,\n",
      "            0.3854,   0.3854,   0.3854,   0.3854],\n",
      "         [  0.0000,   0.3854,   0.3854,   0.3854,   0.3854,   0.3854,   0.3854,\n",
      "            0.3854,   0.3854,   0.3854,   0.3854,   0.3854,   0.3854,   0.3854,\n",
      "            0.3854,   0.3854,   0.3854,   0.3854],\n",
      "         [  0.0000,   0.3854,   0.3854,   0.3854,   0.3854,   0.3854,   0.3854,\n",
      "            0.3854,   0.3854,   0.3854,   0.3854,   0.3854,   0.3854,   0.3854,\n",
      "            0.3854,   0.3854,   0.3854,   0.3854],\n",
      "         [  0.0000,   0.3854,   0.3854,   0.3854,   0.3854,   0.3854,   0.3854,\n",
      "            0.3854,   0.3854,   0.3854,   0.3854,   0.3854,   0.3854,   0.3854,\n",
      "            0.3854,   0.3854,   0.3854,   0.3854],\n",
      "         [  0.0000,   0.3854,   0.3854,   0.3854,   0.3854,   0.3854,   0.3854,\n",
      "            0.3854,   0.3854,   0.3854,   0.3854,   0.3854,   0.3854,   0.3854,\n",
      "            0.3854,   0.3854,   0.3854,   0.3854],\n",
      "         [  0.0000,   0.3854,   0.3854,   0.3854,   0.3854,   0.3854,   0.3854,\n",
      "            0.3854,   0.3854,   0.3854,   0.3854,   0.3854,   0.3854,   0.3854,\n",
      "            0.3854,   0.3854,   0.3854,   0.3854],\n",
      "         [  0.0000,   0.3854,   0.3854,   0.3854,   0.3854,   0.3854,   0.3854,\n",
      "            0.3854,   0.3854,   0.3854,   0.3854,   0.3854,   0.3854,   0.3854,\n",
      "            0.3854,   0.3854,   0.3854,   0.3854],\n",
      "         [  0.0000,   0.3854,   0.3854,   0.3854,   0.3854,   0.3854,   0.3854,\n",
      "            0.3854,   0.3854,   0.3854,   0.3854,   0.3854,   0.3854,   0.3854,\n",
      "            0.3854,   0.3854,   0.3854,   0.3854],\n",
      "         [  0.0000,   0.3854,   0.3854,   0.3854,   0.3854,   0.3854,   0.3854,\n",
      "            0.3854,   0.3854,   0.3854,   0.3854,   0.3854,   0.3854,   0.3854,\n",
      "            0.3854,   0.3854,   0.3854,   0.3854],\n",
      "         [  0.0000,   0.3854,   0.3854,   0.3854,   0.3854,   0.3854,   0.3854,\n",
      "            0.3854,   0.3854,   0.3854,   0.3854,   0.3854,   0.3854,   0.3854,\n",
      "            0.3854,   0.3854,   0.3854,   0.3854],\n",
      "         [  0.0000,   0.3854,   0.3854,   0.3854,   0.3854,   0.3854,   0.3854,\n",
      "            0.3854,   0.3854,   0.3854,   0.3854,   0.3854,   0.3854,   0.3854,\n",
      "            0.3854,   0.3854,   0.3854,   0.3854],\n",
      "         [  0.0000,   0.3854,   0.3854,   0.3854,   0.3854,   0.3854,   0.3854,\n",
      "            0.3854,   0.3854,   0.3854,   0.3854,   0.3854,   0.3854,   0.3854,\n",
      "            0.3854,   0.3854,   0.3854,   0.3854]],\n",
      "\n",
      "        [[  0.0000,  37.2184,  -3.4506,   5.0293,  20.9179,  14.8710,   6.2553,\n",
      "           10.8546,  10.0773,   2.7763,  33.2290,  69.8288,   0.3854,   0.3854,\n",
      "            0.3854,   0.3854,   0.3854,   0.3854],\n",
      "         [  0.0000,  72.1853,  32.3940,  31.4710,  43.7183,  41.5724,  50.8225,\n",
      "           35.0031,  -7.3091,  20.7156,  19.4972,  73.3354,   0.3854,   0.3854,\n",
      "            0.3854,   0.3854,   0.3854,   0.3854],\n",
      "         [  0.0000,  46.9947,  28.3926,  14.9371,  30.9654,  53.1829,  68.7736,\n",
      "           43.8520, -14.3143,  24.9990,  18.7821,  33.7473,   0.3854,   0.3854,\n",
      "            0.3854,   0.3854,   0.3854,   0.3854],\n",
      "         [  0.0000,  49.5099,  31.8693,  21.4712,  34.7039,  36.4963,  53.3402,\n",
      "           48.0534,  48.3757,  46.3940,  24.7870,  45.4197,   0.3854,   0.3854,\n",
      "            0.3854,   0.3854,   0.3854,   0.3854],\n",
      "         [  0.0000,  35.3534,  13.7105,   5.1953,   5.9500,  20.9820,  16.5566,\n",
      "           12.3289,  14.9522,  14.9132,   8.0598,  47.4480,   0.3854,   0.3854,\n",
      "            0.3854,   0.3854,   0.3854,   0.3854],\n",
      "         [  0.0000,  48.9973,  13.9465,  26.1061,  16.0389,  24.6677,   9.5854,\n",
      "           32.4806,   3.2381,  20.3743,  -8.8373, 107.3568,   0.3854,   0.3854,\n",
      "            0.3854,   0.3854,   0.3854,   0.3854],\n",
      "         [  0.0000,  53.5439,  -7.7650,   2.2402,  27.0046,  60.6067,  46.2486,\n",
      "           37.8318,  14.7347,  42.5898,  17.9760,  53.1697,   0.3854,   0.3854,\n",
      "            0.3854,   0.3854,   0.3854,   0.3854],\n",
      "         [  0.0000,   9.9843, -16.0968, -17.4250,   5.2067,  33.6085,   2.6547,\n",
      "           -0.4227,  -0.2253,  10.3567, -10.1462,  44.4663,   0.3854,   0.3854,\n",
      "            0.3854,   0.3854,   0.3854,   0.3854],\n",
      "         [  0.0000,  31.0971,  25.9568,  25.3474,  28.6478,  53.4892,  44.5398,\n",
      "           49.7322,  26.5361,  42.2566,   4.4640,  24.4272,   0.3854,   0.3854,\n",
      "            0.3854,   0.3854,   0.3854,   0.3854],\n",
      "         [  0.0000,  30.5586,   5.3457,  -4.8104,  31.4143,  33.0675,  22.0884,\n",
      "           20.6249,  19.8606,  17.7149,   7.9307,  38.8449,   0.3854,   0.3854,\n",
      "            0.3854,   0.3854,   0.3854,   0.3854],\n",
      "         [  0.0000, -24.6569,  -8.6120,   9.9548,  -5.9641,  40.4210,  12.5920,\n",
      "            3.1882,  16.1053,  57.8322,  35.4586,  33.4261,   0.3854,   0.3854,\n",
      "            0.3854,   0.3854,   0.3854,   0.3854],\n",
      "         [  0.0000,   0.3854,   0.3854,   0.3854,   0.3854,   0.3854,   0.3854,\n",
      "            0.3854,   0.3854,   0.3854,   0.3854,   0.3854,   0.3854,   0.3854,\n",
      "            0.3854,   0.3854,   0.3854,   0.3854],\n",
      "         [  0.0000,   0.3854,   0.3854,   0.3854,   0.3854,   0.3854,   0.3854,\n",
      "            0.3854,   0.3854,   0.3854,   0.3854,   0.3854,   0.3854,   0.3854,\n",
      "            0.3854,   0.3854,   0.3854,   0.3854],\n",
      "         [  0.0000,   0.3854,   0.3854,   0.3854,   0.3854,   0.3854,   0.3854,\n",
      "            0.3854,   0.3854,   0.3854,   0.3854,   0.3854,   0.3854,   0.3854,\n",
      "            0.3854,   0.3854,   0.3854,   0.3854],\n",
      "         [  0.0000,   0.3854,   0.3854,   0.3854,   0.3854,   0.3854,   0.3854,\n",
      "            0.3854,   0.3854,   0.3854,   0.3854,   0.3854,   0.3854,   0.3854,\n",
      "            0.3854,   0.3854,   0.3854,   0.3854],\n",
      "         [  0.0000,   0.3854,   0.3854,   0.3854,   0.3854,   0.3854,   0.3854,\n",
      "            0.3854,   0.3854,   0.3854,   0.3854,   0.3854,   0.3854,   0.3854,\n",
      "            0.3854,   0.3854,   0.3854,   0.3854],\n",
      "         [  0.0000,   0.3854,   0.3854,   0.3854,   0.3854,   0.3854,   0.3854,\n",
      "            0.3854,   0.3854,   0.3854,   0.3854,   0.3854,   0.3854,   0.3854,\n",
      "            0.3854,   0.3854,   0.3854,   0.3854]],\n",
      "\n",
      "        [[  0.0000,  -8.1084,  38.9261,  22.6233,  -1.3368,   0.5038,  40.8795,\n",
      "           -6.3918,   7.5718,  -9.1713,  24.4464,  14.8859,  43.4070,  14.9040,\n",
      "           40.9731,  48.0042,  59.8025,  44.3869],\n",
      "         [  0.0000,  36.0716,  54.6790,  17.2162,  20.2130,  31.5917,  58.0009,\n",
      "            8.4901,  39.4270,  18.2858,  55.1543,  34.6936,  79.2547,  43.0747,\n",
      "           40.1516,  45.9939,  89.8678,  94.9479],\n",
      "         [  0.0000,  54.6812,  73.2864,  13.2362,  37.3155,  24.1796,  61.2814,\n",
      "           12.7596,  20.6693,  31.3723,  41.4892,  52.3889,  65.6902,  61.0644,\n",
      "           86.9526,  88.0839,  93.1710,  98.3055],\n",
      "         [  0.0000,  43.2664,  25.4915, -16.2138,   2.1109,   2.2965,  46.5446,\n",
      "          -26.5087,  11.9644, -22.2511,   4.6060,   0.4717,  41.2633,  37.4739,\n",
      "           71.8466,  65.3387,  69.8844,  76.1585],\n",
      "         [  0.0000,  23.8767,  14.5646, -28.7957, -22.5787, -14.0756,  17.6726,\n",
      "          -27.1767,  -1.6066, -34.4552,   5.8771,   3.9798,  29.8789,  18.3339,\n",
      "           51.1284,  40.8855,  41.0521,  55.1281],\n",
      "         [  0.0000,  54.1899,  46.6966,  27.4113,  18.0510,  19.6255,  18.6609,\n",
      "           -0.4253,  36.5429,  28.2781,  48.6352,  36.1565,  32.1543,  38.9472,\n",
      "           36.4024,  35.8621,  46.5368,  65.8291],\n",
      "         [  0.0000,  34.2688,  29.7228,  25.9655,  23.7124,  -6.0850,  41.8886,\n",
      "           17.1098,  48.5449,  20.5476,  20.4250,  17.4105,  28.7023,  44.5721,\n",
      "          104.7773, 119.1708,  81.3261,  68.5391],\n",
      "         [  0.0000,  30.6785,  40.4534, -18.9706,  -2.1161,  39.4057,  48.0225,\n",
      "           -5.5803,  29.2728,  -0.9735,  41.6833,  20.9787,  44.7456,  29.6476,\n",
      "           71.5745,  59.3148,  53.4421,  61.2789],\n",
      "         [  0.0000,  32.1378,  18.6766, -21.2017,  -4.4282,   9.8484,  31.7431,\n",
      "           -7.8524,  23.0759, -10.2585,  17.5960,  19.0743,  31.5289,  33.9922,\n",
      "           36.8730,  34.0775,  36.6702,  48.5749],\n",
      "         [  0.0000,  33.0771,  22.5415,  -9.8818,  -3.1004,  11.2646,  42.9597,\n",
      "           -2.7689, -13.3083,  -7.1828,   9.1221,  18.1278,  48.0095,  25.5724,\n",
      "           34.0820,  30.2655,  52.2329,  55.0823],\n",
      "         [  0.0000,  37.5607,   9.7266, -10.1274, -25.0473, -12.6370,  25.1968,\n",
      "          -31.9259,  -0.6803, -27.8921, -12.1310, -21.0147,  11.4730,  26.4786,\n",
      "           42.3280,  37.2136,  43.6250,  61.4386],\n",
      "         [  0.0000,  32.4529,   7.8855,  16.4344,  -5.5070,  -0.5846,  11.5820,\n",
      "          -41.2506,  13.1450,  -5.9133,  15.4128,   8.1771,  19.1518,  23.1566,\n",
      "           20.9413,  14.0855,  27.8108,  69.8083],\n",
      "         [  0.0000,   6.7713,  15.5548,  17.0405,   7.8051,  15.1711,  24.3294,\n",
      "          -18.8768,  32.4753,  15.2558,  10.6694,  12.4289,   0.7281,  28.2607,\n",
      "           85.8108,  84.9959,  56.2746, 104.0745],\n",
      "         [  0.0000, -31.3986, -38.2916, -51.4625, -55.0323, -53.4752, -39.4181,\n",
      "          -70.2721, -35.2188, -46.9505, -22.0569, -34.7486, -36.6814, -50.6304,\n",
      "          -10.0189,   4.7005,   2.9339,  20.2724],\n",
      "         [  0.0000, -18.9008,  -8.9474, -12.5003, -11.5596, -19.5747,   9.3499,\n",
      "          -47.4287, -15.4283, -24.2089,  14.6425,  -1.7910,  -4.5535, -15.0745,\n",
      "           35.7742,  41.8200,  28.7063,  48.9597],\n",
      "         [  0.0000,  24.3888,  29.6746,   1.9234,  21.4298,  30.0553,   9.1030,\n",
      "           -7.7157,  35.8734,  18.8125,  49.7044,  26.3445,  18.9515,  13.3308,\n",
      "           33.1702,  37.0838,  30.5523,  67.2574],\n",
      "         [  0.0000, -23.0211,   4.1038,   8.8354,   5.0659,   4.8586,   8.4591,\n",
      "          -42.6107, -13.4000, -15.3989,  11.6268,  21.3182,  11.5291,  27.3223,\n",
      "           57.0030,  60.3021,  32.3960,  65.2097]]], grad_fn=<CatBackward0>)\n",
      "torch.Size([3, 17, 18])\n"
     ]
    },
    {
     "name": "stderr",
     "output_type": "stream",
     "text": [
      "/var/folders/_5/15p7683j6vz_5pj6pk23sx1c0000gn/T/ipykernel_15529/1440010210.py:13: UserWarning: To copy construct from a tensor, it is recommended to use sourceTensor.clone().detach() or sourceTensor.clone().detach().requires_grad_(True), rather than torch.tensor(sourceTensor).\n",
      "  tokens.input_ids = torch.tensor(tokens.input_ids)\n"
     ]
    }
   ],
   "source": [
    "# Test the model\n",
    "model = DistilBertForParsing.from_pretrained('distilbert-base-uncased')\n",
    "\n",
    "sentences = TRAIN_DATA[531:534]\n",
    "\n",
    "encoded_inputs: BatchEncoding = []\n",
    "token_spans_list: list[list[TokenSpan]] = []\n",
    "\n",
    "for sentence in sentences:\n",
    "    print(sentence)\n",
    "\n",
    "encoded_inputs, token_spans_list = encode(TOKENIZER, sentences)\n",
    "\n",
    "out = model.forward(encoded_inputs, token_spans_list)\n",
    "\n",
    "print(out)\n",
    "print(out.shape) # should be (1, 5, 6)"
   ]
  },
  {
   "cell_type": "markdown",
   "metadata": {},
   "source": [
    "## Data loader"
   ]
  },
  {
   "cell_type": "markdown",
   "metadata": {},
   "source": [
    "We are now almost ready to train the parser. The missing piece is a data collator that prepares a batch of parsed sentences:\n",
    "\n",
    "* tokenises the sentences and extracts token spans using `encode()` (Problem&nbsp;1)\n",
    "* constructs the ground-truth head tensor needed to compute the loss (Problem&nbsp;2)\n",
    "\n",
    "The code in the next cell implements these two steps. For pseudo-words introduced through padding, we assign a head position of −100. This value is ignored by PyTorch’s cross-entropy loss function."
   ]
  },
  {
   "cell_type": "code",
   "execution_count": 43,
   "metadata": {},
   "outputs": [],
   "source": [
    "import torch\n",
    "\n",
    "class ParserBatcher(object):\n",
    "\n",
    "    def __init__(self, tokenizer, device=None):\n",
    "        self.tokenizer = tokenizer\n",
    "        self.device = device\n",
    "\n",
    "    def __call__(self, parser_inputs):\n",
    "        encoded_input, start_indices = encode(self.tokenizer, parser_inputs)\n",
    "\n",
    "        # Get the maximal number of words, for padding\n",
    "        max_num_words = max(len(s) for s in parser_inputs)\n",
    "\n",
    "        # Construct tensor containing the ground-truth heads\n",
    "        all_heads = []\n",
    "        for parser_input in parser_inputs:\n",
    "            words, heads = zip(*parser_input)\n",
    "            heads = list(heads)\n",
    "            heads.extend([-100] * (max_num_words - len(heads)))  # -100 will be ignored\n",
    "            all_heads.append(heads)\n",
    "        all_heads = torch.LongTensor(all_heads)\n",
    "\n",
    "        # Send all data to the specified device\n",
    "        if self.device:\n",
    "            encoded_input = encoded_input.to(self.device)\n",
    "            all_heads = all_heads.to(self.device)\n",
    "\n",
    "        return encoded_input, start_indices, all_heads"
   ]
  },
  {
   "cell_type": "markdown",
   "metadata": {},
   "source": [
    "## Training loop"
   ]
  },
  {
   "cell_type": "markdown",
   "metadata": {},
   "source": [
    "Finally, here is the training loop of the parser. Most of it is quite standard. The training loss of the parser is the cross-entropy between the head scores and the ground truth head positions. In other words, the parser is trained as a classifier that predicts the position of each word&rsquo;s head."
   ]
  },
  {
   "cell_type": "code",
   "execution_count": 44,
   "metadata": {},
   "outputs": [],
   "source": [
    "import torch.nn.functional as F\n",
    "\n",
    "from torch.optim import Adam\n",
    "from torch.utils.data import DataLoader\n",
    "from tqdm import tqdm\n",
    "\n",
    "DEVICE = torch.device('mps' if torch.backends.mps.is_available() else 'cuda' if torch.cuda.is_available() else 'cpu')\n",
    "\n",
    "def train(dataset, n_epochs=1, lr=1e-5, batch_size=8):\n",
    "    # Initialise the tokeniser\n",
    "    tokenizer = AutoTokenizer.from_pretrained('distilbert-base-uncased')\n",
    "\n",
    "    # Initialise the encoder\n",
    "    model = DistilBertForParsing.from_pretrained('distilbert-base-uncased').to(DEVICE)\n",
    "\n",
    "    # Initialise the data loader\n",
    "    data_loader = DataLoader(dataset, batch_size=batch_size, collate_fn=ParserBatcher(tokenizer, device=DEVICE))\n",
    "\n",
    "    # Initialise the optimiser\n",
    "    optimizer = Adam(model.parameters(), lr=lr)\n",
    "\n",
    "    # Train for the specified number of epochs\n",
    "    for epoch in range(n_epochs):\n",
    "        model.train()\n",
    "\n",
    "        # We keep track of the running loss\n",
    "        running_loss = 0\n",
    "        n_batches = 0\n",
    "        with tqdm(total=len(dataset)) as pbar:\n",
    "            pbar.set_description(f'Epoch {epoch+1}')\n",
    "\n",
    "            # Process a batch of samples\n",
    "            for encoded_input, token_spans, gold_heads in data_loader:\n",
    "                optimizer.zero_grad()\n",
    "\n",
    "                # Compute the arc scores\n",
    "                arc_scores = model.forward(encoded_input, token_spans)\n",
    "                # shape: [batch_size, num_words, num_words+1]\n",
    "\n",
    "                # Flatten arc_scores and gold_heads for cross_entropy\n",
    "                loss = F.cross_entropy(arc_scores.flatten(0, -2), gold_heads.view(-1))\n",
    "                # shape of the flattened arc_scores: [batch_size * num_words, num_words+1]\n",
    "                # shape of the flattened gold_heads: [batch_size * num_words]\n",
    "\n",
    "                # Backward pass\n",
    "                loss.backward()\n",
    "                optimizer.step()\n",
    "\n",
    "                # Update the loss\n",
    "                running_loss += loss.item()\n",
    "                n_batches += 1\n",
    "                pbar.set_postfix(loss=running_loss/n_batches)\n",
    "                pbar.update(len(token_spans))\n",
    "\n",
    "    return model"
   ]
  },
  {
   "cell_type": "markdown",
   "metadata": {},
   "source": [
    "We are now ready to train the parser. With a GPU, you should expect training times of approximately 3&nbsp;minutes per epoch."
   ]
  },
  {
   "cell_type": "code",
   "execution_count": 45,
   "metadata": {},
   "outputs": [
    {
     "name": "stderr",
     "output_type": "stream",
     "text": [
      "Some weights of DistilBertForParsing were not initialized from the model checkpoint at distilbert-base-uncased and are newly initialized: ['biaffine.bias', 'biaffine.weight']\n",
      "You should probably TRAIN this model on a down-stream task to be able to use it for predictions and inference.\n",
      "Epoch 1:   0%|          | 0/12544 [00:00<?, ?it/s]/var/folders/_5/15p7683j6vz_5pj6pk23sx1c0000gn/T/ipykernel_15529/1440010210.py:13: UserWarning: To copy construct from a tensor, it is recommended to use sourceTensor.clone().detach() or sourceTensor.clone().detach().requires_grad_(True), rather than torch.tensor(sourceTensor).\n",
      "  tokens.input_ids = torch.tensor(tokens.input_ids)\n",
      "Epoch 1: 100%|██████████| 12544/12544 [04:02<00:00, 51.71it/s, loss=2.68]\n"
     ]
    }
   ],
   "source": [
    "PARSING_MODEL = train(TRAIN_DATA, n_epochs=1)"
   ]
  },
  {
   "cell_type": "markdown",
   "metadata": {},
   "source": [
    "## Problem 5: Evaluation (2 points)"
   ]
  },
  {
   "cell_type": "markdown",
   "metadata": {},
   "source": [
    "Dependency parsers are commonly evaluated using **unlabelled attachment score (UAS)**, which is the percentage of (non-root) words that have been assigned their correct heads. The following cell contains skeleton code for a function `uas()` that computes this score on a given dataset."
   ]
  },
  {
   "cell_type": "code",
   "execution_count": 52,
   "metadata": {},
   "outputs": [],
   "source": [
    "def uas(tokenizer, model, filename, batch_size=8):\n",
    "    # Compute score on a given dataset\n",
    "    dataset: ParserDataset = ParserDataset(filename)\n",
    "    data_loader = DataLoader(dataset, batch_size=batch_size, collate_fn=ParserBatcher(tokenizer, device=DEVICE))\n",
    "    model.eval()\n",
    "    \n",
    "    total_correct = 0\n",
    "    total_tokens = 0\n",
    "    \n",
    "    with torch.no_grad():  # Disable gradient computation\n",
    "        for batch in data_loader:\n",
    "            encoded_inputs, token_spans_list, true_heads = batch\n",
    "            input_ids = encoded_inputs['input_ids']\n",
    "            attention_mask = encoded_inputs['attention_mask']\n",
    "\n",
    "            # Forward pass: compute predictions by the model\n",
    "            outputs = model.forward(encoded_inputs, token_spans_list)\n",
    "\n",
    "            # Assuming the model outputs logits or head indices directly\n",
    "            # You might need to adjust this depending on the actual model output\n",
    "            predicted_heads = outputs.argmax(-1) if outputs.dim() > 1 else outputs\n",
    "\n",
    "            print(\"Predicted heads\")\n",
    "            print(predicted_heads.shape)\n",
    "            print(\"True heads\")\n",
    "            print(true_heads.shape)\n",
    "            print(\"Attention mask\")\n",
    "            print(attention_mask.shape)\n",
    "\n",
    "            # Calculate correctness\n",
    "            mask = attention_mask.bool()  # Exclude padding tokens from the evaluation\n",
    "            correct = (predicted_heads == true_heads)  # Element-wise AND to apply mask\n",
    "            total_correct += correct.sum().item()\n",
    "            print(\"mask sum\")\n",
    "            print(mask.sum().item())\n",
    "            print(\"shape of true heads\")\n",
    "            print(true_heads.shape)\n",
    "            print(true_heads.shape[0] * true_heads.shape[1])\n",
    "            total_tokens += mask.sum().item()\n",
    "\n",
    "    # Compute Unlabeled Attachment Score\n",
    "    uas_score = total_correct / total_tokens if total_tokens > 0 else 0\n",
    "    return uas_score"
   ]
  },
  {
   "cell_type": "markdown",
   "metadata": {},
   "source": [
    "Implement the `uas()` function to match the following specification:\n",
    "\n",
    "**uas** (*tokenizer*, *model*, *filename*)\n",
    "\n",
    "> Takes a tokenizer (*tokenizer*), a trained parsing model (*model*), and the filename of a dataset in the CoNLLU format (*filename*) and returns the unlabelled attachment score of the model on the tokenised dataset."
   ]
  },
  {
   "cell_type": "markdown",
   "metadata": {},
   "source": [
    "**⚠️ Note that pseudo-words corresponding to padding must be excluded from the calculation of the UAS.**"
   ]
  },
  {
   "cell_type": "markdown",
   "metadata": {},
   "source": [
    "The code in the following cell evaluates the trained parser on the development section of the data:"
   ]
  },
  {
   "cell_type": "code",
   "execution_count": 53,
   "metadata": {},
   "outputs": [
    {
     "name": "stderr",
     "output_type": "stream",
     "text": [
      "/var/folders/_5/15p7683j6vz_5pj6pk23sx1c0000gn/T/ipykernel_15529/1440010210.py:13: UserWarning: To copy construct from a tensor, it is recommended to use sourceTensor.clone().detach() or sourceTensor.clone().detach().requires_grad_(True), rather than torch.tensor(sourceTensor).\n",
      "  tokens.input_ids = torch.tensor(tokens.input_ids)\n"
     ]
    },
    {
     "name": "stdout",
     "output_type": "stream",
     "text": [
      "Predicted heads\n",
      "torch.Size([8, 31])\n",
      "True heads\n",
      "torch.Size([8, 31])\n",
      "Attention mask\n",
      "torch.Size([8, 38])\n"
     ]
    },
    {
     "ename": "KeyboardInterrupt",
     "evalue": "",
     "output_type": "error",
     "traceback": [
      "\u001b[0;31m---------------------------------------------------------------------------\u001b[0m",
      "\u001b[0;31mKeyboardInterrupt\u001b[0m                         Traceback (most recent call last)",
      "Cell \u001b[0;32mIn[53], line 1\u001b[0m\n\u001b[0;32m----> 1\u001b[0m \u001b[43muas\u001b[49m\u001b[43m(\u001b[49m\u001b[43mTOKENIZER\u001b[49m\u001b[43m,\u001b[49m\u001b[43m \u001b[49m\u001b[43mPARSING_MODEL\u001b[49m\u001b[43m,\u001b[49m\u001b[43m \u001b[49m\u001b[38;5;124;43m'\u001b[39;49m\u001b[38;5;124;43men_ewt-ud-dev.conllu\u001b[39;49m\u001b[38;5;124;43m'\u001b[39;49m\u001b[43m)\u001b[49m\n",
      "Cell \u001b[0;32mIn[52], line 33\u001b[0m, in \u001b[0;36muas\u001b[0;34m(tokenizer, model, filename, batch_size)\u001b[0m\n\u001b[1;32m     31\u001b[0m         mask \u001b[38;5;241m=\u001b[39m attention_mask\u001b[38;5;241m.\u001b[39mbool()  \u001b[38;5;66;03m# Exclude padding tokens from the evaluation\u001b[39;00m\n\u001b[1;32m     32\u001b[0m         correct \u001b[38;5;241m=\u001b[39m (predicted_heads \u001b[38;5;241m==\u001b[39m true_heads)  \u001b[38;5;66;03m# Element-wise AND to apply mask\u001b[39;00m\n\u001b[0;32m---> 33\u001b[0m         total_correct \u001b[38;5;241m+\u001b[39m\u001b[38;5;241m=\u001b[39m \u001b[43mcorrect\u001b[49m\u001b[38;5;241;43m.\u001b[39;49m\u001b[43msum\u001b[49m\u001b[43m(\u001b[49m\u001b[43m)\u001b[49m\u001b[38;5;241;43m.\u001b[39;49m\u001b[43mitem\u001b[49m\u001b[43m(\u001b[49m\u001b[43m)\u001b[49m\n\u001b[1;32m     34\u001b[0m         total_tokens \u001b[38;5;241m+\u001b[39m\u001b[38;5;241m=\u001b[39m mask\u001b[38;5;241m.\u001b[39msum()\u001b[38;5;241m.\u001b[39mitem()  \u001b[38;5;66;03m# Count all non-padding tokens\u001b[39;00m\n\u001b[1;32m     36\u001b[0m \u001b[38;5;66;03m# Compute Unlabeled Attachment Score\u001b[39;00m\n",
      "\u001b[0;31mKeyboardInterrupt\u001b[0m: "
     ]
    }
   ],
   "source": [
    "uas(TOKENIZER, PARSING_MODEL, 'en_ewt-ud-dev.conllu')"
   ]
  },
  {
   "cell_type": "markdown",
   "metadata": {},
   "source": [
    "**Your notebook must contain output demonstrating at least 86% UAS on the development data.**"
   ]
  },
  {
   "cell_type": "markdown",
   "metadata": {},
   "source": [
    "## Problem 6: Counting trees (6 points)"
   ]
  },
  {
   "cell_type": "markdown",
   "metadata": {},
   "source": [
    "In the last problem of this lab, we ask you to take a closer look at the graph-theoretic properties of the outputs of your trained model.\n",
    "\n",
    "The following cell contains code that will use the tokeniser and your trained model to parse the development data and write the gold-standard dependency trees as well as the dependency trees predicted by the parser to a JSON file:"
   ]
  },
  {
   "cell_type": "code",
   "execution_count": null,
   "metadata": {},
   "outputs": [],
   "source": [
    "import json\n",
    "\n",
    "dataset = ParserDataset('en_ewt-ud-dev.conllu')\n",
    "data_loader = DataLoader(dataset, collate_fn=ParserBatcher(TOKENIZER, device=DEVICE))\n",
    "\n",
    "with open('graphs.jsonl', 'wt') as fp:\n",
    "    for encoded_input, token_spans, gold_heads in data_loader:\n",
    "        with torch.no_grad():\n",
    "            head_scores = PARSING_MODEL.forward(encoded_input, token_spans)\n",
    "            pred_heads = torch.argmax(head_scores, dim=-1)\n",
    "        for gold, pred in zip(gold_heads, pred_heads):\n",
    "            mask = gold.ne(-100)\n",
    "            print(json.dumps((gold[mask].tolist(), pred[mask].tolist())), file=fp)"
   ]
  },
  {
   "cell_type": "markdown",
   "metadata": {},
   "source": [
    "The lab directory contains a script `analyze.py` that you can use to compute statistics on various graph-theoretic properties: total number of graphs, number of acyclic graphs, connected graphs, trees, and projective trees. Document your exploration in a short reflection piece (ca.&nbsp;150 words). Respond to the following prompts\n",
    "\n",
    "* What are the results of this exploration? Summarise the statistics you obtained.\n",
    "* Based on what you know about the parser, did you expect your results? Was there anything surprising in them?\n",
    "* What did you learn? How, exactly, did you learn it? Why does this learning matter?"
   ]
  },
  {
   "cell_type": "markdown",
   "metadata": {},
   "source": [
    "**🥳 Congratulations on finishing this lab! 🥳**"
   ]
  }
 ],
 "metadata": {
  "accelerator": "GPU",
  "colab": {
   "collapsed_sections": [],
   "name": "BERT_Parser Panic.ipynb",
   "provenance": []
  },
  "kernelspec": {
   "display_name": "Python 3 (ipykernel)",
   "language": "python",
   "name": "python3"
  },
  "language_info": {
   "codemirror_mode": {
    "name": "ipython",
    "version": 3
   },
   "file_extension": ".py",
   "mimetype": "text/x-python",
   "name": "python",
   "nbconvert_exporter": "python",
   "pygments_lexer": "ipython3",
   "version": "3.11.4"
  }
 },
 "nbformat": 4,
 "nbformat_minor": 1
}
