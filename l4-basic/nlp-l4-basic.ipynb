{
 "cells": [
  {
   "cell_type": "markdown",
   "metadata": {},
   "source": [
    "# L4: Dependency parsing"
   ]
  },
  {
   "cell_type": "markdown",
   "metadata": {},
   "source": [
    "In this lab, you will implement a simplified version of the dependency parser presented by [Glavaš and Vulić (2021)](http://dx.doi.org/10.18653/v1/2021.eacl-main.270). This parser consists of a transformer encoder followed by a bi-affine layer that computes arc scores for all pairs of words. These scores are then used as logits in a classifier that predicts the position of the head of each word. In contrast to the parser described in the paper, yours will only support unlabelled parsing, that is, you will not implement what the authors call a *relation classifier*. As the encoder, you will use the [uncased DistilBERT base model](https://huggingface.co/docs/transformers/model_doc/distilbert) from the [Transformers](https://huggingface.co/docs/transformers/main/en/index) library, even though every other BERT-based encoder should work equally well."
   ]
  },
  {
   "cell_type": "markdown",
   "metadata": {},
   "source": [
    "## Dataset"
   ]
  },
  {
   "cell_type": "markdown",
   "metadata": {},
   "source": [
    "The data for this lab comes from the English Web Treebank from the [Universal Dependencies Project](http://universaldependencies.org). To read the data, we use the [CoNLL-U Parser](https://pypi.org/project/conllu/) library. The code in the next cell defines a PyTorch [Dataset](https://pytorch.org/docs/stable/data.html#torch.utils.data.Dataset) wrapper for the data."
   ]
  },
  {
   "cell_type": "code",
   "execution_count": 69,
   "metadata": {},
   "outputs": [],
   "source": [
    "import conllu\n",
    "\n",
    "from torch.utils.data import Dataset\n",
    "\n",
    "class ParserDataset(Dataset):\n",
    "\n",
    "    def __init__(self, filename):\n",
    "        super().__init__()\n",
    "        self.items = []\n",
    "        with open(filename, 'rt', encoding='utf-8') as fp:\n",
    "            for tokens in conllu.parse_incr(fp):\n",
    "                self.items.append([(t['form'], t['head']) for t in tokens if isinstance(t['id'], int)])\n",
    "\n",
    "    def __len__(self):\n",
    "        return len(self.items)\n",
    "\n",
    "    def __getitem__(self, idx):\n",
    "        return self.items[idx]"
   ]
  },
  {
   "cell_type": "markdown",
   "metadata": {},
   "source": [
    "We can now load the training data:"
   ]
  },
  {
   "cell_type": "code",
   "execution_count": 70,
   "metadata": {},
   "outputs": [],
   "source": [
    "TRAIN_DATA = ParserDataset('en_ewt-ud-train.conllu')"
   ]
  },
  {
   "cell_type": "markdown",
   "metadata": {},
   "source": [
    "Our data consists of **parsed sentences**. A parsed sentence is represented as a list of pairs. The first component of each pair (a string) represents a word; the second component (an integer) specifies the position of the word’s head, i.e., its parent in the dependency tree. Note that word positions are numbered starting at&nbsp;1; the head position&nbsp;0 represents the root of the tree.\n",
    "\n",
    "Run the next cell to see an example sentence:"
   ]
  },
  {
   "cell_type": "code",
   "execution_count": 71,
   "metadata": {},
   "outputs": [
    {
     "data": {
      "text/plain": [
       "(('I', 'like', 'yuor', 'blog', '.'), (2, 0, 4, 2, 2))"
      ]
     },
     "execution_count": 71,
     "metadata": {},
     "output_type": "execute_result"
    }
   ],
   "source": [
    "EXAMPLE_WORDS: tuple[str] = list(zip(*TRAIN_DATA[531]))[0]\n",
    "EXAMPLE_HEADS: tuple[int] = list(zip(*TRAIN_DATA[531]))[1]\n",
    "\n",
    "\n",
    "\n",
    "EXAMPLE_WORDS, EXAMPLE_HEADS"
   ]
  },
  {
   "cell_type": "markdown",
   "metadata": {},
   "source": [
    "The example sentence consists of five whitespace-separated words, including the final punctuation mark. The head of the pronoun *I* is the word at position&nbsp;2 – the verb *like*. The head of the word *like* is the root of the tree (position&nbsp;0). The dependents of *like* are *I* (position&nbsp;1), the noun *blog* (position&nbsp;4), and the final punctuation mark. Note that the pronoun *your* (position&nbsp;3) is misspelled as *yuor*."
   ]
  },
  {
   "cell_type": "markdown",
   "metadata": {},
   "source": [
    "## Problem 1: Tokenisation (2 points)"
   ]
  },
  {
   "cell_type": "markdown",
   "metadata": {},
   "source": [
    "To feed parsed sentences to DistilBERT, we need to tokenise them and encode the resulting tokens as integers in the model vocabulary. We start by loading the DistilBERT tokeniser using the [Auto classes](https://huggingface.co/docs/transformers/v4.37.2/en/model_doc/auto):"
   ]
  },
  {
   "cell_type": "code",
   "execution_count": 72,
   "metadata": {},
   "outputs": [],
   "source": [
    "from transformers import AutoTokenizer\n",
    "\n",
    "TOKENIZER = AutoTokenizer.from_pretrained('distilbert-base-uncased')"
   ]
  },
  {
   "cell_type": "markdown",
   "metadata": {},
   "source": [
    "We can call the tokeniser on the example sentence as shown in the next cell. Note that we use the *is_split_into_words* keyword argument to indicate that the input is already pre-tokenised (split on whitespace)."
   ]
  },
  {
   "cell_type": "code",
   "execution_count": 73,
   "metadata": {},
   "outputs": [],
   "source": [
    "EXAMPLE_TOKENS = TOKENIZER(EXAMPLE_WORDS, is_split_into_words=True)"
   ]
  },
  {
   "cell_type": "markdown",
   "metadata": {},
   "source": [
    "The output of the tokeniser is an object of class [`BatchEncoding`](https://huggingface.co/docs/transformers/main_classes/tokenizer#transformers.BatchEncoding). The code in the following cell shows the list of tokens:"
   ]
  },
  {
   "cell_type": "code",
   "execution_count": 74,
   "metadata": {},
   "outputs": [
    {
     "data": {
      "text/plain": [
       "['[CLS]', 'i', 'like', 'yu', '##or', 'blog', '.', '[SEP]']"
      ]
     },
     "execution_count": 74,
     "metadata": {},
     "output_type": "execute_result"
    }
   ],
   "source": [
    "[TOKENIZER.decode(i) for i in EXAMPLE_TOKENS.input_ids]"
   ]
  },
  {
   "cell_type": "markdown",
   "metadata": {},
   "source": [
    "As you can see, the tokeniser adds the special tokens `[CLS]` and `[SEP]` and splits unknown words (here: the misspelled word *yuor*) into sub-word tokens. We will need to keep track of which tokens correspond to which word. To achieve that, we can use the method [`word_to_tokens()`](https://huggingface.co/docs/transformers/main_classes/tokenizer#transformers.BatchEncoding.word_to_tokens), which gets us the encoded token span (an object of class [`TokenSpan`](https://huggingface.co/docs/transformers/internal/tokenization_utils#transformers.TokenSpan)) corresponding to a word in a sequence of the input batch:"
   ]
  },
  {
   "cell_type": "code",
   "execution_count": 75,
   "metadata": {},
   "outputs": [
    {
     "name": "stdout",
     "output_type": "stream",
     "text": [
      "TokenSpan(start=1, end=2) -> I\n",
      "TokenSpan(start=2, end=3) -> like\n",
      "TokenSpan(start=3, end=5) -> yuor\n",
      "TokenSpan(start=5, end=6) -> blog\n",
      "TokenSpan(start=6, end=7) -> .\n"
     ]
    }
   ],
   "source": [
    "for i, word in enumerate(EXAMPLE_WORDS):\n",
    "    print(EXAMPLE_TOKENS.word_to_tokens(i), '->', word)"
   ]
  },
  {
   "cell_type": "markdown",
   "metadata": {},
   "source": [
    "Your first task is to code a function `encode()` that takes a tokeniser and a list of sentences and returns the tokeniser&rsquo;s encoded input as well as the corresponding token spans. The following cell contains skeleton code for this function."
   ]
  },
  {
   "cell_type": "code",
   "execution_count": 87,
   "metadata": {},
   "outputs": [],
   "source": [
    "from transformers import PreTrainedTokenizer, PreTrainedTokenizerFast\n",
    "from transformers import BatchEncoding, TokenSpan\n",
    "from typing import Iterable\n",
    "\n",
    "def encode(\n",
    "    tokenizer: PreTrainedTokenizer | PreTrainedTokenizerFast,\n",
    "    sentences: list[list[tuple[str, int]]],\n",
    ") -> Iterable[tuple[BatchEncoding, list[list[TokenSpan]]]]:\n",
    "    \"\"\"Encode a sequence of sentences.\"\"\"\n",
    "    split_sentence_list = [\n",
    "            [word for word, _ in sentence] for sentence in sentences\n",
    "        ]\n",
    "    tokens: BatchEncoding = tokenizer(split_sentence_list, is_split_into_words=True, padding=True, truncation=True, return_tensors=\"pt\" )\n",
    "    token_spans: list[list[TokenSpan]] = []\n",
    "    for i, _ in enumerate(split_sentence_list):\n",
    "        token_list: list[TokenSpan] = []\n",
    "        for j, _ in enumerate(split_sentence_list[i]):\n",
    "            token_list.append(tokens.word_to_tokens(i, j))\n",
    "        token_spans.append(token_list)\n",
    "\n",
    "    return tokens, token_spans"
   ]
  },
  {
   "cell_type": "markdown",
   "metadata": {},
   "source": [
    "Implement this function to match the following specification:\n",
    "\n",
    "**encode** (*tokenizer*, *sentences*):\n",
    "\n",
    "> Uses the specified *tokenizer* to encode a batch of parsed sentences (*sentences*). Returns a pair consisting of a [`BatchEncoding`](https://huggingface.co/docs/transformers/main_classes/tokenizer#transformers.BatchEncoding) and a matching batch of token spans (as explained above). The [`BatchEncoding`](https://huggingface.co/docs/transformers/main_classes/tokenizer#transformers.BatchEncoding) is the standard batch encoding, but with tensors instead of lists of Python integers. Sentences have been truncated to the maximum acceptable input length."
   ]
  },
  {
   "cell_type": "markdown",
   "metadata": {},
   "source": [
    "### 🤞 Test your code\n",
    "\n",
    "To test you code, call `encode()` on a small number of sentences and check that output matches your expectations."
   ]
  },
  {
   "cell_type": "code",
   "execution_count": 88,
   "metadata": {},
   "outputs": [
    {
     "name": "stdout",
     "output_type": "stream",
     "text": [
      "{'input_ids': tensor([[ 101, 1045, 2066, 9805, 2953, 9927, 1012,  102,    0,    0,    0,    0,\n",
      "            0,    0,    0,    0,    0,    0,    0,    0],\n",
      "        [ 101, 3531, 4638, 2041, 2026, 2040, 2292, 1996, 3899, 2041, 9927, 1012,\n",
      "          102,    0,    0,    0,    0,    0,    0,    0],\n",
      "        [ 101, 4931, 2008, 1005, 1055, 1037, 2307, 9927, 1010, 1045, 2036, 2031,\n",
      "         1037, 2609, 2055, 3050, 3349, 3784, 5306,  102]]), 'attention_mask': tensor([[1, 1, 1, 1, 1, 1, 1, 1, 0, 0, 0, 0, 0, 0, 0, 0, 0, 0, 0, 0],\n",
      "        [1, 1, 1, 1, 1, 1, 1, 1, 1, 1, 1, 1, 1, 0, 0, 0, 0, 0, 0, 0],\n",
      "        [1, 1, 1, 1, 1, 1, 1, 1, 1, 1, 1, 1, 1, 1, 1, 1, 1, 1, 1, 1]])}\n",
      "[[TokenSpan(start=1, end=2), TokenSpan(start=2, end=3), TokenSpan(start=3, end=5), TokenSpan(start=5, end=6), TokenSpan(start=6, end=7)], [TokenSpan(start=1, end=2), TokenSpan(start=2, end=3), TokenSpan(start=3, end=4), TokenSpan(start=4, end=5), TokenSpan(start=5, end=6), TokenSpan(start=6, end=7), TokenSpan(start=7, end=8), TokenSpan(start=8, end=9), TokenSpan(start=9, end=10), TokenSpan(start=10, end=11), TokenSpan(start=11, end=12)], [TokenSpan(start=1, end=2), TokenSpan(start=2, end=3), TokenSpan(start=3, end=5), TokenSpan(start=5, end=6), TokenSpan(start=6, end=7), TokenSpan(start=7, end=8), TokenSpan(start=8, end=9), TokenSpan(start=9, end=10), TokenSpan(start=10, end=11), TokenSpan(start=11, end=12), TokenSpan(start=12, end=13), TokenSpan(start=13, end=14), TokenSpan(start=14, end=15), TokenSpan(start=15, end=16), TokenSpan(start=16, end=17), TokenSpan(start=17, end=18), TokenSpan(start=18, end=19)]]\n",
      "('I', 'like', 'yuor', 'blog', '.')\n",
      "('Please', 'check', 'out', 'my', 'who', 'let', 'the', 'dog', 'out', 'blog', '.')\n",
      "('hey', 'that', \"'s\", 'a', 'great', 'blog', ',', 'I', 'also', 'have', 'a', 'site', 'about', 'los', 'angeles', 'online', 'dating')\n"
     ]
    }
   ],
   "source": [
    "\n",
    "TEST_WORDS: tuple[str] = list(zip(*TRAIN_DATA[531]))[0]\n",
    "TEST_HEADS: tuple[int]= list(zip(*TRAIN_DATA[531]))[1]\n",
    "token, token_spans = encode(TOKENIZER, TRAIN_DATA[531:534])\n",
    "print(token)\n",
    "print(token_spans)\n",
    "\n",
    "print(list(zip(*TRAIN_DATA[531]))[0])\n",
    "print(list(zip(*TRAIN_DATA[532]))[0])\n",
    "print(list(zip(*TRAIN_DATA[533]))[0])"
   ]
  },
  {
   "cell_type": "markdown",
   "metadata": {},
   "source": [
    "## Problem 2: Merging tokens (4 points)"
   ]
  },
  {
   "cell_type": "markdown",
   "metadata": {},
   "source": [
    "DistilBERT gives us a representation for each *token* in a sentence. To compute scores between pairs of *words*, we will need to combine the token representations that correspond to each word. A standard strategy for this is to take their element-wise mean. The next cell contains skeleton code for a function `merge_tokens()` that implements this strategy."
   ]
  },
  {
   "cell_type": "code",
   "execution_count": 89,
   "metadata": {},
   "outputs": [],
   "source": [
    "from torch import Tensor\n",
    "\n",
    "def merge_tokens(tokens: Tensor, token_spans: list[list[TokenSpan]]):\n",
    "    \"\"\"\n",
    "    tokens: Tensor[batch_size, num_tokens, hidden_dim]\n",
    "    token_spans_list: list[list[TokenSpan]]\n",
    "    return word_level_representations: Tensor[batch_size, max_num_words, hidden_dim]\n",
    "    \"\"\"\n",
    "    batch_size, num_tokens, hidden_dim = tokens.shape\n",
    "    max_num_words = max(len(token_span) for token_span in token_spans)\n",
    "    word_level_representations = tokens.new_zeros(batch_size, max_num_words, hidden_dim)\n",
    "\n",
    "    for i, token_span in enumerate(\n",
    "        token_spans\n",
    "    ):  # Iterate through each sentence in the batch\n",
    "        for j, (start, end) in enumerate(\n",
    "            token_span\n",
    "        ):  # Iterate through each word's span in the sentence\n",
    "            # Calculate the mean of the tokens for this word. Note that `end` is exclusive, so we add 1 to include it.\n",
    "            word_tensor = tokens[i, start : end + 1].mean(dim=0)\n",
    "            # Assign the mean tensor to the correct position in the word-level representations tensor.\n",
    "            word_level_representations[i, j] = word_tensor\n",
    "\n",
    "    return word_level_representations"
   ]
  },
  {
   "cell_type": "markdown",
   "metadata": {},
   "source": [
    "Implement this function to match the following specification:\n",
    "\n",
    "**merge_tokens** (*tokens*, *token_spans*)\n",
    "\n",
    "> Takes a batch of token vectors (*tokens*) and a list of matching token spans (*token_spans*) and returns a batch of word-level representations, computed using the element-wise mean. The token vectors are a tensor of shape (*batch_size*, *num_tokens*, *hidden_dim*), where *hidden_dim* is the dimensionality of the DistilBERT representations. The token spans are a nested list containing integer pairs, as computed in Problem&nbsp;1. The result is a tensor of shape (*batch_size*, *max_num_words*, *hidden_dim*), where *max_num_words* denotes the maximum number of words in any sentence in the batch. Entries corresponding to padding are represented by the zero vector of size *hidden_dim*."
   ]
  },
  {
   "cell_type": "markdown",
   "metadata": {},
   "source": [
    "### 🤞 Test your code\n",
    "\n",
    "To test you code, create a sample input to `merge_tokens()` and check that the output matches your expectations."
   ]
  },
  {
   "cell_type": "code",
   "execution_count": 90,
   "metadata": {},
   "outputs": [
    {
     "name": "stdout",
     "output_type": "stream",
     "text": [
      "max_num_words:  5\n",
      "out_shape:  torch.Size([1, 5, 3])\n",
      "out:  tensor([[[0.2570, 0.6754, 0.5863],\n",
      "         [0.4573, 0.7327, 0.7795],\n",
      "         [0.5099, 0.3058, 0.6656],\n",
      "         [0.6300, 0.1003, 0.6646],\n",
      "         [0.4914, 0.1425, 0.7989]]])\n"
     ]
    }
   ],
   "source": [
    "import torch\n",
    "\n",
    "# define random tokens tensor\n",
    "tokens = torch.rand(1, 1000, 3)\n",
    "\n",
    "sentences = TRAIN_DATA[531:532]\n",
    "\n",
    "# create token_spans\n",
    "_, token_spans = encode(TOKENIZER, sentences)\n",
    "\n",
    "# Verify that the shape of the output is according to (batch_size, max_num_words, hidden_dim)\n",
    "max_num_words = max(len(token_span) for token_span in token_spans)\n",
    "out = merge_tokens(tokens, token_spans)\n",
    "\n",
    "print(\"max_num_words: \", max_num_words)\n",
    "print(\"out_shape: \", out.shape)\n",
    "print(\"out: \", out)"
   ]
  },
  {
   "cell_type": "markdown",
   "metadata": {},
   "source": [
    "## Problem 3: Biaffine layer (2 points)"
   ]
  },
  {
   "cell_type": "markdown",
   "metadata": {},
   "source": [
    "Your next task is to implement the bi-affine layer. Given matrices $X \\in \\mathbb{R}^{m \\times d}$ and $X' \\in \\mathbb{R}^{n \\times d}$, this layer computes a matrix $Y \\in \\mathbb{R}^{m \\times n}$ as"
   ]
  },
  {
   "cell_type": "markdown",
   "metadata": {},
   "source": [
    "$$\n",
    "Y = X W X'{}^\\top + b\n",
    "$$"
   ]
  },
  {
   "cell_type": "markdown",
   "metadata": {},
   "source": [
    "where $W \\in \\mathbb{R}^{d \\times d}$ and $b \\in \\mathbb{R}$ are learnable weight and bias parameters. In the context of the dependency parser, the matrices $X$ and $X'$ hold the word representations of all dependents and all heads in the input sentence, and the entries of the matrix $Y$ are interpreted as scores of possible dependency arcs. More specifically, the entry $Y_{ij}$ represents the score of an arc from a head word at position&nbsp;$j$ to a dependent at position&nbsp;$i$."
   ]
  },
  {
   "cell_type": "markdown",
   "metadata": {},
   "source": [
    "\n",
    "The following cell contains skeleton code for the implementation of the bi-affine layer. Implement this layer according to the specification above."
   ]
  },
  {
   "cell_type": "code",
   "execution_count": 80,
   "metadata": {},
   "outputs": [],
   "source": [
    "import torch.nn as nn\n",
    "\n",
    "class Biaffine(nn.Module):\n",
    "\n",
    "    def __init__(self, encoder_dim):\n",
    "        super().__init__()\n",
    "        # Weight matrix for the bi-affine transformation, shape: (d, d)\n",
    "        self.weight = nn.Parameter(torch.rand(encoder_dim, encoder_dim))\n",
    "        # Bias term\n",
    "        self.bias = nn.Parameter(torch.rand(1))\n",
    "\n",
    "    def forward(self, x1: torch.Tensor, x2: torch.Tensor) -> torch.Tensor:\n",
    "\n",
    "        y = x1 @ self.weight @ x2.transpose(1, 2) + self.bias\n",
    "\n",
    "        return y # shape: (batch_size, m, n)"
   ]
  },
  {
   "cell_type": "markdown",
   "metadata": {},
   "source": [
    "**⚠️ Note that your implementation should be able to handle *batches* of input sentences.**"
   ]
  },
  {
   "cell_type": "markdown",
   "metadata": {},
   "source": [
    "### 🤞 Test your code\n",
    "\n",
    "To test you code, create a sample input to the bi-affine layer as well as suitable weights and biases and check that the output of the `forward` method matches your expectations"
   ]
  },
  {
   "cell_type": "code",
   "execution_count": 81,
   "metadata": {},
   "outputs": [
    {
     "name": "stdout",
     "output_type": "stream",
     "text": [
      "torch.Size([2, 10, 8])\n"
     ]
    }
   ],
   "source": [
    "# define random word-level representations tensor\n",
    "word_level_representations = torch.rand(2, 10, 3)\n",
    "word_level_representations2 = torch.rand(2, 8, 3)\n",
    "# create the biaffine model\n",
    "biaffine = Biaffine(encoder_dim=3)\n",
    "# calculate the output\n",
    "out = biaffine(word_level_representations, word_level_representations2)\n",
    "# print the output shape\n",
    "print(out.shape) # torch.Size([2, 10, 8])"
   ]
  },
  {
   "cell_type": "markdown",
   "metadata": {},
   "source": [
    "## Problem 4: Parser (6 points)"
   ]
  },
  {
   "cell_type": "markdown",
   "metadata": {},
   "source": [
    "We are now ready to put the two main components of the parser together: the encoder (DistilBert) and the bi-affine layer that computes the arc scores. We also add a dropout layer between the two components.\n",
    "\n",
    "The following code cell contains skeleton code for the parsing model with the `init()` method already complete. Your task is to implement the `forward()` method. If you are unsure how things should be wired up, have another look at the slides."
   ]
  },
  {
   "cell_type": "code",
   "execution_count": 119,
   "metadata": {},
   "outputs": [],
   "source": [
    "import torch.nn as nn\n",
    "import torch\n",
    "\n",
    "from transformers import DistilBertModel, DistilBertPreTrainedModel\n",
    "\n",
    "class DistilBertForParsing(DistilBertPreTrainedModel):\n",
    "\n",
    "    def __init__(self, config, dropout=0.1):\n",
    "        super().__init__(config)\n",
    "        self.config = config\n",
    "        self.distilbert = DistilBertModel(config)\n",
    "        self.dropout = nn.Dropout(dropout)\n",
    "        self.biaffine = Biaffine(config.hidden_size)\n",
    "\n",
    "    def forward(self, encoded_input: BatchEncoding, token_spans: list[list[TokenSpan]]) -> torch.Tensor:\n",
    "        # Encode the input\n",
    "        bert_outputs = self.distilbert(**encoded_input)\n",
    "        # Merge the tokens\n",
    "        word_representations: torch.Tensor = self.dropout(\n",
    "            merge_tokens(bert_outputs.last_hidden_state, token_spans)\n",
    "        )  # shape: (batch_size, max_num_words, hidden_dim)\n",
    "        # Compute the scores\n",
    "        scores = self.biaffine(word_representations, word_representations) # shape: (batch_size, max_num_words, max_num_words)\n",
    "        batch_size, num_words, _ = scores.shape\n",
    "        # concatenate the scores\n",
    "        root_scores = torch.cat([torch.zeros(batch_size, num_words, 1, device=scores.device), scores], dim=2)\n",
    "        return root_scores"
   ]
  },
  {
   "cell_type": "markdown",
   "metadata": {},
   "source": [
    "Implement the `forward()` method to match the following specification:\n",
    "\n",
    "**forward** (*encoded_input*, *token_spans*)\n",
    "\n",
    "> Takes a tokeniser-encoded batch of sentences (*encoded_input*, of type `BatchEncoding`) and a corresponding nested list of token spans (*token_spans*) and returns a tensor with scores for each pair of words. More specifically, the output tensor $Y$ has shape (*batch_size*, *num_words*, *num_words+1*), where the entry $Y_{bij}$ represents the score of an arc from a head word at position&nbsp;$j$ to a dependent at position&nbsp;$i$ in the $b$ th sentence of the batch. Note that the number of possible heads is one greater than the number of possible dependents because the possible heads include the root of the dependency tree, which we represent using the special token `[CLS]` (at position&nbsp;0)."
   ]
  },
  {
   "cell_type": "markdown",
   "metadata": {},
   "source": [
    "### 🤞 Test your code\n",
    "\n",
    "To test you code, instantiate the parsing model and feed it a small batch of sentences."
   ]
  },
  {
   "cell_type": "code",
   "execution_count": 103,
   "metadata": {},
   "outputs": [
    {
     "name": "stderr",
     "output_type": "stream",
     "text": [
      "Some weights of DistilBertForParsing were not initialized from the model checkpoint at distilbert-base-uncased and are newly initialized: ['biaffine.bias', 'biaffine.weight']\n",
      "You should probably TRAIN this model on a down-stream task to be able to use it for predictions and inference.\n"
     ]
    },
    {
     "name": "stdout",
     "output_type": "stream",
     "text": [
      "torch.Size([1, 5, 6])\n",
      "tensor([[[  0.0000,  21.2199, -18.1616,  -9.6085,   7.9366,   5.1462],\n",
      "         [  0.0000,  -2.1227, -31.7706, -30.6391, -19.9177, -14.3138],\n",
      "         [  0.0000, -14.5039, -40.6902, -40.9203, -39.6015, -23.8947],\n",
      "         [  0.0000,   4.4249, -27.6808, -25.8451,  -6.6464,   8.7808],\n",
      "         [  0.0000,  17.7217, -18.1804, -25.1644,   6.8556,  43.6027]]],\n",
      "       grad_fn=<CatBackward0>)\n",
      "[('I', 2), ('like', 0), ('yuor', 4), ('blog', 2), ('.', 2)]\n"
     ]
    }
   ],
   "source": [
    "# create the model\n",
    "model = DistilBertForParsing.from_pretrained(\"distilbert-base-uncased\")\n",
    "\n",
    "sentences = TRAIN_DATA[531:532]\n",
    "\n",
    "# create the input\n",
    "encoded_input, token_spans = encode(TOKENIZER, sentences)\n",
    "\n",
    "out = model.forward(encoded_input, token_spans)\n",
    "print(out.shape) # torch.Size([1, 10, 11])\n",
    "print(out) # shape: (batch_size, max_num_words, max_num_words + 1)\n",
    "\n",
    "for sentence in sentences:\n",
    "    print(sentence)\n",
    "\n",
    "\n"
   ]
  },
  {
   "cell_type": "markdown",
   "metadata": {},
   "source": [
    "## Data loader"
   ]
  },
  {
   "cell_type": "markdown",
   "metadata": {},
   "source": [
    "We are now almost ready to train the parser. The missing piece is a data collator that prepares a batch of parsed sentences:\n",
    "\n",
    "* tokenises the sentences and extracts token spans using `encode()` (Problem&nbsp;1)\n",
    "* constructs the ground-truth head tensor needed to compute the loss (Problem&nbsp;2)\n",
    "\n",
    "The code in the next cell implements these two steps. For pseudo-words introduced through padding, we assign a head position of −100. This value is ignored by PyTorch’s cross-entropy loss function."
   ]
  },
  {
   "cell_type": "code",
   "execution_count": 104,
   "metadata": {},
   "outputs": [],
   "source": [
    "import torch\n",
    "\n",
    "class ParserBatcher(object):\n",
    "\n",
    "    def __init__(self, tokenizer, device=None):\n",
    "        self.tokenizer = tokenizer\n",
    "        self.device = device\n",
    "\n",
    "    def __call__(self, parser_inputs):\n",
    "        encoded_input, start_indices = encode(self.tokenizer, parser_inputs)\n",
    "\n",
    "        # Get the maximal number of words, for padding\n",
    "        max_num_words = max(len(s) for s in parser_inputs)\n",
    "\n",
    "        # Construct tensor containing the ground-truth heads\n",
    "        all_heads = []\n",
    "        for parser_input in parser_inputs:\n",
    "            words, heads = zip(*parser_input)\n",
    "            heads = list(heads)\n",
    "            heads.extend([-100] * (max_num_words - len(heads)))  # -100 will be ignored\n",
    "            all_heads.append(heads)\n",
    "        all_heads = torch.LongTensor(all_heads)\n",
    "\n",
    "        # Send all data to the specified device\n",
    "        if self.device:\n",
    "            encoded_input = encoded_input.to(self.device)\n",
    "            all_heads = all_heads.to(self.device)\n",
    "\n",
    "        return encoded_input, start_indices, all_heads"
   ]
  },
  {
   "cell_type": "markdown",
   "metadata": {},
   "source": [
    "## Training loop"
   ]
  },
  {
   "cell_type": "markdown",
   "metadata": {},
   "source": [
    "Finally, here is the training loop of the parser. Most of it is quite standard. The training loss of the parser is the cross-entropy between the head scores and the ground truth head positions. In other words, the parser is trained as a classifier that predicts the position of each word&rsquo;s head."
   ]
  },
  {
   "cell_type": "code",
   "execution_count": 105,
   "metadata": {},
   "outputs": [],
   "source": [
    "import torch.nn.functional as F\n",
    "\n",
    "from torch.optim import Adam\n",
    "from torch.utils.data import DataLoader\n",
    "from tqdm import tqdm\n",
    "\n",
    "DEVICE = torch.device('cuda' if torch.cuda.is_available() else 'cpu')\n",
    "\n",
    "DEVICE = torch.device('mps')\n",
    "\n",
    "def train(dataset, n_epochs=1, lr=1e-5, batch_size=8):\n",
    "    # Initialise the tokeniser\n",
    "    tokenizer = AutoTokenizer.from_pretrained('distilbert-base-uncased')\n",
    "\n",
    "    # Initialise the encoder\n",
    "    model = DistilBertForParsing.from_pretrained('distilbert-base-uncased').to(DEVICE)\n",
    "\n",
    "    # Initialise the data loader\n",
    "    data_loader = DataLoader(dataset, batch_size=batch_size, collate_fn=ParserBatcher(tokenizer, device=DEVICE))\n",
    "\n",
    "    # Initialise the optimiser\n",
    "    optimizer = Adam(model.parameters(), lr=lr)\n",
    "\n",
    "    # Train for the specified number of epochs\n",
    "    for epoch in range(n_epochs):\n",
    "        model.train()\n",
    "\n",
    "        # We keep track of the running loss\n",
    "        running_loss = 0\n",
    "        n_batches = 0\n",
    "        with tqdm(total=len(dataset)) as pbar:\n",
    "            pbar.set_description(f'Epoch {epoch+1}')\n",
    "\n",
    "            # Process a batch of samples\n",
    "            for encoded_input, token_spans, gold_heads in data_loader:\n",
    "                optimizer.zero_grad()\n",
    "\n",
    "                # Compute the arc scores\n",
    "                arc_scores = model.forward(encoded_input, token_spans)\n",
    "                # shape: [batch_size, num_words, num_words+1]\n",
    "\n",
    "                # Flatten arc_scores and gold_heads for cross_entropy\n",
    "                loss = F.cross_entropy(arc_scores.flatten(0, -2), gold_heads.view(-1))\n",
    "                # shape of the flattened arc_scores: [batch_size * num_words, num_words+1]\n",
    "                # shape of the flattened gold_heads: [batch_size * num_words]\n",
    "\n",
    "                # Backward pass\n",
    "                loss.backward()\n",
    "                optimizer.step()\n",
    "\n",
    "                # Update the loss\n",
    "                running_loss += loss.item()\n",
    "                n_batches += 1\n",
    "                pbar.set_postfix(loss=running_loss/n_batches)\n",
    "                pbar.update(len(token_spans))\n",
    "\n",
    "    return model"
   ]
  },
  {
   "cell_type": "markdown",
   "metadata": {},
   "source": [
    "We are now ready to train the parser. With a GPU, you should expect training times of approximately 3&nbsp;minutes per epoch."
   ]
  },
  {
   "cell_type": "code",
   "execution_count": 107,
   "metadata": {},
   "outputs": [
    {
     "name": "stderr",
     "output_type": "stream",
     "text": [
      "Some weights of DistilBertForParsing were not initialized from the model checkpoint at distilbert-base-uncased and are newly initialized: ['biaffine.bias', 'biaffine.weight']\n",
      "You should probably TRAIN this model on a down-stream task to be able to use it for predictions and inference.\n",
      "Epoch 1: 100%|██████████| 12544/12544 [06:03<00:00, 34.52it/s, loss=2.58]\n"
     ]
    }
   ],
   "source": [
    "PARSING_MODEL = train(TRAIN_DATA, n_epochs=1)"
   ]
  },
  {
   "cell_type": "code",
   "execution_count": 108,
   "metadata": {},
   "outputs": [
    {
     "name": "stderr",
     "output_type": "stream",
     "text": [
      "Some weights of DistilBertForParsing were not initialized from the model checkpoint at distilbert-base-uncased and are newly initialized: ['biaffine.bias', 'biaffine.weight']\n",
      "You should probably TRAIN this model on a down-stream task to be able to use it for predictions and inference.\n",
      "Epoch 1: 100%|██████████| 12544/12544 [05:40<00:00, 36.87it/s, loss=3.08]\n",
      "Epoch 2: 100%|██████████| 12544/12544 [05:51<00:00, 35.74it/s, loss=1.93]\n"
     ]
    }
   ],
   "source": [
    "PARSING_MODEL2 = train(TRAIN_DATA, n_epochs=2)"
   ]
  },
  {
   "cell_type": "markdown",
   "metadata": {},
   "source": [
    "## Problem 5: Evaluation (2 points)"
   ]
  },
  {
   "cell_type": "markdown",
   "metadata": {},
   "source": [
    "Dependency parsers are commonly evaluated using **unlabelled attachment score (UAS)**, which is the percentage of (non-root) words that have been assigned their correct heads. The following cell contains skeleton code for a function `uas()` that computes this score on a given dataset."
   ]
  },
  {
   "cell_type": "code",
   "execution_count": 169,
   "metadata": {},
   "outputs": [],
   "source": [
    "def uas(\n",
    "    tokenizer: PreTrainedTokenizer | PreTrainedTokenizerFast,\n",
    "    model: DistilBertForParsing,\n",
    "    filename: str,\n",
    "    batch_size: int = 8,\n",
    ") -> float:\n",
    "    # Load the test dataset\n",
    "    test_dataset = ParserDataset(filename)\n",
    "    # Initialise the data loader\n",
    "    data_loader = DataLoader(test_dataset, batch_size=batch_size, collate_fn=ParserBatcher(tokenizer, device=DEVICE))\n",
    "    # Set the model to evaluation mode\n",
    "    model.eval()\n",
    "    # We keep track of the running UAS\n",
    "    running_uas = 0\n",
    "    total_tokens = 0\n",
    "\n",
    "    for batch in data_loader:\n",
    "        tokens, token_spans, true_heads = batch  # Unpack the batch\n",
    "        \n",
    "        # Forward pass, no gradient calculation needed\n",
    "        with torch.no_grad():\n",
    "            outputs = model.forward(tokens, token_spans)\n",
    "        \n",
    "        predicted_heads = outputs.argmax(-1)\n",
    "        #print(predicted_heads.shape, true_heads.shape, attention_mask.shape)\n",
    "        mask = true_heads.ne(-100)\n",
    "        correct = (predicted_heads == true_heads)\n",
    "        running_uas += correct.sum().item()\n",
    "        total_tokens += mask.sum().item() - 2 # Count the number of non-padding tokens\n",
    "    \n",
    "    # Calculate UAS\n",
    "    uas_score = running_uas / total_tokens if total_tokens > 0 else 0.0\n",
    "\n",
    "    return uas_score"
   ]
  },
  {
   "cell_type": "markdown",
   "metadata": {},
   "source": [
    "Implement the `uas()` function to match the following specification:\n",
    "\n",
    "**uas** (*tokenizer*, *model*, *filename*)\n",
    "\n",
    "> Takes a tokenizer (*tokenizer*), a trained parsing model (*model*), and the filename of a dataset in the CoNLLU format (*filename*) and returns the unlabelled attachment score of the model on the tokenised dataset."
   ]
  },
  {
   "cell_type": "markdown",
   "metadata": {},
   "source": [
    "**⚠️ Note that pseudo-words corresponding to padding must be excluded from the calculation of the UAS.**"
   ]
  },
  {
   "cell_type": "markdown",
   "metadata": {},
   "source": [
    "The code in the following cell evaluates the trained parser on the development section of the data:"
   ]
  },
  {
   "cell_type": "code",
   "execution_count": 170,
   "metadata": {},
   "outputs": [
    {
     "data": {
      "text/plain": [
       "0.549154055260275"
      ]
     },
     "execution_count": 170,
     "metadata": {},
     "output_type": "execute_result"
    }
   ],
   "source": [
    "uas(TOKENIZER, PARSING_MODEL2, 'en_ewt-ud-dev.conllu')"
   ]
  },
  {
   "cell_type": "markdown",
   "metadata": {},
   "source": [
    "**Your notebook must contain output demonstrating at least 86% UAS on the development data.**"
   ]
  },
  {
   "cell_type": "markdown",
   "metadata": {},
   "source": [
    "## Problem 6: Counting trees (6 points)"
   ]
  },
  {
   "cell_type": "markdown",
   "metadata": {},
   "source": [
    "In the last problem of this lab, we ask you to take a closer look at the graph-theoretic properties of the outputs of your trained model.\n",
    "\n",
    "The following cell contains code that will use the tokeniser and your trained model to parse the development data and write the gold-standard dependency trees as well as the dependency trees predicted by the parser to a JSON file:"
   ]
  },
  {
   "cell_type": "code",
   "execution_count": 165,
   "metadata": {},
   "outputs": [],
   "source": [
    "import json\n",
    "\n",
    "dataset = ParserDataset('en_ewt-ud-dev.conllu')\n",
    "data_loader = DataLoader(dataset, collate_fn=ParserBatcher(TOKENIZER, device=DEVICE))\n",
    "\n",
    "with open('graphs.jsonl', 'wt') as fp:\n",
    "    for encoded_input, token_spans, gold_heads in data_loader:\n",
    "        with torch.no_grad():\n",
    "            head_scores = PARSING_MODEL2.forward(encoded_input, token_spans)\n",
    "            pred_heads = torch.argmax(head_scores, dim=-1)\n",
    "        for gold, pred in zip(gold_heads, pred_heads):\n",
    "            mask = gold.ne(-100)\n",
    "            print(json.dumps((gold[mask].tolist(), pred[mask].tolist())), file=fp)"
   ]
  },
  {
   "cell_type": "markdown",
   "metadata": {},
   "source": [
    "The lab directory contains a script `analyze.py` that you can use to compute statistics on various graph-theoretic properties: total number of graphs, number of acyclic graphs, connected graphs, trees, and projective trees. Document your exploration in a short reflection piece (ca.&nbsp;150 words). Respond to the following prompts\n",
    "\n",
    "* What are the results of this exploration? Summarise the statistics you obtained.\n",
    "* Based on what you know about the parser, did you expect your results? Was there anything surprising in them?\n",
    "* What did you learn? How, exactly, did you learn it? Why does this learning matter?"
   ]
  },
  {
   "cell_type": "markdown",
   "metadata": {},
   "source": [
    "We expect there to be no cycles in any of the graphs since we should only have one root. Furthermore all graphs should be connected since any word in the sentence should be reachable from the root. That also means that we expect all sentences to be trees since you should be able to reach any word in the sentence from the root. \n",
    "\n",
    "we got the following results: \n",
    "\n",
    "{'total': 2001, 'gold': {'acyclic': 2001, 'connected': 2001, 'tree': 2001, 'projective': 1959}, 'pred': {'acyclic': 2001, 'connected': 493, 'tree': 493, 'projective': 431}}\n",
    "\n",
    "We can see here that all sentences were indeed acyclic which is inline with expectations. However, not as many sentences were connected and thus also not trees. \n",
    "\n",
    "We expected the parser to have some imperfections since it still is stochastic, although our implementation seems to have been on the lower end compared to the bench-marks presented in the slides. This could be due to insufficient amount of training or some inefficiency in the implementation. \n",
    "\n",
    "We learned about how to implement a dependency parser by implementing it and subsequently evaluating its performance. This is important since it not only gives an insight into how dependecy parsing works, but also acts as a general introduction to the field of syntactic parsing which will be useful for future studies. An example in the near future being the project. "
   ]
  },
  {
   "cell_type": "markdown",
   "metadata": {},
   "source": [
    "**🥳 Congratulations on finishing this lab! 🥳**"
   ]
  },
  {
   "cell_type": "markdown",
   "metadata": {},
   "source": []
  }
 ],
 "metadata": {
  "accelerator": "GPU",
  "colab": {
   "collapsed_sections": [],
   "name": "BERT_Parser Panic.ipynb",
   "provenance": []
  },
  "kernelspec": {
   "display_name": "Python 3 (ipykernel)",
   "language": "python",
   "name": "python3"
  },
  "language_info": {
   "codemirror_mode": {
    "name": "ipython",
    "version": 3
   },
   "file_extension": ".py",
   "mimetype": "text/x-python",
   "name": "python",
   "nbconvert_exporter": "python",
   "pygments_lexer": "ipython3",
   "version": "3.11.6"
  }
 },
 "nbformat": 4,
 "nbformat_minor": 1
}
