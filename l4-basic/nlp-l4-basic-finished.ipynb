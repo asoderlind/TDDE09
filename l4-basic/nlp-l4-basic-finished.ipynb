{
  "cells": [
    {
      "cell_type": "markdown",
      "metadata": {
        "id": "3WsPpeIQUIIH"
      },
      "source": [
        "# L4: Dependency parsing"
      ]
    },
    {
      "cell_type": "markdown",
      "metadata": {
        "id": "5aAvpRzGUIII"
      },
      "source": [
        "In this lab, you will implement a simplified version of the dependency parser presented by [Glavaš and Vulić (2021)](http://dx.doi.org/10.18653/v1/2021.eacl-main.270). This parser consists of a transformer encoder followed by a bi-affine layer that computes arc scores for all pairs of words. These scores are then used as logits in a classifier that predicts the position of the head of each word. In contrast to the parser described in the paper, yours will only support unlabelled parsing, that is, you will not implement what the authors call a *relation classifier*. As the encoder, you will use the [uncased DistilBERT base model](https://huggingface.co/docs/transformers/model_doc/distilbert) from the [Transformers](https://huggingface.co/docs/transformers/main/en/index) library, even though every other BERT-based encoder should work equally well."
      ]
    },
    {
      "cell_type": "code",
      "source": [
        "!pip3 install transformers conllu\n",
        "import torch"
      ],
      "metadata": {
        "id": "F8byjzFeUONp",
        "outputId": "a62e3323-a1ac-4508-9bd4-21719d367807",
        "colab": {
          "base_uri": "https://localhost:8080/"
        }
      },
      "execution_count": 9,
      "outputs": [
        {
          "output_type": "stream",
          "name": "stdout",
          "text": [
            "Requirement already satisfied: transformers in /usr/local/lib/python3.10/dist-packages (4.35.2)\n",
            "Requirement already satisfied: conllu in /usr/local/lib/python3.10/dist-packages (4.5.3)\n",
            "Requirement already satisfied: filelock in /usr/local/lib/python3.10/dist-packages (from transformers) (3.13.1)\n",
            "Requirement already satisfied: huggingface-hub<1.0,>=0.16.4 in /usr/local/lib/python3.10/dist-packages (from transformers) (0.20.3)\n",
            "Requirement already satisfied: numpy>=1.17 in /usr/local/lib/python3.10/dist-packages (from transformers) (1.25.2)\n",
            "Requirement already satisfied: packaging>=20.0 in /usr/local/lib/python3.10/dist-packages (from transformers) (23.2)\n",
            "Requirement already satisfied: pyyaml>=5.1 in /usr/local/lib/python3.10/dist-packages (from transformers) (6.0.1)\n",
            "Requirement already satisfied: regex!=2019.12.17 in /usr/local/lib/python3.10/dist-packages (from transformers) (2023.12.25)\n",
            "Requirement already satisfied: requests in /usr/local/lib/python3.10/dist-packages (from transformers) (2.31.0)\n",
            "Requirement already satisfied: tokenizers<0.19,>=0.14 in /usr/local/lib/python3.10/dist-packages (from transformers) (0.15.2)\n",
            "Requirement already satisfied: safetensors>=0.3.1 in /usr/local/lib/python3.10/dist-packages (from transformers) (0.4.2)\n",
            "Requirement already satisfied: tqdm>=4.27 in /usr/local/lib/python3.10/dist-packages (from transformers) (4.66.2)\n",
            "Requirement already satisfied: fsspec>=2023.5.0 in /usr/local/lib/python3.10/dist-packages (from huggingface-hub<1.0,>=0.16.4->transformers) (2023.6.0)\n",
            "Requirement already satisfied: typing-extensions>=3.7.4.3 in /usr/local/lib/python3.10/dist-packages (from huggingface-hub<1.0,>=0.16.4->transformers) (4.9.0)\n",
            "Requirement already satisfied: charset-normalizer<4,>=2 in /usr/local/lib/python3.10/dist-packages (from requests->transformers) (3.3.2)\n",
            "Requirement already satisfied: idna<4,>=2.5 in /usr/local/lib/python3.10/dist-packages (from requests->transformers) (3.6)\n",
            "Requirement already satisfied: urllib3<3,>=1.21.1 in /usr/local/lib/python3.10/dist-packages (from requests->transformers) (2.0.7)\n",
            "Requirement already satisfied: certifi>=2017.4.17 in /usr/local/lib/python3.10/dist-packages (from requests->transformers) (2024.2.2)\n"
          ]
        }
      ]
    },
    {
      "cell_type": "code",
      "source": [
        "device = torch.device('cuda' if torch.cuda.is_available() else 'cpu')\n",
        "device"
      ],
      "metadata": {
        "id": "wsp0Bb3MVR2g",
        "outputId": "25226b22-94d5-4425-9029-90af385a6402",
        "colab": {
          "base_uri": "https://localhost:8080/"
        }
      },
      "execution_count": 10,
      "outputs": [
        {
          "output_type": "execute_result",
          "data": {
            "text/plain": [
              "device(type='cuda')"
            ]
          },
          "metadata": {},
          "execution_count": 10
        }
      ]
    },
    {
      "cell_type": "markdown",
      "metadata": {
        "id": "8oQfABgoUIII"
      },
      "source": [
        "## Dataset"
      ]
    },
    {
      "cell_type": "markdown",
      "metadata": {
        "id": "xSKoM5xmUIIJ"
      },
      "source": [
        "The data for this lab comes from the English Web Treebank from the [Universal Dependencies Project](http://universaldependencies.org). To read the data, we use the [CoNLL-U Parser](https://pypi.org/project/conllu/) library. The code in the next cell defines a PyTorch [Dataset](https://pytorch.org/docs/stable/data.html#torch.utils.data.Dataset) wrapper for the data."
      ]
    },
    {
      "cell_type": "code",
      "execution_count": 11,
      "metadata": {
        "id": "NiUFu2rmUIIJ"
      },
      "outputs": [],
      "source": [
        "import conllu\n",
        "\n",
        "from torch.utils.data import Dataset\n",
        "\n",
        "class ParserDataset(Dataset):\n",
        "\n",
        "    def __init__(self, filename):\n",
        "        super().__init__()\n",
        "        self.items = []\n",
        "        with open(filename, 'rt', encoding='utf-8') as fp:\n",
        "            for tokens in conllu.parse_incr(fp):\n",
        "                self.items.append([(t['form'], t['head']) for t in tokens if isinstance(t['id'], int)])\n",
        "\n",
        "    def __len__(self):\n",
        "        return len(self.items)\n",
        "\n",
        "    def __getitem__(self, idx):\n",
        "        return self.items[idx]"
      ]
    },
    {
      "cell_type": "markdown",
      "metadata": {
        "id": "WHm9PkAlUIIK"
      },
      "source": [
        "We can now load the training data:"
      ]
    },
    {
      "cell_type": "code",
      "execution_count": 12,
      "metadata": {
        "id": "3SGNS8cCUIIK"
      },
      "outputs": [],
      "source": [
        "TRAIN_DATA = ParserDataset('en_ewt-ud-train.conllu')"
      ]
    },
    {
      "cell_type": "markdown",
      "metadata": {
        "id": "bTDv3X0ZUIIK"
      },
      "source": [
        "Our data consists of **parsed sentences**. A parsed sentence is represented as a list of pairs. The first component of each pair (a string) represents a word; the second component (an integer) specifies the position of the word’s head, i.e., its parent in the dependency tree. Note that word positions are numbered starting at&nbsp;1; the head position&nbsp;0 represents the root of the tree.\n",
        "\n",
        "Run the next cell to see an example sentence:"
      ]
    },
    {
      "cell_type": "code",
      "execution_count": 13,
      "metadata": {
        "id": "e2cXRNeiUIIK",
        "outputId": "667aabf4-e986-4334-9f59-11946ba7223e",
        "colab": {
          "base_uri": "https://localhost:8080/"
        }
      },
      "outputs": [
        {
          "output_type": "execute_result",
          "data": {
            "text/plain": [
              "(('I', 'like', 'yuor', 'blog', '.'), (2, 0, 4, 2, 2))"
            ]
          },
          "metadata": {},
          "execution_count": 13
        }
      ],
      "source": [
        "EXAMPLE_WORDS: tuple[str] = list(zip(*TRAIN_DATA[531]))[0]\n",
        "EXAMPLE_HEADS: tuple[int] = list(zip(*TRAIN_DATA[531]))[1]\n",
        "\n",
        "EXAMPLE_WORDS, EXAMPLE_HEADS"
      ]
    },
    {
      "cell_type": "markdown",
      "metadata": {
        "id": "gLV79pceUIIL"
      },
      "source": [
        "The example sentence consists of five whitespace-separated words, including the final punctuation mark. The head of the pronoun *I* is the word at position&nbsp;2 – the verb *like*. The head of the word *like* is the root of the tree (position&nbsp;0). The dependents of *like* are *I* (position&nbsp;1), the noun *blog* (position&nbsp;4), and the final punctuation mark. Note that the pronoun *your* (position&nbsp;3) is misspelled as *yuor*."
      ]
    },
    {
      "cell_type": "markdown",
      "metadata": {
        "id": "Vo6qcCREUIIM"
      },
      "source": [
        "## Problem 1: Tokenisation (2 points)"
      ]
    },
    {
      "cell_type": "markdown",
      "metadata": {
        "id": "9-nvrv1CUIIM"
      },
      "source": [
        "To feed parsed sentences to DistilBERT, we need to tokenise them and encode the resulting tokens as integers in the model vocabulary. We start by loading the DistilBERT tokeniser using the [Auto classes](https://huggingface.co/docs/transformers/v4.37.2/en/model_doc/auto):"
      ]
    },
    {
      "cell_type": "code",
      "execution_count": 14,
      "metadata": {
        "id": "8dIq61wsUIIM",
        "outputId": "6a7a66ac-2090-4870-e235-2a0b58a07a77",
        "colab": {
          "base_uri": "https://localhost:8080/",
          "height": 275,
          "referenced_widgets": [
            "3c833dda783944ee9ced86d0b644718b",
            "652e21b49e6b440b930eb47a1337d75b",
            "0183aecbd3884367bbe772a279d3b575",
            "e9b7eb26626647bc9f1d6db728ea9eb1",
            "8a88d5b594f44e74b8b5a3a8b137417d",
            "f226e1f793cb4a68bfb3374383182b16",
            "570006eb6de948c6869570d1d8f09e3e",
            "d964c94b55c44535a4ce1b968523a59d",
            "d908ed876c524ab08db8b924134b0271",
            "cf3e3e1b1329430286c3c55685f08156",
            "1358ecd70b784e0aa3f12ea6035b1edd",
            "0defd9b33b16419aa9041e1c1746b82f",
            "63d7bf5aef8847c3abff0bc19da43961",
            "ccfd51163b3f432b98da34b6fdef070e",
            "2b7b0edcc4f44ff2ad81b8e836a58d5f",
            "c66f7adb3dc441328d007191ec37e929",
            "8edb94e37cfe42318f2fb3c59be26d7e",
            "7d1d00d68b0d42869358257a31c14e14",
            "618cb054849c44a6a50c740e3deab4e0",
            "22eacc08984a4153af9fff21c05ebd86",
            "d44854f6f5fc474b8f09863418be4032",
            "5c7ce10b2b18460bad17d84c0dd22aeb",
            "88d55dfaa9bb4a37b693786ea5a2f5e4",
            "e41227aa90a0426eb459fe73816bc74a",
            "a9e5640a19984b3a94161496bb2c9ddd",
            "0c5862aa1ba342eba50754e33ff36a44",
            "28b682eb89e948aaac761b40295f73e1",
            "a49a7087708b48f2a4856d284ea74f82",
            "64bc4ebc994247168aa7d428244a0ea0",
            "007056aa725549b0bcf684da7512c75b",
            "f7aac253fc23488d8dca53e3775d320c",
            "aa5c8fda577a4d0f87a4d832f2e1f27d",
            "0825c32f573c4402a03e6749708e2ab1",
            "630203eb9e0a4000a7bcedb1afb0db92",
            "fec44b35cfd748ae9f84013c255b7e99",
            "a70e4743f0be4a959c08d13e108cb462",
            "9928ba3780db4f99b7a8d2b53a6b8a45",
            "543c901adfd240028c04e61e51612942",
            "7f6e572ca22f40a4860856adb8aaba3d",
            "af93f9afdb0e47d7a226e37c72ce52e1",
            "ff79b93adf184ccbb4c511e628e55cb1",
            "196f20dec98746f989d91cc91e3faa6b",
            "3aa6bdf64d21415888edd31ea839dee7",
            "e893d41cd9a74e37a0cf46ff42507e28"
          ]
        }
      },
      "outputs": [
        {
          "output_type": "stream",
          "name": "stderr",
          "text": [
            "/usr/local/lib/python3.10/dist-packages/huggingface_hub/utils/_token.py:88: UserWarning: \n",
            "The secret `HF_TOKEN` does not exist in your Colab secrets.\n",
            "To authenticate with the Hugging Face Hub, create a token in your settings tab (https://huggingface.co/settings/tokens), set it as secret in your Google Colab and restart your session.\n",
            "You will be able to reuse this secret in all of your notebooks.\n",
            "Please note that authentication is recommended but still optional to access public models or datasets.\n",
            "  warnings.warn(\n"
          ]
        },
        {
          "output_type": "display_data",
          "data": {
            "text/plain": [
              "tokenizer_config.json:   0%|          | 0.00/28.0 [00:00<?, ?B/s]"
            ],
            "application/vnd.jupyter.widget-view+json": {
              "version_major": 2,
              "version_minor": 0,
              "model_id": "3c833dda783944ee9ced86d0b644718b"
            }
          },
          "metadata": {}
        },
        {
          "output_type": "display_data",
          "data": {
            "text/plain": [
              "config.json:   0%|          | 0.00/483 [00:00<?, ?B/s]"
            ],
            "application/vnd.jupyter.widget-view+json": {
              "version_major": 2,
              "version_minor": 0,
              "model_id": "0defd9b33b16419aa9041e1c1746b82f"
            }
          },
          "metadata": {}
        },
        {
          "output_type": "display_data",
          "data": {
            "text/plain": [
              "vocab.txt:   0%|          | 0.00/232k [00:00<?, ?B/s]"
            ],
            "application/vnd.jupyter.widget-view+json": {
              "version_major": 2,
              "version_minor": 0,
              "model_id": "88d55dfaa9bb4a37b693786ea5a2f5e4"
            }
          },
          "metadata": {}
        },
        {
          "output_type": "display_data",
          "data": {
            "text/plain": [
              "tokenizer.json:   0%|          | 0.00/466k [00:00<?, ?B/s]"
            ],
            "application/vnd.jupyter.widget-view+json": {
              "version_major": 2,
              "version_minor": 0,
              "model_id": "630203eb9e0a4000a7bcedb1afb0db92"
            }
          },
          "metadata": {}
        }
      ],
      "source": [
        "from transformers import AutoTokenizer\n",
        "from transformers import PreTrainedTokenizer, PreTrainedTokenizerFast\n",
        "\n",
        "TOKENIZER: PreTrainedTokenizer = AutoTokenizer.from_pretrained('distilbert-base-uncased')"
      ]
    },
    {
      "cell_type": "markdown",
      "metadata": {
        "id": "3GeXcvSxUIIM"
      },
      "source": [
        "We can call the tokeniser on the example sentence as shown in the next cell. Note that we use the *is_split_into_words* keyword argument to indicate that the input is already pre-tokenised (split on whitespace)."
      ]
    },
    {
      "cell_type": "code",
      "execution_count": 15,
      "metadata": {
        "id": "4soYHcnFUIIM"
      },
      "outputs": [],
      "source": [
        "EXAMPLE_TOKENS = TOKENIZER(EXAMPLE_WORDS, is_split_into_words=True)"
      ]
    },
    {
      "cell_type": "markdown",
      "metadata": {
        "id": "7-rQAUrfUIIN"
      },
      "source": [
        "The output of the tokeniser is an object of class [`BatchEncoding`](https://huggingface.co/docs/transformers/main_classes/tokenizer#transformers.BatchEncoding). The code in the following cell shows the list of tokens:"
      ]
    },
    {
      "cell_type": "code",
      "execution_count": 16,
      "metadata": {
        "id": "lmEFQLDdUIIN",
        "outputId": "a617a6f5-b143-452f-c2a0-5d36bc3a06be",
        "colab": {
          "base_uri": "https://localhost:8080/"
        }
      },
      "outputs": [
        {
          "output_type": "execute_result",
          "data": {
            "text/plain": [
              "['[CLS]', 'i', 'like', 'yu', '##or', 'blog', '.', '[SEP]']"
            ]
          },
          "metadata": {},
          "execution_count": 16
        }
      ],
      "source": [
        "[TOKENIZER.decode(i) for i in EXAMPLE_TOKENS.input_ids]"
      ]
    },
    {
      "cell_type": "markdown",
      "metadata": {
        "id": "OgHV2dMdUIIN"
      },
      "source": [
        "As you can see, the tokeniser adds the special tokens `[CLS]` and `[SEP]` and splits unknown words (here: the misspelled word *yuor*) into sub-word tokens. We will need to keep track of which tokens correspond to which word. To achieve that, we can use the method [`word_to_tokens()`](https://huggingface.co/docs/transformers/main_classes/tokenizer#transformers.BatchEncoding.word_to_tokens), which gets us the encoded token span (an object of class [`TokenSpan`](https://huggingface.co/docs/transformers/internal/tokenization_utils#transformers.TokenSpan)) corresponding to a word in a sequence of the input batch:"
      ]
    },
    {
      "cell_type": "code",
      "execution_count": 17,
      "metadata": {
        "id": "MEI_anUNUIIN",
        "outputId": "4d98c819-0acc-4616-c3e7-4020490fd746",
        "colab": {
          "base_uri": "https://localhost:8080/"
        }
      },
      "outputs": [
        {
          "output_type": "stream",
          "name": "stdout",
          "text": [
            "TokenSpan(start=1, end=2) -> I\n",
            "TokenSpan(start=2, end=3) -> like\n",
            "TokenSpan(start=3, end=5) -> yuor\n",
            "TokenSpan(start=5, end=6) -> blog\n",
            "TokenSpan(start=6, end=7) -> .\n"
          ]
        }
      ],
      "source": [
        "from transformers import TokenSpan\n",
        "\n",
        "for i, word in enumerate(EXAMPLE_WORDS):\n",
        "    token_span: TokenSpan = EXAMPLE_TOKENS.word_to_tokens(i)\n",
        "    print(token_span, '->', word)"
      ]
    },
    {
      "cell_type": "markdown",
      "metadata": {
        "id": "jYWRcJ6JUIIN"
      },
      "source": [
        "Your first task is to code a function `encode()` that takes a tokeniser and a list of sentences and returns the tokeniser&rsquo;s encoded input as well as the corresponding token spans. The following cell contains skeleton code for this function."
      ]
    },
    {
      "cell_type": "code",
      "execution_count": 18,
      "metadata": {
        "id": "v-KuwrPVUIIN"
      },
      "outputs": [],
      "source": [
        "from transformers import BatchEncoding\n",
        "from typing import Iterable\n",
        "import torch\n",
        "\n",
        "def encode(tokenizer: PreTrainedTokenizer | PreTrainedTokenizerFast, sentences: list[list[tuple[str, int]]]) -> tuple[BatchEncoding, list[list[TokenSpan]]]:\n",
        "    '''\n",
        "    Returns tokeniser's encoded input and corresponding token spans\n",
        "    '''\n",
        "\n",
        "    split_sentence_list = [[word for word, _ in sentence] for sentence in sentences]\n",
        "\n",
        "    tokens: BatchEncoding = tokenizer(split_sentence_list, truncation=True, padding=True, is_split_into_words=True, return_tensors='pt')\n",
        "    tokens.input_ids = torch.tensor(tokens.input_ids)\n",
        "\n",
        "    token_spans_list: list[list[TokenSpan]] = []\n",
        "\n",
        "    for i in range(len(split_sentence_list)):\n",
        "        token_spans = []\n",
        "        for j in range(len(split_sentence_list[i])):\n",
        "            token_spans.append(tokens.word_to_tokens(i, j))\n",
        "        token_spans_list.append(token_spans)\n",
        "\n",
        "    return tokens, token_spans_list"
      ]
    },
    {
      "cell_type": "markdown",
      "metadata": {
        "id": "LHthKhfIUIIN"
      },
      "source": [
        "Implement this function to match the following specification:\n",
        "\n",
        "**encode** (*tokenizer*, *sentences*):\n",
        "\n",
        "> Uses the specified *tokenizer* to encode a batch of parsed sentences (*sentences*). Returns a pair consisting of a [`BatchEncoding`](https://huggingface.co/docs/transformers/main_classes/tokenizer#transformers.BatchEncoding) and a matching batch of token spans (as explained above). The [`BatchEncoding`](https://huggingface.co/docs/transformers/main_classes/tokenizer#transformers.BatchEncoding) is the standard batch encoding, but with tensors instead of lists of Python integers. Sentences have been truncated to the maximum acceptable input length."
      ]
    },
    {
      "cell_type": "markdown",
      "metadata": {
        "id": "OWeJwIk5UIIN"
      },
      "source": [
        "### 🤞 Test your code\n",
        "\n",
        "To test you code, call `encode()` on a small number of sentences and check that output matches your expectations."
      ]
    },
    {
      "cell_type": "code",
      "execution_count": 19,
      "metadata": {
        "id": "DDGS9KCjUIIN",
        "outputId": "6e199fc4-43c5-4239-d706-7d3b494b9c6b",
        "colab": {
          "base_uri": "https://localhost:8080/"
        }
      },
      "outputs": [
        {
          "output_type": "stream",
          "name": "stdout",
          "text": [
            "tensor([[ 101, 1045, 2066, 9805, 2953, 9927, 1012,  102,    0,    0,    0,    0,\n",
            "            0,    0,    0,    0,    0,    0,    0,    0],\n",
            "        [ 101, 3531, 4638, 2041, 2026, 2040, 2292, 1996, 3899, 2041, 9927, 1012,\n",
            "          102,    0,    0,    0,    0,    0,    0,    0],\n",
            "        [ 101, 4931, 2008, 1005, 1055, 1037, 2307, 9927, 1010, 1045, 2036, 2031,\n",
            "         1037, 2609, 2055, 3050, 3349, 3784, 5306,  102]])\n",
            "[TokenSpan(start=1, end=2), TokenSpan(start=2, end=3), TokenSpan(start=3, end=5), TokenSpan(start=5, end=6), TokenSpan(start=6, end=7)]\n",
            "[TokenSpan(start=1, end=2), TokenSpan(start=2, end=3), TokenSpan(start=3, end=4), TokenSpan(start=4, end=5), TokenSpan(start=5, end=6), TokenSpan(start=6, end=7), TokenSpan(start=7, end=8), TokenSpan(start=8, end=9), TokenSpan(start=9, end=10), TokenSpan(start=10, end=11), TokenSpan(start=11, end=12)]\n",
            "[TokenSpan(start=1, end=2), TokenSpan(start=2, end=3), TokenSpan(start=3, end=5), TokenSpan(start=5, end=6), TokenSpan(start=6, end=7), TokenSpan(start=7, end=8), TokenSpan(start=8, end=9), TokenSpan(start=9, end=10), TokenSpan(start=10, end=11), TokenSpan(start=11, end=12), TokenSpan(start=12, end=13), TokenSpan(start=13, end=14), TokenSpan(start=14, end=15), TokenSpan(start=15, end=16), TokenSpan(start=16, end=17), TokenSpan(start=17, end=18), TokenSpan(start=18, end=19)]\n"
          ]
        },
        {
          "output_type": "stream",
          "name": "stderr",
          "text": [
            "<ipython-input-18-c3039844d8c9>:13: UserWarning: To copy construct from a tensor, it is recommended to use sourceTensor.clone().detach() or sourceTensor.clone().detach().requires_grad_(True), rather than torch.tensor(sourceTensor).\n",
            "  tokens.input_ids = torch.tensor(tokens.input_ids)\n"
          ]
        }
      ],
      "source": [
        "# Test the encode() function\n",
        "sentences = TRAIN_DATA[531:534]\n",
        "encoded_batch = encode(TOKENIZER, sentences)\n",
        "\n",
        "print(encoded_batch[0]['input_ids'])\n",
        "\n",
        "for token_spans in encoded_batch[1]:\n",
        "    print(token_spans)\n"
      ]
    },
    {
      "cell_type": "markdown",
      "metadata": {
        "id": "wCeTyNHeUIIO"
      },
      "source": [
        "## Problem 2: Merging tokens (4 points)"
      ]
    },
    {
      "cell_type": "markdown",
      "metadata": {
        "id": "Zp4v2ZWeUIIO"
      },
      "source": [
        "DistilBERT gives us a representation for each *token* in a sentence. To compute scores between pairs of *words*, we will need to combine the token representations that correspond to each word. A standard strategy for this is to take their element-wise mean. The next cell contains skeleton code for a function `merge_tokens()` that implements this strategy."
      ]
    },
    {
      "cell_type": "code",
      "execution_count": 20,
      "metadata": {
        "id": "LoCQJDOZUIIO"
      },
      "outputs": [],
      "source": [
        "from torch import Tensor\n",
        "\n",
        "def merge_tokens(tokens: Tensor, token_spans_list: list[list[TokenSpan]]):\n",
        "    '''\n",
        "    tokens: Tensor[batch_size, num_tokens, hidden_dim]\n",
        "    token_spans: list[TokenSpan]\n",
        "    return word_level_representations: Tensor[batch_size, max_num_words, hidden_dim]\n",
        "    '''\n",
        "    batch_size, num_tokens, hidden_dim = tokens.shape\n",
        "    max_num_words = max(len(token_spans) for token_spans in token_spans_list)\n",
        "    word_level_representations = tokens.new_zeros(batch_size, max_num_words, hidden_dim)\n",
        "\n",
        "    for i, token_spans in enumerate(token_spans_list):  # Iterate through each sentence in the batch\n",
        "        for j, (start, end) in enumerate(token_spans):  # Iterate through each word's span in the sentence\n",
        "            # Calculate the mean of the tokens for this word. Note that `end` is exclusive, so we add 1 to include it.\n",
        "            word_tensor = tokens[i, start:end].mean(dim=0)\n",
        "            # Assign the mean tensor to the correct position in the word-level representations tensor.\n",
        "            word_level_representations[i, j] = word_tensor\n",
        "\n",
        "\n",
        "    return word_level_representations"
      ]
    },
    {
      "cell_type": "markdown",
      "metadata": {
        "id": "Nu5WfcONUIIO"
      },
      "source": [
        "Implement this function to match the following specification:\n",
        "\n",
        "**merge_tokens** (*tokens*, *token_spans*)\n",
        "\n",
        "> Takes a batch of token vectors (*tokens*) and a list of matching token spans (*token_spans*) and returns a batch of word-level representations, computed using the element-wise mean. The token vectors are a tensor of shape (*batch_size*, *num_tokens*, *hidden_dim*), where *hidden_dim* is the dimensionality of the DistilBERT representations. The token spans are a nested list containing integer pairs, as computed in Problem&nbsp;1. The result is a tensor of shape (*batch_size*, *max_num_words*, *hidden_dim*), where *max_num_words* denotes the maximum number of words in any sentence in the batch. Entries corresponding to padding are represented by the zero vector of size *hidden_dim*."
      ]
    },
    {
      "cell_type": "markdown",
      "metadata": {
        "id": "Pnzg_hk0UIIO"
      },
      "source": [
        "### 🤞 Test your code\n",
        "\n",
        "To test you code, create a sample input to `merge_tokens()` and check that the output matches your expectations."
      ]
    },
    {
      "cell_type": "code",
      "execution_count": 21,
      "metadata": {
        "id": "Iz6Dbdm9UIIO",
        "outputId": "d8518494-00f1-43dd-f380-d7f460bbbafe",
        "colab": {
          "base_uri": "https://localhost:8080/"
        }
      },
      "outputs": [
        {
          "output_type": "stream",
          "name": "stdout",
          "text": [
            "tensor([[[0.1219, 0.4846, 0.5154],\n",
            "         [0.4010, 0.7429, 0.9586],\n",
            "         [0.3743, 0.1304, 0.4758],\n",
            "         [0.7532, 0.4290, 0.1066],\n",
            "         [0.5315, 0.6850, 0.6728]]])\n"
          ]
        },
        {
          "output_type": "stream",
          "name": "stderr",
          "text": [
            "<ipython-input-18-c3039844d8c9>:13: UserWarning: To copy construct from a tensor, it is recommended to use sourceTensor.clone().detach() or sourceTensor.clone().detach().requires_grad_(True), rather than torch.tensor(sourceTensor).\n",
            "  tokens.input_ids = torch.tensor(tokens.input_ids)\n"
          ]
        }
      ],
      "source": [
        "from torch import Tensor, rand\n",
        "\n",
        "tokens = rand(1, 1000, 3)\n",
        "\n",
        "# Test the encode() function\n",
        "sentences = TRAIN_DATA[531:532]\n",
        "_, token_spans_list = encode(TOKENIZER, sentences)\n",
        "\n",
        "out = merge_tokens(tokens, token_spans_list)\n",
        "\n",
        "print(out)"
      ]
    },
    {
      "cell_type": "markdown",
      "metadata": {
        "id": "NJ2Lw9I6UIIO"
      },
      "source": [
        "## Problem 3: Biaffine layer (2 points)"
      ]
    },
    {
      "cell_type": "markdown",
      "metadata": {
        "id": "U86Bdr_vUIIP"
      },
      "source": [
        "Your next task is to implement the bi-affine layer. Given matrices $X \\in \\mathbb{R}^{m \\times d}$ and $X' \\in \\mathbb{R}^{n \\times d}$, this layer computes a matrix $Y \\in \\mathbb{R}^{m \\times n}$ as"
      ]
    },
    {
      "cell_type": "markdown",
      "metadata": {
        "id": "lLUStUskUIIP"
      },
      "source": [
        "$$\n",
        "Y = X W X'{}^\\top + b\n",
        "$$"
      ]
    },
    {
      "cell_type": "markdown",
      "metadata": {
        "id": "lK2hc2ZDUIIP"
      },
      "source": [
        "where $W \\in \\mathbb{R}^{d \\times d}$ and $b \\in \\mathbb{R}$ are learnable weight and bias parameters. In the context of the dependency parser, the matrices $X$ and $X'$ hold the word representations of all dependents and all heads in the input sentence, and the entries of the matrix $Y$ are interpreted as scores of possible dependency arcs. More specifically, the entry $Y_{ij}$ represents the score of an arc from a head word at position&nbsp;$j$ to a dependent at position&nbsp;$i$."
      ]
    },
    {
      "cell_type": "markdown",
      "metadata": {
        "id": "r7_rGvvZUIIP"
      },
      "source": [
        "\n",
        "The following cell contains skeleton code for the implementation of the bi-affine layer. Implement this layer according to the specification above."
      ]
    },
    {
      "cell_type": "code",
      "execution_count": 22,
      "metadata": {
        "id": "SPBrJnuRUIIP"
      },
      "outputs": [],
      "source": [
        "import torch.nn as nn\n",
        "import torch\n",
        "\n",
        "class Biaffine(nn.Module):\n",
        "\n",
        "    def __init__(self, encoder_dim):\n",
        "        super().__init__()\n",
        "        # Weight matrix for the bi-affine transformation, shape: (d, d)\n",
        "        self.weight = nn.Parameter(torch.rand(encoder_dim, encoder_dim))\n",
        "        # Bias term\n",
        "        self.bias = nn.Parameter(torch.rand(1))\n",
        "\n",
        "    def forward(self, x1: torch.Tensor, x2: torch.Tensor) -> torch.Tensor:\n",
        "        # x1 shape: (batch_size, m, d), x2 shape: (batch_size, n, d)\n",
        "        # We perform a batch matrix multiplication between x1 and the weight, resulting in a shape of (batch_size, m, d)\n",
        "        y = x1 @ self.weight @ x2.transpose(1, 2) + self.bias\n",
        "\n",
        "        \"\"\" # Then we perform another batch matrix multiplication, this time with the transpose of x2.\n",
        "        # For this, we need to transpose x2 to shape (batch_size, d, n) to align the dimensions for matrix multiplication.\n",
        "        # The resulting shape of the operation will be (batch_size, m, n), aligning with our target output shape.\n",
        "        y = torch.bmm(x1_transform, x2.transpose(1, 2))\n",
        "\n",
        "        # Adding the bias term to every element in the output matrix.\n",
        "        # Since the bias is a scalar, it's automatically broadcasted across all dimensions.\n",
        "        y += self.bias \"\"\"\n",
        "\n",
        "        return y"
      ]
    },
    {
      "cell_type": "markdown",
      "metadata": {
        "id": "jpMW74s7UIIP"
      },
      "source": [
        "**⚠️ Note that your implementation should be able to handle *batches* of input sentences.**"
      ]
    },
    {
      "cell_type": "markdown",
      "metadata": {
        "id": "vLjvDd9IUIIP"
      },
      "source": [
        "### 🤞 Test your code\n",
        "\n",
        "To test you code, create a sample input to the bi-affine layer as well as suitable weights and biases and check that the output of the `forward` method matches your expectations"
      ]
    },
    {
      "cell_type": "code",
      "execution_count": 23,
      "metadata": {
        "id": "L3nY_ZUuUIIP",
        "outputId": "42803a42-8717-4056-bfc5-0f91297603cf",
        "colab": {
          "base_uri": "https://localhost:8080/"
        }
      },
      "outputs": [
        {
          "output_type": "stream",
          "name": "stdout",
          "text": [
            "torch.Size([1, 12, 13])\n"
          ]
        }
      ],
      "source": [
        "word_level_representations = rand(1, 12, 3)\n",
        "word_level_representations2 = rand(1, 13, 3)\n",
        "biaffine = Biaffine(3)\n",
        "out = biaffine(word_level_representations, word_level_representations2)\n",
        "print(out.shape) # should be (1, 12, 13)"
      ]
    },
    {
      "cell_type": "markdown",
      "metadata": {
        "id": "iGbIYgqnUIIQ"
      },
      "source": [
        "## Problem 4: Parser (6 points)"
      ]
    },
    {
      "cell_type": "markdown",
      "metadata": {
        "id": "6VvIvy4KUIIQ"
      },
      "source": [
        "We are now ready to put the two main components of the parser together: the encoder (DistilBert) and the bi-affine layer that computes the arc scores. We also add a dropout layer between the two components.\n",
        "\n",
        "The following code cell contains skeleton code for the parsing model with the `init()` method already complete. Your task is to implement the `forward()` method. If you are unsure how things should be wired up, have another look at the slides."
      ]
    },
    {
      "cell_type": "code",
      "execution_count": 24,
      "metadata": {
        "id": "9gg33L1NUIIQ"
      },
      "outputs": [],
      "source": [
        "import torch.nn as nn\n",
        "import torch\n",
        "\n",
        "from transformers import DistilBertModel, DistilBertPreTrainedModel\n",
        "\n",
        "class DistilBertForParsing(DistilBertPreTrainedModel):\n",
        "\n",
        "    def __init__(self, config, dropout=0.1):\n",
        "        super().__init__(config)\n",
        "        self.config = config\n",
        "        self.distilbert = DistilBertModel(config)\n",
        "        self.dropout = nn.Dropout(dropout)\n",
        "        self.biaffine = Biaffine(config.hidden_size)\n",
        "\n",
        "    def forward(self, encoded_input: BatchEncoding, token_spans: list[list[TokenSpan]]) -> torch.Tensor:\n",
        "        '''\n",
        "        returns: torch.Tensor[batch_size, num_words, num_words + 1]\n",
        "        '''\n",
        "        # Encode the input\n",
        "        bert_outputs = self.distilbert(**encoded_input)\n",
        "        # Merge the tokens into word-level representations\n",
        "        word_representations = self.dropout(merge_tokens(bert_outputs.last_hidden_state, token_spans))\n",
        "        # Apply the bi-affine transformation\n",
        "        scores = self.biaffine(word_representations, word_representations)\n",
        "        batch_size, num_words, _ = scores.shape\n",
        "        root_scores = torch.cat([torch.zeros(batch_size, num_words, 1, device=scores.device), scores], dim=2)\n",
        "\n",
        "        return root_scores\n"
      ]
    },
    {
      "cell_type": "markdown",
      "metadata": {
        "id": "7BGBEj1EUIIQ"
      },
      "source": [
        "Implement the `forward()` method to match the following specification:\n",
        "\n",
        "**forward** (*encoded_input*, *token_spans*)\n",
        "\n",
        "> Takes a tokeniser-encoded batch of sentences (*encoded_input*, of type `BatchEncoding`) and a corresponding nested list of token spans (*token_spans*) and returns a tensor with scores for each pair of words. More specifically, the output tensor $Y$ has shape (*batch_size*, *num_words*, *num_words+1*), where the entry $Y_{bij}$ represents the score of an arc from a head word at position&nbsp;$j$ to a dependent at position&nbsp;$i$ in the $b$th sentence of the batch. Note that the number of possible heads is one greater than the number of possible dependents because the possible heads include the root of the dependency tree, which we represent using the special token `[CLS]` (at position&nbsp;0)."
      ]
    },
    {
      "cell_type": "markdown",
      "metadata": {
        "id": "FwKYzvIyUIIQ"
      },
      "source": [
        "### 🤞 Test your code\n",
        "\n",
        "To test you code, instantiate the parsing model and feed it a small batch of sentences."
      ]
    },
    {
      "cell_type": "code",
      "execution_count": 25,
      "metadata": {
        "id": "WjbOPWP0UIIQ",
        "outputId": "90f5c2a4-b57c-49e3-c05c-0553f3e4740c",
        "colab": {
          "base_uri": "https://localhost:8080/",
          "height": 216,
          "referenced_widgets": [
            "9b567887a2ea4d2191f7792b68d0185d",
            "69b60b88cc394bada4cad85f025a3277",
            "0d94a189bd3246b5adfd38596c7967b3",
            "aff40e2bd9324964a0ca08d10dc7105e",
            "4898fbf701684f9599615fa1452bf0f9",
            "63658edbb7bd40008af3bb14202743a0",
            "c38d1542c0d14684a80593c31a8a0ff5",
            "0b94b2ea6b604632bd1223083aa6a3bf",
            "fe852d02fc4f488299604a8c7f6f622f",
            "affd86eb1d2146f2bbcb7c37f6173115",
            "2b8161daaa194855b41c57799184a500"
          ]
        }
      },
      "outputs": [
        {
          "output_type": "display_data",
          "data": {
            "text/plain": [
              "model.safetensors:   0%|          | 0.00/268M [00:00<?, ?B/s]"
            ],
            "application/vnd.jupyter.widget-view+json": {
              "version_major": 2,
              "version_minor": 0,
              "model_id": "9b567887a2ea4d2191f7792b68d0185d"
            }
          },
          "metadata": {}
        },
        {
          "output_type": "stream",
          "name": "stderr",
          "text": [
            "Some weights of DistilBertForParsing were not initialized from the model checkpoint at distilbert-base-uncased and are newly initialized: ['biaffine.bias', 'biaffine.weight']\n",
            "You should probably TRAIN this model on a down-stream task to be able to use it for predictions and inference.\n",
            "<ipython-input-18-c3039844d8c9>:13: UserWarning: To copy construct from a tensor, it is recommended to use sourceTensor.clone().detach() or sourceTensor.clone().detach().requires_grad_(True), rather than torch.tensor(sourceTensor).\n",
            "  tokens.input_ids = torch.tensor(tokens.input_ids)\n"
          ]
        },
        {
          "output_type": "stream",
          "name": "stdout",
          "text": [
            "[('I', 2), ('like', 0), ('yuor', 4), ('blog', 2), ('.', 2)]\n",
            "[('Please', 2), ('check', 0), ('out', 2), ('my', 10), ('who', 6), ('let', 10), ('the', 8), ('dog', 6), ('out', 6), ('blog', 2), ('.', 2)]\n",
            "[('hey', 6), ('that', 6), (\"'s\", 6), ('a', 6), ('great', 6), ('blog', 0), (',', 10), ('I', 10), ('also', 10), ('have', 6), ('a', 12), ('site', 10), ('about', 17), ('los', 15), ('angeles', 17), ('online', 17), ('dating', 12)]\n",
            "torch.Size([3, 17, 18])\n"
          ]
        }
      ],
      "source": [
        "# Test the model\n",
        "model = DistilBertForParsing.from_pretrained('distilbert-base-uncased')\n",
        "\n",
        "sentences = TRAIN_DATA[531:534]\n",
        "\n",
        "encoded_inputs: BatchEncoding = []\n",
        "token_spans_list: list[list[TokenSpan]] = []\n",
        "\n",
        "for sentence in sentences:\n",
        "    print(sentence)\n",
        "\n",
        "encoded_inputs, token_spans_list = encode(TOKENIZER, sentences)\n",
        "\n",
        "out = model.forward(encoded_inputs, token_spans_list)\n",
        "\n",
        "print(out.shape) # should be (1, 5, 6)"
      ]
    },
    {
      "cell_type": "markdown",
      "metadata": {
        "id": "UxMlOshjUIIQ"
      },
      "source": [
        "## Data loader"
      ]
    },
    {
      "cell_type": "markdown",
      "metadata": {
        "id": "SsNTIq-4UIIQ"
      },
      "source": [
        "We are now almost ready to train the parser. The missing piece is a data collator that prepares a batch of parsed sentences:\n",
        "\n",
        "* tokenises the sentences and extracts token spans using `encode()` (Problem&nbsp;1)\n",
        "* constructs the ground-truth head tensor needed to compute the loss (Problem&nbsp;2)\n",
        "\n",
        "The code in the next cell implements these two steps. For pseudo-words introduced through padding, we assign a head position of −100. This value is ignored by PyTorch’s cross-entropy loss function."
      ]
    },
    {
      "cell_type": "code",
      "execution_count": 26,
      "metadata": {
        "id": "TNsJVOxgUIIQ"
      },
      "outputs": [],
      "source": [
        "import torch\n",
        "\n",
        "class ParserBatcher(object):\n",
        "\n",
        "    def __init__(self, tokenizer, device=None):\n",
        "        self.tokenizer = tokenizer\n",
        "        self.device = device\n",
        "\n",
        "    def __call__(self, parser_inputs):\n",
        "        encoded_input, start_indices = encode(self.tokenizer, parser_inputs)\n",
        "\n",
        "        # Get the maximal number of words, for padding\n",
        "        max_num_words = max(len(s) for s in parser_inputs)\n",
        "\n",
        "        # Construct tensor containing the ground-truth heads\n",
        "        all_heads = []\n",
        "        for parser_input in parser_inputs:\n",
        "            words, heads = zip(*parser_input)\n",
        "            heads = list(heads)\n",
        "            heads.extend([-100] * (max_num_words - len(heads)))  # -100 will be ignored\n",
        "            all_heads.append(heads)\n",
        "        all_heads = torch.LongTensor(all_heads)\n",
        "\n",
        "        # Send all data to the specified device\n",
        "        if self.device:\n",
        "            encoded_input = encoded_input.to(self.device)\n",
        "            all_heads = all_heads.to(self.device)\n",
        "\n",
        "        return encoded_input, start_indices, all_heads"
      ]
    },
    {
      "cell_type": "markdown",
      "metadata": {
        "id": "sJ_Av50AUIIR"
      },
      "source": [
        "## Training loop"
      ]
    },
    {
      "cell_type": "markdown",
      "metadata": {
        "id": "i03o2sqBUIIR"
      },
      "source": [
        "Finally, here is the training loop of the parser. Most of it is quite standard. The training loss of the parser is the cross-entropy between the head scores and the ground truth head positions. In other words, the parser is trained as a classifier that predicts the position of each word&rsquo;s head."
      ]
    },
    {
      "cell_type": "code",
      "execution_count": 27,
      "metadata": {
        "id": "_V2OQiWoUIIS"
      },
      "outputs": [],
      "source": [
        "import torch.nn.functional as F\n",
        "\n",
        "from torch.optim import Adam\n",
        "from torch.utils.data import DataLoader\n",
        "from tqdm import tqdm\n",
        "\n",
        "DEVICE = torch.device('cuda' if torch.cuda.is_available() else 'cpu')\n",
        "\n",
        "# DEVICE = torch.device('mps')\n",
        "\n",
        "def train(dataset, n_epochs=1, lr=1e-5, batch_size=8):\n",
        "    # Initialise the tokeniser\n",
        "    tokenizer = AutoTokenizer.from_pretrained('distilbert-base-uncased')\n",
        "\n",
        "    # Initialise the encoder\n",
        "    model = DistilBertForParsing.from_pretrained('distilbert-base-uncased').to(DEVICE)\n",
        "\n",
        "    # Initialise the data loader\n",
        "    data_loader = DataLoader(dataset, batch_size=batch_size, collate_fn=ParserBatcher(tokenizer, device=DEVICE))\n",
        "\n",
        "    # Initialise the optimiser\n",
        "    optimizer = Adam(model.parameters(), lr=lr)\n",
        "\n",
        "    # Train for the specified number of epochs\n",
        "    for epoch in range(n_epochs):\n",
        "        model.train()\n",
        "\n",
        "        # We keep track of the running loss\n",
        "        running_loss = 0\n",
        "        n_batches = 0\n",
        "        with tqdm(total=len(dataset)) as pbar:\n",
        "            pbar.set_description(f'Epoch {epoch+1}')\n",
        "\n",
        "            # Process a batch of samples\n",
        "            for encoded_input, token_spans, gold_heads in data_loader:\n",
        "                optimizer.zero_grad()\n",
        "\n",
        "                # Compute the arc scores\n",
        "                arc_scores = model.forward(encoded_input, token_spans)\n",
        "                # shape: [batch_size, num_words, num_words+1]\n",
        "\n",
        "                # Flatten arc_scores and gold_heads for cross_entropy\n",
        "                loss = F.cross_entropy(arc_scores.flatten(0, -2), gold_heads.view(-1))\n",
        "                # shape of the flattened arc_scores: [batch_size * num_words, num_words+1]\n",
        "                # shape of the flattened gold_heads: [batch_size * num_words]\n",
        "\n",
        "                # Backward pass\n",
        "                loss.backward()\n",
        "                optimizer.step()\n",
        "\n",
        "                # Update the loss\n",
        "                running_loss += loss.item()\n",
        "                n_batches += 1\n",
        "                pbar.set_postfix(loss=running_loss/n_batches)\n",
        "                pbar.update(len(token_spans))\n",
        "\n",
        "    return model"
      ]
    },
    {
      "cell_type": "markdown",
      "metadata": {
        "id": "c0Gghhi2UIIS"
      },
      "source": [
        "We are now ready to train the parser. With a GPU, you should expect training times of approximately 3&nbsp;minutes per epoch."
      ]
    },
    {
      "cell_type": "code",
      "execution_count": 110,
      "metadata": {
        "id": "k68vcqEWUIIS",
        "outputId": "f35c0c0c-6fbc-4b20-fa7a-e15d695fe99d",
        "colab": {
          "base_uri": "https://localhost:8080/"
        }
      },
      "outputs": [
        {
          "output_type": "stream",
          "name": "stderr",
          "text": [
            "Some weights of DistilBertForParsing were not initialized from the model checkpoint at distilbert-base-uncased and are newly initialized: ['biaffine.bias', 'biaffine.weight']\n",
            "You should probably TRAIN this model on a down-stream task to be able to use it for predictions and inference.\n",
            "Epoch 1:   0%|          | 0/12544 [00:00<?, ?it/s]<ipython-input-18-c3039844d8c9>:13: UserWarning: To copy construct from a tensor, it is recommended to use sourceTensor.clone().detach() or sourceTensor.clone().detach().requires_grad_(True), rather than torch.tensor(sourceTensor).\n",
            "  tokens.input_ids = torch.tensor(tokens.input_ids)\n",
            "Epoch 1: 100%|██████████| 12544/12544 [01:56<00:00, 107.27it/s, loss=5.04]\n",
            "Epoch 2: 100%|██████████| 12544/12544 [01:55<00:00, 108.37it/s, loss=2.57]\n",
            "Epoch 3: 100%|██████████| 12544/12544 [01:55<00:00, 108.75it/s, loss=1.5]\n",
            "Epoch 4: 100%|██████████| 12544/12544 [01:52<00:00, 111.02it/s, loss=1.05]\n",
            "Epoch 5: 100%|██████████| 12544/12544 [01:56<00:00, 107.79it/s, loss=0.795]\n",
            "Epoch 6: 100%|██████████| 12544/12544 [01:55<00:00, 109.00it/s, loss=0.634]\n",
            "Epoch 7: 100%|██████████| 12544/12544 [01:54<00:00, 109.92it/s, loss=0.523]\n",
            "Epoch 8: 100%|██████████| 12544/12544 [01:54<00:00, 109.72it/s, loss=0.441]\n",
            "Epoch 9: 100%|██████████| 12544/12544 [01:54<00:00, 109.53it/s, loss=0.385]\n",
            "Epoch 10: 100%|██████████| 12544/12544 [01:53<00:00, 110.92it/s, loss=0.346]\n",
            "Epoch 11: 100%|██████████| 12544/12544 [01:59<00:00, 104.57it/s, loss=0.312]\n",
            "Epoch 12: 100%|██████████| 12544/12544 [02:00<00:00, 103.92it/s, loss=0.286]\n"
          ]
        }
      ],
      "source": [
        "PARSING_MODEL = train(TRAIN_DATA, n_epochs=12)"
      ]
    },
    {
      "cell_type": "markdown",
      "metadata": {
        "id": "DDj0_w7qUIIS"
      },
      "source": [
        "## Problem 5: Evaluation (2 points)"
      ]
    },
    {
      "cell_type": "markdown",
      "metadata": {
        "id": "VCeTa7z2UIIS"
      },
      "source": [
        "Dependency parsers are commonly evaluated using **unlabelled attachment score (UAS)**, which is the percentage of (non-root) words that have been assigned their correct heads. The following cell contains skeleton code for a function `uas()` that computes this score on a given dataset."
      ]
    },
    {
      "cell_type": "code",
      "execution_count": 118,
      "metadata": {
        "id": "wKGY4pe8UIIS"
      },
      "outputs": [],
      "source": [
        "def uas(tokenizer, model, filename, batch_size=8):\n",
        "    # Compute score on a given dataset\n",
        "    dataset: ParserDataset = ParserDataset(filename)\n",
        "    data_loader = DataLoader(dataset, batch_size=batch_size, collate_fn=ParserBatcher(tokenizer, device=DEVICE))\n",
        "    model.eval()\n",
        "\n",
        "    total_correct = 0\n",
        "    total_words = 0\n",
        "\n",
        "    for batch in data_loader:\n",
        "        encoded_inputs, token_spans, gold_heads = batch\n",
        "        input_ids = encoded_inputs['input_ids']\n",
        "        attention_mask = encoded_inputs['attention_mask']\n",
        "\n",
        "        # Forward pass: compute predictions by the model\n",
        "        outputs = model.forward(encoded_inputs, token_spans)\n",
        "        predicted_heads = torch.argmax(outputs, dim=-1)\n",
        "\n",
        "        # Calculate correctness\n",
        "        correct = (predicted_heads == gold_heads)\n",
        "        total_correct += correct.sum().item()\n",
        "        total_words += gold_heads.ne(-100).sum().item()-2 # Count all actual words and exclude padding-words\n",
        "\n",
        "    # Compute Unlabeled Attachment Score\n",
        "    uas_score = total_correct / total_words if total_words > 0 else 0\n",
        "    return uas_score"
      ]
    },
    {
      "cell_type": "markdown",
      "metadata": {
        "id": "9fdeqv8LUIIS"
      },
      "source": [
        "Implement the `uas()` function to match the following specification:\n",
        "\n",
        "**uas** (*tokenizer*, *model*, *filename*)\n",
        "\n",
        "> Takes a tokenizer (*tokenizer*), a trained parsing model (*model*), and the filename of a dataset in the CoNLLU format (*filename*) and returns the unlabelled attachment score of the model on the tokenised dataset."
      ]
    },
    {
      "cell_type": "markdown",
      "metadata": {
        "id": "NOVdpR0RUIIS"
      },
      "source": [
        "**⚠️ Note that pseudo-words corresponding to padding must be excluded from the calculation of the UAS.**"
      ]
    },
    {
      "cell_type": "markdown",
      "metadata": {
        "id": "N93DNV5sUIIT"
      },
      "source": [
        "The code in the following cell evaluates the trained parser on the development section of the data:"
      ]
    },
    {
      "cell_type": "code",
      "execution_count": 119,
      "metadata": {
        "id": "ETDy9CssUIIT",
        "outputId": "6a464fc1-63a3-4530-f3f7-43db885b091f",
        "colab": {
          "base_uri": "https://localhost:8080/"
        }
      },
      "outputs": [
        {
          "output_type": "stream",
          "name": "stderr",
          "text": [
            "<ipython-input-18-c3039844d8c9>:13: UserWarning: To copy construct from a tensor, it is recommended to use sourceTensor.clone().detach() or sourceTensor.clone().detach().requires_grad_(True), rather than torch.tensor(sourceTensor).\n",
            "  tokens.input_ids = torch.tensor(tokens.input_ids)\n"
          ]
        },
        {
          "output_type": "execute_result",
          "data": {
            "text/plain": [
              "0.8648111332007953"
            ]
          },
          "metadata": {},
          "execution_count": 119
        }
      ],
      "source": [
        "uas(TOKENIZER, PARSING_MODEL, 'en_ewt-ud-dev.conllu')"
      ]
    },
    {
      "cell_type": "markdown",
      "metadata": {
        "id": "shl0McPvUIIT"
      },
      "source": [
        "**Your notebook must contain output demonstrating at least 86% UAS on the development data.**"
      ]
    },
    {
      "cell_type": "markdown",
      "metadata": {
        "id": "4b5PP6M_UIIT"
      },
      "source": [
        "## Problem 6: Counting trees (6 points)"
      ]
    },
    {
      "cell_type": "markdown",
      "metadata": {
        "id": "ysQ9rhogUIIT"
      },
      "source": [
        "In the last problem of this lab, we ask you to take a closer look at the graph-theoretic properties of the outputs of your trained model.\n",
        "\n",
        "The following cell contains code that will use the tokeniser and your trained model to parse the development data and write the gold-standard dependency trees as well as the dependency trees predicted by the parser to a JSON file:"
      ]
    },
    {
      "cell_type": "code",
      "execution_count": null,
      "metadata": {
        "id": "yMb_fXReUIIT"
      },
      "outputs": [],
      "source": [
        "import json\n",
        "\n",
        "dataset = ParserDataset('en_ewt-ud-dev.conllu')\n",
        "data_loader = DataLoader(dataset, collate_fn=ParserBatcher(TOKENIZER, device=DEVICE))\n",
        "\n",
        "with open('graphs.jsonl', 'wt') as fp:\n",
        "    for encoded_input, token_spans, gold_heads in data_loader:\n",
        "        with torch.no_grad():\n",
        "            head_scores = PARSING_MODEL.forward(encoded_input, token_spans)\n",
        "            pred_heads = torch.argmax(head_scores, dim=-1)\n",
        "        for gold, pred in zip(gold_heads, pred_heads):\n",
        "            mask = gold.ne(-100)\n",
        "            print(json.dumps((gold[mask].tolist(), pred[mask].tolist())), file=fp)"
      ]
    },
    {
      "cell_type": "markdown",
      "metadata": {
        "id": "X9jpFhZIUIIT"
      },
      "source": [
        "The lab directory contains a script `analyze.py` that you can use to compute statistics on various graph-theoretic properties: total number of graphs, number of acyclic graphs, connected graphs, trees, and projective trees. Document your exploration in a short reflection piece (ca.&nbsp;150 words). Respond to the following prompts\n",
        "\n",
        "* What are the results of this exploration? Summarise the statistics you obtained.\n",
        "* Based on what you know about the parser, did you expect your results? Was there anything surprising in them?\n",
        "* What did you learn? How, exactly, did you learn it? Why does this learning matter?"
      ]
    },
    {
      "cell_type": "markdown",
      "source": [],
      "metadata": {
        "id": "CC_TK-2MBySV"
      }
    },
    {
      "cell_type": "markdown",
      "metadata": {
        "id": "YNP76VkRUIIT"
      },
      "source": [
        "**🥳 Congratulations on finishing this lab! 🥳**"
      ]
    }
  ],
  "metadata": {
    "accelerator": "GPU",
    "colab": {
      "name": "BERT_Parser Panic.ipynb",
      "provenance": []
    },
    "kernelspec": {
      "display_name": "Python 3 (ipykernel)",
      "language": "python",
      "name": "python3"
    },
    "language_info": {
      "codemirror_mode": {
        "name": "ipython",
        "version": 3
      },
      "file_extension": ".py",
      "mimetype": "text/x-python",
      "name": "python",
      "nbconvert_exporter": "python",
      "pygments_lexer": "ipython3",
      "version": "3.11.4"
    },
    "widgets": {
      "application/vnd.jupyter.widget-state+json": {
        "3c833dda783944ee9ced86d0b644718b": {
          "model_module": "@jupyter-widgets/controls",
          "model_name": "HBoxModel",
          "model_module_version": "1.5.0",
          "state": {
            "_dom_classes": [],
            "_model_module": "@jupyter-widgets/controls",
            "_model_module_version": "1.5.0",
            "_model_name": "HBoxModel",
            "_view_count": null,
            "_view_module": "@jupyter-widgets/controls",
            "_view_module_version": "1.5.0",
            "_view_name": "HBoxView",
            "box_style": "",
            "children": [
              "IPY_MODEL_652e21b49e6b440b930eb47a1337d75b",
              "IPY_MODEL_0183aecbd3884367bbe772a279d3b575",
              "IPY_MODEL_e9b7eb26626647bc9f1d6db728ea9eb1"
            ],
            "layout": "IPY_MODEL_8a88d5b594f44e74b8b5a3a8b137417d"
          }
        },
        "652e21b49e6b440b930eb47a1337d75b": {
          "model_module": "@jupyter-widgets/controls",
          "model_name": "HTMLModel",
          "model_module_version": "1.5.0",
          "state": {
            "_dom_classes": [],
            "_model_module": "@jupyter-widgets/controls",
            "_model_module_version": "1.5.0",
            "_model_name": "HTMLModel",
            "_view_count": null,
            "_view_module": "@jupyter-widgets/controls",
            "_view_module_version": "1.5.0",
            "_view_name": "HTMLView",
            "description": "",
            "description_tooltip": null,
            "layout": "IPY_MODEL_f226e1f793cb4a68bfb3374383182b16",
            "placeholder": "​",
            "style": "IPY_MODEL_570006eb6de948c6869570d1d8f09e3e",
            "value": "tokenizer_config.json: 100%"
          }
        },
        "0183aecbd3884367bbe772a279d3b575": {
          "model_module": "@jupyter-widgets/controls",
          "model_name": "FloatProgressModel",
          "model_module_version": "1.5.0",
          "state": {
            "_dom_classes": [],
            "_model_module": "@jupyter-widgets/controls",
            "_model_module_version": "1.5.0",
            "_model_name": "FloatProgressModel",
            "_view_count": null,
            "_view_module": "@jupyter-widgets/controls",
            "_view_module_version": "1.5.0",
            "_view_name": "ProgressView",
            "bar_style": "success",
            "description": "",
            "description_tooltip": null,
            "layout": "IPY_MODEL_d964c94b55c44535a4ce1b968523a59d",
            "max": 28,
            "min": 0,
            "orientation": "horizontal",
            "style": "IPY_MODEL_d908ed876c524ab08db8b924134b0271",
            "value": 28
          }
        },
        "e9b7eb26626647bc9f1d6db728ea9eb1": {
          "model_module": "@jupyter-widgets/controls",
          "model_name": "HTMLModel",
          "model_module_version": "1.5.0",
          "state": {
            "_dom_classes": [],
            "_model_module": "@jupyter-widgets/controls",
            "_model_module_version": "1.5.0",
            "_model_name": "HTMLModel",
            "_view_count": null,
            "_view_module": "@jupyter-widgets/controls",
            "_view_module_version": "1.5.0",
            "_view_name": "HTMLView",
            "description": "",
            "description_tooltip": null,
            "layout": "IPY_MODEL_cf3e3e1b1329430286c3c55685f08156",
            "placeholder": "​",
            "style": "IPY_MODEL_1358ecd70b784e0aa3f12ea6035b1edd",
            "value": " 28.0/28.0 [00:00&lt;00:00, 1.64kB/s]"
          }
        },
        "8a88d5b594f44e74b8b5a3a8b137417d": {
          "model_module": "@jupyter-widgets/base",
          "model_name": "LayoutModel",
          "model_module_version": "1.2.0",
          "state": {
            "_model_module": "@jupyter-widgets/base",
            "_model_module_version": "1.2.0",
            "_model_name": "LayoutModel",
            "_view_count": null,
            "_view_module": "@jupyter-widgets/base",
            "_view_module_version": "1.2.0",
            "_view_name": "LayoutView",
            "align_content": null,
            "align_items": null,
            "align_self": null,
            "border": null,
            "bottom": null,
            "display": null,
            "flex": null,
            "flex_flow": null,
            "grid_area": null,
            "grid_auto_columns": null,
            "grid_auto_flow": null,
            "grid_auto_rows": null,
            "grid_column": null,
            "grid_gap": null,
            "grid_row": null,
            "grid_template_areas": null,
            "grid_template_columns": null,
            "grid_template_rows": null,
            "height": null,
            "justify_content": null,
            "justify_items": null,
            "left": null,
            "margin": null,
            "max_height": null,
            "max_width": null,
            "min_height": null,
            "min_width": null,
            "object_fit": null,
            "object_position": null,
            "order": null,
            "overflow": null,
            "overflow_x": null,
            "overflow_y": null,
            "padding": null,
            "right": null,
            "top": null,
            "visibility": null,
            "width": null
          }
        },
        "f226e1f793cb4a68bfb3374383182b16": {
          "model_module": "@jupyter-widgets/base",
          "model_name": "LayoutModel",
          "model_module_version": "1.2.0",
          "state": {
            "_model_module": "@jupyter-widgets/base",
            "_model_module_version": "1.2.0",
            "_model_name": "LayoutModel",
            "_view_count": null,
            "_view_module": "@jupyter-widgets/base",
            "_view_module_version": "1.2.0",
            "_view_name": "LayoutView",
            "align_content": null,
            "align_items": null,
            "align_self": null,
            "border": null,
            "bottom": null,
            "display": null,
            "flex": null,
            "flex_flow": null,
            "grid_area": null,
            "grid_auto_columns": null,
            "grid_auto_flow": null,
            "grid_auto_rows": null,
            "grid_column": null,
            "grid_gap": null,
            "grid_row": null,
            "grid_template_areas": null,
            "grid_template_columns": null,
            "grid_template_rows": null,
            "height": null,
            "justify_content": null,
            "justify_items": null,
            "left": null,
            "margin": null,
            "max_height": null,
            "max_width": null,
            "min_height": null,
            "min_width": null,
            "object_fit": null,
            "object_position": null,
            "order": null,
            "overflow": null,
            "overflow_x": null,
            "overflow_y": null,
            "padding": null,
            "right": null,
            "top": null,
            "visibility": null,
            "width": null
          }
        },
        "570006eb6de948c6869570d1d8f09e3e": {
          "model_module": "@jupyter-widgets/controls",
          "model_name": "DescriptionStyleModel",
          "model_module_version": "1.5.0",
          "state": {
            "_model_module": "@jupyter-widgets/controls",
            "_model_module_version": "1.5.0",
            "_model_name": "DescriptionStyleModel",
            "_view_count": null,
            "_view_module": "@jupyter-widgets/base",
            "_view_module_version": "1.2.0",
            "_view_name": "StyleView",
            "description_width": ""
          }
        },
        "d964c94b55c44535a4ce1b968523a59d": {
          "model_module": "@jupyter-widgets/base",
          "model_name": "LayoutModel",
          "model_module_version": "1.2.0",
          "state": {
            "_model_module": "@jupyter-widgets/base",
            "_model_module_version": "1.2.0",
            "_model_name": "LayoutModel",
            "_view_count": null,
            "_view_module": "@jupyter-widgets/base",
            "_view_module_version": "1.2.0",
            "_view_name": "LayoutView",
            "align_content": null,
            "align_items": null,
            "align_self": null,
            "border": null,
            "bottom": null,
            "display": null,
            "flex": null,
            "flex_flow": null,
            "grid_area": null,
            "grid_auto_columns": null,
            "grid_auto_flow": null,
            "grid_auto_rows": null,
            "grid_column": null,
            "grid_gap": null,
            "grid_row": null,
            "grid_template_areas": null,
            "grid_template_columns": null,
            "grid_template_rows": null,
            "height": null,
            "justify_content": null,
            "justify_items": null,
            "left": null,
            "margin": null,
            "max_height": null,
            "max_width": null,
            "min_height": null,
            "min_width": null,
            "object_fit": null,
            "object_position": null,
            "order": null,
            "overflow": null,
            "overflow_x": null,
            "overflow_y": null,
            "padding": null,
            "right": null,
            "top": null,
            "visibility": null,
            "width": null
          }
        },
        "d908ed876c524ab08db8b924134b0271": {
          "model_module": "@jupyter-widgets/controls",
          "model_name": "ProgressStyleModel",
          "model_module_version": "1.5.0",
          "state": {
            "_model_module": "@jupyter-widgets/controls",
            "_model_module_version": "1.5.0",
            "_model_name": "ProgressStyleModel",
            "_view_count": null,
            "_view_module": "@jupyter-widgets/base",
            "_view_module_version": "1.2.0",
            "_view_name": "StyleView",
            "bar_color": null,
            "description_width": ""
          }
        },
        "cf3e3e1b1329430286c3c55685f08156": {
          "model_module": "@jupyter-widgets/base",
          "model_name": "LayoutModel",
          "model_module_version": "1.2.0",
          "state": {
            "_model_module": "@jupyter-widgets/base",
            "_model_module_version": "1.2.0",
            "_model_name": "LayoutModel",
            "_view_count": null,
            "_view_module": "@jupyter-widgets/base",
            "_view_module_version": "1.2.0",
            "_view_name": "LayoutView",
            "align_content": null,
            "align_items": null,
            "align_self": null,
            "border": null,
            "bottom": null,
            "display": null,
            "flex": null,
            "flex_flow": null,
            "grid_area": null,
            "grid_auto_columns": null,
            "grid_auto_flow": null,
            "grid_auto_rows": null,
            "grid_column": null,
            "grid_gap": null,
            "grid_row": null,
            "grid_template_areas": null,
            "grid_template_columns": null,
            "grid_template_rows": null,
            "height": null,
            "justify_content": null,
            "justify_items": null,
            "left": null,
            "margin": null,
            "max_height": null,
            "max_width": null,
            "min_height": null,
            "min_width": null,
            "object_fit": null,
            "object_position": null,
            "order": null,
            "overflow": null,
            "overflow_x": null,
            "overflow_y": null,
            "padding": null,
            "right": null,
            "top": null,
            "visibility": null,
            "width": null
          }
        },
        "1358ecd70b784e0aa3f12ea6035b1edd": {
          "model_module": "@jupyter-widgets/controls",
          "model_name": "DescriptionStyleModel",
          "model_module_version": "1.5.0",
          "state": {
            "_model_module": "@jupyter-widgets/controls",
            "_model_module_version": "1.5.0",
            "_model_name": "DescriptionStyleModel",
            "_view_count": null,
            "_view_module": "@jupyter-widgets/base",
            "_view_module_version": "1.2.0",
            "_view_name": "StyleView",
            "description_width": ""
          }
        },
        "0defd9b33b16419aa9041e1c1746b82f": {
          "model_module": "@jupyter-widgets/controls",
          "model_name": "HBoxModel",
          "model_module_version": "1.5.0",
          "state": {
            "_dom_classes": [],
            "_model_module": "@jupyter-widgets/controls",
            "_model_module_version": "1.5.0",
            "_model_name": "HBoxModel",
            "_view_count": null,
            "_view_module": "@jupyter-widgets/controls",
            "_view_module_version": "1.5.0",
            "_view_name": "HBoxView",
            "box_style": "",
            "children": [
              "IPY_MODEL_63d7bf5aef8847c3abff0bc19da43961",
              "IPY_MODEL_ccfd51163b3f432b98da34b6fdef070e",
              "IPY_MODEL_2b7b0edcc4f44ff2ad81b8e836a58d5f"
            ],
            "layout": "IPY_MODEL_c66f7adb3dc441328d007191ec37e929"
          }
        },
        "63d7bf5aef8847c3abff0bc19da43961": {
          "model_module": "@jupyter-widgets/controls",
          "model_name": "HTMLModel",
          "model_module_version": "1.5.0",
          "state": {
            "_dom_classes": [],
            "_model_module": "@jupyter-widgets/controls",
            "_model_module_version": "1.5.0",
            "_model_name": "HTMLModel",
            "_view_count": null,
            "_view_module": "@jupyter-widgets/controls",
            "_view_module_version": "1.5.0",
            "_view_name": "HTMLView",
            "description": "",
            "description_tooltip": null,
            "layout": "IPY_MODEL_8edb94e37cfe42318f2fb3c59be26d7e",
            "placeholder": "​",
            "style": "IPY_MODEL_7d1d00d68b0d42869358257a31c14e14",
            "value": "config.json: 100%"
          }
        },
        "ccfd51163b3f432b98da34b6fdef070e": {
          "model_module": "@jupyter-widgets/controls",
          "model_name": "FloatProgressModel",
          "model_module_version": "1.5.0",
          "state": {
            "_dom_classes": [],
            "_model_module": "@jupyter-widgets/controls",
            "_model_module_version": "1.5.0",
            "_model_name": "FloatProgressModel",
            "_view_count": null,
            "_view_module": "@jupyter-widgets/controls",
            "_view_module_version": "1.5.0",
            "_view_name": "ProgressView",
            "bar_style": "success",
            "description": "",
            "description_tooltip": null,
            "layout": "IPY_MODEL_618cb054849c44a6a50c740e3deab4e0",
            "max": 483,
            "min": 0,
            "orientation": "horizontal",
            "style": "IPY_MODEL_22eacc08984a4153af9fff21c05ebd86",
            "value": 483
          }
        },
        "2b7b0edcc4f44ff2ad81b8e836a58d5f": {
          "model_module": "@jupyter-widgets/controls",
          "model_name": "HTMLModel",
          "model_module_version": "1.5.0",
          "state": {
            "_dom_classes": [],
            "_model_module": "@jupyter-widgets/controls",
            "_model_module_version": "1.5.0",
            "_model_name": "HTMLModel",
            "_view_count": null,
            "_view_module": "@jupyter-widgets/controls",
            "_view_module_version": "1.5.0",
            "_view_name": "HTMLView",
            "description": "",
            "description_tooltip": null,
            "layout": "IPY_MODEL_d44854f6f5fc474b8f09863418be4032",
            "placeholder": "​",
            "style": "IPY_MODEL_5c7ce10b2b18460bad17d84c0dd22aeb",
            "value": " 483/483 [00:00&lt;00:00, 32.6kB/s]"
          }
        },
        "c66f7adb3dc441328d007191ec37e929": {
          "model_module": "@jupyter-widgets/base",
          "model_name": "LayoutModel",
          "model_module_version": "1.2.0",
          "state": {
            "_model_module": "@jupyter-widgets/base",
            "_model_module_version": "1.2.0",
            "_model_name": "LayoutModel",
            "_view_count": null,
            "_view_module": "@jupyter-widgets/base",
            "_view_module_version": "1.2.0",
            "_view_name": "LayoutView",
            "align_content": null,
            "align_items": null,
            "align_self": null,
            "border": null,
            "bottom": null,
            "display": null,
            "flex": null,
            "flex_flow": null,
            "grid_area": null,
            "grid_auto_columns": null,
            "grid_auto_flow": null,
            "grid_auto_rows": null,
            "grid_column": null,
            "grid_gap": null,
            "grid_row": null,
            "grid_template_areas": null,
            "grid_template_columns": null,
            "grid_template_rows": null,
            "height": null,
            "justify_content": null,
            "justify_items": null,
            "left": null,
            "margin": null,
            "max_height": null,
            "max_width": null,
            "min_height": null,
            "min_width": null,
            "object_fit": null,
            "object_position": null,
            "order": null,
            "overflow": null,
            "overflow_x": null,
            "overflow_y": null,
            "padding": null,
            "right": null,
            "top": null,
            "visibility": null,
            "width": null
          }
        },
        "8edb94e37cfe42318f2fb3c59be26d7e": {
          "model_module": "@jupyter-widgets/base",
          "model_name": "LayoutModel",
          "model_module_version": "1.2.0",
          "state": {
            "_model_module": "@jupyter-widgets/base",
            "_model_module_version": "1.2.0",
            "_model_name": "LayoutModel",
            "_view_count": null,
            "_view_module": "@jupyter-widgets/base",
            "_view_module_version": "1.2.0",
            "_view_name": "LayoutView",
            "align_content": null,
            "align_items": null,
            "align_self": null,
            "border": null,
            "bottom": null,
            "display": null,
            "flex": null,
            "flex_flow": null,
            "grid_area": null,
            "grid_auto_columns": null,
            "grid_auto_flow": null,
            "grid_auto_rows": null,
            "grid_column": null,
            "grid_gap": null,
            "grid_row": null,
            "grid_template_areas": null,
            "grid_template_columns": null,
            "grid_template_rows": null,
            "height": null,
            "justify_content": null,
            "justify_items": null,
            "left": null,
            "margin": null,
            "max_height": null,
            "max_width": null,
            "min_height": null,
            "min_width": null,
            "object_fit": null,
            "object_position": null,
            "order": null,
            "overflow": null,
            "overflow_x": null,
            "overflow_y": null,
            "padding": null,
            "right": null,
            "top": null,
            "visibility": null,
            "width": null
          }
        },
        "7d1d00d68b0d42869358257a31c14e14": {
          "model_module": "@jupyter-widgets/controls",
          "model_name": "DescriptionStyleModel",
          "model_module_version": "1.5.0",
          "state": {
            "_model_module": "@jupyter-widgets/controls",
            "_model_module_version": "1.5.0",
            "_model_name": "DescriptionStyleModel",
            "_view_count": null,
            "_view_module": "@jupyter-widgets/base",
            "_view_module_version": "1.2.0",
            "_view_name": "StyleView",
            "description_width": ""
          }
        },
        "618cb054849c44a6a50c740e3deab4e0": {
          "model_module": "@jupyter-widgets/base",
          "model_name": "LayoutModel",
          "model_module_version": "1.2.0",
          "state": {
            "_model_module": "@jupyter-widgets/base",
            "_model_module_version": "1.2.0",
            "_model_name": "LayoutModel",
            "_view_count": null,
            "_view_module": "@jupyter-widgets/base",
            "_view_module_version": "1.2.0",
            "_view_name": "LayoutView",
            "align_content": null,
            "align_items": null,
            "align_self": null,
            "border": null,
            "bottom": null,
            "display": null,
            "flex": null,
            "flex_flow": null,
            "grid_area": null,
            "grid_auto_columns": null,
            "grid_auto_flow": null,
            "grid_auto_rows": null,
            "grid_column": null,
            "grid_gap": null,
            "grid_row": null,
            "grid_template_areas": null,
            "grid_template_columns": null,
            "grid_template_rows": null,
            "height": null,
            "justify_content": null,
            "justify_items": null,
            "left": null,
            "margin": null,
            "max_height": null,
            "max_width": null,
            "min_height": null,
            "min_width": null,
            "object_fit": null,
            "object_position": null,
            "order": null,
            "overflow": null,
            "overflow_x": null,
            "overflow_y": null,
            "padding": null,
            "right": null,
            "top": null,
            "visibility": null,
            "width": null
          }
        },
        "22eacc08984a4153af9fff21c05ebd86": {
          "model_module": "@jupyter-widgets/controls",
          "model_name": "ProgressStyleModel",
          "model_module_version": "1.5.0",
          "state": {
            "_model_module": "@jupyter-widgets/controls",
            "_model_module_version": "1.5.0",
            "_model_name": "ProgressStyleModel",
            "_view_count": null,
            "_view_module": "@jupyter-widgets/base",
            "_view_module_version": "1.2.0",
            "_view_name": "StyleView",
            "bar_color": null,
            "description_width": ""
          }
        },
        "d44854f6f5fc474b8f09863418be4032": {
          "model_module": "@jupyter-widgets/base",
          "model_name": "LayoutModel",
          "model_module_version": "1.2.0",
          "state": {
            "_model_module": "@jupyter-widgets/base",
            "_model_module_version": "1.2.0",
            "_model_name": "LayoutModel",
            "_view_count": null,
            "_view_module": "@jupyter-widgets/base",
            "_view_module_version": "1.2.0",
            "_view_name": "LayoutView",
            "align_content": null,
            "align_items": null,
            "align_self": null,
            "border": null,
            "bottom": null,
            "display": null,
            "flex": null,
            "flex_flow": null,
            "grid_area": null,
            "grid_auto_columns": null,
            "grid_auto_flow": null,
            "grid_auto_rows": null,
            "grid_column": null,
            "grid_gap": null,
            "grid_row": null,
            "grid_template_areas": null,
            "grid_template_columns": null,
            "grid_template_rows": null,
            "height": null,
            "justify_content": null,
            "justify_items": null,
            "left": null,
            "margin": null,
            "max_height": null,
            "max_width": null,
            "min_height": null,
            "min_width": null,
            "object_fit": null,
            "object_position": null,
            "order": null,
            "overflow": null,
            "overflow_x": null,
            "overflow_y": null,
            "padding": null,
            "right": null,
            "top": null,
            "visibility": null,
            "width": null
          }
        },
        "5c7ce10b2b18460bad17d84c0dd22aeb": {
          "model_module": "@jupyter-widgets/controls",
          "model_name": "DescriptionStyleModel",
          "model_module_version": "1.5.0",
          "state": {
            "_model_module": "@jupyter-widgets/controls",
            "_model_module_version": "1.5.0",
            "_model_name": "DescriptionStyleModel",
            "_view_count": null,
            "_view_module": "@jupyter-widgets/base",
            "_view_module_version": "1.2.0",
            "_view_name": "StyleView",
            "description_width": ""
          }
        },
        "88d55dfaa9bb4a37b693786ea5a2f5e4": {
          "model_module": "@jupyter-widgets/controls",
          "model_name": "HBoxModel",
          "model_module_version": "1.5.0",
          "state": {
            "_dom_classes": [],
            "_model_module": "@jupyter-widgets/controls",
            "_model_module_version": "1.5.0",
            "_model_name": "HBoxModel",
            "_view_count": null,
            "_view_module": "@jupyter-widgets/controls",
            "_view_module_version": "1.5.0",
            "_view_name": "HBoxView",
            "box_style": "",
            "children": [
              "IPY_MODEL_e41227aa90a0426eb459fe73816bc74a",
              "IPY_MODEL_a9e5640a19984b3a94161496bb2c9ddd",
              "IPY_MODEL_0c5862aa1ba342eba50754e33ff36a44"
            ],
            "layout": "IPY_MODEL_28b682eb89e948aaac761b40295f73e1"
          }
        },
        "e41227aa90a0426eb459fe73816bc74a": {
          "model_module": "@jupyter-widgets/controls",
          "model_name": "HTMLModel",
          "model_module_version": "1.5.0",
          "state": {
            "_dom_classes": [],
            "_model_module": "@jupyter-widgets/controls",
            "_model_module_version": "1.5.0",
            "_model_name": "HTMLModel",
            "_view_count": null,
            "_view_module": "@jupyter-widgets/controls",
            "_view_module_version": "1.5.0",
            "_view_name": "HTMLView",
            "description": "",
            "description_tooltip": null,
            "layout": "IPY_MODEL_a49a7087708b48f2a4856d284ea74f82",
            "placeholder": "​",
            "style": "IPY_MODEL_64bc4ebc994247168aa7d428244a0ea0",
            "value": "vocab.txt: 100%"
          }
        },
        "a9e5640a19984b3a94161496bb2c9ddd": {
          "model_module": "@jupyter-widgets/controls",
          "model_name": "FloatProgressModel",
          "model_module_version": "1.5.0",
          "state": {
            "_dom_classes": [],
            "_model_module": "@jupyter-widgets/controls",
            "_model_module_version": "1.5.0",
            "_model_name": "FloatProgressModel",
            "_view_count": null,
            "_view_module": "@jupyter-widgets/controls",
            "_view_module_version": "1.5.0",
            "_view_name": "ProgressView",
            "bar_style": "success",
            "description": "",
            "description_tooltip": null,
            "layout": "IPY_MODEL_007056aa725549b0bcf684da7512c75b",
            "max": 231508,
            "min": 0,
            "orientation": "horizontal",
            "style": "IPY_MODEL_f7aac253fc23488d8dca53e3775d320c",
            "value": 231508
          }
        },
        "0c5862aa1ba342eba50754e33ff36a44": {
          "model_module": "@jupyter-widgets/controls",
          "model_name": "HTMLModel",
          "model_module_version": "1.5.0",
          "state": {
            "_dom_classes": [],
            "_model_module": "@jupyter-widgets/controls",
            "_model_module_version": "1.5.0",
            "_model_name": "HTMLModel",
            "_view_count": null,
            "_view_module": "@jupyter-widgets/controls",
            "_view_module_version": "1.5.0",
            "_view_name": "HTMLView",
            "description": "",
            "description_tooltip": null,
            "layout": "IPY_MODEL_aa5c8fda577a4d0f87a4d832f2e1f27d",
            "placeholder": "​",
            "style": "IPY_MODEL_0825c32f573c4402a03e6749708e2ab1",
            "value": " 232k/232k [00:00&lt;00:00, 3.00MB/s]"
          }
        },
        "28b682eb89e948aaac761b40295f73e1": {
          "model_module": "@jupyter-widgets/base",
          "model_name": "LayoutModel",
          "model_module_version": "1.2.0",
          "state": {
            "_model_module": "@jupyter-widgets/base",
            "_model_module_version": "1.2.0",
            "_model_name": "LayoutModel",
            "_view_count": null,
            "_view_module": "@jupyter-widgets/base",
            "_view_module_version": "1.2.0",
            "_view_name": "LayoutView",
            "align_content": null,
            "align_items": null,
            "align_self": null,
            "border": null,
            "bottom": null,
            "display": null,
            "flex": null,
            "flex_flow": null,
            "grid_area": null,
            "grid_auto_columns": null,
            "grid_auto_flow": null,
            "grid_auto_rows": null,
            "grid_column": null,
            "grid_gap": null,
            "grid_row": null,
            "grid_template_areas": null,
            "grid_template_columns": null,
            "grid_template_rows": null,
            "height": null,
            "justify_content": null,
            "justify_items": null,
            "left": null,
            "margin": null,
            "max_height": null,
            "max_width": null,
            "min_height": null,
            "min_width": null,
            "object_fit": null,
            "object_position": null,
            "order": null,
            "overflow": null,
            "overflow_x": null,
            "overflow_y": null,
            "padding": null,
            "right": null,
            "top": null,
            "visibility": null,
            "width": null
          }
        },
        "a49a7087708b48f2a4856d284ea74f82": {
          "model_module": "@jupyter-widgets/base",
          "model_name": "LayoutModel",
          "model_module_version": "1.2.0",
          "state": {
            "_model_module": "@jupyter-widgets/base",
            "_model_module_version": "1.2.0",
            "_model_name": "LayoutModel",
            "_view_count": null,
            "_view_module": "@jupyter-widgets/base",
            "_view_module_version": "1.2.0",
            "_view_name": "LayoutView",
            "align_content": null,
            "align_items": null,
            "align_self": null,
            "border": null,
            "bottom": null,
            "display": null,
            "flex": null,
            "flex_flow": null,
            "grid_area": null,
            "grid_auto_columns": null,
            "grid_auto_flow": null,
            "grid_auto_rows": null,
            "grid_column": null,
            "grid_gap": null,
            "grid_row": null,
            "grid_template_areas": null,
            "grid_template_columns": null,
            "grid_template_rows": null,
            "height": null,
            "justify_content": null,
            "justify_items": null,
            "left": null,
            "margin": null,
            "max_height": null,
            "max_width": null,
            "min_height": null,
            "min_width": null,
            "object_fit": null,
            "object_position": null,
            "order": null,
            "overflow": null,
            "overflow_x": null,
            "overflow_y": null,
            "padding": null,
            "right": null,
            "top": null,
            "visibility": null,
            "width": null
          }
        },
        "64bc4ebc994247168aa7d428244a0ea0": {
          "model_module": "@jupyter-widgets/controls",
          "model_name": "DescriptionStyleModel",
          "model_module_version": "1.5.0",
          "state": {
            "_model_module": "@jupyter-widgets/controls",
            "_model_module_version": "1.5.0",
            "_model_name": "DescriptionStyleModel",
            "_view_count": null,
            "_view_module": "@jupyter-widgets/base",
            "_view_module_version": "1.2.0",
            "_view_name": "StyleView",
            "description_width": ""
          }
        },
        "007056aa725549b0bcf684da7512c75b": {
          "model_module": "@jupyter-widgets/base",
          "model_name": "LayoutModel",
          "model_module_version": "1.2.0",
          "state": {
            "_model_module": "@jupyter-widgets/base",
            "_model_module_version": "1.2.0",
            "_model_name": "LayoutModel",
            "_view_count": null,
            "_view_module": "@jupyter-widgets/base",
            "_view_module_version": "1.2.0",
            "_view_name": "LayoutView",
            "align_content": null,
            "align_items": null,
            "align_self": null,
            "border": null,
            "bottom": null,
            "display": null,
            "flex": null,
            "flex_flow": null,
            "grid_area": null,
            "grid_auto_columns": null,
            "grid_auto_flow": null,
            "grid_auto_rows": null,
            "grid_column": null,
            "grid_gap": null,
            "grid_row": null,
            "grid_template_areas": null,
            "grid_template_columns": null,
            "grid_template_rows": null,
            "height": null,
            "justify_content": null,
            "justify_items": null,
            "left": null,
            "margin": null,
            "max_height": null,
            "max_width": null,
            "min_height": null,
            "min_width": null,
            "object_fit": null,
            "object_position": null,
            "order": null,
            "overflow": null,
            "overflow_x": null,
            "overflow_y": null,
            "padding": null,
            "right": null,
            "top": null,
            "visibility": null,
            "width": null
          }
        },
        "f7aac253fc23488d8dca53e3775d320c": {
          "model_module": "@jupyter-widgets/controls",
          "model_name": "ProgressStyleModel",
          "model_module_version": "1.5.0",
          "state": {
            "_model_module": "@jupyter-widgets/controls",
            "_model_module_version": "1.5.0",
            "_model_name": "ProgressStyleModel",
            "_view_count": null,
            "_view_module": "@jupyter-widgets/base",
            "_view_module_version": "1.2.0",
            "_view_name": "StyleView",
            "bar_color": null,
            "description_width": ""
          }
        },
        "aa5c8fda577a4d0f87a4d832f2e1f27d": {
          "model_module": "@jupyter-widgets/base",
          "model_name": "LayoutModel",
          "model_module_version": "1.2.0",
          "state": {
            "_model_module": "@jupyter-widgets/base",
            "_model_module_version": "1.2.0",
            "_model_name": "LayoutModel",
            "_view_count": null,
            "_view_module": "@jupyter-widgets/base",
            "_view_module_version": "1.2.0",
            "_view_name": "LayoutView",
            "align_content": null,
            "align_items": null,
            "align_self": null,
            "border": null,
            "bottom": null,
            "display": null,
            "flex": null,
            "flex_flow": null,
            "grid_area": null,
            "grid_auto_columns": null,
            "grid_auto_flow": null,
            "grid_auto_rows": null,
            "grid_column": null,
            "grid_gap": null,
            "grid_row": null,
            "grid_template_areas": null,
            "grid_template_columns": null,
            "grid_template_rows": null,
            "height": null,
            "justify_content": null,
            "justify_items": null,
            "left": null,
            "margin": null,
            "max_height": null,
            "max_width": null,
            "min_height": null,
            "min_width": null,
            "object_fit": null,
            "object_position": null,
            "order": null,
            "overflow": null,
            "overflow_x": null,
            "overflow_y": null,
            "padding": null,
            "right": null,
            "top": null,
            "visibility": null,
            "width": null
          }
        },
        "0825c32f573c4402a03e6749708e2ab1": {
          "model_module": "@jupyter-widgets/controls",
          "model_name": "DescriptionStyleModel",
          "model_module_version": "1.5.0",
          "state": {
            "_model_module": "@jupyter-widgets/controls",
            "_model_module_version": "1.5.0",
            "_model_name": "DescriptionStyleModel",
            "_view_count": null,
            "_view_module": "@jupyter-widgets/base",
            "_view_module_version": "1.2.0",
            "_view_name": "StyleView",
            "description_width": ""
          }
        },
        "630203eb9e0a4000a7bcedb1afb0db92": {
          "model_module": "@jupyter-widgets/controls",
          "model_name": "HBoxModel",
          "model_module_version": "1.5.0",
          "state": {
            "_dom_classes": [],
            "_model_module": "@jupyter-widgets/controls",
            "_model_module_version": "1.5.0",
            "_model_name": "HBoxModel",
            "_view_count": null,
            "_view_module": "@jupyter-widgets/controls",
            "_view_module_version": "1.5.0",
            "_view_name": "HBoxView",
            "box_style": "",
            "children": [
              "IPY_MODEL_fec44b35cfd748ae9f84013c255b7e99",
              "IPY_MODEL_a70e4743f0be4a959c08d13e108cb462",
              "IPY_MODEL_9928ba3780db4f99b7a8d2b53a6b8a45"
            ],
            "layout": "IPY_MODEL_543c901adfd240028c04e61e51612942"
          }
        },
        "fec44b35cfd748ae9f84013c255b7e99": {
          "model_module": "@jupyter-widgets/controls",
          "model_name": "HTMLModel",
          "model_module_version": "1.5.0",
          "state": {
            "_dom_classes": [],
            "_model_module": "@jupyter-widgets/controls",
            "_model_module_version": "1.5.0",
            "_model_name": "HTMLModel",
            "_view_count": null,
            "_view_module": "@jupyter-widgets/controls",
            "_view_module_version": "1.5.0",
            "_view_name": "HTMLView",
            "description": "",
            "description_tooltip": null,
            "layout": "IPY_MODEL_7f6e572ca22f40a4860856adb8aaba3d",
            "placeholder": "​",
            "style": "IPY_MODEL_af93f9afdb0e47d7a226e37c72ce52e1",
            "value": "tokenizer.json: 100%"
          }
        },
        "a70e4743f0be4a959c08d13e108cb462": {
          "model_module": "@jupyter-widgets/controls",
          "model_name": "FloatProgressModel",
          "model_module_version": "1.5.0",
          "state": {
            "_dom_classes": [],
            "_model_module": "@jupyter-widgets/controls",
            "_model_module_version": "1.5.0",
            "_model_name": "FloatProgressModel",
            "_view_count": null,
            "_view_module": "@jupyter-widgets/controls",
            "_view_module_version": "1.5.0",
            "_view_name": "ProgressView",
            "bar_style": "success",
            "description": "",
            "description_tooltip": null,
            "layout": "IPY_MODEL_ff79b93adf184ccbb4c511e628e55cb1",
            "max": 466062,
            "min": 0,
            "orientation": "horizontal",
            "style": "IPY_MODEL_196f20dec98746f989d91cc91e3faa6b",
            "value": 466062
          }
        },
        "9928ba3780db4f99b7a8d2b53a6b8a45": {
          "model_module": "@jupyter-widgets/controls",
          "model_name": "HTMLModel",
          "model_module_version": "1.5.0",
          "state": {
            "_dom_classes": [],
            "_model_module": "@jupyter-widgets/controls",
            "_model_module_version": "1.5.0",
            "_model_name": "HTMLModel",
            "_view_count": null,
            "_view_module": "@jupyter-widgets/controls",
            "_view_module_version": "1.5.0",
            "_view_name": "HTMLView",
            "description": "",
            "description_tooltip": null,
            "layout": "IPY_MODEL_3aa6bdf64d21415888edd31ea839dee7",
            "placeholder": "​",
            "style": "IPY_MODEL_e893d41cd9a74e37a0cf46ff42507e28",
            "value": " 466k/466k [00:00&lt;00:00, 12.4MB/s]"
          }
        },
        "543c901adfd240028c04e61e51612942": {
          "model_module": "@jupyter-widgets/base",
          "model_name": "LayoutModel",
          "model_module_version": "1.2.0",
          "state": {
            "_model_module": "@jupyter-widgets/base",
            "_model_module_version": "1.2.0",
            "_model_name": "LayoutModel",
            "_view_count": null,
            "_view_module": "@jupyter-widgets/base",
            "_view_module_version": "1.2.0",
            "_view_name": "LayoutView",
            "align_content": null,
            "align_items": null,
            "align_self": null,
            "border": null,
            "bottom": null,
            "display": null,
            "flex": null,
            "flex_flow": null,
            "grid_area": null,
            "grid_auto_columns": null,
            "grid_auto_flow": null,
            "grid_auto_rows": null,
            "grid_column": null,
            "grid_gap": null,
            "grid_row": null,
            "grid_template_areas": null,
            "grid_template_columns": null,
            "grid_template_rows": null,
            "height": null,
            "justify_content": null,
            "justify_items": null,
            "left": null,
            "margin": null,
            "max_height": null,
            "max_width": null,
            "min_height": null,
            "min_width": null,
            "object_fit": null,
            "object_position": null,
            "order": null,
            "overflow": null,
            "overflow_x": null,
            "overflow_y": null,
            "padding": null,
            "right": null,
            "top": null,
            "visibility": null,
            "width": null
          }
        },
        "7f6e572ca22f40a4860856adb8aaba3d": {
          "model_module": "@jupyter-widgets/base",
          "model_name": "LayoutModel",
          "model_module_version": "1.2.0",
          "state": {
            "_model_module": "@jupyter-widgets/base",
            "_model_module_version": "1.2.0",
            "_model_name": "LayoutModel",
            "_view_count": null,
            "_view_module": "@jupyter-widgets/base",
            "_view_module_version": "1.2.0",
            "_view_name": "LayoutView",
            "align_content": null,
            "align_items": null,
            "align_self": null,
            "border": null,
            "bottom": null,
            "display": null,
            "flex": null,
            "flex_flow": null,
            "grid_area": null,
            "grid_auto_columns": null,
            "grid_auto_flow": null,
            "grid_auto_rows": null,
            "grid_column": null,
            "grid_gap": null,
            "grid_row": null,
            "grid_template_areas": null,
            "grid_template_columns": null,
            "grid_template_rows": null,
            "height": null,
            "justify_content": null,
            "justify_items": null,
            "left": null,
            "margin": null,
            "max_height": null,
            "max_width": null,
            "min_height": null,
            "min_width": null,
            "object_fit": null,
            "object_position": null,
            "order": null,
            "overflow": null,
            "overflow_x": null,
            "overflow_y": null,
            "padding": null,
            "right": null,
            "top": null,
            "visibility": null,
            "width": null
          }
        },
        "af93f9afdb0e47d7a226e37c72ce52e1": {
          "model_module": "@jupyter-widgets/controls",
          "model_name": "DescriptionStyleModel",
          "model_module_version": "1.5.0",
          "state": {
            "_model_module": "@jupyter-widgets/controls",
            "_model_module_version": "1.5.0",
            "_model_name": "DescriptionStyleModel",
            "_view_count": null,
            "_view_module": "@jupyter-widgets/base",
            "_view_module_version": "1.2.0",
            "_view_name": "StyleView",
            "description_width": ""
          }
        },
        "ff79b93adf184ccbb4c511e628e55cb1": {
          "model_module": "@jupyter-widgets/base",
          "model_name": "LayoutModel",
          "model_module_version": "1.2.0",
          "state": {
            "_model_module": "@jupyter-widgets/base",
            "_model_module_version": "1.2.0",
            "_model_name": "LayoutModel",
            "_view_count": null,
            "_view_module": "@jupyter-widgets/base",
            "_view_module_version": "1.2.0",
            "_view_name": "LayoutView",
            "align_content": null,
            "align_items": null,
            "align_self": null,
            "border": null,
            "bottom": null,
            "display": null,
            "flex": null,
            "flex_flow": null,
            "grid_area": null,
            "grid_auto_columns": null,
            "grid_auto_flow": null,
            "grid_auto_rows": null,
            "grid_column": null,
            "grid_gap": null,
            "grid_row": null,
            "grid_template_areas": null,
            "grid_template_columns": null,
            "grid_template_rows": null,
            "height": null,
            "justify_content": null,
            "justify_items": null,
            "left": null,
            "margin": null,
            "max_height": null,
            "max_width": null,
            "min_height": null,
            "min_width": null,
            "object_fit": null,
            "object_position": null,
            "order": null,
            "overflow": null,
            "overflow_x": null,
            "overflow_y": null,
            "padding": null,
            "right": null,
            "top": null,
            "visibility": null,
            "width": null
          }
        },
        "196f20dec98746f989d91cc91e3faa6b": {
          "model_module": "@jupyter-widgets/controls",
          "model_name": "ProgressStyleModel",
          "model_module_version": "1.5.0",
          "state": {
            "_model_module": "@jupyter-widgets/controls",
            "_model_module_version": "1.5.0",
            "_model_name": "ProgressStyleModel",
            "_view_count": null,
            "_view_module": "@jupyter-widgets/base",
            "_view_module_version": "1.2.0",
            "_view_name": "StyleView",
            "bar_color": null,
            "description_width": ""
          }
        },
        "3aa6bdf64d21415888edd31ea839dee7": {
          "model_module": "@jupyter-widgets/base",
          "model_name": "LayoutModel",
          "model_module_version": "1.2.0",
          "state": {
            "_model_module": "@jupyter-widgets/base",
            "_model_module_version": "1.2.0",
            "_model_name": "LayoutModel",
            "_view_count": null,
            "_view_module": "@jupyter-widgets/base",
            "_view_module_version": "1.2.0",
            "_view_name": "LayoutView",
            "align_content": null,
            "align_items": null,
            "align_self": null,
            "border": null,
            "bottom": null,
            "display": null,
            "flex": null,
            "flex_flow": null,
            "grid_area": null,
            "grid_auto_columns": null,
            "grid_auto_flow": null,
            "grid_auto_rows": null,
            "grid_column": null,
            "grid_gap": null,
            "grid_row": null,
            "grid_template_areas": null,
            "grid_template_columns": null,
            "grid_template_rows": null,
            "height": null,
            "justify_content": null,
            "justify_items": null,
            "left": null,
            "margin": null,
            "max_height": null,
            "max_width": null,
            "min_height": null,
            "min_width": null,
            "object_fit": null,
            "object_position": null,
            "order": null,
            "overflow": null,
            "overflow_x": null,
            "overflow_y": null,
            "padding": null,
            "right": null,
            "top": null,
            "visibility": null,
            "width": null
          }
        },
        "e893d41cd9a74e37a0cf46ff42507e28": {
          "model_module": "@jupyter-widgets/controls",
          "model_name": "DescriptionStyleModel",
          "model_module_version": "1.5.0",
          "state": {
            "_model_module": "@jupyter-widgets/controls",
            "_model_module_version": "1.5.0",
            "_model_name": "DescriptionStyleModel",
            "_view_count": null,
            "_view_module": "@jupyter-widgets/base",
            "_view_module_version": "1.2.0",
            "_view_name": "StyleView",
            "description_width": ""
          }
        },
        "9b567887a2ea4d2191f7792b68d0185d": {
          "model_module": "@jupyter-widgets/controls",
          "model_name": "HBoxModel",
          "model_module_version": "1.5.0",
          "state": {
            "_dom_classes": [],
            "_model_module": "@jupyter-widgets/controls",
            "_model_module_version": "1.5.0",
            "_model_name": "HBoxModel",
            "_view_count": null,
            "_view_module": "@jupyter-widgets/controls",
            "_view_module_version": "1.5.0",
            "_view_name": "HBoxView",
            "box_style": "",
            "children": [
              "IPY_MODEL_69b60b88cc394bada4cad85f025a3277",
              "IPY_MODEL_0d94a189bd3246b5adfd38596c7967b3",
              "IPY_MODEL_aff40e2bd9324964a0ca08d10dc7105e"
            ],
            "layout": "IPY_MODEL_4898fbf701684f9599615fa1452bf0f9"
          }
        },
        "69b60b88cc394bada4cad85f025a3277": {
          "model_module": "@jupyter-widgets/controls",
          "model_name": "HTMLModel",
          "model_module_version": "1.5.0",
          "state": {
            "_dom_classes": [],
            "_model_module": "@jupyter-widgets/controls",
            "_model_module_version": "1.5.0",
            "_model_name": "HTMLModel",
            "_view_count": null,
            "_view_module": "@jupyter-widgets/controls",
            "_view_module_version": "1.5.0",
            "_view_name": "HTMLView",
            "description": "",
            "description_tooltip": null,
            "layout": "IPY_MODEL_63658edbb7bd40008af3bb14202743a0",
            "placeholder": "​",
            "style": "IPY_MODEL_c38d1542c0d14684a80593c31a8a0ff5",
            "value": "model.safetensors: 100%"
          }
        },
        "0d94a189bd3246b5adfd38596c7967b3": {
          "model_module": "@jupyter-widgets/controls",
          "model_name": "FloatProgressModel",
          "model_module_version": "1.5.0",
          "state": {
            "_dom_classes": [],
            "_model_module": "@jupyter-widgets/controls",
            "_model_module_version": "1.5.0",
            "_model_name": "FloatProgressModel",
            "_view_count": null,
            "_view_module": "@jupyter-widgets/controls",
            "_view_module_version": "1.5.0",
            "_view_name": "ProgressView",
            "bar_style": "success",
            "description": "",
            "description_tooltip": null,
            "layout": "IPY_MODEL_0b94b2ea6b604632bd1223083aa6a3bf",
            "max": 267954768,
            "min": 0,
            "orientation": "horizontal",
            "style": "IPY_MODEL_fe852d02fc4f488299604a8c7f6f622f",
            "value": 267954768
          }
        },
        "aff40e2bd9324964a0ca08d10dc7105e": {
          "model_module": "@jupyter-widgets/controls",
          "model_name": "HTMLModel",
          "model_module_version": "1.5.0",
          "state": {
            "_dom_classes": [],
            "_model_module": "@jupyter-widgets/controls",
            "_model_module_version": "1.5.0",
            "_model_name": "HTMLModel",
            "_view_count": null,
            "_view_module": "@jupyter-widgets/controls",
            "_view_module_version": "1.5.0",
            "_view_name": "HTMLView",
            "description": "",
            "description_tooltip": null,
            "layout": "IPY_MODEL_affd86eb1d2146f2bbcb7c37f6173115",
            "placeholder": "​",
            "style": "IPY_MODEL_2b8161daaa194855b41c57799184a500",
            "value": " 268M/268M [00:01&lt;00:00, 180MB/s]"
          }
        },
        "4898fbf701684f9599615fa1452bf0f9": {
          "model_module": "@jupyter-widgets/base",
          "model_name": "LayoutModel",
          "model_module_version": "1.2.0",
          "state": {
            "_model_module": "@jupyter-widgets/base",
            "_model_module_version": "1.2.0",
            "_model_name": "LayoutModel",
            "_view_count": null,
            "_view_module": "@jupyter-widgets/base",
            "_view_module_version": "1.2.0",
            "_view_name": "LayoutView",
            "align_content": null,
            "align_items": null,
            "align_self": null,
            "border": null,
            "bottom": null,
            "display": null,
            "flex": null,
            "flex_flow": null,
            "grid_area": null,
            "grid_auto_columns": null,
            "grid_auto_flow": null,
            "grid_auto_rows": null,
            "grid_column": null,
            "grid_gap": null,
            "grid_row": null,
            "grid_template_areas": null,
            "grid_template_columns": null,
            "grid_template_rows": null,
            "height": null,
            "justify_content": null,
            "justify_items": null,
            "left": null,
            "margin": null,
            "max_height": null,
            "max_width": null,
            "min_height": null,
            "min_width": null,
            "object_fit": null,
            "object_position": null,
            "order": null,
            "overflow": null,
            "overflow_x": null,
            "overflow_y": null,
            "padding": null,
            "right": null,
            "top": null,
            "visibility": null,
            "width": null
          }
        },
        "63658edbb7bd40008af3bb14202743a0": {
          "model_module": "@jupyter-widgets/base",
          "model_name": "LayoutModel",
          "model_module_version": "1.2.0",
          "state": {
            "_model_module": "@jupyter-widgets/base",
            "_model_module_version": "1.2.0",
            "_model_name": "LayoutModel",
            "_view_count": null,
            "_view_module": "@jupyter-widgets/base",
            "_view_module_version": "1.2.0",
            "_view_name": "LayoutView",
            "align_content": null,
            "align_items": null,
            "align_self": null,
            "border": null,
            "bottom": null,
            "display": null,
            "flex": null,
            "flex_flow": null,
            "grid_area": null,
            "grid_auto_columns": null,
            "grid_auto_flow": null,
            "grid_auto_rows": null,
            "grid_column": null,
            "grid_gap": null,
            "grid_row": null,
            "grid_template_areas": null,
            "grid_template_columns": null,
            "grid_template_rows": null,
            "height": null,
            "justify_content": null,
            "justify_items": null,
            "left": null,
            "margin": null,
            "max_height": null,
            "max_width": null,
            "min_height": null,
            "min_width": null,
            "object_fit": null,
            "object_position": null,
            "order": null,
            "overflow": null,
            "overflow_x": null,
            "overflow_y": null,
            "padding": null,
            "right": null,
            "top": null,
            "visibility": null,
            "width": null
          }
        },
        "c38d1542c0d14684a80593c31a8a0ff5": {
          "model_module": "@jupyter-widgets/controls",
          "model_name": "DescriptionStyleModel",
          "model_module_version": "1.5.0",
          "state": {
            "_model_module": "@jupyter-widgets/controls",
            "_model_module_version": "1.5.0",
            "_model_name": "DescriptionStyleModel",
            "_view_count": null,
            "_view_module": "@jupyter-widgets/base",
            "_view_module_version": "1.2.0",
            "_view_name": "StyleView",
            "description_width": ""
          }
        },
        "0b94b2ea6b604632bd1223083aa6a3bf": {
          "model_module": "@jupyter-widgets/base",
          "model_name": "LayoutModel",
          "model_module_version": "1.2.0",
          "state": {
            "_model_module": "@jupyter-widgets/base",
            "_model_module_version": "1.2.0",
            "_model_name": "LayoutModel",
            "_view_count": null,
            "_view_module": "@jupyter-widgets/base",
            "_view_module_version": "1.2.0",
            "_view_name": "LayoutView",
            "align_content": null,
            "align_items": null,
            "align_self": null,
            "border": null,
            "bottom": null,
            "display": null,
            "flex": null,
            "flex_flow": null,
            "grid_area": null,
            "grid_auto_columns": null,
            "grid_auto_flow": null,
            "grid_auto_rows": null,
            "grid_column": null,
            "grid_gap": null,
            "grid_row": null,
            "grid_template_areas": null,
            "grid_template_columns": null,
            "grid_template_rows": null,
            "height": null,
            "justify_content": null,
            "justify_items": null,
            "left": null,
            "margin": null,
            "max_height": null,
            "max_width": null,
            "min_height": null,
            "min_width": null,
            "object_fit": null,
            "object_position": null,
            "order": null,
            "overflow": null,
            "overflow_x": null,
            "overflow_y": null,
            "padding": null,
            "right": null,
            "top": null,
            "visibility": null,
            "width": null
          }
        },
        "fe852d02fc4f488299604a8c7f6f622f": {
          "model_module": "@jupyter-widgets/controls",
          "model_name": "ProgressStyleModel",
          "model_module_version": "1.5.0",
          "state": {
            "_model_module": "@jupyter-widgets/controls",
            "_model_module_version": "1.5.0",
            "_model_name": "ProgressStyleModel",
            "_view_count": null,
            "_view_module": "@jupyter-widgets/base",
            "_view_module_version": "1.2.0",
            "_view_name": "StyleView",
            "bar_color": null,
            "description_width": ""
          }
        },
        "affd86eb1d2146f2bbcb7c37f6173115": {
          "model_module": "@jupyter-widgets/base",
          "model_name": "LayoutModel",
          "model_module_version": "1.2.0",
          "state": {
            "_model_module": "@jupyter-widgets/base",
            "_model_module_version": "1.2.0",
            "_model_name": "LayoutModel",
            "_view_count": null,
            "_view_module": "@jupyter-widgets/base",
            "_view_module_version": "1.2.0",
            "_view_name": "LayoutView",
            "align_content": null,
            "align_items": null,
            "align_self": null,
            "border": null,
            "bottom": null,
            "display": null,
            "flex": null,
            "flex_flow": null,
            "grid_area": null,
            "grid_auto_columns": null,
            "grid_auto_flow": null,
            "grid_auto_rows": null,
            "grid_column": null,
            "grid_gap": null,
            "grid_row": null,
            "grid_template_areas": null,
            "grid_template_columns": null,
            "grid_template_rows": null,
            "height": null,
            "justify_content": null,
            "justify_items": null,
            "left": null,
            "margin": null,
            "max_height": null,
            "max_width": null,
            "min_height": null,
            "min_width": null,
            "object_fit": null,
            "object_position": null,
            "order": null,
            "overflow": null,
            "overflow_x": null,
            "overflow_y": null,
            "padding": null,
            "right": null,
            "top": null,
            "visibility": null,
            "width": null
          }
        },
        "2b8161daaa194855b41c57799184a500": {
          "model_module": "@jupyter-widgets/controls",
          "model_name": "DescriptionStyleModel",
          "model_module_version": "1.5.0",
          "state": {
            "_model_module": "@jupyter-widgets/controls",
            "_model_module_version": "1.5.0",
            "_model_name": "DescriptionStyleModel",
            "_view_count": null,
            "_view_module": "@jupyter-widgets/base",
            "_view_module_version": "1.2.0",
            "_view_name": "StyleView",
            "description_width": ""
          }
        }
      }
    }
  },
  "nbformat": 4,
  "nbformat_minor": 0
}