{
  "cells": [
    {
      "cell_type": "markdown",
      "metadata": {
        "id": "3WsPpeIQUIIH"
      },
      "source": [
        "# L4: Dependency parsing"
      ]
    },
    {
      "cell_type": "markdown",
      "metadata": {
        "id": "5aAvpRzGUIII"
      },
      "source": [
        "In this lab, you will implement a simplified version of the dependency parser presented by [Glavaš and Vulić (2021)](http://dx.doi.org/10.18653/v1/2021.eacl-main.270). This parser consists of a transformer encoder followed by a bi-affine layer that computes arc scores for all pairs of words. These scores are then used as logits in a classifier that predicts the position of the head of each word. In contrast to the parser described in the paper, yours will only support unlabelled parsing, that is, you will not implement what the authors call a *relation classifier*. As the encoder, you will use the [uncased DistilBERT base model](https://huggingface.co/docs/transformers/model_doc/distilbert) from the [Transformers](https://huggingface.co/docs/transformers/main/en/index) library, even though every other BERT-based encoder should work equally well."
      ]
    },
    {
      "cell_type": "code",
      "execution_count": 1,
      "metadata": {
        "colab": {
          "base_uri": "https://localhost:8080/"
        },
        "id": "F8byjzFeUONp",
        "outputId": "4d533651-f375-488d-f4a0-fac24634aff4"
      },
      "outputs": [
        {
          "name": "stdout",
          "output_type": "stream",
          "text": [
            "Requirement already satisfied: transformers in /usr/local/lib/python3.10/dist-packages (4.35.2)\n",
            "Collecting conllu\n",
            "  Downloading conllu-4.5.3-py2.py3-none-any.whl (16 kB)\n",
            "Requirement already satisfied: filelock in /usr/local/lib/python3.10/dist-packages (from transformers) (3.13.1)\n",
            "Requirement already satisfied: huggingface-hub<1.0,>=0.16.4 in /usr/local/lib/python3.10/dist-packages (from transformers) (0.20.3)\n",
            "Requirement already satisfied: numpy>=1.17 in /usr/local/lib/python3.10/dist-packages (from transformers) (1.25.2)\n",
            "Requirement already satisfied: packaging>=20.0 in /usr/local/lib/python3.10/dist-packages (from transformers) (23.2)\n",
            "Requirement already satisfied: pyyaml>=5.1 in /usr/local/lib/python3.10/dist-packages (from transformers) (6.0.1)\n",
            "Requirement already satisfied: regex!=2019.12.17 in /usr/local/lib/python3.10/dist-packages (from transformers) (2023.12.25)\n",
            "Requirement already satisfied: requests in /usr/local/lib/python3.10/dist-packages (from transformers) (2.31.0)\n",
            "Requirement already satisfied: tokenizers<0.19,>=0.14 in /usr/local/lib/python3.10/dist-packages (from transformers) (0.15.2)\n",
            "Requirement already satisfied: safetensors>=0.3.1 in /usr/local/lib/python3.10/dist-packages (from transformers) (0.4.2)\n",
            "Requirement already satisfied: tqdm>=4.27 in /usr/local/lib/python3.10/dist-packages (from transformers) (4.66.2)\n",
            "Requirement already satisfied: fsspec>=2023.5.0 in /usr/local/lib/python3.10/dist-packages (from huggingface-hub<1.0,>=0.16.4->transformers) (2023.6.0)\n",
            "Requirement already satisfied: typing-extensions>=3.7.4.3 in /usr/local/lib/python3.10/dist-packages (from huggingface-hub<1.0,>=0.16.4->transformers) (4.9.0)\n",
            "Requirement already satisfied: charset-normalizer<4,>=2 in /usr/local/lib/python3.10/dist-packages (from requests->transformers) (3.3.2)\n",
            "Requirement already satisfied: idna<4,>=2.5 in /usr/local/lib/python3.10/dist-packages (from requests->transformers) (3.6)\n",
            "Requirement already satisfied: urllib3<3,>=1.21.1 in /usr/local/lib/python3.10/dist-packages (from requests->transformers) (2.0.7)\n",
            "Requirement already satisfied: certifi>=2017.4.17 in /usr/local/lib/python3.10/dist-packages (from requests->transformers) (2024.2.2)\n",
            "Installing collected packages: conllu\n",
            "Successfully installed conllu-4.5.3\n"
          ]
        }
      ],
      "source": [
        "!pip3 install transformers conllu\n",
        "import torch"
      ]
    },
    {
      "cell_type": "code",
      "execution_count": 2,
      "metadata": {
        "colab": {
          "base_uri": "https://localhost:8080/"
        },
        "id": "wsp0Bb3MVR2g",
        "outputId": "23724e29-dd58-40f3-b74e-348b319d7d52"
      },
      "outputs": [
        {
          "data": {
            "text/plain": [
              "device(type='cuda')"
            ]
          },
          "execution_count": 2,
          "metadata": {},
          "output_type": "execute_result"
        }
      ],
      "source": [
        "device = torch.device('cuda' if torch.cuda.is_available() else 'cpu')\n",
        "device"
      ]
    },
    {
      "cell_type": "markdown",
      "metadata": {
        "id": "8oQfABgoUIII"
      },
      "source": [
        "## Dataset"
      ]
    },
    {
      "cell_type": "markdown",
      "metadata": {
        "id": "xSKoM5xmUIIJ"
      },
      "source": [
        "The data for this lab comes from the English Web Treebank from the [Universal Dependencies Project](http://universaldependencies.org). To read the data, we use the [CoNLL-U Parser](https://pypi.org/project/conllu/) library. The code in the next cell defines a PyTorch [Dataset](https://pytorch.org/docs/stable/data.html#torch.utils.data.Dataset) wrapper for the data."
      ]
    },
    {
      "cell_type": "code",
      "execution_count": 6,
      "metadata": {
        "id": "NiUFu2rmUIIJ"
      },
      "outputs": [],
      "source": [
        "import conllu\n",
        "\n",
        "from torch.utils.data import Dataset\n",
        "\n",
        "class ParserDataset(Dataset):\n",
        "\n",
        "    def __init__(self, filename):\n",
        "        super().__init__()\n",
        "        self.items = []\n",
        "        with open(filename, 'rt', encoding='utf-8') as fp:\n",
        "            for tokens in conllu.parse_incr(fp):\n",
        "                self.items.append([(t['form'], t['head']) for t in tokens if isinstance(t['id'], int)])\n",
        "\n",
        "    def __len__(self):\n",
        "        return len(self.items)\n",
        "\n",
        "    def __getitem__(self, idx):\n",
        "        return self.items[idx]"
      ]
    },
    {
      "cell_type": "markdown",
      "metadata": {
        "id": "WHm9PkAlUIIK"
      },
      "source": [
        "We can now load the training data:"
      ]
    },
    {
      "cell_type": "code",
      "execution_count": 7,
      "metadata": {
        "id": "3SGNS8cCUIIK"
      },
      "outputs": [],
      "source": [
        "TRAIN_DATA = ParserDataset('en_ewt-ud-train.conllu')"
      ]
    },
    {
      "cell_type": "markdown",
      "metadata": {
        "id": "bTDv3X0ZUIIK"
      },
      "source": [
        "Our data consists of **parsed sentences**. A parsed sentence is represented as a list of pairs. The first component of each pair (a string) represents a word; the second component (an integer) specifies the position of the word’s head, i.e., its parent in the dependency tree. Note that word positions are numbered starting at&nbsp;1; the head position&nbsp;0 represents the root of the tree.\n",
        "\n",
        "Run the next cell to see an example sentence:"
      ]
    },
    {
      "cell_type": "code",
      "execution_count": 8,
      "metadata": {
        "colab": {
          "base_uri": "https://localhost:8080/"
        },
        "id": "e2cXRNeiUIIK",
        "outputId": "839dece1-005f-40c8-d2f1-20828d093a65"
      },
      "outputs": [
        {
          "data": {
            "text/plain": [
              "(('I', 'like', 'yuor', 'blog', '.'), (2, 0, 4, 2, 2))"
            ]
          },
          "execution_count": 8,
          "metadata": {},
          "output_type": "execute_result"
        }
      ],
      "source": [
        "EXAMPLE_WORDS: tuple[str] = list(zip(*TRAIN_DATA[531]))[0]\n",
        "EXAMPLE_HEADS: tuple[int] = list(zip(*TRAIN_DATA[531]))[1]\n",
        "\n",
        "EXAMPLE_WORDS, EXAMPLE_HEADS"
      ]
    },
    {
      "cell_type": "markdown",
      "metadata": {
        "id": "gLV79pceUIIL"
      },
      "source": [
        "The example sentence consists of five whitespace-separated words, including the final punctuation mark. The head of the pronoun *I* is the word at position&nbsp;2 – the verb *like*. The head of the word *like* is the root of the tree (position&nbsp;0). The dependents of *like* are *I* (position&nbsp;1), the noun *blog* (position&nbsp;4), and the final punctuation mark. Note that the pronoun *your* (position&nbsp;3) is misspelled as *yuor*."
      ]
    },
    {
      "cell_type": "markdown",
      "metadata": {
        "id": "Vo6qcCREUIIM"
      },
      "source": [
        "## Problem 1: Tokenisation (2 points)"
      ]
    },
    {
      "cell_type": "markdown",
      "metadata": {
        "id": "9-nvrv1CUIIM"
      },
      "source": [
        "To feed parsed sentences to DistilBERT, we need to tokenise them and encode the resulting tokens as integers in the model vocabulary. We start by loading the DistilBERT tokeniser using the [Auto classes](https://huggingface.co/docs/transformers/v4.37.2/en/model_doc/auto):"
      ]
    },
    {
      "cell_type": "code",
      "execution_count": 9,
      "metadata": {
        "colab": {
          "base_uri": "https://localhost:8080/",
          "height": 269,
          "referenced_widgets": [
            "7c80a95ee9d94b389d01763842e47632",
            "5ace68b4060d4a9a966b740f0208e1d2",
            "7db4bc9cc8eb458dac1721cd4027a2aa",
            "8b52bf5a03f2431fa5d0169b316552c8",
            "05873677b7d4413e803f442961109afa",
            "e15f83b17ef04cbcae528d9cc4ce5ca4",
            "a8175d04300246bf8d659859f56ccabb",
            "609cf90315344077bfe465a11e47346b",
            "aa85cc7ec23d49b3997ca136df139656",
            "bb7e25eabfa74c0e829ff95eafdf9bdc",
            "2faf538c72bc4f21b0124f521a1531d8",
            "6b6cfa8d060248e28fbb13667c950571",
            "461c7dbf1f164294913be1749127e6bc",
            "ee9958bace9946d2bf16cd0a58dad46b",
            "70ae7620ba5e4272a596b2930a378cdf",
            "4f378501098b40fe9e92659fcf38dcbf",
            "f558a409afcb4f37ab546664f53e2718",
            "2538a246845646debaeb73b8fa46f18f",
            "113d0d63d679489da649ce0e679f6ebb",
            "71a853e0df2d4bd59c094b89026d38d6",
            "c6c4f6962bfb4c25a43e3e3e29a99e2a",
            "870823ca9f914327b707e6aa528bfe35",
            "0435abeb102f434aacbae1b7b0320f06",
            "6bfb479e015949289adb618e4c8293f2",
            "68eb76e47c694803b466904140ac5c63",
            "36f4fcb17ada4bd8b9aa9ccc2c177863",
            "c74915ef296e483ebf0e4a977ff303d8",
            "8db479686bd345ca810fc6ca34c765fc",
            "42c335fca917473eb58baaf2be8103c0",
            "ff60d3c4397846f2a40dcc0a699a8bd4",
            "25ff4e7689a0437cbc80dfa003f3871c",
            "fd78b5a7ea9446e582ab6e06b6c37c6e",
            "f30b7072f0be44bdbd9af12e64dcf33c",
            "2652e4a3a0784704ae64d0ba8a677b99",
            "536147d0815c4981b88735eb900f11b5",
            "7bf09b9f7caa436b9a5c121effac67cb",
            "da6ff28bb8e048eb976e296da4243292",
            "4e2bfed2be3f41a788365af30d93f629",
            "788eaca100c34e5b9b149a0aaa67943b",
            "da8832a87f574eaf84034cde54286500",
            "c27503a1343e423ca7b73ee2041bea09",
            "903ee3c8caac4b33b7e97990f01187b0",
            "133e2ddee213494494115d77492dcb89",
            "279291baf02549baa7a2be59c85314aa"
          ]
        },
        "id": "8dIq61wsUIIM",
        "outputId": "c1ec2b97-f683-4897-9f4e-159f26770a42"
      },
      "outputs": [
        {
          "name": "stderr",
          "output_type": "stream",
          "text": [
            "/usr/local/lib/python3.10/dist-packages/huggingface_hub/utils/_token.py:88: UserWarning: \n",
            "The secret `HF_TOKEN` does not exist in your Colab secrets.\n",
            "To authenticate with the Hugging Face Hub, create a token in your settings tab (https://huggingface.co/settings/tokens), set it as secret in your Google Colab and restart your session.\n",
            "You will be able to reuse this secret in all of your notebooks.\n",
            "Please note that authentication is recommended but still optional to access public models or datasets.\n",
            "  warnings.warn(\n"
          ]
        },
        {
          "data": {
            "application/vnd.jupyter.widget-view+json": {
              "model_id": "7c80a95ee9d94b389d01763842e47632",
              "version_major": 2,
              "version_minor": 0
            },
            "text/plain": [
              "tokenizer_config.json:   0%|          | 0.00/28.0 [00:00<?, ?B/s]"
            ]
          },
          "metadata": {},
          "output_type": "display_data"
        },
        {
          "data": {
            "application/vnd.jupyter.widget-view+json": {
              "model_id": "6b6cfa8d060248e28fbb13667c950571",
              "version_major": 2,
              "version_minor": 0
            },
            "text/plain": [
              "config.json:   0%|          | 0.00/483 [00:00<?, ?B/s]"
            ]
          },
          "metadata": {},
          "output_type": "display_data"
        },
        {
          "data": {
            "application/vnd.jupyter.widget-view+json": {
              "model_id": "0435abeb102f434aacbae1b7b0320f06",
              "version_major": 2,
              "version_minor": 0
            },
            "text/plain": [
              "vocab.txt:   0%|          | 0.00/232k [00:00<?, ?B/s]"
            ]
          },
          "metadata": {},
          "output_type": "display_data"
        },
        {
          "data": {
            "application/vnd.jupyter.widget-view+json": {
              "model_id": "2652e4a3a0784704ae64d0ba8a677b99",
              "version_major": 2,
              "version_minor": 0
            },
            "text/plain": [
              "tokenizer.json:   0%|          | 0.00/466k [00:00<?, ?B/s]"
            ]
          },
          "metadata": {},
          "output_type": "display_data"
        }
      ],
      "source": [
        "from transformers import AutoTokenizer\n",
        "from transformers import PreTrainedTokenizer, PreTrainedTokenizerFast\n",
        "\n",
        "TOKENIZER: PreTrainedTokenizer = AutoTokenizer.from_pretrained('distilbert-base-uncased')"
      ]
    },
    {
      "cell_type": "markdown",
      "metadata": {
        "id": "3GeXcvSxUIIM"
      },
      "source": [
        "We can call the tokeniser on the example sentence as shown in the next cell. Note that we use the *is_split_into_words* keyword argument to indicate that the input is already pre-tokenised (split on whitespace)."
      ]
    },
    {
      "cell_type": "code",
      "execution_count": 10,
      "metadata": {
        "id": "4soYHcnFUIIM"
      },
      "outputs": [],
      "source": [
        "EXAMPLE_TOKENS = TOKENIZER(EXAMPLE_WORDS, is_split_into_words=True)"
      ]
    },
    {
      "cell_type": "markdown",
      "metadata": {
        "id": "7-rQAUrfUIIN"
      },
      "source": [
        "The output of the tokeniser is an object of class [`BatchEncoding`](https://huggingface.co/docs/transformers/main_classes/tokenizer#transformers.BatchEncoding). The code in the following cell shows the list of tokens:"
      ]
    },
    {
      "cell_type": "code",
      "execution_count": 11,
      "metadata": {
        "colab": {
          "base_uri": "https://localhost:8080/"
        },
        "id": "lmEFQLDdUIIN",
        "outputId": "695ce397-4432-4c09-cab7-c46236964314"
      },
      "outputs": [
        {
          "data": {
            "text/plain": [
              "['[CLS]', 'i', 'like', 'yu', '##or', 'blog', '.', '[SEP]']"
            ]
          },
          "execution_count": 11,
          "metadata": {},
          "output_type": "execute_result"
        }
      ],
      "source": [
        "[TOKENIZER.decode(i) for i in EXAMPLE_TOKENS.input_ids]"
      ]
    },
    {
      "cell_type": "markdown",
      "metadata": {
        "id": "OgHV2dMdUIIN"
      },
      "source": [
        "As you can see, the tokeniser adds the special tokens `[CLS]` and `[SEP]` and splits unknown words (here: the misspelled word *yuor*) into sub-word tokens. We will need to keep track of which tokens correspond to which word. To achieve that, we can use the method [`word_to_tokens()`](https://huggingface.co/docs/transformers/main_classes/tokenizer#transformers.BatchEncoding.word_to_tokens), which gets us the encoded token span (an object of class [`TokenSpan`](https://huggingface.co/docs/transformers/internal/tokenization_utils#transformers.TokenSpan)) corresponding to a word in a sequence of the input batch:"
      ]
    },
    {
      "cell_type": "code",
      "execution_count": 12,
      "metadata": {
        "colab": {
          "base_uri": "https://localhost:8080/"
        },
        "id": "MEI_anUNUIIN",
        "outputId": "6306fb28-14c4-426c-f478-b6f0a169153b"
      },
      "outputs": [
        {
          "name": "stdout",
          "output_type": "stream",
          "text": [
            "TokenSpan(start=1, end=2) -> I\n",
            "TokenSpan(start=2, end=3) -> like\n",
            "TokenSpan(start=3, end=5) -> yuor\n",
            "TokenSpan(start=5, end=6) -> blog\n",
            "TokenSpan(start=6, end=7) -> .\n"
          ]
        }
      ],
      "source": [
        "from transformers import TokenSpan\n",
        "\n",
        "for i, word in enumerate(EXAMPLE_WORDS):\n",
        "    token_span: TokenSpan = EXAMPLE_TOKENS.word_to_tokens(i)\n",
        "    print(token_span, '->', word)"
      ]
    },
    {
      "cell_type": "markdown",
      "metadata": {
        "id": "jYWRcJ6JUIIN"
      },
      "source": [
        "Your first task is to code a function `encode()` that takes a tokeniser and a list of sentences and returns the tokeniser&rsquo;s encoded input as well as the corresponding token spans. The following cell contains skeleton code for this function."
      ]
    },
    {
      "cell_type": "code",
      "execution_count": 13,
      "metadata": {
        "id": "v-KuwrPVUIIN"
      },
      "outputs": [],
      "source": [
        "from transformers import BatchEncoding\n",
        "from typing import Iterable\n",
        "import torch\n",
        "\n",
        "def encode(tokenizer: PreTrainedTokenizer | PreTrainedTokenizerFast, sentences: list[list[tuple[str, int]]]) -> tuple[BatchEncoding, list[list[TokenSpan]]]:\n",
        "    '''\n",
        "    Returns tokeniser's encoded input and corresponding token spans\n",
        "    '''\n",
        "\n",
        "    split_sentence_list = [[word for word, _ in sentence] for sentence in sentences]\n",
        "\n",
        "    tokens: BatchEncoding = tokenizer(split_sentence_list, truncation=True, padding=True, is_split_into_words=True, return_tensors='pt')\n",
        "    tokens.input_ids = torch.tensor(tokens.input_ids)\n",
        "\n",
        "    token_spans_list: list[list[TokenSpan]] = []\n",
        "\n",
        "    for i in range(len(split_sentence_list)):\n",
        "        token_spans = []\n",
        "        for j in range(len(split_sentence_list[i])):\n",
        "            token_spans.append(tokens.word_to_tokens(i, j))\n",
        "        token_spans_list.append(token_spans)\n",
        "\n",
        "    return tokens, token_spans_list"
      ]
    },
    {
      "cell_type": "markdown",
      "metadata": {
        "id": "LHthKhfIUIIN"
      },
      "source": [
        "Implement this function to match the following specification:\n",
        "\n",
        "**encode** (*tokenizer*, *sentences*):\n",
        "\n",
        "> Uses the specified *tokenizer* to encode a batch of parsed sentences (*sentences*). Returns a pair consisting of a [`BatchEncoding`](https://huggingface.co/docs/transformers/main_classes/tokenizer#transformers.BatchEncoding) and a matching batch of token spans (as explained above). The [`BatchEncoding`](https://huggingface.co/docs/transformers/main_classes/tokenizer#transformers.BatchEncoding) is the standard batch encoding, but with tensors instead of lists of Python integers. Sentences have been truncated to the maximum acceptable input length."
      ]
    },
    {
      "cell_type": "markdown",
      "metadata": {
        "id": "OWeJwIk5UIIN"
      },
      "source": [
        "### 🤞 Test your code\n",
        "\n",
        "To test you code, call `encode()` on a small number of sentences and check that output matches your expectations."
      ]
    },
    {
      "cell_type": "code",
      "execution_count": 14,
      "metadata": {
        "colab": {
          "base_uri": "https://localhost:8080/"
        },
        "id": "DDGS9KCjUIIN",
        "outputId": "9836e35c-e5e1-4671-b5c3-19a9aad142fa"
      },
      "outputs": [
        {
          "name": "stdout",
          "output_type": "stream",
          "text": [
            "tensor([[ 101, 1045, 2066, 9805, 2953, 9927, 1012,  102,    0,    0,    0,    0,\n",
            "            0,    0,    0,    0,    0,    0,    0,    0],\n",
            "        [ 101, 3531, 4638, 2041, 2026, 2040, 2292, 1996, 3899, 2041, 9927, 1012,\n",
            "          102,    0,    0,    0,    0,    0,    0,    0],\n",
            "        [ 101, 4931, 2008, 1005, 1055, 1037, 2307, 9927, 1010, 1045, 2036, 2031,\n",
            "         1037, 2609, 2055, 3050, 3349, 3784, 5306,  102]])\n",
            "[TokenSpan(start=1, end=2), TokenSpan(start=2, end=3), TokenSpan(start=3, end=5), TokenSpan(start=5, end=6), TokenSpan(start=6, end=7)]\n",
            "[TokenSpan(start=1, end=2), TokenSpan(start=2, end=3), TokenSpan(start=3, end=4), TokenSpan(start=4, end=5), TokenSpan(start=5, end=6), TokenSpan(start=6, end=7), TokenSpan(start=7, end=8), TokenSpan(start=8, end=9), TokenSpan(start=9, end=10), TokenSpan(start=10, end=11), TokenSpan(start=11, end=12)]\n",
            "[TokenSpan(start=1, end=2), TokenSpan(start=2, end=3), TokenSpan(start=3, end=5), TokenSpan(start=5, end=6), TokenSpan(start=6, end=7), TokenSpan(start=7, end=8), TokenSpan(start=8, end=9), TokenSpan(start=9, end=10), TokenSpan(start=10, end=11), TokenSpan(start=11, end=12), TokenSpan(start=12, end=13), TokenSpan(start=13, end=14), TokenSpan(start=14, end=15), TokenSpan(start=15, end=16), TokenSpan(start=16, end=17), TokenSpan(start=17, end=18), TokenSpan(start=18, end=19)]\n"
          ]
        },
        {
          "name": "stderr",
          "output_type": "stream",
          "text": [
            "<ipython-input-13-76e280732ca7>:13: UserWarning: To copy construct from a tensor, it is recommended to use sourceTensor.clone().detach() or sourceTensor.clone().detach().requires_grad_(True), rather than torch.tensor(sourceTensor).\n",
            "  tokens.input_ids = torch.tensor(tokens.input_ids)\n"
          ]
        }
      ],
      "source": [
        "# Test the encode() function\n",
        "sentences = TRAIN_DATA[531:534]\n",
        "encoded_batch = encode(TOKENIZER, sentences)\n",
        "\n",
        "print(encoded_batch[0]['input_ids'])\n",
        "\n",
        "for token_spans in encoded_batch[1]:\n",
        "    print(token_spans)\n"
      ]
    },
    {
      "cell_type": "markdown",
      "metadata": {
        "id": "wCeTyNHeUIIO"
      },
      "source": [
        "## Problem 2: Merging tokens (4 points)"
      ]
    },
    {
      "cell_type": "markdown",
      "metadata": {
        "id": "Zp4v2ZWeUIIO"
      },
      "source": [
        "DistilBERT gives us a representation for each *token* in a sentence. To compute scores between pairs of *words*, we will need to combine the token representations that correspond to each word. A standard strategy for this is to take their element-wise mean. The next cell contains skeleton code for a function `merge_tokens()` that implements this strategy."
      ]
    },
    {
      "cell_type": "code",
      "execution_count": 15,
      "metadata": {
        "id": "LoCQJDOZUIIO"
      },
      "outputs": [],
      "source": [
        "from torch import Tensor\n",
        "\n",
        "def merge_tokens(tokens: Tensor, token_spans_list: list[list[TokenSpan]]):\n",
        "    '''\n",
        "    tokens: Tensor[batch_size, num_tokens, hidden_dim]\n",
        "    token_spans: list[TokenSpan]\n",
        "    return word_level_representations: Tensor[batch_size, max_num_words, hidden_dim]\n",
        "    '''\n",
        "    batch_size, num_tokens, hidden_dim = tokens.shape\n",
        "    max_num_words = max(len(token_spans) for token_spans in token_spans_list)\n",
        "    word_level_representations = tokens.new_zeros(batch_size, max_num_words, hidden_dim)\n",
        "\n",
        "    for i, token_spans in enumerate(token_spans_list):  # Iterate through each sentence in the batch\n",
        "        for j, (start, end) in enumerate(token_spans):  # Iterate through each word's span in the sentence\n",
        "            # Calculate the mean of the tokens for this word. Note that `end` is exclusive, so we add 1 to include it.\n",
        "            word_tensor = tokens[i, start:end].mean(dim=0)\n",
        "            # Assign the mean tensor to the correct position in the word-level representations tensor.\n",
        "            word_level_representations[i, j] = word_tensor\n",
        "\n",
        "\n",
        "    return word_level_representations"
      ]
    },
    {
      "cell_type": "markdown",
      "metadata": {
        "id": "Nu5WfcONUIIO"
      },
      "source": [
        "Implement this function to match the following specification:\n",
        "\n",
        "**merge_tokens** (*tokens*, *token_spans*)\n",
        "\n",
        "> Takes a batch of token vectors (*tokens*) and a list of matching token spans (*token_spans*) and returns a batch of word-level representations, computed using the element-wise mean. The token vectors are a tensor of shape (*batch_size*, *num_tokens*, *hidden_dim*), where *hidden_dim* is the dimensionality of the DistilBERT representations. The token spans are a nested list containing integer pairs, as computed in Problem&nbsp;1. The result is a tensor of shape (*batch_size*, *max_num_words*, *hidden_dim*), where *max_num_words* denotes the maximum number of words in any sentence in the batch. Entries corresponding to padding are represented by the zero vector of size *hidden_dim*."
      ]
    },
    {
      "cell_type": "markdown",
      "metadata": {
        "id": "Pnzg_hk0UIIO"
      },
      "source": [
        "### 🤞 Test your code\n",
        "\n",
        "To test you code, create a sample input to `merge_tokens()` and check that the output matches your expectations."
      ]
    },
    {
      "cell_type": "code",
      "execution_count": 16,
      "metadata": {
        "colab": {
          "base_uri": "https://localhost:8080/"
        },
        "id": "Iz6Dbdm9UIIO",
        "outputId": "afb65c4b-316c-42a6-e0cf-ac05f972fec9"
      },
      "outputs": [
        {
          "name": "stdout",
          "output_type": "stream",
          "text": [
            "tensor([[[0.9788, 0.2283, 0.6982],\n",
            "         [0.8639, 0.7545, 0.9967],\n",
            "         [0.3531, 0.5917, 0.7088],\n",
            "         [0.8670, 0.0533, 0.1570],\n",
            "         [0.8822, 0.3684, 0.6935]]])\n"
          ]
        },
        {
          "name": "stderr",
          "output_type": "stream",
          "text": [
            "<ipython-input-13-76e280732ca7>:13: UserWarning: To copy construct from a tensor, it is recommended to use sourceTensor.clone().detach() or sourceTensor.clone().detach().requires_grad_(True), rather than torch.tensor(sourceTensor).\n",
            "  tokens.input_ids = torch.tensor(tokens.input_ids)\n"
          ]
        }
      ],
      "source": [
        "from torch import Tensor, rand\n",
        "\n",
        "tokens = rand(1, 1000, 3)\n",
        "\n",
        "# Test the encode() function\n",
        "sentences = TRAIN_DATA[531:532]\n",
        "_, token_spans_list = encode(TOKENIZER, sentences)\n",
        "\n",
        "out = merge_tokens(tokens, token_spans_list)\n",
        "\n",
        "print(out)"
      ]
    },
    {
      "cell_type": "markdown",
      "metadata": {
        "id": "NJ2Lw9I6UIIO"
      },
      "source": [
        "## Problem 3: Biaffine layer (2 points)"
      ]
    },
    {
      "cell_type": "markdown",
      "metadata": {
        "id": "U86Bdr_vUIIP"
      },
      "source": [
        "Your next task is to implement the bi-affine layer. Given matrices $X \\in \\mathbb{R}^{m \\times d}$ and $X' \\in \\mathbb{R}^{n \\times d}$, this layer computes a matrix $Y \\in \\mathbb{R}^{m \\times n}$ as"
      ]
    },
    {
      "cell_type": "markdown",
      "metadata": {
        "id": "lLUStUskUIIP"
      },
      "source": [
        "$$\n",
        "Y = X W X'{}^\\top + b\n",
        "$$"
      ]
    },
    {
      "cell_type": "markdown",
      "metadata": {
        "id": "lK2hc2ZDUIIP"
      },
      "source": [
        "where $W \\in \\mathbb{R}^{d \\times d}$ and $b \\in \\mathbb{R}$ are learnable weight and bias parameters. In the context of the dependency parser, the matrices $X$ and $X'$ hold the word representations of all dependents and all heads in the input sentence, and the entries of the matrix $Y$ are interpreted as scores of possible dependency arcs. More specifically, the entry $Y_{ij}$ represents the score of an arc from a head word at position&nbsp;$j$ to a dependent at position&nbsp;$i$."
      ]
    },
    {
      "cell_type": "markdown",
      "metadata": {
        "id": "r7_rGvvZUIIP"
      },
      "source": [
        "\n",
        "The following cell contains skeleton code for the implementation of the bi-affine layer. Implement this layer according to the specification above."
      ]
    },
    {
      "cell_type": "code",
      "execution_count": 17,
      "metadata": {
        "id": "SPBrJnuRUIIP"
      },
      "outputs": [],
      "source": [
        "import torch.nn as nn\n",
        "import torch\n",
        "\n",
        "class Biaffine(nn.Module):\n",
        "\n",
        "    def __init__(self, encoder_dim):\n",
        "        super().__init__()\n",
        "        # Weight matrix for the bi-affine transformation, shape: (d, d)\n",
        "        self.weight = nn.Parameter(torch.rand(encoder_dim, encoder_dim))\n",
        "        # Bias term\n",
        "        self.bias = nn.Parameter(torch.rand(1))\n",
        "\n",
        "    def forward(self, x1: torch.Tensor, x2: torch.Tensor) -> torch.Tensor:\n",
        "        # x1 shape: (batch_size, m, d), x2 shape: (batch_size, n, d)\n",
        "        # We perform a batch matrix multiplication between x1 and the weight, resulting in a shape of (batch_size, m, d)\n",
        "        y = x1 @ self.weight @ x2.transpose(1, 2) + self.bias\n",
        "\n",
        "        \"\"\" # Then we perform another batch matrix multiplication, this time with the transpose of x2.\n",
        "        # For this, we need to transpose x2 to shape (batch_size, d, n) to align the dimensions for matrix multiplication.\n",
        "        # The resulting shape of the operation will be (batch_size, m, n), aligning with our target output shape.\n",
        "        y = torch.bmm(x1_transform, x2.transpose(1, 2))\n",
        "\n",
        "        # Adding the bias term to every element in the output matrix.\n",
        "        # Since the bias is a scalar, it's automatically broadcasted across all dimensions.\n",
        "        y += self.bias \"\"\"\n",
        "\n",
        "        return y"
      ]
    },
    {
      "cell_type": "markdown",
      "metadata": {
        "id": "jpMW74s7UIIP"
      },
      "source": [
        "**⚠️ Note that your implementation should be able to handle *batches* of input sentences.**"
      ]
    },
    {
      "cell_type": "markdown",
      "metadata": {
        "id": "vLjvDd9IUIIP"
      },
      "source": [
        "### 🤞 Test your code\n",
        "\n",
        "To test you code, create a sample input to the bi-affine layer as well as suitable weights and biases and check that the output of the `forward` method matches your expectations"
      ]
    },
    {
      "cell_type": "code",
      "execution_count": 18,
      "metadata": {
        "colab": {
          "base_uri": "https://localhost:8080/"
        },
        "id": "L3nY_ZUuUIIP",
        "outputId": "ac33bd90-e0b3-4684-d498-e06b5a9365b8"
      },
      "outputs": [
        {
          "name": "stdout",
          "output_type": "stream",
          "text": [
            "torch.Size([1, 12, 13])\n"
          ]
        }
      ],
      "source": [
        "word_level_representations = rand(1, 12, 3)\n",
        "word_level_representations2 = rand(1, 13, 3)\n",
        "biaffine = Biaffine(3)\n",
        "out = biaffine(word_level_representations, word_level_representations2)\n",
        "print(out.shape) # should be (1, 12, 13)"
      ]
    },
    {
      "cell_type": "markdown",
      "metadata": {
        "id": "iGbIYgqnUIIQ"
      },
      "source": [
        "## Problem 4: Parser (6 points)"
      ]
    },
    {
      "cell_type": "markdown",
      "metadata": {
        "id": "6VvIvy4KUIIQ"
      },
      "source": [
        "We are now ready to put the two main components of the parser together: the encoder (DistilBert) and the bi-affine layer that computes the arc scores. We also add a dropout layer between the two components.\n",
        "\n",
        "The following code cell contains skeleton code for the parsing model with the `init()` method already complete. Your task is to implement the `forward()` method. If you are unsure how things should be wired up, have another look at the slides."
      ]
    },
    {
      "cell_type": "code",
      "execution_count": 19,
      "metadata": {
        "id": "9gg33L1NUIIQ"
      },
      "outputs": [],
      "source": [
        "import torch.nn as nn\n",
        "import torch\n",
        "\n",
        "from transformers import DistilBertModel, DistilBertPreTrainedModel\n",
        "\n",
        "class DistilBertForParsing(DistilBertPreTrainedModel):\n",
        "\n",
        "    def __init__(self, config, dropout=0.1):\n",
        "        super().__init__(config)\n",
        "        self.config = config\n",
        "        self.distilbert = DistilBertModel(config)\n",
        "        self.dropout = nn.Dropout(dropout)\n",
        "        self.biaffine = Biaffine(config.hidden_size)\n",
        "\n",
        "    def forward(self, encoded_input: BatchEncoding, token_spans: list[list[TokenSpan]]) -> torch.Tensor:\n",
        "        '''\n",
        "        returns: torch.Tensor[batch_size, num_words, num_words + 1]\n",
        "        '''\n",
        "        # Encode the input\n",
        "        bert_outputs = self.distilbert(**encoded_input)\n",
        "        # Merge the tokens into word-level representations\n",
        "        word_representations = self.dropout(merge_tokens(bert_outputs.last_hidden_state, token_spans))\n",
        "        # Apply the bi-affine transformation\n",
        "        scores = self.biaffine(word_representations, word_representations)\n",
        "        batch_size, num_words, _ = scores.shape\n",
        "        root_scores = torch.cat([torch.zeros(batch_size, num_words, 1, device=scores.device), scores], dim=2)\n",
        "\n",
        "        return root_scores\n"
      ]
    },
    {
      "cell_type": "markdown",
      "metadata": {
        "id": "7BGBEj1EUIIQ"
      },
      "source": [
        "Implement the `forward()` method to match the following specification:\n",
        "\n",
        "**forward** (*encoded_input*, *token_spans*)\n",
        "\n",
        "> Takes a tokeniser-encoded batch of sentences (*encoded_input*, of type `BatchEncoding`) and a corresponding nested list of token spans (*token_spans*) and returns a tensor with scores for each pair of words. More specifically, the output tensor $Y$ has shape (*batch_size*, *num_words*, *num_words+1*), where the entry $Y_{bij}$ represents the score of an arc from a head word at position&nbsp;$j$ to a dependent at position&nbsp;$i$ in the $b$th sentence of the batch. Note that the number of possible heads is one greater than the number of possible dependents because the possible heads include the root of the dependency tree, which we represent using the special token `[CLS]` (at position&nbsp;0)."
      ]
    },
    {
      "cell_type": "markdown",
      "metadata": {
        "id": "FwKYzvIyUIIQ"
      },
      "source": [
        "### 🤞 Test your code\n",
        "\n",
        "To test you code, instantiate the parsing model and feed it a small batch of sentences."
      ]
    },
    {
      "cell_type": "code",
      "execution_count": 20,
      "metadata": {
        "colab": {
          "base_uri": "https://localhost:8080/",
          "height": 208,
          "referenced_widgets": [
            "2216eb30be9440c2844d57ccfb59d146",
            "6b30cf231f104dc2acdc26ccfddec9e3",
            "c7c7f1d6f35f43c9b1314a6c9a8cf1c4",
            "81c1855dd5f64807b6d50232c6f00271",
            "21c09561e51e4f5880587e7ee57ccd63",
            "5dd89285f8ea41be9cf6de9cc47e4f2b",
            "c8dc108a6fa940a1822c06914b5443b7",
            "4e86833ee50e490f8d624cafd9a34005",
            "4f4df3a8c6d64849baf079266ac2dce9",
            "b53f8b90765b406f9f077d2b49ae52b2",
            "8d86109093694d208e6ddc1b069d7370"
          ]
        },
        "id": "WjbOPWP0UIIQ",
        "outputId": "ff15af3d-5949-4a66-ccfe-6e18405f78cd"
      },
      "outputs": [
        {
          "data": {
            "application/vnd.jupyter.widget-view+json": {
              "model_id": "2216eb30be9440c2844d57ccfb59d146",
              "version_major": 2,
              "version_minor": 0
            },
            "text/plain": [
              "model.safetensors:   0%|          | 0.00/268M [00:00<?, ?B/s]"
            ]
          },
          "metadata": {},
          "output_type": "display_data"
        },
        {
          "name": "stderr",
          "output_type": "stream",
          "text": [
            "Some weights of DistilBertForParsing were not initialized from the model checkpoint at distilbert-base-uncased and are newly initialized: ['biaffine.weight', 'biaffine.bias']\n",
            "You should probably TRAIN this model on a down-stream task to be able to use it for predictions and inference.\n",
            "<ipython-input-13-76e280732ca7>:13: UserWarning: To copy construct from a tensor, it is recommended to use sourceTensor.clone().detach() or sourceTensor.clone().detach().requires_grad_(True), rather than torch.tensor(sourceTensor).\n",
            "  tokens.input_ids = torch.tensor(tokens.input_ids)\n"
          ]
        },
        {
          "name": "stdout",
          "output_type": "stream",
          "text": [
            "[('I', 2), ('like', 0), ('yuor', 4), ('blog', 2), ('.', 2)]\n",
            "[('Please', 2), ('check', 0), ('out', 2), ('my', 10), ('who', 6), ('let', 10), ('the', 8), ('dog', 6), ('out', 6), ('blog', 2), ('.', 2)]\n",
            "[('hey', 6), ('that', 6), (\"'s\", 6), ('a', 6), ('great', 6), ('blog', 0), (',', 10), ('I', 10), ('also', 10), ('have', 6), ('a', 12), ('site', 10), ('about', 17), ('los', 15), ('angeles', 17), ('online', 17), ('dating', 12)]\n",
            "torch.Size([3, 17, 18])\n"
          ]
        }
      ],
      "source": [
        "# Test the model\n",
        "model = DistilBertForParsing.from_pretrained('distilbert-base-uncased')\n",
        "\n",
        "sentences = TRAIN_DATA[531:534]\n",
        "\n",
        "encoded_inputs: BatchEncoding = []\n",
        "token_spans_list: list[list[TokenSpan]] = []\n",
        "\n",
        "for sentence in sentences:\n",
        "    print(sentence)\n",
        "\n",
        "encoded_inputs, token_spans_list = encode(TOKENIZER, sentences)\n",
        "\n",
        "out = model.forward(encoded_inputs, token_spans_list)\n",
        "\n",
        "print(out.shape) # should be (1, 5, 6)"
      ]
    },
    {
      "cell_type": "markdown",
      "metadata": {
        "id": "UxMlOshjUIIQ"
      },
      "source": [
        "## Data loader"
      ]
    },
    {
      "cell_type": "markdown",
      "metadata": {
        "id": "SsNTIq-4UIIQ"
      },
      "source": [
        "We are now almost ready to train the parser. The missing piece is a data collator that prepares a batch of parsed sentences:\n",
        "\n",
        "* tokenises the sentences and extracts token spans using `encode()` (Problem&nbsp;1)\n",
        "* constructs the ground-truth head tensor needed to compute the loss (Problem&nbsp;2)\n",
        "\n",
        "The code in the next cell implements these two steps. For pseudo-words introduced through padding, we assign a head position of −100. This value is ignored by PyTorch’s cross-entropy loss function."
      ]
    },
    {
      "cell_type": "code",
      "execution_count": 21,
      "metadata": {
        "id": "TNsJVOxgUIIQ"
      },
      "outputs": [],
      "source": [
        "import torch\n",
        "\n",
        "class ParserBatcher(object):\n",
        "\n",
        "    def __init__(self, tokenizer, device=None):\n",
        "        self.tokenizer = tokenizer\n",
        "        self.device = device\n",
        "\n",
        "    def __call__(self, parser_inputs):\n",
        "        encoded_input, start_indices = encode(self.tokenizer, parser_inputs)\n",
        "\n",
        "        # Get the maximal number of words, for padding\n",
        "        max_num_words = max(len(s) for s in parser_inputs)\n",
        "\n",
        "        # Construct tensor containing the ground-truth heads\n",
        "        all_heads = []\n",
        "        for parser_input in parser_inputs:\n",
        "            words, heads = zip(*parser_input)\n",
        "            heads = list(heads)\n",
        "            heads.extend([-100] * (max_num_words - len(heads)))  # -100 will be ignored\n",
        "            all_heads.append(heads)\n",
        "        all_heads = torch.LongTensor(all_heads)\n",
        "\n",
        "        # Send all data to the specified device\n",
        "        if self.device:\n",
        "            encoded_input = encoded_input.to(self.device)\n",
        "            all_heads = all_heads.to(self.device)\n",
        "\n",
        "        return encoded_input, start_indices, all_heads"
      ]
    },
    {
      "cell_type": "markdown",
      "metadata": {
        "id": "sJ_Av50AUIIR"
      },
      "source": [
        "## Training loop"
      ]
    },
    {
      "cell_type": "markdown",
      "metadata": {
        "id": "i03o2sqBUIIR"
      },
      "source": [
        "Finally, here is the training loop of the parser. Most of it is quite standard. The training loss of the parser is the cross-entropy between the head scores and the ground truth head positions. In other words, the parser is trained as a classifier that predicts the position of each word&rsquo;s head."
      ]
    },
    {
      "cell_type": "code",
      "execution_count": 22,
      "metadata": {
        "id": "_V2OQiWoUIIS"
      },
      "outputs": [],
      "source": [
        "import torch.nn.functional as F\n",
        "\n",
        "from torch.optim import Adam\n",
        "from torch.utils.data import DataLoader\n",
        "from tqdm import tqdm\n",
        "\n",
        "DEVICE = torch.device('cuda' if torch.cuda.is_available() else 'cpu')\n",
        "\n",
        "# DEVICE = torch.device('mps')\n",
        "\n",
        "def train(dataset, n_epochs=1, lr=1e-5, batch_size=8):\n",
        "    # Initialise the tokeniser\n",
        "    tokenizer = AutoTokenizer.from_pretrained('distilbert-base-uncased')\n",
        "\n",
        "    # Initialise the encoder\n",
        "    model = DistilBertForParsing.from_pretrained('distilbert-base-uncased').to(DEVICE)\n",
        "\n",
        "    # Initialise the data loader\n",
        "    data_loader = DataLoader(dataset, batch_size=batch_size, collate_fn=ParserBatcher(tokenizer, device=DEVICE))\n",
        "\n",
        "    # Initialise the optimiser\n",
        "    optimizer = Adam(model.parameters(), lr=lr)\n",
        "\n",
        "    # Train for the specified number of epochs\n",
        "    for epoch in range(n_epochs):\n",
        "        model.train()\n",
        "\n",
        "        # We keep track of the running loss\n",
        "        running_loss = 0\n",
        "        n_batches = 0\n",
        "        with tqdm(total=len(dataset)) as pbar:\n",
        "            pbar.set_description(f'Epoch {epoch+1}')\n",
        "\n",
        "            # Process a batch of samples\n",
        "            for encoded_input, token_spans, gold_heads in data_loader:\n",
        "                optimizer.zero_grad()\n",
        "\n",
        "                # Compute the arc scores\n",
        "                arc_scores = model.forward(encoded_input, token_spans)\n",
        "                # shape: [batch_size, num_words, num_words+1]\n",
        "\n",
        "                # Flatten arc_scores and gold_heads for cross_entropy\n",
        "                loss = F.cross_entropy(arc_scores.flatten(0, -2), gold_heads.view(-1))\n",
        "                # shape of the flattened arc_scores: [batch_size * num_words, num_words+1]\n",
        "                # shape of the flattened gold_heads: [batch_size * num_words]\n",
        "\n",
        "                # Backward pass\n",
        "                loss.backward()\n",
        "                optimizer.step()\n",
        "\n",
        "                # Update the loss\n",
        "                running_loss += loss.item()\n",
        "                n_batches += 1\n",
        "                pbar.set_postfix(loss=running_loss/n_batches)\n",
        "                pbar.update(len(token_spans))\n",
        "\n",
        "    return model"
      ]
    },
    {
      "cell_type": "markdown",
      "metadata": {
        "id": "c0Gghhi2UIIS"
      },
      "source": [
        "We are now ready to train the parser. With a GPU, you should expect training times of approximately 3&nbsp;minutes per epoch."
      ]
    },
    {
      "cell_type": "code",
      "execution_count": 23,
      "metadata": {
        "colab": {
          "base_uri": "https://localhost:8080/"
        },
        "id": "k68vcqEWUIIS",
        "outputId": "56475268-a093-4318-9ca0-892b1d85412f"
      },
      "outputs": [
        {
          "name": "stderr",
          "output_type": "stream",
          "text": [
            "Some weights of DistilBertForParsing were not initialized from the model checkpoint at distilbert-base-uncased and are newly initialized: ['biaffine.weight', 'biaffine.bias']\n",
            "You should probably TRAIN this model on a down-stream task to be able to use it for predictions and inference.\n",
            "Epoch 1:   0%|          | 0/12544 [00:00<?, ?it/s]<ipython-input-13-76e280732ca7>:13: UserWarning: To copy construct from a tensor, it is recommended to use sourceTensor.clone().detach() or sourceTensor.clone().detach().requires_grad_(True), rather than torch.tensor(sourceTensor).\n",
            "  tokens.input_ids = torch.tensor(tokens.input_ids)\n",
            "Epoch 1: 100%|██████████| 12544/12544 [02:00<00:00, 104.41it/s, loss=4.48]\n",
            "Epoch 2: 100%|██████████| 12544/12544 [01:56<00:00, 107.64it/s, loss=2.48]\n",
            "Epoch 3: 100%|██████████| 12544/12544 [01:56<00:00, 107.63it/s, loss=1.55]\n",
            "Epoch 4: 100%|██████████| 12544/12544 [01:56<00:00, 107.93it/s, loss=1.04]\n",
            "Epoch 5: 100%|██████████| 12544/12544 [01:56<00:00, 107.39it/s, loss=0.801]\n",
            "Epoch 6: 100%|██████████| 12544/12544 [01:57<00:00, 106.91it/s, loss=0.654]\n",
            "Epoch 7: 100%|██████████| 12544/12544 [01:57<00:00, 106.53it/s, loss=0.556]\n",
            "Epoch 8: 100%|██████████| 12544/12544 [01:59<00:00, 105.21it/s, loss=0.483]\n",
            "Epoch 9: 100%|██████████| 12544/12544 [01:58<00:00, 105.71it/s, loss=0.429]\n",
            "Epoch 10: 100%|██████████| 12544/12544 [01:58<00:00, 105.94it/s, loss=0.39]\n",
            "Epoch 11: 100%|██████████| 12544/12544 [01:57<00:00, 106.49it/s, loss=0.359]\n",
            "Epoch 12: 100%|██████████| 12544/12544 [01:57<00:00, 106.54it/s, loss=0.335]\n",
            "Epoch 13: 100%|██████████| 12544/12544 [01:58<00:00, 106.18it/s, loss=0.315]\n",
            "Epoch 14: 100%|██████████| 12544/12544 [01:58<00:00, 106.06it/s, loss=0.3]\n",
            "Epoch 15: 100%|██████████| 12544/12544 [01:57<00:00, 106.79it/s, loss=0.286]\n"
          ]
        }
      ],
      "source": [
        "PARSING_MODEL = train(TRAIN_DATA, n_epochs=15)"
      ]
    },
    {
      "cell_type": "markdown",
      "metadata": {
        "id": "DDj0_w7qUIIS"
      },
      "source": [
        "## Problem 5: Evaluation (2 points)"
      ]
    },
    {
      "cell_type": "markdown",
      "metadata": {
        "id": "VCeTa7z2UIIS"
      },
      "source": [
        "Dependency parsers are commonly evaluated using **unlabelled attachment score (UAS)**, which is the percentage of (non-root) words that have been assigned their correct heads. The following cell contains skeleton code for a function `uas()` that computes this score on a given dataset."
      ]
    },
    {
      "cell_type": "code",
      "execution_count": 27,
      "metadata": {
        "id": "wKGY4pe8UIIS"
      },
      "outputs": [],
      "source": [
        "def uas(tokenizer, model, filename, batch_size=8):\n",
        "    # Compute score on a given dataset\n",
        "    dataset: ParserDataset = ParserDataset(filename)\n",
        "    data_loader = DataLoader(dataset, batch_size=batch_size, collate_fn=ParserBatcher(tokenizer, device=DEVICE))\n",
        "    model.eval()\n",
        "\n",
        "    total_correct = 0\n",
        "    total_words = 0\n",
        "\n",
        "    for batch in data_loader:\n",
        "        encoded_inputs, token_spans, gold_heads = batch\n",
        "        input_ids = encoded_inputs['input_ids']\n",
        "        attention_mask = encoded_inputs['attention_mask']\n",
        "\n",
        "        # Forward pass: compute predictions by the model\n",
        "        outputs = model.forward(encoded_inputs, token_spans)\n",
        "        predicted_heads = torch.argmax(outputs, dim=-1)\n",
        "\n",
        "        # Calculate correctness\n",
        "        correct = (predicted_heads == gold_heads)\n",
        "        total_correct += correct.sum().item()\n",
        "        total_words += gold_heads.ne(-100).sum().item()-2 # Count all actual words and exclude padding-words\n",
        "\n",
        "    # Compute Unlabeled Attachment Score\n",
        "    uas_score = total_correct / total_words if total_words > 0 else 0\n",
        "    return uas_score"
      ]
    },
    {
      "cell_type": "markdown",
      "metadata": {
        "id": "9fdeqv8LUIIS"
      },
      "source": [
        "Implement the `uas()` function to match the following specification:\n",
        "\n",
        "**uas** (*tokenizer*, *model*, *filename*)\n",
        "\n",
        "> Takes a tokenizer (*tokenizer*), a trained parsing model (*model*), and the filename of a dataset in the CoNLLU format (*filename*) and returns the unlabelled attachment score of the model on the tokenised dataset."
      ]
    },
    {
      "cell_type": "markdown",
      "metadata": {
        "id": "NOVdpR0RUIIS"
      },
      "source": [
        "**⚠️ Note that pseudo-words corresponding to padding must be excluded from the calculation of the UAS.**"
      ]
    },
    {
      "cell_type": "markdown",
      "metadata": {
        "id": "N93DNV5sUIIT"
      },
      "source": [
        "The code in the following cell evaluates the trained parser on the development section of the data:"
      ]
    },
    {
      "cell_type": "code",
      "execution_count": 28,
      "metadata": {
        "colab": {
          "base_uri": "https://localhost:8080/"
        },
        "id": "ETDy9CssUIIT",
        "outputId": "e1e07cf9-ad42-4567-b7aa-63c41d1362ba"
      },
      "outputs": [
        {
          "name": "stderr",
          "output_type": "stream",
          "text": [
            "<ipython-input-13-76e280732ca7>:13: UserWarning: To copy construct from a tensor, it is recommended to use sourceTensor.clone().detach() or sourceTensor.clone().detach().requires_grad_(True), rather than torch.tensor(sourceTensor).\n",
            "  tokens.input_ids = torch.tensor(tokens.input_ids)\n"
          ]
        },
        {
          "data": {
            "text/plain": [
              "0.8650951434251634"
            ]
          },
          "execution_count": 28,
          "metadata": {},
          "output_type": "execute_result"
        }
      ],
      "source": [
        "uas(TOKENIZER, PARSING_MODEL, 'en_ewt-ud-dev.conllu')"
      ]
    },
    {
      "cell_type": "markdown",
      "metadata": {
        "id": "shl0McPvUIIT"
      },
      "source": [
        "**Your notebook must contain output demonstrating at least 86% UAS on the development data.**"
      ]
    },
    {
      "cell_type": "markdown",
      "metadata": {
        "id": "4b5PP6M_UIIT"
      },
      "source": [
        "## Problem 6: Counting trees (6 points)"
      ]
    },
    {
      "cell_type": "markdown",
      "metadata": {
        "id": "ysQ9rhogUIIT"
      },
      "source": [
        "In the last problem of this lab, we ask you to take a closer look at the graph-theoretic properties of the outputs of your trained model.\n",
        "\n",
        "The following cell contains code that will use the tokeniser and your trained model to parse the development data and write the gold-standard dependency trees as well as the dependency trees predicted by the parser to a JSON file:"
      ]
    },
    {
      "cell_type": "code",
      "execution_count": 29,
      "metadata": {
        "colab": {
          "base_uri": "https://localhost:8080/"
        },
        "id": "yMb_fXReUIIT",
        "outputId": "73ba8751-7dc4-4c94-b178-4e862df50554"
      },
      "outputs": [
        {
          "name": "stderr",
          "output_type": "stream",
          "text": [
            "<ipython-input-13-76e280732ca7>:13: UserWarning: To copy construct from a tensor, it is recommended to use sourceTensor.clone().detach() or sourceTensor.clone().detach().requires_grad_(True), rather than torch.tensor(sourceTensor).\n",
            "  tokens.input_ids = torch.tensor(tokens.input_ids)\n"
          ]
        }
      ],
      "source": [
        "import json\n",
        "\n",
        "dataset = ParserDataset('en_ewt-ud-dev.conllu')\n",
        "data_loader = DataLoader(dataset, collate_fn=ParserBatcher(TOKENIZER, device=DEVICE))\n",
        "\n",
        "with open('graphs.jsonl', 'wt') as fp:\n",
        "    for encoded_input, token_spans, gold_heads in data_loader:\n",
        "        with torch.no_grad():\n",
        "            head_scores = PARSING_MODEL.forward(encoded_input, token_spans)\n",
        "            pred_heads = torch.argmax(head_scores, dim=-1)\n",
        "        for gold, pred in zip(gold_heads, pred_heads):\n",
        "            mask = gold.ne(-100)\n",
        "            print(json.dumps((gold[mask].tolist(), pred[mask].tolist())), file=fp)"
      ]
    },
    {
      "cell_type": "markdown",
      "metadata": {
        "id": "X9jpFhZIUIIT"
      },
      "source": [
        "The lab directory contains a script `analyze.py` that you can use to compute statistics on various graph-theoretic properties: total number of graphs, number of acyclic graphs, connected graphs, trees, and projective trees. Document your exploration in a short reflection piece (ca.&nbsp;150 words). Respond to the following prompts\n",
        "\n",
        "* What are the results of this exploration? Summarise the statistics you obtained.\n",
        "* Based on what you know about the parser, did you expect your results? Was there anything surprising in them?\n",
        "* What did you learn? How, exactly, did you learn it? Why does this learning matter?"
      ]
    },
    {
      "cell_type": "markdown",
      "metadata": {
        "id": "CC_TK-2MBySV"
      },
      "source": [
        "We expect there to be no cycles in any of the graphs since we should only have one root. Furthermore all graphs should be connected since any word in the sentence should be reachable from the root. That also means that we expect all sentences to be trees since you should be able to reach any word in the sentence from the root. \n",
        "\n",
        "we got the following results: \n",
        "\n",
        "{'total': 2001, 'gold': {'acyclic': 2001, 'connected': 2001, 'tree': 2001, 'projective': 1959}, 'pred': {'acyclic': 2001, 'connected': 1840, 'tree': 1840, 'projective': 1753}}\n",
        "\n",
        "We can see here that all sentences were indeed acyclic which is inline with expectations. However, not as many sentences were connected and thus also not trees. \n",
        "\n",
        "We expected the parser to have some imperfections since it still is stochastic, although our implementation seems to have been on the lower end compared to the bench-marks presented in the slides. This could be due to insufficient amount of training or some inefficiency in the implementation. \n",
        "\n",
        "We learned about how to implement a dependency parser by implementing it and subsequently evaluating its performance. This is important since it not only gives an insight into how dependecy parsing works, but also acts as a general introduction to the field of syntactic parsing which will be useful for future studies. An example in the near future being the project. "
      ]
    },
    {
      "cell_type": "markdown",
      "metadata": {
        "id": "YNP76VkRUIIT"
      },
      "source": [
        "**🥳 Congratulations on finishing this lab! 🥳**"
      ]
    }
  ],
  "metadata": {
    "accelerator": "GPU",
    "colab": {
      "name": "BERT_Parser Panic.ipynb",
      "provenance": []
    },
    "kernelspec": {
      "display_name": "Python 3 (ipykernel)",
      "language": "python",
      "name": "python3"
    },
    "language_info": {
      "codemirror_mode": {
        "name": "ipython",
        "version": 3
      },
      "file_extension": ".py",
      "mimetype": "text/x-python",
      "name": "python",
      "nbconvert_exporter": "python",
      "pygments_lexer": "ipython3",
      "version": "3.11.4"
    },
    "widgets": {
      "application/vnd.jupyter.widget-state+json": {
        "0435abeb102f434aacbae1b7b0320f06": {
          "model_module": "@jupyter-widgets/controls",
          "model_module_version": "1.5.0",
          "model_name": "HBoxModel",
          "state": {
            "_dom_classes": [],
            "_model_module": "@jupyter-widgets/controls",
            "_model_module_version": "1.5.0",
            "_model_name": "HBoxModel",
            "_view_count": null,
            "_view_module": "@jupyter-widgets/controls",
            "_view_module_version": "1.5.0",
            "_view_name": "HBoxView",
            "box_style": "",
            "children": [
              "IPY_MODEL_6bfb479e015949289adb618e4c8293f2",
              "IPY_MODEL_68eb76e47c694803b466904140ac5c63",
              "IPY_MODEL_36f4fcb17ada4bd8b9aa9ccc2c177863"
            ],
            "layout": "IPY_MODEL_c74915ef296e483ebf0e4a977ff303d8"
          }
        },
        "05873677b7d4413e803f442961109afa": {
          "model_module": "@jupyter-widgets/base",
          "model_module_version": "1.2.0",
          "model_name": "LayoutModel",
          "state": {
            "_model_module": "@jupyter-widgets/base",
            "_model_module_version": "1.2.0",
            "_model_name": "LayoutModel",
            "_view_count": null,
            "_view_module": "@jupyter-widgets/base",
            "_view_module_version": "1.2.0",
            "_view_name": "LayoutView",
            "align_content": null,
            "align_items": null,
            "align_self": null,
            "border": null,
            "bottom": null,
            "display": null,
            "flex": null,
            "flex_flow": null,
            "grid_area": null,
            "grid_auto_columns": null,
            "grid_auto_flow": null,
            "grid_auto_rows": null,
            "grid_column": null,
            "grid_gap": null,
            "grid_row": null,
            "grid_template_areas": null,
            "grid_template_columns": null,
            "grid_template_rows": null,
            "height": null,
            "justify_content": null,
            "justify_items": null,
            "left": null,
            "margin": null,
            "max_height": null,
            "max_width": null,
            "min_height": null,
            "min_width": null,
            "object_fit": null,
            "object_position": null,
            "order": null,
            "overflow": null,
            "overflow_x": null,
            "overflow_y": null,
            "padding": null,
            "right": null,
            "top": null,
            "visibility": null,
            "width": null
          }
        },
        "113d0d63d679489da649ce0e679f6ebb": {
          "model_module": "@jupyter-widgets/base",
          "model_module_version": "1.2.0",
          "model_name": "LayoutModel",
          "state": {
            "_model_module": "@jupyter-widgets/base",
            "_model_module_version": "1.2.0",
            "_model_name": "LayoutModel",
            "_view_count": null,
            "_view_module": "@jupyter-widgets/base",
            "_view_module_version": "1.2.0",
            "_view_name": "LayoutView",
            "align_content": null,
            "align_items": null,
            "align_self": null,
            "border": null,
            "bottom": null,
            "display": null,
            "flex": null,
            "flex_flow": null,
            "grid_area": null,
            "grid_auto_columns": null,
            "grid_auto_flow": null,
            "grid_auto_rows": null,
            "grid_column": null,
            "grid_gap": null,
            "grid_row": null,
            "grid_template_areas": null,
            "grid_template_columns": null,
            "grid_template_rows": null,
            "height": null,
            "justify_content": null,
            "justify_items": null,
            "left": null,
            "margin": null,
            "max_height": null,
            "max_width": null,
            "min_height": null,
            "min_width": null,
            "object_fit": null,
            "object_position": null,
            "order": null,
            "overflow": null,
            "overflow_x": null,
            "overflow_y": null,
            "padding": null,
            "right": null,
            "top": null,
            "visibility": null,
            "width": null
          }
        },
        "133e2ddee213494494115d77492dcb89": {
          "model_module": "@jupyter-widgets/base",
          "model_module_version": "1.2.0",
          "model_name": "LayoutModel",
          "state": {
            "_model_module": "@jupyter-widgets/base",
            "_model_module_version": "1.2.0",
            "_model_name": "LayoutModel",
            "_view_count": null,
            "_view_module": "@jupyter-widgets/base",
            "_view_module_version": "1.2.0",
            "_view_name": "LayoutView",
            "align_content": null,
            "align_items": null,
            "align_self": null,
            "border": null,
            "bottom": null,
            "display": null,
            "flex": null,
            "flex_flow": null,
            "grid_area": null,
            "grid_auto_columns": null,
            "grid_auto_flow": null,
            "grid_auto_rows": null,
            "grid_column": null,
            "grid_gap": null,
            "grid_row": null,
            "grid_template_areas": null,
            "grid_template_columns": null,
            "grid_template_rows": null,
            "height": null,
            "justify_content": null,
            "justify_items": null,
            "left": null,
            "margin": null,
            "max_height": null,
            "max_width": null,
            "min_height": null,
            "min_width": null,
            "object_fit": null,
            "object_position": null,
            "order": null,
            "overflow": null,
            "overflow_x": null,
            "overflow_y": null,
            "padding": null,
            "right": null,
            "top": null,
            "visibility": null,
            "width": null
          }
        },
        "21c09561e51e4f5880587e7ee57ccd63": {
          "model_module": "@jupyter-widgets/base",
          "model_module_version": "1.2.0",
          "model_name": "LayoutModel",
          "state": {
            "_model_module": "@jupyter-widgets/base",
            "_model_module_version": "1.2.0",
            "_model_name": "LayoutModel",
            "_view_count": null,
            "_view_module": "@jupyter-widgets/base",
            "_view_module_version": "1.2.0",
            "_view_name": "LayoutView",
            "align_content": null,
            "align_items": null,
            "align_self": null,
            "border": null,
            "bottom": null,
            "display": null,
            "flex": null,
            "flex_flow": null,
            "grid_area": null,
            "grid_auto_columns": null,
            "grid_auto_flow": null,
            "grid_auto_rows": null,
            "grid_column": null,
            "grid_gap": null,
            "grid_row": null,
            "grid_template_areas": null,
            "grid_template_columns": null,
            "grid_template_rows": null,
            "height": null,
            "justify_content": null,
            "justify_items": null,
            "left": null,
            "margin": null,
            "max_height": null,
            "max_width": null,
            "min_height": null,
            "min_width": null,
            "object_fit": null,
            "object_position": null,
            "order": null,
            "overflow": null,
            "overflow_x": null,
            "overflow_y": null,
            "padding": null,
            "right": null,
            "top": null,
            "visibility": null,
            "width": null
          }
        },
        "2216eb30be9440c2844d57ccfb59d146": {
          "model_module": "@jupyter-widgets/controls",
          "model_module_version": "1.5.0",
          "model_name": "HBoxModel",
          "state": {
            "_dom_classes": [],
            "_model_module": "@jupyter-widgets/controls",
            "_model_module_version": "1.5.0",
            "_model_name": "HBoxModel",
            "_view_count": null,
            "_view_module": "@jupyter-widgets/controls",
            "_view_module_version": "1.5.0",
            "_view_name": "HBoxView",
            "box_style": "",
            "children": [
              "IPY_MODEL_6b30cf231f104dc2acdc26ccfddec9e3",
              "IPY_MODEL_c7c7f1d6f35f43c9b1314a6c9a8cf1c4",
              "IPY_MODEL_81c1855dd5f64807b6d50232c6f00271"
            ],
            "layout": "IPY_MODEL_21c09561e51e4f5880587e7ee57ccd63"
          }
        },
        "2538a246845646debaeb73b8fa46f18f": {
          "model_module": "@jupyter-widgets/controls",
          "model_module_version": "1.5.0",
          "model_name": "DescriptionStyleModel",
          "state": {
            "_model_module": "@jupyter-widgets/controls",
            "_model_module_version": "1.5.0",
            "_model_name": "DescriptionStyleModel",
            "_view_count": null,
            "_view_module": "@jupyter-widgets/base",
            "_view_module_version": "1.2.0",
            "_view_name": "StyleView",
            "description_width": ""
          }
        },
        "25ff4e7689a0437cbc80dfa003f3871c": {
          "model_module": "@jupyter-widgets/controls",
          "model_module_version": "1.5.0",
          "model_name": "ProgressStyleModel",
          "state": {
            "_model_module": "@jupyter-widgets/controls",
            "_model_module_version": "1.5.0",
            "_model_name": "ProgressStyleModel",
            "_view_count": null,
            "_view_module": "@jupyter-widgets/base",
            "_view_module_version": "1.2.0",
            "_view_name": "StyleView",
            "bar_color": null,
            "description_width": ""
          }
        },
        "2652e4a3a0784704ae64d0ba8a677b99": {
          "model_module": "@jupyter-widgets/controls",
          "model_module_version": "1.5.0",
          "model_name": "HBoxModel",
          "state": {
            "_dom_classes": [],
            "_model_module": "@jupyter-widgets/controls",
            "_model_module_version": "1.5.0",
            "_model_name": "HBoxModel",
            "_view_count": null,
            "_view_module": "@jupyter-widgets/controls",
            "_view_module_version": "1.5.0",
            "_view_name": "HBoxView",
            "box_style": "",
            "children": [
              "IPY_MODEL_536147d0815c4981b88735eb900f11b5",
              "IPY_MODEL_7bf09b9f7caa436b9a5c121effac67cb",
              "IPY_MODEL_da6ff28bb8e048eb976e296da4243292"
            ],
            "layout": "IPY_MODEL_4e2bfed2be3f41a788365af30d93f629"
          }
        },
        "279291baf02549baa7a2be59c85314aa": {
          "model_module": "@jupyter-widgets/controls",
          "model_module_version": "1.5.0",
          "model_name": "DescriptionStyleModel",
          "state": {
            "_model_module": "@jupyter-widgets/controls",
            "_model_module_version": "1.5.0",
            "_model_name": "DescriptionStyleModel",
            "_view_count": null,
            "_view_module": "@jupyter-widgets/base",
            "_view_module_version": "1.2.0",
            "_view_name": "StyleView",
            "description_width": ""
          }
        },
        "2faf538c72bc4f21b0124f521a1531d8": {
          "model_module": "@jupyter-widgets/controls",
          "model_module_version": "1.5.0",
          "model_name": "DescriptionStyleModel",
          "state": {
            "_model_module": "@jupyter-widgets/controls",
            "_model_module_version": "1.5.0",
            "_model_name": "DescriptionStyleModel",
            "_view_count": null,
            "_view_module": "@jupyter-widgets/base",
            "_view_module_version": "1.2.0",
            "_view_name": "StyleView",
            "description_width": ""
          }
        },
        "36f4fcb17ada4bd8b9aa9ccc2c177863": {
          "model_module": "@jupyter-widgets/controls",
          "model_module_version": "1.5.0",
          "model_name": "HTMLModel",
          "state": {
            "_dom_classes": [],
            "_model_module": "@jupyter-widgets/controls",
            "_model_module_version": "1.5.0",
            "_model_name": "HTMLModel",
            "_view_count": null,
            "_view_module": "@jupyter-widgets/controls",
            "_view_module_version": "1.5.0",
            "_view_name": "HTMLView",
            "description": "",
            "description_tooltip": null,
            "layout": "IPY_MODEL_fd78b5a7ea9446e582ab6e06b6c37c6e",
            "placeholder": "​",
            "style": "IPY_MODEL_f30b7072f0be44bdbd9af12e64dcf33c",
            "value": " 232k/232k [00:00&lt;00:00, 1.53MB/s]"
          }
        },
        "42c335fca917473eb58baaf2be8103c0": {
          "model_module": "@jupyter-widgets/controls",
          "model_module_version": "1.5.0",
          "model_name": "DescriptionStyleModel",
          "state": {
            "_model_module": "@jupyter-widgets/controls",
            "_model_module_version": "1.5.0",
            "_model_name": "DescriptionStyleModel",
            "_view_count": null,
            "_view_module": "@jupyter-widgets/base",
            "_view_module_version": "1.2.0",
            "_view_name": "StyleView",
            "description_width": ""
          }
        },
        "461c7dbf1f164294913be1749127e6bc": {
          "model_module": "@jupyter-widgets/controls",
          "model_module_version": "1.5.0",
          "model_name": "HTMLModel",
          "state": {
            "_dom_classes": [],
            "_model_module": "@jupyter-widgets/controls",
            "_model_module_version": "1.5.0",
            "_model_name": "HTMLModel",
            "_view_count": null,
            "_view_module": "@jupyter-widgets/controls",
            "_view_module_version": "1.5.0",
            "_view_name": "HTMLView",
            "description": "",
            "description_tooltip": null,
            "layout": "IPY_MODEL_f558a409afcb4f37ab546664f53e2718",
            "placeholder": "​",
            "style": "IPY_MODEL_2538a246845646debaeb73b8fa46f18f",
            "value": "config.json: 100%"
          }
        },
        "4e2bfed2be3f41a788365af30d93f629": {
          "model_module": "@jupyter-widgets/base",
          "model_module_version": "1.2.0",
          "model_name": "LayoutModel",
          "state": {
            "_model_module": "@jupyter-widgets/base",
            "_model_module_version": "1.2.0",
            "_model_name": "LayoutModel",
            "_view_count": null,
            "_view_module": "@jupyter-widgets/base",
            "_view_module_version": "1.2.0",
            "_view_name": "LayoutView",
            "align_content": null,
            "align_items": null,
            "align_self": null,
            "border": null,
            "bottom": null,
            "display": null,
            "flex": null,
            "flex_flow": null,
            "grid_area": null,
            "grid_auto_columns": null,
            "grid_auto_flow": null,
            "grid_auto_rows": null,
            "grid_column": null,
            "grid_gap": null,
            "grid_row": null,
            "grid_template_areas": null,
            "grid_template_columns": null,
            "grid_template_rows": null,
            "height": null,
            "justify_content": null,
            "justify_items": null,
            "left": null,
            "margin": null,
            "max_height": null,
            "max_width": null,
            "min_height": null,
            "min_width": null,
            "object_fit": null,
            "object_position": null,
            "order": null,
            "overflow": null,
            "overflow_x": null,
            "overflow_y": null,
            "padding": null,
            "right": null,
            "top": null,
            "visibility": null,
            "width": null
          }
        },
        "4e86833ee50e490f8d624cafd9a34005": {
          "model_module": "@jupyter-widgets/base",
          "model_module_version": "1.2.0",
          "model_name": "LayoutModel",
          "state": {
            "_model_module": "@jupyter-widgets/base",
            "_model_module_version": "1.2.0",
            "_model_name": "LayoutModel",
            "_view_count": null,
            "_view_module": "@jupyter-widgets/base",
            "_view_module_version": "1.2.0",
            "_view_name": "LayoutView",
            "align_content": null,
            "align_items": null,
            "align_self": null,
            "border": null,
            "bottom": null,
            "display": null,
            "flex": null,
            "flex_flow": null,
            "grid_area": null,
            "grid_auto_columns": null,
            "grid_auto_flow": null,
            "grid_auto_rows": null,
            "grid_column": null,
            "grid_gap": null,
            "grid_row": null,
            "grid_template_areas": null,
            "grid_template_columns": null,
            "grid_template_rows": null,
            "height": null,
            "justify_content": null,
            "justify_items": null,
            "left": null,
            "margin": null,
            "max_height": null,
            "max_width": null,
            "min_height": null,
            "min_width": null,
            "object_fit": null,
            "object_position": null,
            "order": null,
            "overflow": null,
            "overflow_x": null,
            "overflow_y": null,
            "padding": null,
            "right": null,
            "top": null,
            "visibility": null,
            "width": null
          }
        },
        "4f378501098b40fe9e92659fcf38dcbf": {
          "model_module": "@jupyter-widgets/base",
          "model_module_version": "1.2.0",
          "model_name": "LayoutModel",
          "state": {
            "_model_module": "@jupyter-widgets/base",
            "_model_module_version": "1.2.0",
            "_model_name": "LayoutModel",
            "_view_count": null,
            "_view_module": "@jupyter-widgets/base",
            "_view_module_version": "1.2.0",
            "_view_name": "LayoutView",
            "align_content": null,
            "align_items": null,
            "align_self": null,
            "border": null,
            "bottom": null,
            "display": null,
            "flex": null,
            "flex_flow": null,
            "grid_area": null,
            "grid_auto_columns": null,
            "grid_auto_flow": null,
            "grid_auto_rows": null,
            "grid_column": null,
            "grid_gap": null,
            "grid_row": null,
            "grid_template_areas": null,
            "grid_template_columns": null,
            "grid_template_rows": null,
            "height": null,
            "justify_content": null,
            "justify_items": null,
            "left": null,
            "margin": null,
            "max_height": null,
            "max_width": null,
            "min_height": null,
            "min_width": null,
            "object_fit": null,
            "object_position": null,
            "order": null,
            "overflow": null,
            "overflow_x": null,
            "overflow_y": null,
            "padding": null,
            "right": null,
            "top": null,
            "visibility": null,
            "width": null
          }
        },
        "4f4df3a8c6d64849baf079266ac2dce9": {
          "model_module": "@jupyter-widgets/controls",
          "model_module_version": "1.5.0",
          "model_name": "ProgressStyleModel",
          "state": {
            "_model_module": "@jupyter-widgets/controls",
            "_model_module_version": "1.5.0",
            "_model_name": "ProgressStyleModel",
            "_view_count": null,
            "_view_module": "@jupyter-widgets/base",
            "_view_module_version": "1.2.0",
            "_view_name": "StyleView",
            "bar_color": null,
            "description_width": ""
          }
        },
        "536147d0815c4981b88735eb900f11b5": {
          "model_module": "@jupyter-widgets/controls",
          "model_module_version": "1.5.0",
          "model_name": "HTMLModel",
          "state": {
            "_dom_classes": [],
            "_model_module": "@jupyter-widgets/controls",
            "_model_module_version": "1.5.0",
            "_model_name": "HTMLModel",
            "_view_count": null,
            "_view_module": "@jupyter-widgets/controls",
            "_view_module_version": "1.5.0",
            "_view_name": "HTMLView",
            "description": "",
            "description_tooltip": null,
            "layout": "IPY_MODEL_788eaca100c34e5b9b149a0aaa67943b",
            "placeholder": "​",
            "style": "IPY_MODEL_da8832a87f574eaf84034cde54286500",
            "value": "tokenizer.json: 100%"
          }
        },
        "5ace68b4060d4a9a966b740f0208e1d2": {
          "model_module": "@jupyter-widgets/controls",
          "model_module_version": "1.5.0",
          "model_name": "HTMLModel",
          "state": {
            "_dom_classes": [],
            "_model_module": "@jupyter-widgets/controls",
            "_model_module_version": "1.5.0",
            "_model_name": "HTMLModel",
            "_view_count": null,
            "_view_module": "@jupyter-widgets/controls",
            "_view_module_version": "1.5.0",
            "_view_name": "HTMLView",
            "description": "",
            "description_tooltip": null,
            "layout": "IPY_MODEL_e15f83b17ef04cbcae528d9cc4ce5ca4",
            "placeholder": "​",
            "style": "IPY_MODEL_a8175d04300246bf8d659859f56ccabb",
            "value": "tokenizer_config.json: 100%"
          }
        },
        "5dd89285f8ea41be9cf6de9cc47e4f2b": {
          "model_module": "@jupyter-widgets/base",
          "model_module_version": "1.2.0",
          "model_name": "LayoutModel",
          "state": {
            "_model_module": "@jupyter-widgets/base",
            "_model_module_version": "1.2.0",
            "_model_name": "LayoutModel",
            "_view_count": null,
            "_view_module": "@jupyter-widgets/base",
            "_view_module_version": "1.2.0",
            "_view_name": "LayoutView",
            "align_content": null,
            "align_items": null,
            "align_self": null,
            "border": null,
            "bottom": null,
            "display": null,
            "flex": null,
            "flex_flow": null,
            "grid_area": null,
            "grid_auto_columns": null,
            "grid_auto_flow": null,
            "grid_auto_rows": null,
            "grid_column": null,
            "grid_gap": null,
            "grid_row": null,
            "grid_template_areas": null,
            "grid_template_columns": null,
            "grid_template_rows": null,
            "height": null,
            "justify_content": null,
            "justify_items": null,
            "left": null,
            "margin": null,
            "max_height": null,
            "max_width": null,
            "min_height": null,
            "min_width": null,
            "object_fit": null,
            "object_position": null,
            "order": null,
            "overflow": null,
            "overflow_x": null,
            "overflow_y": null,
            "padding": null,
            "right": null,
            "top": null,
            "visibility": null,
            "width": null
          }
        },
        "609cf90315344077bfe465a11e47346b": {
          "model_module": "@jupyter-widgets/base",
          "model_module_version": "1.2.0",
          "model_name": "LayoutModel",
          "state": {
            "_model_module": "@jupyter-widgets/base",
            "_model_module_version": "1.2.0",
            "_model_name": "LayoutModel",
            "_view_count": null,
            "_view_module": "@jupyter-widgets/base",
            "_view_module_version": "1.2.0",
            "_view_name": "LayoutView",
            "align_content": null,
            "align_items": null,
            "align_self": null,
            "border": null,
            "bottom": null,
            "display": null,
            "flex": null,
            "flex_flow": null,
            "grid_area": null,
            "grid_auto_columns": null,
            "grid_auto_flow": null,
            "grid_auto_rows": null,
            "grid_column": null,
            "grid_gap": null,
            "grid_row": null,
            "grid_template_areas": null,
            "grid_template_columns": null,
            "grid_template_rows": null,
            "height": null,
            "justify_content": null,
            "justify_items": null,
            "left": null,
            "margin": null,
            "max_height": null,
            "max_width": null,
            "min_height": null,
            "min_width": null,
            "object_fit": null,
            "object_position": null,
            "order": null,
            "overflow": null,
            "overflow_x": null,
            "overflow_y": null,
            "padding": null,
            "right": null,
            "top": null,
            "visibility": null,
            "width": null
          }
        },
        "68eb76e47c694803b466904140ac5c63": {
          "model_module": "@jupyter-widgets/controls",
          "model_module_version": "1.5.0",
          "model_name": "FloatProgressModel",
          "state": {
            "_dom_classes": [],
            "_model_module": "@jupyter-widgets/controls",
            "_model_module_version": "1.5.0",
            "_model_name": "FloatProgressModel",
            "_view_count": null,
            "_view_module": "@jupyter-widgets/controls",
            "_view_module_version": "1.5.0",
            "_view_name": "ProgressView",
            "bar_style": "success",
            "description": "",
            "description_tooltip": null,
            "layout": "IPY_MODEL_ff60d3c4397846f2a40dcc0a699a8bd4",
            "max": 231508,
            "min": 0,
            "orientation": "horizontal",
            "style": "IPY_MODEL_25ff4e7689a0437cbc80dfa003f3871c",
            "value": 231508
          }
        },
        "6b30cf231f104dc2acdc26ccfddec9e3": {
          "model_module": "@jupyter-widgets/controls",
          "model_module_version": "1.5.0",
          "model_name": "HTMLModel",
          "state": {
            "_dom_classes": [],
            "_model_module": "@jupyter-widgets/controls",
            "_model_module_version": "1.5.0",
            "_model_name": "HTMLModel",
            "_view_count": null,
            "_view_module": "@jupyter-widgets/controls",
            "_view_module_version": "1.5.0",
            "_view_name": "HTMLView",
            "description": "",
            "description_tooltip": null,
            "layout": "IPY_MODEL_5dd89285f8ea41be9cf6de9cc47e4f2b",
            "placeholder": "​",
            "style": "IPY_MODEL_c8dc108a6fa940a1822c06914b5443b7",
            "value": "model.safetensors: 100%"
          }
        },
        "6b6cfa8d060248e28fbb13667c950571": {
          "model_module": "@jupyter-widgets/controls",
          "model_module_version": "1.5.0",
          "model_name": "HBoxModel",
          "state": {
            "_dom_classes": [],
            "_model_module": "@jupyter-widgets/controls",
            "_model_module_version": "1.5.0",
            "_model_name": "HBoxModel",
            "_view_count": null,
            "_view_module": "@jupyter-widgets/controls",
            "_view_module_version": "1.5.0",
            "_view_name": "HBoxView",
            "box_style": "",
            "children": [
              "IPY_MODEL_461c7dbf1f164294913be1749127e6bc",
              "IPY_MODEL_ee9958bace9946d2bf16cd0a58dad46b",
              "IPY_MODEL_70ae7620ba5e4272a596b2930a378cdf"
            ],
            "layout": "IPY_MODEL_4f378501098b40fe9e92659fcf38dcbf"
          }
        },
        "6bfb479e015949289adb618e4c8293f2": {
          "model_module": "@jupyter-widgets/controls",
          "model_module_version": "1.5.0",
          "model_name": "HTMLModel",
          "state": {
            "_dom_classes": [],
            "_model_module": "@jupyter-widgets/controls",
            "_model_module_version": "1.5.0",
            "_model_name": "HTMLModel",
            "_view_count": null,
            "_view_module": "@jupyter-widgets/controls",
            "_view_module_version": "1.5.0",
            "_view_name": "HTMLView",
            "description": "",
            "description_tooltip": null,
            "layout": "IPY_MODEL_8db479686bd345ca810fc6ca34c765fc",
            "placeholder": "​",
            "style": "IPY_MODEL_42c335fca917473eb58baaf2be8103c0",
            "value": "vocab.txt: 100%"
          }
        },
        "70ae7620ba5e4272a596b2930a378cdf": {
          "model_module": "@jupyter-widgets/controls",
          "model_module_version": "1.5.0",
          "model_name": "HTMLModel",
          "state": {
            "_dom_classes": [],
            "_model_module": "@jupyter-widgets/controls",
            "_model_module_version": "1.5.0",
            "_model_name": "HTMLModel",
            "_view_count": null,
            "_view_module": "@jupyter-widgets/controls",
            "_view_module_version": "1.5.0",
            "_view_name": "HTMLView",
            "description": "",
            "description_tooltip": null,
            "layout": "IPY_MODEL_c6c4f6962bfb4c25a43e3e3e29a99e2a",
            "placeholder": "​",
            "style": "IPY_MODEL_870823ca9f914327b707e6aa528bfe35",
            "value": " 483/483 [00:00&lt;00:00, 25.8kB/s]"
          }
        },
        "71a853e0df2d4bd59c094b89026d38d6": {
          "model_module": "@jupyter-widgets/controls",
          "model_module_version": "1.5.0",
          "model_name": "ProgressStyleModel",
          "state": {
            "_model_module": "@jupyter-widgets/controls",
            "_model_module_version": "1.5.0",
            "_model_name": "ProgressStyleModel",
            "_view_count": null,
            "_view_module": "@jupyter-widgets/base",
            "_view_module_version": "1.2.0",
            "_view_name": "StyleView",
            "bar_color": null,
            "description_width": ""
          }
        },
        "788eaca100c34e5b9b149a0aaa67943b": {
          "model_module": "@jupyter-widgets/base",
          "model_module_version": "1.2.0",
          "model_name": "LayoutModel",
          "state": {
            "_model_module": "@jupyter-widgets/base",
            "_model_module_version": "1.2.0",
            "_model_name": "LayoutModel",
            "_view_count": null,
            "_view_module": "@jupyter-widgets/base",
            "_view_module_version": "1.2.0",
            "_view_name": "LayoutView",
            "align_content": null,
            "align_items": null,
            "align_self": null,
            "border": null,
            "bottom": null,
            "display": null,
            "flex": null,
            "flex_flow": null,
            "grid_area": null,
            "grid_auto_columns": null,
            "grid_auto_flow": null,
            "grid_auto_rows": null,
            "grid_column": null,
            "grid_gap": null,
            "grid_row": null,
            "grid_template_areas": null,
            "grid_template_columns": null,
            "grid_template_rows": null,
            "height": null,
            "justify_content": null,
            "justify_items": null,
            "left": null,
            "margin": null,
            "max_height": null,
            "max_width": null,
            "min_height": null,
            "min_width": null,
            "object_fit": null,
            "object_position": null,
            "order": null,
            "overflow": null,
            "overflow_x": null,
            "overflow_y": null,
            "padding": null,
            "right": null,
            "top": null,
            "visibility": null,
            "width": null
          }
        },
        "7bf09b9f7caa436b9a5c121effac67cb": {
          "model_module": "@jupyter-widgets/controls",
          "model_module_version": "1.5.0",
          "model_name": "FloatProgressModel",
          "state": {
            "_dom_classes": [],
            "_model_module": "@jupyter-widgets/controls",
            "_model_module_version": "1.5.0",
            "_model_name": "FloatProgressModel",
            "_view_count": null,
            "_view_module": "@jupyter-widgets/controls",
            "_view_module_version": "1.5.0",
            "_view_name": "ProgressView",
            "bar_style": "success",
            "description": "",
            "description_tooltip": null,
            "layout": "IPY_MODEL_c27503a1343e423ca7b73ee2041bea09",
            "max": 466062,
            "min": 0,
            "orientation": "horizontal",
            "style": "IPY_MODEL_903ee3c8caac4b33b7e97990f01187b0",
            "value": 466062
          }
        },
        "7c80a95ee9d94b389d01763842e47632": {
          "model_module": "@jupyter-widgets/controls",
          "model_module_version": "1.5.0",
          "model_name": "HBoxModel",
          "state": {
            "_dom_classes": [],
            "_model_module": "@jupyter-widgets/controls",
            "_model_module_version": "1.5.0",
            "_model_name": "HBoxModel",
            "_view_count": null,
            "_view_module": "@jupyter-widgets/controls",
            "_view_module_version": "1.5.0",
            "_view_name": "HBoxView",
            "box_style": "",
            "children": [
              "IPY_MODEL_5ace68b4060d4a9a966b740f0208e1d2",
              "IPY_MODEL_7db4bc9cc8eb458dac1721cd4027a2aa",
              "IPY_MODEL_8b52bf5a03f2431fa5d0169b316552c8"
            ],
            "layout": "IPY_MODEL_05873677b7d4413e803f442961109afa"
          }
        },
        "7db4bc9cc8eb458dac1721cd4027a2aa": {
          "model_module": "@jupyter-widgets/controls",
          "model_module_version": "1.5.0",
          "model_name": "FloatProgressModel",
          "state": {
            "_dom_classes": [],
            "_model_module": "@jupyter-widgets/controls",
            "_model_module_version": "1.5.0",
            "_model_name": "FloatProgressModel",
            "_view_count": null,
            "_view_module": "@jupyter-widgets/controls",
            "_view_module_version": "1.5.0",
            "_view_name": "ProgressView",
            "bar_style": "success",
            "description": "",
            "description_tooltip": null,
            "layout": "IPY_MODEL_609cf90315344077bfe465a11e47346b",
            "max": 28,
            "min": 0,
            "orientation": "horizontal",
            "style": "IPY_MODEL_aa85cc7ec23d49b3997ca136df139656",
            "value": 28
          }
        },
        "81c1855dd5f64807b6d50232c6f00271": {
          "model_module": "@jupyter-widgets/controls",
          "model_module_version": "1.5.0",
          "model_name": "HTMLModel",
          "state": {
            "_dom_classes": [],
            "_model_module": "@jupyter-widgets/controls",
            "_model_module_version": "1.5.0",
            "_model_name": "HTMLModel",
            "_view_count": null,
            "_view_module": "@jupyter-widgets/controls",
            "_view_module_version": "1.5.0",
            "_view_name": "HTMLView",
            "description": "",
            "description_tooltip": null,
            "layout": "IPY_MODEL_b53f8b90765b406f9f077d2b49ae52b2",
            "placeholder": "​",
            "style": "IPY_MODEL_8d86109093694d208e6ddc1b069d7370",
            "value": " 268M/268M [00:01&lt;00:00, 170MB/s]"
          }
        },
        "870823ca9f914327b707e6aa528bfe35": {
          "model_module": "@jupyter-widgets/controls",
          "model_module_version": "1.5.0",
          "model_name": "DescriptionStyleModel",
          "state": {
            "_model_module": "@jupyter-widgets/controls",
            "_model_module_version": "1.5.0",
            "_model_name": "DescriptionStyleModel",
            "_view_count": null,
            "_view_module": "@jupyter-widgets/base",
            "_view_module_version": "1.2.0",
            "_view_name": "StyleView",
            "description_width": ""
          }
        },
        "8b52bf5a03f2431fa5d0169b316552c8": {
          "model_module": "@jupyter-widgets/controls",
          "model_module_version": "1.5.0",
          "model_name": "HTMLModel",
          "state": {
            "_dom_classes": [],
            "_model_module": "@jupyter-widgets/controls",
            "_model_module_version": "1.5.0",
            "_model_name": "HTMLModel",
            "_view_count": null,
            "_view_module": "@jupyter-widgets/controls",
            "_view_module_version": "1.5.0",
            "_view_name": "HTMLView",
            "description": "",
            "description_tooltip": null,
            "layout": "IPY_MODEL_bb7e25eabfa74c0e829ff95eafdf9bdc",
            "placeholder": "​",
            "style": "IPY_MODEL_2faf538c72bc4f21b0124f521a1531d8",
            "value": " 28.0/28.0 [00:00&lt;00:00, 1.77kB/s]"
          }
        },
        "8d86109093694d208e6ddc1b069d7370": {
          "model_module": "@jupyter-widgets/controls",
          "model_module_version": "1.5.0",
          "model_name": "DescriptionStyleModel",
          "state": {
            "_model_module": "@jupyter-widgets/controls",
            "_model_module_version": "1.5.0",
            "_model_name": "DescriptionStyleModel",
            "_view_count": null,
            "_view_module": "@jupyter-widgets/base",
            "_view_module_version": "1.2.0",
            "_view_name": "StyleView",
            "description_width": ""
          }
        },
        "8db479686bd345ca810fc6ca34c765fc": {
          "model_module": "@jupyter-widgets/base",
          "model_module_version": "1.2.0",
          "model_name": "LayoutModel",
          "state": {
            "_model_module": "@jupyter-widgets/base",
            "_model_module_version": "1.2.0",
            "_model_name": "LayoutModel",
            "_view_count": null,
            "_view_module": "@jupyter-widgets/base",
            "_view_module_version": "1.2.0",
            "_view_name": "LayoutView",
            "align_content": null,
            "align_items": null,
            "align_self": null,
            "border": null,
            "bottom": null,
            "display": null,
            "flex": null,
            "flex_flow": null,
            "grid_area": null,
            "grid_auto_columns": null,
            "grid_auto_flow": null,
            "grid_auto_rows": null,
            "grid_column": null,
            "grid_gap": null,
            "grid_row": null,
            "grid_template_areas": null,
            "grid_template_columns": null,
            "grid_template_rows": null,
            "height": null,
            "justify_content": null,
            "justify_items": null,
            "left": null,
            "margin": null,
            "max_height": null,
            "max_width": null,
            "min_height": null,
            "min_width": null,
            "object_fit": null,
            "object_position": null,
            "order": null,
            "overflow": null,
            "overflow_x": null,
            "overflow_y": null,
            "padding": null,
            "right": null,
            "top": null,
            "visibility": null,
            "width": null
          }
        },
        "903ee3c8caac4b33b7e97990f01187b0": {
          "model_module": "@jupyter-widgets/controls",
          "model_module_version": "1.5.0",
          "model_name": "ProgressStyleModel",
          "state": {
            "_model_module": "@jupyter-widgets/controls",
            "_model_module_version": "1.5.0",
            "_model_name": "ProgressStyleModel",
            "_view_count": null,
            "_view_module": "@jupyter-widgets/base",
            "_view_module_version": "1.2.0",
            "_view_name": "StyleView",
            "bar_color": null,
            "description_width": ""
          }
        },
        "a8175d04300246bf8d659859f56ccabb": {
          "model_module": "@jupyter-widgets/controls",
          "model_module_version": "1.5.0",
          "model_name": "DescriptionStyleModel",
          "state": {
            "_model_module": "@jupyter-widgets/controls",
            "_model_module_version": "1.5.0",
            "_model_name": "DescriptionStyleModel",
            "_view_count": null,
            "_view_module": "@jupyter-widgets/base",
            "_view_module_version": "1.2.0",
            "_view_name": "StyleView",
            "description_width": ""
          }
        },
        "aa85cc7ec23d49b3997ca136df139656": {
          "model_module": "@jupyter-widgets/controls",
          "model_module_version": "1.5.0",
          "model_name": "ProgressStyleModel",
          "state": {
            "_model_module": "@jupyter-widgets/controls",
            "_model_module_version": "1.5.0",
            "_model_name": "ProgressStyleModel",
            "_view_count": null,
            "_view_module": "@jupyter-widgets/base",
            "_view_module_version": "1.2.0",
            "_view_name": "StyleView",
            "bar_color": null,
            "description_width": ""
          }
        },
        "b53f8b90765b406f9f077d2b49ae52b2": {
          "model_module": "@jupyter-widgets/base",
          "model_module_version": "1.2.0",
          "model_name": "LayoutModel",
          "state": {
            "_model_module": "@jupyter-widgets/base",
            "_model_module_version": "1.2.0",
            "_model_name": "LayoutModel",
            "_view_count": null,
            "_view_module": "@jupyter-widgets/base",
            "_view_module_version": "1.2.0",
            "_view_name": "LayoutView",
            "align_content": null,
            "align_items": null,
            "align_self": null,
            "border": null,
            "bottom": null,
            "display": null,
            "flex": null,
            "flex_flow": null,
            "grid_area": null,
            "grid_auto_columns": null,
            "grid_auto_flow": null,
            "grid_auto_rows": null,
            "grid_column": null,
            "grid_gap": null,
            "grid_row": null,
            "grid_template_areas": null,
            "grid_template_columns": null,
            "grid_template_rows": null,
            "height": null,
            "justify_content": null,
            "justify_items": null,
            "left": null,
            "margin": null,
            "max_height": null,
            "max_width": null,
            "min_height": null,
            "min_width": null,
            "object_fit": null,
            "object_position": null,
            "order": null,
            "overflow": null,
            "overflow_x": null,
            "overflow_y": null,
            "padding": null,
            "right": null,
            "top": null,
            "visibility": null,
            "width": null
          }
        },
        "bb7e25eabfa74c0e829ff95eafdf9bdc": {
          "model_module": "@jupyter-widgets/base",
          "model_module_version": "1.2.0",
          "model_name": "LayoutModel",
          "state": {
            "_model_module": "@jupyter-widgets/base",
            "_model_module_version": "1.2.0",
            "_model_name": "LayoutModel",
            "_view_count": null,
            "_view_module": "@jupyter-widgets/base",
            "_view_module_version": "1.2.0",
            "_view_name": "LayoutView",
            "align_content": null,
            "align_items": null,
            "align_self": null,
            "border": null,
            "bottom": null,
            "display": null,
            "flex": null,
            "flex_flow": null,
            "grid_area": null,
            "grid_auto_columns": null,
            "grid_auto_flow": null,
            "grid_auto_rows": null,
            "grid_column": null,
            "grid_gap": null,
            "grid_row": null,
            "grid_template_areas": null,
            "grid_template_columns": null,
            "grid_template_rows": null,
            "height": null,
            "justify_content": null,
            "justify_items": null,
            "left": null,
            "margin": null,
            "max_height": null,
            "max_width": null,
            "min_height": null,
            "min_width": null,
            "object_fit": null,
            "object_position": null,
            "order": null,
            "overflow": null,
            "overflow_x": null,
            "overflow_y": null,
            "padding": null,
            "right": null,
            "top": null,
            "visibility": null,
            "width": null
          }
        },
        "c27503a1343e423ca7b73ee2041bea09": {
          "model_module": "@jupyter-widgets/base",
          "model_module_version": "1.2.0",
          "model_name": "LayoutModel",
          "state": {
            "_model_module": "@jupyter-widgets/base",
            "_model_module_version": "1.2.0",
            "_model_name": "LayoutModel",
            "_view_count": null,
            "_view_module": "@jupyter-widgets/base",
            "_view_module_version": "1.2.0",
            "_view_name": "LayoutView",
            "align_content": null,
            "align_items": null,
            "align_self": null,
            "border": null,
            "bottom": null,
            "display": null,
            "flex": null,
            "flex_flow": null,
            "grid_area": null,
            "grid_auto_columns": null,
            "grid_auto_flow": null,
            "grid_auto_rows": null,
            "grid_column": null,
            "grid_gap": null,
            "grid_row": null,
            "grid_template_areas": null,
            "grid_template_columns": null,
            "grid_template_rows": null,
            "height": null,
            "justify_content": null,
            "justify_items": null,
            "left": null,
            "margin": null,
            "max_height": null,
            "max_width": null,
            "min_height": null,
            "min_width": null,
            "object_fit": null,
            "object_position": null,
            "order": null,
            "overflow": null,
            "overflow_x": null,
            "overflow_y": null,
            "padding": null,
            "right": null,
            "top": null,
            "visibility": null,
            "width": null
          }
        },
        "c6c4f6962bfb4c25a43e3e3e29a99e2a": {
          "model_module": "@jupyter-widgets/base",
          "model_module_version": "1.2.0",
          "model_name": "LayoutModel",
          "state": {
            "_model_module": "@jupyter-widgets/base",
            "_model_module_version": "1.2.0",
            "_model_name": "LayoutModel",
            "_view_count": null,
            "_view_module": "@jupyter-widgets/base",
            "_view_module_version": "1.2.0",
            "_view_name": "LayoutView",
            "align_content": null,
            "align_items": null,
            "align_self": null,
            "border": null,
            "bottom": null,
            "display": null,
            "flex": null,
            "flex_flow": null,
            "grid_area": null,
            "grid_auto_columns": null,
            "grid_auto_flow": null,
            "grid_auto_rows": null,
            "grid_column": null,
            "grid_gap": null,
            "grid_row": null,
            "grid_template_areas": null,
            "grid_template_columns": null,
            "grid_template_rows": null,
            "height": null,
            "justify_content": null,
            "justify_items": null,
            "left": null,
            "margin": null,
            "max_height": null,
            "max_width": null,
            "min_height": null,
            "min_width": null,
            "object_fit": null,
            "object_position": null,
            "order": null,
            "overflow": null,
            "overflow_x": null,
            "overflow_y": null,
            "padding": null,
            "right": null,
            "top": null,
            "visibility": null,
            "width": null
          }
        },
        "c74915ef296e483ebf0e4a977ff303d8": {
          "model_module": "@jupyter-widgets/base",
          "model_module_version": "1.2.0",
          "model_name": "LayoutModel",
          "state": {
            "_model_module": "@jupyter-widgets/base",
            "_model_module_version": "1.2.0",
            "_model_name": "LayoutModel",
            "_view_count": null,
            "_view_module": "@jupyter-widgets/base",
            "_view_module_version": "1.2.0",
            "_view_name": "LayoutView",
            "align_content": null,
            "align_items": null,
            "align_self": null,
            "border": null,
            "bottom": null,
            "display": null,
            "flex": null,
            "flex_flow": null,
            "grid_area": null,
            "grid_auto_columns": null,
            "grid_auto_flow": null,
            "grid_auto_rows": null,
            "grid_column": null,
            "grid_gap": null,
            "grid_row": null,
            "grid_template_areas": null,
            "grid_template_columns": null,
            "grid_template_rows": null,
            "height": null,
            "justify_content": null,
            "justify_items": null,
            "left": null,
            "margin": null,
            "max_height": null,
            "max_width": null,
            "min_height": null,
            "min_width": null,
            "object_fit": null,
            "object_position": null,
            "order": null,
            "overflow": null,
            "overflow_x": null,
            "overflow_y": null,
            "padding": null,
            "right": null,
            "top": null,
            "visibility": null,
            "width": null
          }
        },
        "c7c7f1d6f35f43c9b1314a6c9a8cf1c4": {
          "model_module": "@jupyter-widgets/controls",
          "model_module_version": "1.5.0",
          "model_name": "FloatProgressModel",
          "state": {
            "_dom_classes": [],
            "_model_module": "@jupyter-widgets/controls",
            "_model_module_version": "1.5.0",
            "_model_name": "FloatProgressModel",
            "_view_count": null,
            "_view_module": "@jupyter-widgets/controls",
            "_view_module_version": "1.5.0",
            "_view_name": "ProgressView",
            "bar_style": "success",
            "description": "",
            "description_tooltip": null,
            "layout": "IPY_MODEL_4e86833ee50e490f8d624cafd9a34005",
            "max": 267954768,
            "min": 0,
            "orientation": "horizontal",
            "style": "IPY_MODEL_4f4df3a8c6d64849baf079266ac2dce9",
            "value": 267954768
          }
        },
        "c8dc108a6fa940a1822c06914b5443b7": {
          "model_module": "@jupyter-widgets/controls",
          "model_module_version": "1.5.0",
          "model_name": "DescriptionStyleModel",
          "state": {
            "_model_module": "@jupyter-widgets/controls",
            "_model_module_version": "1.5.0",
            "_model_name": "DescriptionStyleModel",
            "_view_count": null,
            "_view_module": "@jupyter-widgets/base",
            "_view_module_version": "1.2.0",
            "_view_name": "StyleView",
            "description_width": ""
          }
        },
        "da6ff28bb8e048eb976e296da4243292": {
          "model_module": "@jupyter-widgets/controls",
          "model_module_version": "1.5.0",
          "model_name": "HTMLModel",
          "state": {
            "_dom_classes": [],
            "_model_module": "@jupyter-widgets/controls",
            "_model_module_version": "1.5.0",
            "_model_name": "HTMLModel",
            "_view_count": null,
            "_view_module": "@jupyter-widgets/controls",
            "_view_module_version": "1.5.0",
            "_view_name": "HTMLView",
            "description": "",
            "description_tooltip": null,
            "layout": "IPY_MODEL_133e2ddee213494494115d77492dcb89",
            "placeholder": "​",
            "style": "IPY_MODEL_279291baf02549baa7a2be59c85314aa",
            "value": " 466k/466k [00:00&lt;00:00, 5.56MB/s]"
          }
        },
        "da8832a87f574eaf84034cde54286500": {
          "model_module": "@jupyter-widgets/controls",
          "model_module_version": "1.5.0",
          "model_name": "DescriptionStyleModel",
          "state": {
            "_model_module": "@jupyter-widgets/controls",
            "_model_module_version": "1.5.0",
            "_model_name": "DescriptionStyleModel",
            "_view_count": null,
            "_view_module": "@jupyter-widgets/base",
            "_view_module_version": "1.2.0",
            "_view_name": "StyleView",
            "description_width": ""
          }
        },
        "e15f83b17ef04cbcae528d9cc4ce5ca4": {
          "model_module": "@jupyter-widgets/base",
          "model_module_version": "1.2.0",
          "model_name": "LayoutModel",
          "state": {
            "_model_module": "@jupyter-widgets/base",
            "_model_module_version": "1.2.0",
            "_model_name": "LayoutModel",
            "_view_count": null,
            "_view_module": "@jupyter-widgets/base",
            "_view_module_version": "1.2.0",
            "_view_name": "LayoutView",
            "align_content": null,
            "align_items": null,
            "align_self": null,
            "border": null,
            "bottom": null,
            "display": null,
            "flex": null,
            "flex_flow": null,
            "grid_area": null,
            "grid_auto_columns": null,
            "grid_auto_flow": null,
            "grid_auto_rows": null,
            "grid_column": null,
            "grid_gap": null,
            "grid_row": null,
            "grid_template_areas": null,
            "grid_template_columns": null,
            "grid_template_rows": null,
            "height": null,
            "justify_content": null,
            "justify_items": null,
            "left": null,
            "margin": null,
            "max_height": null,
            "max_width": null,
            "min_height": null,
            "min_width": null,
            "object_fit": null,
            "object_position": null,
            "order": null,
            "overflow": null,
            "overflow_x": null,
            "overflow_y": null,
            "padding": null,
            "right": null,
            "top": null,
            "visibility": null,
            "width": null
          }
        },
        "ee9958bace9946d2bf16cd0a58dad46b": {
          "model_module": "@jupyter-widgets/controls",
          "model_module_version": "1.5.0",
          "model_name": "FloatProgressModel",
          "state": {
            "_dom_classes": [],
            "_model_module": "@jupyter-widgets/controls",
            "_model_module_version": "1.5.0",
            "_model_name": "FloatProgressModel",
            "_view_count": null,
            "_view_module": "@jupyter-widgets/controls",
            "_view_module_version": "1.5.0",
            "_view_name": "ProgressView",
            "bar_style": "success",
            "description": "",
            "description_tooltip": null,
            "layout": "IPY_MODEL_113d0d63d679489da649ce0e679f6ebb",
            "max": 483,
            "min": 0,
            "orientation": "horizontal",
            "style": "IPY_MODEL_71a853e0df2d4bd59c094b89026d38d6",
            "value": 483
          }
        },
        "f30b7072f0be44bdbd9af12e64dcf33c": {
          "model_module": "@jupyter-widgets/controls",
          "model_module_version": "1.5.0",
          "model_name": "DescriptionStyleModel",
          "state": {
            "_model_module": "@jupyter-widgets/controls",
            "_model_module_version": "1.5.0",
            "_model_name": "DescriptionStyleModel",
            "_view_count": null,
            "_view_module": "@jupyter-widgets/base",
            "_view_module_version": "1.2.0",
            "_view_name": "StyleView",
            "description_width": ""
          }
        },
        "f558a409afcb4f37ab546664f53e2718": {
          "model_module": "@jupyter-widgets/base",
          "model_module_version": "1.2.0",
          "model_name": "LayoutModel",
          "state": {
            "_model_module": "@jupyter-widgets/base",
            "_model_module_version": "1.2.0",
            "_model_name": "LayoutModel",
            "_view_count": null,
            "_view_module": "@jupyter-widgets/base",
            "_view_module_version": "1.2.0",
            "_view_name": "LayoutView",
            "align_content": null,
            "align_items": null,
            "align_self": null,
            "border": null,
            "bottom": null,
            "display": null,
            "flex": null,
            "flex_flow": null,
            "grid_area": null,
            "grid_auto_columns": null,
            "grid_auto_flow": null,
            "grid_auto_rows": null,
            "grid_column": null,
            "grid_gap": null,
            "grid_row": null,
            "grid_template_areas": null,
            "grid_template_columns": null,
            "grid_template_rows": null,
            "height": null,
            "justify_content": null,
            "justify_items": null,
            "left": null,
            "margin": null,
            "max_height": null,
            "max_width": null,
            "min_height": null,
            "min_width": null,
            "object_fit": null,
            "object_position": null,
            "order": null,
            "overflow": null,
            "overflow_x": null,
            "overflow_y": null,
            "padding": null,
            "right": null,
            "top": null,
            "visibility": null,
            "width": null
          }
        },
        "fd78b5a7ea9446e582ab6e06b6c37c6e": {
          "model_module": "@jupyter-widgets/base",
          "model_module_version": "1.2.0",
          "model_name": "LayoutModel",
          "state": {
            "_model_module": "@jupyter-widgets/base",
            "_model_module_version": "1.2.0",
            "_model_name": "LayoutModel",
            "_view_count": null,
            "_view_module": "@jupyter-widgets/base",
            "_view_module_version": "1.2.0",
            "_view_name": "LayoutView",
            "align_content": null,
            "align_items": null,
            "align_self": null,
            "border": null,
            "bottom": null,
            "display": null,
            "flex": null,
            "flex_flow": null,
            "grid_area": null,
            "grid_auto_columns": null,
            "grid_auto_flow": null,
            "grid_auto_rows": null,
            "grid_column": null,
            "grid_gap": null,
            "grid_row": null,
            "grid_template_areas": null,
            "grid_template_columns": null,
            "grid_template_rows": null,
            "height": null,
            "justify_content": null,
            "justify_items": null,
            "left": null,
            "margin": null,
            "max_height": null,
            "max_width": null,
            "min_height": null,
            "min_width": null,
            "object_fit": null,
            "object_position": null,
            "order": null,
            "overflow": null,
            "overflow_x": null,
            "overflow_y": null,
            "padding": null,
            "right": null,
            "top": null,
            "visibility": null,
            "width": null
          }
        },
        "ff60d3c4397846f2a40dcc0a699a8bd4": {
          "model_module": "@jupyter-widgets/base",
          "model_module_version": "1.2.0",
          "model_name": "LayoutModel",
          "state": {
            "_model_module": "@jupyter-widgets/base",
            "_model_module_version": "1.2.0",
            "_model_name": "LayoutModel",
            "_view_count": null,
            "_view_module": "@jupyter-widgets/base",
            "_view_module_version": "1.2.0",
            "_view_name": "LayoutView",
            "align_content": null,
            "align_items": null,
            "align_self": null,
            "border": null,
            "bottom": null,
            "display": null,
            "flex": null,
            "flex_flow": null,
            "grid_area": null,
            "grid_auto_columns": null,
            "grid_auto_flow": null,
            "grid_auto_rows": null,
            "grid_column": null,
            "grid_gap": null,
            "grid_row": null,
            "grid_template_areas": null,
            "grid_template_columns": null,
            "grid_template_rows": null,
            "height": null,
            "justify_content": null,
            "justify_items": null,
            "left": null,
            "margin": null,
            "max_height": null,
            "max_width": null,
            "min_height": null,
            "min_width": null,
            "object_fit": null,
            "object_position": null,
            "order": null,
            "overflow": null,
            "overflow_x": null,
            "overflow_y": null,
            "padding": null,
            "right": null,
            "top": null,
            "visibility": null,
            "width": null
          }
        }
      }
    }
  },
  "nbformat": 4,
  "nbformat_minor": 0
}
