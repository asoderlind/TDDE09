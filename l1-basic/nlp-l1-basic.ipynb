{
 "cells": [
  {
   "cell_type": "markdown",
   "metadata": {},
   "source": [
    "# L1: Language modelling"
   ]
  },
  {
   "cell_type": "markdown",
   "metadata": {},
   "source": [
    "In this lab you will implement and train two neural language models: the fixed-window model and the recurrent neural network model. You will evaluate these models by computing their perplexity on a benchmark dataset."
   ]
  },
  {
   "cell_type": "code",
   "execution_count": 2,
   "metadata": {},
   "outputs": [],
   "source": [
    "import torch"
   ]
  },
  {
   "cell_type": "markdown",
   "metadata": {},
   "source": [
    "For this lab, you should use the GPU if you have one:"
   ]
  },
  {
   "cell_type": "code",
   "execution_count": 45,
   "metadata": {},
   "outputs": [],
   "source": [
    "# device = torch.device('cuda' if torch.cuda.is_available() else 'cpu')\n",
    "device = torch.device('mps' if torch.backends.mps.is_available() else 'cpu')"
   ]
  },
  {
   "cell_type": "markdown",
   "metadata": {},
   "source": [
    "## Data"
   ]
  },
  {
   "cell_type": "markdown",
   "metadata": {},
   "source": [
    "The data for this lab is [WikiText](https://blog.einstein.ai/the-wikitext-long-term-dependency-language-modeling-dataset/), a collection of more than 100 million tokens extracted from the “Good” and “Featured” articles on Wikipedia. We will use the small version of the dataset, which contains slightly more than 2.5 million tokens.\n",
    "\n",
    "The next cell contains code for an object that will act as a container for the “training” and the “validation” section of the data. We fill this container by reading the corresponding text files. The only processing we do is to whitespace-tokenise, and to enclose each non-empty line within `<bos>` (beginning-of-sentence) and `<eos>` (end-of-sentence) tokens."
   ]
  },
  {
   "cell_type": "code",
   "execution_count": 4,
   "metadata": {},
   "outputs": [],
   "source": [
    "class WikiText(object):\n",
    "    \n",
    "    def __init__(self):\n",
    "        self.vocab = {}\n",
    "        self.train = self.read_data('wiki.train.tokens')\n",
    "        self.valid = self.read_data('wiki.valid.tokens')\n",
    "    \n",
    "    def read_data(self, path):\n",
    "        ids = []\n",
    "        with open(path, encoding='utf-8') as source:\n",
    "            for line in source:\n",
    "                line = line.rstrip()\n",
    "                if line:\n",
    "                    for token in ['<bos>'] + line.split() + ['<eos>']:\n",
    "                        if token not in self.vocab:\n",
    "                            self.vocab[token] = len(self.vocab)\n",
    "                        ids.append(self.vocab[token])\n",
    "        return ids"
   ]
  },
  {
   "cell_type": "markdown",
   "metadata": {},
   "source": [
    "The cell below loads the data and prints the total number of tokens and the size of the vocabulary."
   ]
  },
  {
   "cell_type": "code",
   "execution_count": 5,
   "metadata": {},
   "outputs": [
    {
     "name": "stdout",
     "output_type": "stream",
     "text": [
      "Tokens in train: 2099444\n",
      "Tokens in valid: 218808\n",
      "Vocabulary size: 33279\n"
     ]
    }
   ],
   "source": [
    "wikitext = WikiText()\n",
    "\n",
    "print('Tokens in train:', len(wikitext.train))\n",
    "print('Tokens in valid:', len(wikitext.valid))\n",
    "print('Vocabulary size:', len(wikitext.vocab))\n",
    "\n",
    "# print('First 10 tokens:', wikitext.vocab)"
   ]
  },
  {
   "cell_type": "markdown",
   "metadata": {},
   "source": [
    "## Problem 1: Fixed-window model"
   ]
  },
  {
   "cell_type": "markdown",
   "metadata": {},
   "source": [
    "In this section, you will implement and train the fixed-window neural language model proposed by [Bengio et al. (2003)](http://www.jmlr.org/papers/volume3/bengio03a/bengio03a.pdf) and presented in the lectures. Recall that an input to the network takes the form of a vector of $n-1$ integers representing the preceding words. Each integer is mapped to a vector via an embedding layer. (All positions share the same embedding.) The embedding vectors are then concatenated and sent through a two-layer feed-forward network with a non-linearity in the form of a rectified linear unit (ReLU) and a final softmax layer."
   ]
  },
  {
   "cell_type": "markdown",
   "metadata": {},
   "source": [
    "### Problem 1.1: Vectorise the data (1&nbsp;point)"
   ]
  },
  {
   "cell_type": "markdown",
   "metadata": {},
   "source": [
    "Your first task is to write code for transforming the data in the WikiText container into a vectorised form that can be fed to the fixed-window model. Concretely, you will implement a [collate function](https://pytorch.org/docs/stable/data.html#dataloader-collate-fn) in the form of a callable vectoriser object. Complete the skeleton code in the cell below:"
   ]
  },
  {
   "cell_type": "code",
   "execution_count": 6,
   "metadata": {},
   "outputs": [],
   "source": [
    "class FixedWindowVectorizer(object):\n",
    "    def __init__(self, n):\n",
    "        # n-gram order\n",
    "        self.n = n\n",
    "\n",
    "    def __call__(self, data):\n",
    "        N = len(data) - self.n + 1\n",
    "        X = torch.zeros(N, self.n-1, dtype=torch.long)\n",
    "        y = torch.zeros(N, dtype=torch.long)\n",
    "        for i in range(N):\n",
    "            X[i] = torch.tensor(data[i:i+self.n-1])\n",
    "            y[i] = torch.tensor(data[i+self.n-1])\n",
    "        return X, y"
   ]
  },
  {
   "cell_type": "markdown",
   "metadata": {},
   "source": [
    "Your code should implement the following specification:\n",
    "\n",
    "**__init__** (*self*, *n*)\n",
    "\n",
    "> Creates a new vectoriser with n-gram order $n$. Your code should be able to handle arbitrary n-gram orders $n \\geq 1$.\n",
    "\n",
    "**__call__** (*self*, *data*)\n",
    "\n",
    "> Transforms WikiText *data* (a list of word ids) into a pair of tensors $\\mathbf{X}$, $\\mathbf{y}$ that can be used to train the fixed-window model. Let $N$ be the total number of $n$-grams from the token list; then $\\mathbf{X}$ is a matrix with shape $(N, n-1)$ and $\\mathbf{y}$ is a vector with length $N$."
   ]
  },
  {
   "cell_type": "markdown",
   "metadata": {},
   "source": [
    "#### 🤞 Test your code\n",
    "\n",
    "Test your implementation by running the code in the next cell. Does the output match your expectation?"
   ]
  },
  {
   "cell_type": "code",
   "execution_count": 7,
   "metadata": {},
   "outputs": [
    {
     "name": "stdout",
     "output_type": "stream",
     "text": [
      "[0, 1, 1, 1, 8628, 4250, 1, 1, 1, 5]\n",
      "tensor([[    0,     1],\n",
      "        [    1, 32967],\n",
      "        [32967, 32968],\n",
      "        ...,\n",
      "        [ 4250,     1],\n",
      "        [    1,     1],\n",
      "        [    1,     1]])\n",
      "tensor([32967, 32968,     1,  ...,     1,     1,     5])\n",
      "torch.Size([218806, 2]) torch.Size([218806])\n"
     ]
    }
   ],
   "source": [
    "valid_x, valid_y = FixedWindowVectorizer(3)(wikitext.valid)\n",
    "\n",
    "print(wikitext.valid[-10:])\n",
    "\n",
    "print(valid_x)\n",
    "print(valid_y)\n",
    "\n",
    "print(valid_x.size(), valid_y.size())"
   ]
  },
  {
   "cell_type": "markdown",
   "metadata": {},
   "source": [
    "### Problem 1.2: Implement the model (2&nbsp;points)"
   ]
  },
  {
   "cell_type": "markdown",
   "metadata": {},
   "source": [
    "Your next task is to implement the fixed-window model based on the graphical specification given in the lecture."
   ]
  },
  {
   "cell_type": "code",
   "execution_count": 8,
   "metadata": {},
   "outputs": [],
   "source": [
    "import torch.nn as nn\n",
    "\n",
    "class FixedWindowModel(nn.Module):\n",
    "\n",
    "    def __init__(self, n, n_words, embedding_dim=50, hidden_dim=50):\n",
    "        super().__init__()\n",
    "        self.n = n\n",
    "        self.embedding = nn.Embedding(n_words, embedding_dim)\n",
    "        self.linear = nn.Linear((n-1)*embedding_dim, hidden_dim)\n",
    "        self.linear2 = nn.Linear(hidden_dim, n_words)\n",
    "        \n",
    "\n",
    "    def forward(self, x) -> torch.Tensor:\n",
    "        embedding_matrix = self.embedding(x) # size: batch_size x (n-1) x embedding_dim\n",
    "        embedded_vectors = embedding_matrix.view(embedding_matrix.size(0), -1)\n",
    "        output1 = self.linear(embedded_vectors)\n",
    "        output1_relu = torch.relu(output1)\n",
    "        output2 = self.linear2(output1_relu)\n",
    "        return output2\n"
   ]
  },
  {
   "cell_type": "markdown",
   "metadata": {},
   "source": [
    "Here is the specification of the two methods:\n",
    "\n",
    "**__init__** (*self*, *n*, *n_words*, *embedding_dim*=50, *hidden_dim*=50)\n",
    "\n",
    "> Creates a new fixed-window neural language model. The argument *n* specifies the model&rsquo;s $n$-gram order. The argument *n_words* is the number of words in the vocabulary. The arguments *embedding_dim* and *hidden_dim* specify the dimensionalities of the embedding layer and the hidden layer of the feedforward network, respectively; their default value is 50.\n",
    "\n",
    "**forward** (*self*, *x*)\n",
    "\n",
    "> Computes the network output on an input batch *x*. The shape of *x* is $(B, n-1)$, where $B$ is the batch size. The output of the forward pass is a tensor of shape $(B, V)$ where $V$ is the number of words in the vocabulary.\n",
    "\n",
    "**Hint:** The most efficient way to implement the vector concatenation in this model is to use the [`view()`](https://pytorch.org/docs/stable/tensors.html#torch.Tensor.view) method.\n",
    "\n",
    "#### 🤞 Test your code\n",
    "\n",
    "Test your code by instantiating the model and feeding it a batch of examples from the training data."
   ]
  },
  {
   "cell_type": "code",
   "execution_count": 9,
   "metadata": {},
   "outputs": [
    {
     "name": "stdout",
     "output_type": "stream",
     "text": [
      "218806\n"
     ]
    },
    {
     "data": {
      "text/plain": [
       "tensor([[ 0.0564, -0.3498, -0.1301,  ...,  0.1002,  0.4366,  0.6832],\n",
       "        [ 0.2296, -0.4336, -0.3016,  ...,  0.1957,  0.2534,  0.2476],\n",
       "        [ 0.2296, -0.4336, -0.3016,  ...,  0.1957,  0.2534,  0.2476],\n",
       "        ...,\n",
       "        [-0.1854, -0.8311,  0.0144,  ...,  0.7758,  0.2897,  0.9355],\n",
       "        [-0.1202, -0.7042, -0.0197,  ...,  0.5417,  0.3491,  0.9072],\n",
       "        [-0.2415, -0.3340, -0.3088,  ..., -0.0233,  0.4890,  0.3576]],\n",
       "       grad_fn=<AddmmBackward0>)"
      ]
     },
     "execution_count": 9,
     "metadata": {},
     "output_type": "execute_result"
    }
   ],
   "source": [
    "m = FixedWindowModel(3, len(wikitext.vocab), 5, 5)\n",
    "\n",
    "# copy valid x  \n",
    "print(len(valid_x))\n",
    "\n",
    "m.forward(valid_x[:3200])"
   ]
  },
  {
   "cell_type": "markdown",
   "metadata": {},
   "source": [
    "### Problem 1.3: Train the model (3&nbsp;points)"
   ]
  },
  {
   "cell_type": "markdown",
   "metadata": {},
   "source": [
    "Your final task is to write code to train the fixed-window model using minibatch gradient descent and the cross-entropy loss function. This should be a straightforward generalisation of the training loops that you have seen so far. Complete the skeleton code in the cell below:"
   ]
  },
  {
   "cell_type": "code",
   "execution_count": 46,
   "metadata": {},
   "outputs": [],
   "source": [
    "from torch.utils.data import DataLoader\n",
    "import torch.nn.functional as F\n",
    "import torch.optim as optim\n",
    "import numpy as np\n",
    "import tqdm\n",
    "\n",
    "def train_fixed_window(n, n_epochs=1, batch_size=3200, lr=1e-2):\n",
    "\n",
    "    # create model\n",
    "    model = FixedWindowModel(n, len(wikitext.vocab))\n",
    "\n",
    "    # init optimizer\n",
    "    optimizer = optim.Adam(model.parameters(), lr=lr)\n",
    "\n",
    "    # init data loader\n",
    "    data_loader = DataLoader(wikitext.train, batch_size=batch_size, collate_fn=FixedWindowVectorizer(n))\n",
    "    for _ in range(n_epochs):\n",
    "        with tqdm.tqdm(data_loader) as pbar:\n",
    "            for batch_x, batch_y in pbar:\n",
    "                # zero gradients\n",
    "                optimizer.zero_grad()\n",
    "\n",
    "                #print(f\"Batch x size {batch_x.size()}\")\n",
    "                # forward pass\n",
    "                output = model.forward(batch_x)\n",
    "                #print(f\"Output size {output.size()}\")\n",
    "                #print(f\"Batch y size {batch_y.size()}\")\n",
    "\n",
    "                # compute loss\n",
    "                loss = F.cross_entropy(output, batch_y)\n",
    "\n",
    "                # backward pass\n",
    "                loss.backward()\n",
    "\n",
    "                # update parameters\n",
    "                pbar.set_description_str(f'loss: {loss.item():.4f}')\n",
    "\n",
    "                # update parameters\n",
    "                optimizer.step()\n",
    "        # print perplexity\n",
    "        print(f'Perplexity: {np.exp(loss.item()):.2f}')\n",
    "    return model\n",
    "\n",
    "def validate_fixed_window(n, model):\n",
    "    data_loader = DataLoader(wikitext.valid, batch_size=3200, collate_fn=FixedWindowVectorizer(n))\n",
    "    total_loss = 0\n",
    "    with tqdm.tqdm(data_loader) as pbar:\n",
    "        running_loss = 0\n",
    "        for batch_x, batch_y in data_loader:\n",
    "            with torch.no_grad():\n",
    "                output = model.forward(batch_x)\n",
    "                running_loss = F.cross_entropy(output, batch_y)\n",
    "                total_loss += running_loss.item()\n",
    "                pbar.set_description_str(f'loss: {running_loss.item():.4f}')\n",
    "    print(f'Perplexity: {np.exp(total_loss / len(data_loader)):.2f}')"
   ]
  },
  {
   "cell_type": "markdown",
   "metadata": {},
   "source": [
    "Here is the specification of the training function:\n",
    "\n",
    "**train_fixed_window** (*n*, *n_epochs* = 1, *batch_size* = 3200, *lr* = 0.01)\n",
    "\n",
    "> Trains a fixed-window neural language model of order *n* using minibatch gradient descent and returns it. The parameters *n_epochs* and *batch_size* specify the number of training epochs and the minibatch size, respectively. Training uses the cross-entropy loss function and the [Adam optimizer](https://pytorch.org/docs/stable/optim.html#torch.optim.Adam) with learning rate *lr*. After each epoch, prints the perplexity of the model on the validation data."
   ]
  },
  {
   "cell_type": "markdown",
   "metadata": {},
   "source": [
    "The code in the cell below trains a bigram model."
   ]
  },
  {
   "cell_type": "code",
   "execution_count": 47,
   "metadata": {},
   "outputs": [
    {
     "name": "stderr",
     "output_type": "stream",
     "text": [
      "  0%|          | 0/657 [00:00<?, ?it/s]"
     ]
    },
    {
     "name": "stderr",
     "output_type": "stream",
     "text": [
      "loss: 6.2101: 100%|██████████| 657/657 [03:57<00:00,  2.76it/s]\n"
     ]
    },
    {
     "name": "stdout",
     "output_type": "stream",
     "text": [
      "Perplexity: 497.76\n"
     ]
    },
    {
     "name": "stderr",
     "output_type": "stream",
     "text": [
      "loss: 5.4761: 100%|██████████| 657/657 [03:55<00:00,  2.79it/s]"
     ]
    },
    {
     "name": "stdout",
     "output_type": "stream",
     "text": [
      "Perplexity: 238.91\n"
     ]
    },
    {
     "name": "stderr",
     "output_type": "stream",
     "text": [
      "\n"
     ]
    }
   ],
   "source": [
    "model_fixed_window = train_fixed_window(3, 2)\n"
   ]
  },
  {
   "cell_type": "code",
   "execution_count": 29,
   "metadata": {},
   "outputs": [
    {
     "name": "stdout",
     "output_type": "stream",
     "text": [
      "FixedWindowModel(\n",
      "  (embedding): Embedding(33279, 50)\n",
      "  (linear): Linear(in_features=100, out_features=50, bias=True)\n",
      "  (linear2): Linear(in_features=50, out_features=33279, bias=True)\n",
      ")\n"
     ]
    }
   ],
   "source": [
    "print(model_fixed_window)"
   ]
  },
  {
   "cell_type": "code",
   "execution_count": 30,
   "metadata": {},
   "outputs": [
    {
     "name": "stderr",
     "output_type": "stream",
     "text": [
      "loss: 5.6191:   0%|          | 0/69 [00:09<?, ?it/s]"
     ]
    },
    {
     "name": "stdout",
     "output_type": "stream",
     "text": [
      "Perplexity: 327.72\n"
     ]
    },
    {
     "name": "stderr",
     "output_type": "stream",
     "text": [
      "\n"
     ]
    }
   ],
   "source": [
    "validate_fixed_window(3, model_fixed_window)"
   ]
  },
  {
   "cell_type": "markdown",
   "metadata": {},
   "source": [
    "#### Performance goal\n",
    "\n",
    "**Your submitted notebook must contain output demonstrating a validation perplexity of at most 350.** If you do not reach this perplexity after the first epoch, try training for a second epoch.\n",
    "\n",
    "⚠️ Computing the validation perplexity in one go (for the full validation set) will probably exhaust your computer’s memory and/or take a lot of time. If you run into this problem, do the computation at the minibatch level and aggregate the results."
   ]
  },
  {
   "cell_type": "markdown",
   "metadata": {},
   "source": [
    "#### 🤞 Test your code\n",
    "\n",
    "To see whether your network is learning something, print or plot the loss and/or the perplexity on the training data. If the two values do not decrease during training, try to find the problem before wasting time (and electricity) on useless computation.\n",
    "\n",
    "Training and even evaluation will take some time – on a CPU, you should expect several minutes per epoch, depending on hardware. Our reference implementation uses a GPU and runs in less than 30 seconds per epoch on [Colab](http://colab.research.google.com)."
   ]
  },
  {
   "cell_type": "markdown",
   "metadata": {},
   "source": [
    "## Problem 2: Recurrent neural network model"
   ]
  },
  {
   "cell_type": "markdown",
   "metadata": {},
   "source": [
    "In this section, you will implement the recurrent neural network language model. Recall that an input to this model is a vector of word ids. Each integer is mapped to an embedding vector. The sequence of embedded vectors is then fed into an unrolled LSTM. At each position $i$ in the sequence, the hidden state of the LSTM at that position is sent through a linear transformation into a final softmax layer representing the probability distribution over the words at position $i+1$. In theory, the input vector could represent the complete training data; for practical reasons, however, we will truncate the input to some fixed value *bptt_len*. This length is called the **backpropagation-through-time horizon**."
   ]
  },
  {
   "cell_type": "markdown",
   "metadata": {},
   "source": [
    "### Problem 2.1: Vectorise the data (1&nbsp;point)"
   ]
  },
  {
   "cell_type": "markdown",
   "metadata": {},
   "source": [
    "As in the previous problem, your first task is to transform the data in the WikiText container into a vectorised form that can be fed to the model."
   ]
  },
  {
   "cell_type": "code",
   "execution_count": 31,
   "metadata": {},
   "outputs": [],
   "source": [
    "class RNNVectorizer(object):\n",
    "    def __init__(self, bptt_len):\n",
    "        # backpropagation-through-time horizon\n",
    "        self.bptt_len = bptt_len\n",
    "\n",
    "    def __call__(self, data):\n",
    "        # create batches\n",
    "        N = len(data) - self.bptt_len\n",
    "        X = torch.zeros(N, self.bptt_len, dtype=torch.long)\n",
    "        y = torch.zeros(N, self.bptt_len, dtype=torch.long)\n",
    "        for i in range(N):\n",
    "            X[i] = torch.tensor(data[i:i+self.bptt_len])\n",
    "            y[i] = torch.tensor(data[i+1:i+self.bptt_len+1])\n",
    "\n",
    "        return X, y"
   ]
  },
  {
   "cell_type": "markdown",
   "metadata": {},
   "source": [
    "Your vectoriser should meet the following specification:\n",
    "\n",
    "**__init__** (*self*, *bptt_len*)\n",
    "\n",
    "> Creates a new vectoriser. The parameter *bptt_len* specifies the backpropagation-through-time horizon.\n",
    "\n",
    "**__call__** (*self*, *data*)\n",
    "\n",
    "> Transforms a list of token indexes *data* into a pair of tensors $\\mathbf{X}$, $\\mathbf{Y}$ that can be used to train the recurrent neural language model. The rows of both tensors represent contiguous subsequences of token indexes of length *bptt_len*. Compared to the sequences in $\\mathbf{X}$, the corresponding sequences in $\\mathbf{Y}$ are shifted one position to the right. More precisely, if the $i$th row of $\\mathbf{X}$ is the sequence that starts at token position $j$, then the same row of $\\mathbf{Y}$ is the sequence that starts at position $j+1$."
   ]
  },
  {
   "cell_type": "markdown",
   "metadata": {},
   "source": [
    "#### 🤞 Test your code\n",
    "\n",
    "Test your implementation by running the following code:"
   ]
  },
  {
   "cell_type": "code",
   "execution_count": 32,
   "metadata": {},
   "outputs": [
    {
     "name": "stdout",
     "output_type": "stream",
     "text": [
      "torch.Size([218801, 7]) torch.Size([218801, 7])\n",
      "tensor([[   5,    0,    1,    1,    1, 8628, 4250],\n",
      "        [   0,    1,    1,    1, 8628, 4250,    1],\n",
      "        [   1,    1,    1, 8628, 4250,    1,    1],\n",
      "        [   1,    1, 8628, 4250,    1,    1,    1]])\n",
      "tensor([[   0,    1,    1,    1, 8628, 4250,    1],\n",
      "        [   1,    1,    1, 8628, 4250,    1,    1],\n",
      "        [   1,    1, 8628, 4250,    1,    1,    1],\n",
      "        [   1, 8628, 4250,    1,    1,    1,    5]])\n"
     ]
    }
   ],
   "source": [
    "bptt = 7\n",
    "valid_x, valid_y = RNNVectorizer(bptt)(wikitext.valid)\n",
    "\n",
    "print(valid_x.size(), valid_y.size())\n",
    "\n",
    "print(valid_x[-4:])\n",
    "print(valid_y[-4:])"
   ]
  },
  {
   "cell_type": "markdown",
   "metadata": {},
   "source": [
    "### Problem 2.2: Implement the model (2&nbsp;points)"
   ]
  },
  {
   "cell_type": "markdown",
   "metadata": {},
   "source": [
    "Your next task is to implement the recurrent neural network model based on the graphical specification."
   ]
  },
  {
   "cell_type": "code",
   "execution_count": 33,
   "metadata": {},
   "outputs": [],
   "source": [
    "import torch.nn as nn\n",
    "\n",
    "class RNNModel(nn.Module):\n",
    "    \n",
    "    def __init__(self, n_words, embedding_dim=50, hidden_dim=50):\n",
    "        super().__init__()\n",
    "        self.embedding = nn.Embedding(n_words, embedding_dim)\n",
    "        self.lstm = nn.LSTM(embedding_dim, hidden_dim)\n",
    "        self.linear = nn.Linear(hidden_dim, n_words)\n",
    "\n",
    "    def forward(self, x):\n",
    "        embedded_x = self.embedding(x)\n",
    "        output1, _ = self.lstm(embedded_x)\n",
    "        output2 = self.linear(output1)\n",
    "        return output2"
   ]
  },
  {
   "cell_type": "markdown",
   "metadata": {},
   "source": [
    "Your implementation should follow this specification:\n",
    "\n",
    "**__init__** (*self*, *n_words*, *embedding_dim* = 50, *hidden_dim* = 50)\n",
    "\n",
    "> Creates a new recurrent neural network language model based on an LSTM. The argument *n_words* is the number of words in the vocabulary. The arguments *embedding_dim* and *hidden_dim* specify the dimensionalities of the embedding layer and the LSTM hidden layer, respectively; their default value is 50.\n",
    "\n",
    "**forward** (*self*, *x*)\n",
    "\n",
    "> Computes the network output on an input batch *x*. The shape of *x* is $(B, H)$, where $B$ is the batch size and $H$ is the length of each input sequence. The shape of the output tensor is $(B, H, V)$, where $V$ is the size of the vocabulary."
   ]
  },
  {
   "cell_type": "markdown",
   "metadata": {},
   "source": [
    "#### 🤞 Test your code\n",
    "\n",
    "Test your code by instantiating the model and feeding it a batch of examples from the training data."
   ]
  },
  {
   "cell_type": "code",
   "execution_count": 34,
   "metadata": {},
   "outputs": [
    {
     "name": "stdout",
     "output_type": "stream",
     "text": [
      "Batch x size torch.Size([994, 6])\n",
      "Output size torch.Size([994, 6, 33279])\n",
      "Batch y size torch.Size([994, 6])\n",
      "10.399467468261719\n"
     ]
    }
   ],
   "source": [
    "vocab_size = len(wikitext.vocab)\n",
    "model = RNNModel(vocab_size)\n",
    "\n",
    "batch_size = 1000\n",
    "bptt_len = 6\n",
    "data_loader = DataLoader(wikitext.valid, batch_size=batch_size, shuffle=True, collate_fn=RNNVectorizer(bptt_len))\n",
    "\n",
    "batch_x_1, batch_y_1 = next(iter(data_loader))\n",
    "\n",
    "print(f\"Batch x size {batch_x_1.size()}\")\n",
    "\n",
    "output = model.forward(batch_x_1)\n",
    "print(f\"Output size {output.size()}\")\n",
    "print(f\"Batch y size {batch_y_1.size()}\")\n",
    "\n",
    "loss = F.cross_entropy(output.view(-1, output.size(-1)), batch_y_1.view(-1))\n",
    "print(loss.item())\n"
   ]
  },
  {
   "cell_type": "markdown",
   "metadata": {},
   "source": [
    "### Problem 2.3: Train the model (3&nbsp;points)"
   ]
  },
  {
   "cell_type": "markdown",
   "metadata": {},
   "source": [
    "The training loop for the recurrent neural network model is essentially identical to the loop that you wrote for the feed-forward model. The only thing to note is that the cross-entropy loss function expects its input to be a two-dimensional tensor; you will therefore have to re-shape the output tensor from the LSTM as well as the gold-standard output tensor in a suitable way. The most efficient way to do so is to use the [`view()`](https://pytorch.org/docs/stable/tensors.html#torch.Tensor.view) method."
   ]
  },
  {
   "cell_type": "code",
   "execution_count": 37,
   "metadata": {},
   "outputs": [],
   "source": [
    "from torch.utils.data import DataLoader\n",
    "import torch.nn.functional as F\n",
    "import torch.optim as optim\n",
    "import numpy as np\n",
    "import tqdm\n",
    "\n",
    "def train_rnn(n_epochs=1, batch_size=3200, bptt_len=32, lr=1e-2):\n",
    "\n",
    "    # create model\n",
    "    model = RNNModel(len(wikitext.vocab))\n",
    "\n",
    "    # init optimizer\n",
    "    optimizer = optim.Adam(model.parameters(), lr=lr)\n",
    "\n",
    "    # init data loader\n",
    "    data_loader = DataLoader(wikitext.train, batch_size=batch_size, collate_fn=RNNVectorizer(bptt_len))\n",
    "\n",
    "    for _ in range(n_epochs):\n",
    "        with tqdm.tqdm(data_loader) as pbar:\n",
    "            for batch_x, batch_y in pbar:\n",
    "                # zero gradients\n",
    "                optimizer.zero_grad()\n",
    "\n",
    "                # forward pass\n",
    "                output = model.forward(batch_x)\n",
    "\n",
    "                # compute loss\n",
    "                loss = F.cross_entropy(output.view(-1, output.size(-1)), batch_y.view(-1))\n",
    "                # backward pass\n",
    "                loss.backward()\n",
    "\n",
    "                # update parameters\n",
    "                pbar.set_description_str(f'loss: {loss.item():.4f}')\n",
    "\n",
    "                # update parameters\n",
    "                optimizer.step()\n",
    "        # print perplexity\n",
    "        print(f'Perplexity: {np.exp(loss.item()):.2f}')\n",
    "    return model"
   ]
  },
  {
   "cell_type": "markdown",
   "metadata": {},
   "source": [
    "Here is the specification of the training function:\n",
    "\n",
    "**train_rnn** (*n_epochs* = 1, *batch_size* = 1000, *bptt_len* = 32, *lr* = 0.01)\n",
    "\n",
    "> Trains a recurrent neural network language model on the WikiText data using minibatch gradient descent and returns it. The parameters *n_epochs* and *batch_size* specify the number of training epochs and the minibatch size, respectively. The parameter *bptt_len* specifies the length of the backpropagation-through-time horizon, that is, the length of the input and output sequences. Training uses the cross-entropy loss function and the [Adam optimizer](https://pytorch.org/docs/stable/optim.html#torch.optim.Adam) with learning rate *lr*. After each epoch, prints the perplexity of the model on the validation data."
   ]
  },
  {
   "cell_type": "markdown",
   "metadata": {},
   "source": [
    "Evaluate your model by running the following code cell:"
   ]
  },
  {
   "cell_type": "code",
   "execution_count": 38,
   "metadata": {},
   "outputs": [
    {
     "name": "stderr",
     "output_type": "stream",
     "text": [
      "  0%|          | 0/2100 [00:00<?, ?it/s]"
     ]
    },
    {
     "name": "stderr",
     "output_type": "stream",
     "text": [
      "loss: 5.9426: 100%|██████████| 2100/2100 [17:46<00:00,  1.97it/s]\n"
     ]
    },
    {
     "name": "stdout",
     "output_type": "stream",
     "text": [
      "Perplexity: 380.91\n"
     ]
    },
    {
     "name": "stderr",
     "output_type": "stream",
     "text": [
      "loss: 5.5133: 100%|██████████| 2100/2100 [20:41<00:00,  1.69it/s]"
     ]
    },
    {
     "name": "stdout",
     "output_type": "stream",
     "text": [
      "Perplexity: 247.97\n"
     ]
    },
    {
     "name": "stderr",
     "output_type": "stream",
     "text": [
      "\n"
     ]
    }
   ],
   "source": [
    "model_rnn = train_rnn(bptt_len=5, batch_size=1000, n_epochs=2)"
   ]
  },
  {
   "cell_type": "code",
   "execution_count": 43,
   "metadata": {},
   "outputs": [],
   "source": [
    "def validate_rnn_model(n, model):\n",
    "    data_loader = DataLoader(wikitext.valid, batch_size=1000, collate_fn=RNNVectorizer(n))\n",
    "    total_loss = 0\n",
    "    with tqdm.tqdm(data_loader) as pbar:\n",
    "        running_loss = 0\n",
    "        for batch_x, batch_y in pbar:\n",
    "            with torch.no_grad():\n",
    "                output = model.forward(batch_x)\n",
    "                running_loss = F.cross_entropy(output.view(-1, output.size(-1)), batch_y.view(-1))   \n",
    "                total_loss += running_loss.item()\n",
    "                pbar.set_description_str(f'loss: {running_loss.item():.4f}')\n",
    "    print(f'Perplexity: {np.exp(total_loss / len(data_loader)):.2f}')"
   ]
  },
  {
   "cell_type": "code",
   "execution_count": 44,
   "metadata": {},
   "outputs": [
    {
     "name": "stderr",
     "output_type": "stream",
     "text": [
      "loss: 5.3793: 100%|██████████| 219/219 [00:58<00:00,  3.75it/s]"
     ]
    },
    {
     "name": "stdout",
     "output_type": "stream",
     "text": [
      "Perplexity: 255.71\n"
     ]
    },
    {
     "name": "stderr",
     "output_type": "stream",
     "text": [
      "\n"
     ]
    }
   ],
   "source": [
    "validate_rnn_model(5, model_rnn)"
   ]
  },
  {
   "cell_type": "markdown",
   "metadata": {},
   "source": [
    "#### Performance goal\n",
    "\n",
    "**Your submitted notebook must contain output demonstrating a validation perplexity of at most 280.** If you do not reach this perplexity after the first epoch, try training for a second epoch."
   ]
  },
  {
   "cell_type": "markdown",
   "metadata": {},
   "source": [
    "## Problem 3: Parameter initialisation (3&nbsp;points)"
   ]
  },
  {
   "cell_type": "markdown",
   "metadata": {},
   "source": [
    "The error surfaces explored when training neural networks can be very complex. Because of this, it is important to choose “good” initial values for the parameters. In PyTorch, the weights of the embedding layer are initialised by sampling from the standard normal distribution $\\mathcal{N}(0, 1)$. Test how changing the initialisation affects the perplexity of your feed-forward language model. Find research articles that propose different initialisation strategies.\n",
    "\n",
    "Write a short (150&nbsp;words) report about your experiments and literature search. Use the following prompts:\n",
    "\n",
    "* What different initialisation did you try? What results did you get?\n",
    "* How do your results compare to what was suggested by the research articles?\n",
    "* What did you learn? How, exactly, did you learn it? Why does this learning matter?\n",
    "\n",
    "You are allowed to consult sources for this problem if you appropriately cite them. If in doubt, please read the [Academic Integrity Policy](https://www.ida.liu.se/~TDDE09/logistics/policies.html#academic-integrity-policy)."
   ]
  },
  {
   "cell_type": "markdown",
   "metadata": {},
   "source": [
    "*TODO: Enter your text here*"
   ]
  }
 ],
 "metadata": {
  "accelerator": "GPU",
  "colab": {
   "collapsed_sections": [],
   "name": "LM.ipynb",
   "provenance": [],
   "toc_visible": true
  },
  "kernelspec": {
   "display_name": "Python 3 (ipykernel)",
   "language": "python",
   "name": "python3"
  },
  "language_info": {
   "codemirror_mode": {
    "name": "ipython",
    "version": 3
   },
   "file_extension": ".py",
   "mimetype": "text/x-python",
   "name": "python",
   "nbconvert_exporter": "python",
   "pygments_lexer": "ipython3",
   "version": "3.11.6"
  }
 },
 "nbformat": 4,
 "nbformat_minor": 1
}
