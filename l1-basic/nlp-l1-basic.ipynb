{
 "cells": [
  {
   "cell_type": "markdown",
   "metadata": {},
   "source": [
    "# L1: Language modelling"
   ]
  },
  {
   "cell_type": "markdown",
   "metadata": {},
   "source": [
    "In this lab you will implement and train two neural language models: the fixed-window model and the recurrent neural network model. You will evaluate these models by computing their perplexity on a benchmark dataset."
   ]
  },
  {
   "cell_type": "code",
   "execution_count": 3,
   "metadata": {},
   "outputs": [],
   "source": [
    "import torch"
   ]
  },
  {
   "cell_type": "markdown",
   "metadata": {},
   "source": [
    "For this lab, you should use the GPU if you have one:"
   ]
  },
  {
   "cell_type": "code",
   "execution_count": 33,
   "metadata": {},
   "outputs": [
    {
     "data": {
      "text/plain": [
       "device(type='mps')"
      ]
     },
     "execution_count": 33,
     "metadata": {},
     "output_type": "execute_result"
    }
   ],
   "source": [
    "device = torch.device('cuda' if torch.cuda.is_available() else 'cpu')\n",
    "device = torch.device('mps' if torch.backends.mps.is_available() else 'cpu')\n",
    "device"
   ]
  },
  {
   "cell_type": "markdown",
   "metadata": {},
   "source": [
    "## Data"
   ]
  },
  {
   "cell_type": "markdown",
   "metadata": {},
   "source": [
    "The data for this lab is [WikiText](https://blog.einstein.ai/the-wikitext-long-term-dependency-language-modeling-dataset/), a collection of more than 100 million tokens extracted from the “Good” and “Featured” articles on Wikipedia. We will use the small version of the dataset, which contains slightly more than 2.5 million tokens.\n",
    "\n",
    "The next cell contains code for an object that will act as a container for the “training” and the “validation” section of the data. We fill this container by reading the corresponding text files. The only processing we do is to whitespace-tokenise, and to enclose each non-empty line within `<bos>` (beginning-of-sentence) and `<eos>` (end-of-sentence) tokens."
   ]
  },
  {
   "cell_type": "code",
   "execution_count": 5,
   "metadata": {},
   "outputs": [],
   "source": [
    "class WikiText(object):\n",
    "    \n",
    "    def __init__(self):\n",
    "        self.vocab = {}\n",
    "        self.train = self.read_data('wiki.train.tokens')\n",
    "        self.valid = self.read_data('wiki.valid.tokens')\n",
    "    \n",
    "    def read_data(self, path):\n",
    "        ids = []\n",
    "        with open(path, encoding='utf-8') as source:\n",
    "            for line in source:\n",
    "                line = line.rstrip()\n",
    "                if line:\n",
    "                    for token in ['<bos>'] + line.split() + ['<eos>']:\n",
    "                        if token not in self.vocab:\n",
    "                            self.vocab[token] = len(self.vocab)\n",
    "                        ids.append(self.vocab[token])\n",
    "        return ids"
   ]
  },
  {
   "cell_type": "markdown",
   "metadata": {},
   "source": [
    "The cell below loads the data and prints the total number of tokens and the size of the vocabulary."
   ]
  },
  {
   "cell_type": "code",
   "execution_count": 6,
   "metadata": {},
   "outputs": [
    {
     "name": "stdout",
     "output_type": "stream",
     "text": [
      "Tokens in train: 2099444\n",
      "Tokens in valid: 218808\n",
      "Vocabulary size: 33279\n"
     ]
    }
   ],
   "source": [
    "wikitext = WikiText()\n",
    "\n",
    "print('Tokens in train:', len(wikitext.train))\n",
    "print('Tokens in valid:', len(wikitext.valid))\n",
    "print('Vocabulary size:', len(wikitext.vocab))\n",
    "\n",
    "# print('First 10 tokens:', wikitext.vocab)"
   ]
  },
  {
   "cell_type": "markdown",
   "metadata": {},
   "source": [
    "## Problem 1: Fixed-window model"
   ]
  },
  {
   "cell_type": "markdown",
   "metadata": {},
   "source": [
    "In this section, you will implement and train the fixed-window neural language model proposed by [Bengio et al. (2003)](http://www.jmlr.org/papers/volume3/bengio03a/bengio03a.pdf) and presented in the lectures. Recall that an input to the network takes the form of a vector of $n-1$ integers representing the preceding words. Each integer is mapped to a vector via an embedding layer. (All positions share the same embedding.) The embedding vectors are then concatenated and sent through a two-layer feed-forward network with a non-linearity in the form of a rectified linear unit (ReLU) and a final softmax layer."
   ]
  },
  {
   "cell_type": "markdown",
   "metadata": {},
   "source": [
    "### Problem 1.1: Vectorise the data (1&nbsp;point)"
   ]
  },
  {
   "cell_type": "markdown",
   "metadata": {},
   "source": [
    "Your first task is to write code for transforming the data in the WikiText container into a vectorised form that can be fed to the fixed-window model. Concretely, you will implement a [collate function](https://pytorch.org/docs/stable/data.html#dataloader-collate-fn) in the form of a callable vectoriser object. Complete the skeleton code in the cell below:"
   ]
  },
  {
   "cell_type": "code",
   "execution_count": 7,
   "metadata": {},
   "outputs": [],
   "source": [
    "class FixedWindowVectorizer(object):\n",
    "    def __init__(self, n):\n",
    "        # n-gram order\n",
    "        self.n = n\n",
    "\n",
    "    def __call__(self, data):\n",
    "        N = len(data) - self.n + 1\n",
    "        X = torch.zeros(N, self.n-1, dtype=torch.long)\n",
    "        y = torch.zeros(N, dtype=torch.long)\n",
    "        for i in range(N):\n",
    "            X[i] = torch.tensor(data[i:i+self.n-1])\n",
    "            y[i] = torch.tensor(data[i+self.n-1])\n",
    "        return X, y"
   ]
  },
  {
   "cell_type": "markdown",
   "metadata": {},
   "source": [
    "Your code should implement the following specification:\n",
    "\n",
    "**__init__** (*self*, *n*)\n",
    "\n",
    "> Creates a new vectoriser with n-gram order $n$. Your code should be able to handle arbitrary n-gram orders $n \\geq 1$.\n",
    "\n",
    "**__call__** (*self*, *data*)\n",
    "\n",
    "> Transforms WikiText *data* (a list of word ids) into a pair of tensors $\\mathbf{X}$, $\\mathbf{y}$ that can be used to train the fixed-window model. Let $N$ be the total number of $n$-grams from the token list; then $\\mathbf{X}$ is a matrix with shape $(N, n-1)$ and $\\mathbf{y}$ is a vector with length $N$."
   ]
  },
  {
   "cell_type": "markdown",
   "metadata": {},
   "source": [
    "#### 🤞 Test your code\n",
    "\n",
    "Test your implementation by running the code in the next cell. Does the output match your expectation?"
   ]
  },
  {
   "cell_type": "code",
   "execution_count": 8,
   "metadata": {},
   "outputs": [
    {
     "name": "stdout",
     "output_type": "stream",
     "text": [
      "[0, 1, 1, 1, 8628, 4250, 1, 1, 1, 5]\n",
      "tensor([[    0,     1],\n",
      "        [    1, 32967],\n",
      "        [32967, 32968],\n",
      "        ...,\n",
      "        [ 4250,     1],\n",
      "        [    1,     1],\n",
      "        [    1,     1]])\n",
      "tensor([32967, 32968,     1,  ...,     1,     1,     5])\n",
      "torch.Size([218806, 2]) torch.Size([218806])\n"
     ]
    }
   ],
   "source": [
    "valid_x, valid_y = FixedWindowVectorizer(3)(wikitext.valid)\n",
    "\n",
    "print(wikitext.valid[-10:])\n",
    "\n",
    "print(valid_x)\n",
    "print(valid_y)\n",
    "\n",
    "print(valid_x.size(), valid_y.size())"
   ]
  },
  {
   "cell_type": "markdown",
   "metadata": {},
   "source": [
    "### Problem 1.2: Implement the model (2&nbsp;points)"
   ]
  },
  {
   "cell_type": "markdown",
   "metadata": {},
   "source": [
    "Your next task is to implement the fixed-window model based on the graphical specification given in the lecture."
   ]
  },
  {
   "cell_type": "code",
   "execution_count": 9,
   "metadata": {},
   "outputs": [],
   "source": [
    "import torch.nn as nn\n",
    "\n",
    "class FixedWindowModel(nn.Module):\n",
    "\n",
    "    def __init__(self, n, n_words, embedding_dim=50, hidden_dim=50):\n",
    "        super().__init__()\n",
    "        self.n = n\n",
    "        self.embedding = nn.Embedding(n_words, embedding_dim)\n",
    "        self.linear = nn.Linear((n-1)*embedding_dim, hidden_dim)\n",
    "        self.linear2 = nn.Linear(hidden_dim, n_words)\n",
    "        \n",
    "\n",
    "    def forward(self, x) -> torch.Tensor:\n",
    "        embedding_matrix = self.embedding(x) # size: batch_size x (n-1) x embedding_dim\n",
    "        embedded_vectors = embedding_matrix.view(embedding_matrix.size(0), -1)\n",
    "        output1 = self.linear(embedded_vectors)\n",
    "        output1_relu = torch.relu(output1)\n",
    "        output2 = self.linear2(output1_relu)\n",
    "        return output2\n"
   ]
  },
  {
   "cell_type": "markdown",
   "metadata": {},
   "source": [
    "Here is the specification of the two methods:\n",
    "\n",
    "**__init__** (*self*, *n*, *n_words*, *embedding_dim*=50, *hidden_dim*=50)\n",
    "\n",
    "> Creates a new fixed-window neural language model. The argument *n* specifies the model&rsquo;s $n$-gram order. The argument *n_words* is the number of words in the vocabulary. The arguments *embedding_dim* and *hidden_dim* specify the dimensionalities of the embedding layer and the hidden layer of the feedforward network, respectively; their default value is 50.\n",
    "\n",
    "**forward** (*self*, *x*)\n",
    "\n",
    "> Computes the network output on an input batch *x*. The shape of *x* is $(B, n-1)$, where $B$ is the batch size. The output of the forward pass is a tensor of shape $(B, V)$ where $V$ is the number of words in the vocabulary.\n",
    "\n",
    "**Hint:** The most efficient way to implement the vector concatenation in this model is to use the [`view()`](https://pytorch.org/docs/stable/tensors.html#torch.Tensor.view) method.\n",
    "\n",
    "#### 🤞 Test your code\n",
    "\n",
    "Test your code by instantiating the model and feeding it a batch of examples from the training data."
   ]
  },
  {
   "cell_type": "code",
   "execution_count": 10,
   "metadata": {},
   "outputs": [
    {
     "name": "stdout",
     "output_type": "stream",
     "text": [
      "218806\n"
     ]
    },
    {
     "data": {
      "text/plain": [
       "tensor([[-0.0193,  0.4792, -0.1013,  ...,  0.0490, -0.1986,  0.0358],\n",
       "        [ 0.1811,  0.7492, -0.0484,  ..., -0.2014, -0.5691, -0.0172],\n",
       "        [ 0.0551,  0.5109, -0.0046,  ...,  0.0653, -0.5866,  0.1615],\n",
       "        ...,\n",
       "        [-0.1210,  0.4627,  0.1836,  ...,  0.2146, -0.4578,  0.1747],\n",
       "        [-0.0667,  0.4666,  0.0313,  ...,  0.1162, -0.3100,  0.0820],\n",
       "        [ 0.1420,  0.6584, -0.0618,  ..., -0.0383, -0.7639,  0.2747]],\n",
       "       grad_fn=<AddmmBackward0>)"
      ]
     },
     "execution_count": 10,
     "metadata": {},
     "output_type": "execute_result"
    }
   ],
   "source": [
    "m = FixedWindowModel(3, len(wikitext.vocab), 5, 5)\n",
    "\n",
    "# copy valid x  \n",
    "print(len(valid_x))\n",
    "\n",
    "m.forward(valid_x[:3200])"
   ]
  },
  {
   "cell_type": "markdown",
   "metadata": {},
   "source": [
    "### Problem 1.3: Train the model (3&nbsp;points)"
   ]
  },
  {
   "cell_type": "markdown",
   "metadata": {},
   "source": [
    "Your final task is to write code to train the fixed-window model using minibatch gradient descent and the cross-entropy loss function. This should be a straightforward generalisation of the training loops that you have seen so far. Complete the skeleton code in the cell below:"
   ]
  },
  {
   "cell_type": "code",
   "execution_count": 31,
   "metadata": {},
   "outputs": [],
   "source": [
    "from torch.utils.data import DataLoader\n",
    "import torch.nn.functional as F\n",
    "import torch.optim as optim\n",
    "import numpy as np\n",
    "import tqdm\n",
    "\n",
    "\n",
    "def train_fixed_window(n, n_epochs=1, batch_size=3200, lr=1e-2) -> FixedWindowModel:\n",
    "    # create model\n",
    "    model = FixedWindowModel(n, len(wikitext.vocab))\n",
    "\n",
    "    # init optimizer\n",
    "    optimizer = optim.Adam(model.parameters(), lr=lr)\n",
    "\n",
    "    # init data loader\n",
    "    data_loader = DataLoader(\n",
    "        wikitext.train,\n",
    "        batch_size=batch_size,\n",
    "        shuffle=False,\n",
    "        collate_fn=FixedWindowVectorizer(n),\n",
    "    )\n",
    "    for _ in range(n_epochs):\n",
    "        with tqdm.tqdm(data_loader) as pbar:\n",
    "            for batch_x, batch_y in pbar:\n",
    "                # zero gradients\n",
    "                optimizer.zero_grad()\n",
    "\n",
    "                # forward pass\n",
    "                output = model.forward(batch_x)\n",
    "                # print(f\"Output size {output.size()}\")\n",
    "                # print(f\"Batch y size {batch_y.size()}\")\n",
    "\n",
    "                # compute loss\n",
    "                loss = F.cross_entropy(output, batch_y)\n",
    "\n",
    "                # backward pass\n",
    "                loss.backward()\n",
    "\n",
    "                # update parameters\n",
    "                pbar.set_description_str(f\"loss: {loss.item():.4f}\")\n",
    "\n",
    "                # update parameters\n",
    "                optimizer.step()\n",
    "        # print perplexity\n",
    "        print(f\"Perplexity: {np.exp(loss.item()):.2f}\")\n",
    "    return model\n",
    "\n",
    "\n",
    "def validate_fixed_window(model: FixedWindowModel, n_epochs=1, batch_size=3200):\n",
    "    # init data loader\n",
    "    data_loader = DataLoader(\n",
    "        wikitext.valid,\n",
    "        batch_size=batch_size,\n",
    "        shuffle=False,\n",
    "        collate_fn=FixedWindowVectorizer(3),\n",
    "    )\n",
    "    with tqdm.tqdm(data_loader) as pbar:\n",
    "        for _ in range(n_epochs):\n",
    "            total_loss = 0\n",
    "            for batch_x, batch_y in pbar:\n",
    "                with torch.no_grad():\n",
    "                    # forward pass\n",
    "                    output = model.forward(batch_x)\n",
    "\n",
    "                    # compute loss\n",
    "                    loss = F.cross_entropy(output, batch_y)\n",
    "                    total_loss += loss.item()\n",
    "                    pbar.set_description_str(f\"loss: {loss.item():.4f}\")\n",
    "            # print perplexity\n",
    "            print(f\"Perplexity: {np.exp(loss.item()):.2f}\")\n",
    "            print(f\"Average Perplexity: {np.exp(total_loss/len(data_loader)):.2f}\")"
   ]
  },
  {
   "cell_type": "markdown",
   "metadata": {},
   "source": [
    "Here is the specification of the training function:\n",
    "\n",
    "**train_fixed_window** (*n*, *n_epochs* = 1, *batch_size* = 3200, *lr* = 0.01)\n",
    "\n",
    "> Trains a fixed-window neural language model of order *n* using minibatch gradient descent and returns it. The parameters *n_epochs* and *batch_size* specify the number of training epochs and the minibatch size, respectively. Training uses the cross-entropy loss function and the [Adam optimizer](https://pytorch.org/docs/stable/optim.html#torch.optim.Adam) with learning rate *lr*. After each epoch, prints the perplexity of the model on the validation data."
   ]
  },
  {
   "cell_type": "markdown",
   "metadata": {},
   "source": [
    "The code in the cell below trains a bigram model."
   ]
  },
  {
   "cell_type": "code",
   "execution_count": 34,
   "metadata": {},
   "outputs": [
    {
     "name": "stderr",
     "output_type": "stream",
     "text": [
      "  0%|          | 0/657 [00:00<?, ?it/s]"
     ]
    },
    {
     "name": "stderr",
     "output_type": "stream",
     "text": [
      "loss: 6.2864: 100%|██████████| 657/657 [04:41<00:00,  2.34it/s]\n"
     ]
    },
    {
     "name": "stdout",
     "output_type": "stream",
     "text": [
      "Perplexity: 537.20\n"
     ]
    },
    {
     "name": "stderr",
     "output_type": "stream",
     "text": [
      "loss: 5.5681: 100%|██████████| 657/657 [04:50<00:00,  2.26it/s]"
     ]
    },
    {
     "name": "stdout",
     "output_type": "stream",
     "text": [
      "Perplexity: 261.94\n"
     ]
    },
    {
     "name": "stderr",
     "output_type": "stream",
     "text": [
      "\n"
     ]
    }
   ],
   "source": [
    "model_fixed_window = train_fixed_window(3, 2)"
   ]
  },
  {
   "cell_type": "code",
   "execution_count": 32,
   "metadata": {},
   "outputs": [
    {
     "name": "stderr",
     "output_type": "stream",
     "text": [
      "loss: 5.6170: 100%|██████████| 69/69 [00:13<00:00,  5.07it/s]\n"
     ]
    },
    {
     "name": "stdout",
     "output_type": "stream",
     "text": [
      "Perplexity: 275.06\n",
      "Average Perplexity: 326.64\n",
      "Perplexity: 275.06\n",
      "Average Perplexity: 326.64\n"
     ]
    }
   ],
   "source": [
    "validate_fixed_window(model_fixed_window, 2)"
   ]
  },
  {
   "cell_type": "markdown",
   "metadata": {},
   "source": [
    "#### Performance goal\n",
    "\n",
    "**Your submitted notebook must contain output demonstrating a validation perplexity of at most 350.** If you do not reach this perplexity after the first epoch, try training for a second epoch.\n",
    "\n",
    "⚠️ Computing the validation perplexity in one go (for the full validation set) will probably exhaust your computer’s memory and/or take a lot of time. If you run into this problem, do the computation at the minibatch level and aggregate the results."
   ]
  },
  {
   "cell_type": "markdown",
   "metadata": {},
   "source": [
    "#### 🤞 Test your code\n",
    "\n",
    "To see whether your network is learning something, print or plot the loss and/or the perplexity on the training data. If the two values do not decrease during training, try to find the problem before wasting time (and electricity) on useless computation.\n",
    "\n",
    "Training and even evaluation will take some time – on a CPU, you should expect several minutes per epoch, depending on hardware. Our reference implementation uses a GPU and runs in less than 30 seconds per epoch on [Colab](http://colab.research.google.com)."
   ]
  },
  {
   "cell_type": "markdown",
   "metadata": {},
   "source": [
    "## Problem 2: Recurrent neural network model"
   ]
  },
  {
   "cell_type": "markdown",
   "metadata": {},
   "source": [
    "In this section, you will implement the recurrent neural network language model. Recall that an input to this model is a vector of word ids. Each integer is mapped to an embedding vector. The sequence of embedded vectors is then fed into an unrolled LSTM. At each position $i$ in the sequence, the hidden state of the LSTM at that position is sent through a linear transformation into a final softmax layer representing the probability distribution over the words at position $i+1$. In theory, the input vector could represent the complete training data; for practical reasons, however, we will truncate the input to some fixed value *bptt_len*. This length is called the **backpropagation-through-time horizon**."
   ]
  },
  {
   "cell_type": "markdown",
   "metadata": {},
   "source": [
    "### Problem 2.1: Vectorise the data (1&nbsp;point)"
   ]
  },
  {
   "cell_type": "markdown",
   "metadata": {},
   "source": [
    "As in the previous problem, your first task is to transform the data in the WikiText container into a vectorised form that can be fed to the model."
   ]
  },
  {
   "cell_type": "code",
   "execution_count": 12,
   "metadata": {},
   "outputs": [],
   "source": [
    "class RNNVectorizer(object):\n",
    "    def __init__(self, bptt_len: int):\n",
    "        # backpropagation-through-time horizon\n",
    "        self.bptt_len = bptt_len\n",
    "\n",
    "    def __call__(self, data):\n",
    "        # split data into batches\n",
    "        N = len(data) - self.bptt_len # +1 TODO: ask how to wrap Y\n",
    "        X = torch.zeros(N, self.bptt_len, dtype=torch.long)\n",
    "        Y = torch.zeros(N, self.bptt_len,dtype=torch.long)\n",
    "        for i in range(N):\n",
    "            X[i] = torch.tensor(data[i:i+self.bptt_len])\n",
    "            Y[i] = torch.tensor(data[i+1:i+self.bptt_len+1])\n",
    "        return X, Y"
   ]
  },
  {
   "cell_type": "markdown",
   "metadata": {},
   "source": [
    "Your vectoriser should meet the following specification:\n",
    "\n",
    "**__init__** (*self*, *bptt_len*)\n",
    "\n",
    "> Creates a new vectoriser. The parameter *bptt_len* specifies the backpropagation-through-time horizon.\n",
    "\n",
    "**__call__** (*self*, *data*)\n",
    "\n",
    "> Transforms a list of token indexes *data* into a pair of tensors $\\mathbf{X}$, $\\mathbf{Y}$ that can be used to train the recurrent neural language model. The rows of both tensors represent contiguous subsequences of token indexes of length *bptt_len*. Compared to the sequences in $\\mathbf{X}$, the corresponding sequences in $\\mathbf{Y}$ are shifted one position to the right. More precisely, if the $i$th row of $\\mathbf{X}$ is the sequence that starts at token position $j$, then the same row of $\\mathbf{Y}$ is the sequence that starts at position $j+1$."
   ]
  },
  {
   "cell_type": "markdown",
   "metadata": {},
   "source": [
    "#### 🤞 Test your code\n",
    "\n",
    "Test your implementation by running the following code:"
   ]
  },
  {
   "cell_type": "code",
   "execution_count": 13,
   "metadata": {},
   "outputs": [
    {
     "name": "stdout",
     "output_type": "stream",
     "text": [
      "torch.Size([218776, 32]) torch.Size([218776, 32])\n"
     ]
    }
   ],
   "source": [
    "valid_x_rnn, valid_y_rnn = RNNVectorizer(32)(wikitext.valid)\n",
    "\n",
    "print(valid_x_rnn.size(), valid_y_rnn.size())"
   ]
  },
  {
   "cell_type": "markdown",
   "metadata": {},
   "source": [
    "### Problem 2.2: Implement the model (2&nbsp;points)"
   ]
  },
  {
   "cell_type": "markdown",
   "metadata": {},
   "source": [
    "Your next task is to implement the recurrent neural network model based on the graphical specification."
   ]
  },
  {
   "cell_type": "code",
   "execution_count": 14,
   "metadata": {},
   "outputs": [],
   "source": [
    "import torch.nn as nn\n",
    "\n",
    "class RNNModel(nn.Module):\n",
    "    \n",
    "    def __init__(self, n_words, embedding_dim=50, hidden_dim=50):\n",
    "        super().__init__()\n",
    "        self.n_words = n_words\n",
    "        self.embedding = nn.Embedding(n_words, embedding_dim)\n",
    "        self.lstm = nn.LSTM(embedding_dim, hidden_dim)\n",
    "        self.linear = nn.Linear(hidden_dim, n_words)\n",
    "\n",
    "\n",
    "    def forward(self, x) -> torch.Tensor:\n",
    "        embedded_x: torch.Tensor = self.embedding(x)\n",
    "        output1, _ = self.lstm(embedded_x)\n",
    "        output2: torch.Tensor = self.linear(output1)\n",
    "        return output2"
   ]
  },
  {
   "cell_type": "markdown",
   "metadata": {},
   "source": [
    "Your implementation should follow this specification:\n",
    "\n",
    "**__init__** (*self*, *n_words*, *embedding_dim* = 50, *hidden_dim* = 50)\n",
    "\n",
    "> Creates a new recurrent neural network language model based on an LSTM. The argument *n_words* is the number of words in the vocabulary. The arguments *embedding_dim* and *hidden_dim* specify the dimensionalities of the embedding layer and the LSTM hidden layer, respectively; their default value is 50.\n",
    "\n",
    "**forward** (*self*, *x*)\n",
    "\n",
    "> Computes the network output on an input batch *x*. The shape of *x* is $(B, H)$, where $B$ is the batch size and $H$ is the length of each input sequence. The shape of the output tensor is $(B, H, V)$, where $V$ is the size of the vocabulary."
   ]
  },
  {
   "cell_type": "markdown",
   "metadata": {},
   "source": [
    "#### 🤞 Test your code\n",
    "\n",
    "Test your code by instantiating the model and feeding it a batch of examples from the training data."
   ]
  },
  {
   "cell_type": "code",
   "execution_count": 15,
   "metadata": {},
   "outputs": [
    {
     "data": {
      "text/plain": [
       "tensor([[[-4.6521e-02,  5.1958e-02, -1.3905e-01,  ...,  7.2335e-02,\n",
       "           1.0395e-01,  2.1993e-01],\n",
       "         [-1.4109e-01,  1.7189e-02, -1.6950e-01,  ...,  7.0523e-02,\n",
       "          -9.5192e-02,  6.7265e-02],\n",
       "         [ 7.8084e-02, -1.9063e-02, -1.4843e-01,  ...,  1.8883e-01,\n",
       "           1.4447e-01,  1.9114e-01],\n",
       "         ...,\n",
       "         [-1.8073e-02,  8.5087e-03, -7.7400e-02,  ...,  1.4571e-01,\n",
       "           1.6155e-01,  9.6175e-02],\n",
       "         [ 2.8605e-02, -4.4566e-02, -1.1397e-01,  ...,  1.7556e-02,\n",
       "           1.4853e-02,  7.2751e-03],\n",
       "         [ 1.8843e-04,  2.1162e-02,  7.0548e-02,  ...,  1.3855e-01,\n",
       "           2.6426e-01,  1.8742e-01]],\n",
       "\n",
       "        [[-1.3358e-01,  5.5397e-02, -1.5265e-01,  ...,  4.2290e-02,\n",
       "          -9.1591e-02,  1.0849e-01],\n",
       "         [ 2.7867e-02, -5.1223e-03, -1.5239e-01,  ...,  1.5352e-01,\n",
       "           5.0856e-02,  1.3893e-01],\n",
       "         [ 1.4050e-01,  1.9125e-01, -1.4290e-01,  ...,  7.3667e-02,\n",
       "           1.8727e-01,  2.3714e-01],\n",
       "         ...,\n",
       "         [ 1.4725e-02, -1.7878e-02, -7.5544e-02,  ...,  2.2423e-02,\n",
       "           1.6671e-03,  5.7132e-03],\n",
       "         [-2.9229e-02,  1.7602e-02,  6.3184e-02,  ...,  5.6639e-02,\n",
       "           1.8636e-01,  1.2287e-01],\n",
       "         [ 2.7090e-02, -1.9693e-02, -2.0137e-02,  ...,  1.9193e-01,\n",
       "           2.5621e-01,  2.1538e-01]],\n",
       "\n",
       "        [[ 3.2478e-02,  6.7868e-03, -1.5191e-01,  ...,  1.5024e-01,\n",
       "           5.9903e-02,  1.6416e-01],\n",
       "         [ 1.1779e-01,  2.0534e-01, -1.3865e-01,  ...,  7.1298e-02,\n",
       "           1.4868e-01,  2.0615e-01],\n",
       "         [-4.2356e-02,  1.4613e-01, -1.5505e-01,  ...,  2.3120e-02,\n",
       "          -2.2111e-02,  1.5621e-01],\n",
       "         ...,\n",
       "         [-5.4821e-02,  3.5065e-02,  6.4743e-02,  ...,  5.5451e-02,\n",
       "           1.7103e-01,  1.2885e-01],\n",
       "         [ 3.0522e-02, -1.7498e-02, -2.5233e-02,  ...,  1.3954e-01,\n",
       "           1.9518e-01,  1.6431e-01],\n",
       "         [ 7.2078e-02, -2.1962e-02, -1.4564e-01,  ...,  1.0721e-01,\n",
       "           2.7797e-01,  2.0857e-01]],\n",
       "\n",
       "        ...,\n",
       "\n",
       "        [[ 1.4004e-01,  7.0001e-02, -1.8311e-01,  ...,  1.2351e-02,\n",
       "           1.1659e-02,  1.7328e-01],\n",
       "         [ 1.9388e-02,  9.6376e-03, -1.0512e-01,  ...,  7.5977e-02,\n",
       "          -5.6560e-02,  1.4416e-01],\n",
       "         [ 8.6175e-05,  5.4823e-02, -1.2306e-02,  ...,  3.0027e-02,\n",
       "           8.1127e-02,  2.7099e-01],\n",
       "         ...,\n",
       "         [-1.2737e-01, -2.2428e-02, -1.6407e-01,  ...,  4.4701e-02,\n",
       "           9.4132e-03,  8.8583e-02],\n",
       "         [ 3.3255e-02,  6.8809e-02, -1.7136e-01,  ...,  6.9457e-03,\n",
       "          -1.2022e-01,  7.5434e-02],\n",
       "         [-3.0461e-02,  3.4754e-03, -1.0394e-01,  ...,  6.5872e-02,\n",
       "           7.8900e-02,  1.9705e-01]],\n",
       "\n",
       "        [[ 1.9388e-02,  9.6376e-03, -1.0512e-01,  ...,  7.5977e-02,\n",
       "          -5.6560e-02,  1.4416e-01],\n",
       "         [ 8.6175e-05,  5.4823e-02, -1.2306e-02,  ...,  3.0027e-02,\n",
       "           8.1127e-02,  2.7099e-01],\n",
       "         [-9.1750e-02,  5.2309e-02, -1.4499e-01,  ..., -1.7717e-02,\n",
       "           1.8263e-01,  2.7602e-01],\n",
       "         ...,\n",
       "         [ 3.3255e-02,  6.8809e-02, -1.7136e-01,  ...,  6.9457e-03,\n",
       "          -1.2022e-01,  7.5434e-02],\n",
       "         [-3.0461e-02,  3.4754e-03, -1.0394e-01,  ...,  6.5872e-02,\n",
       "           7.8900e-02,  1.9705e-01],\n",
       "         [ 1.1774e-01,  6.9296e-02, -1.2586e-01,  ...,  1.1664e-01,\n",
       "           2.2585e-01,  2.4673e-01]],\n",
       "\n",
       "        [[ 8.6175e-05,  5.4823e-02, -1.2306e-02,  ...,  3.0027e-02,\n",
       "           8.1127e-02,  2.7099e-01],\n",
       "         [-9.1750e-02,  5.2309e-02, -1.4499e-01,  ..., -1.7717e-02,\n",
       "           1.8263e-01,  2.7602e-01],\n",
       "         [-1.8498e-01,  1.3898e-01, -3.0078e-02,  ...,  2.2673e-02,\n",
       "           9.1079e-02,  2.2265e-01],\n",
       "         ...,\n",
       "         [-3.0461e-02,  3.4754e-03, -1.0394e-01,  ...,  6.5872e-02,\n",
       "           7.8900e-02,  1.9705e-01],\n",
       "         [ 1.1774e-01,  6.9296e-02, -1.2586e-01,  ...,  1.1664e-01,\n",
       "           2.2585e-01,  2.4673e-01],\n",
       "         [ 1.2051e-01, -2.4619e-02, -1.7878e-01,  ..., -3.1996e-03,\n",
       "           1.5547e-01,  2.0870e-01]]], grad_fn=<ViewBackward0>)"
      ]
     },
     "execution_count": 15,
     "metadata": {},
     "output_type": "execute_result"
    }
   ],
   "source": [
    "# Test RNNModel\n",
    "V = len(wikitext.vocab)\n",
    "rnn_model = RNNModel(V)\n",
    "\n",
    "rnn_model.forward(valid_x_rnn[:3200])"
   ]
  },
  {
   "cell_type": "markdown",
   "metadata": {},
   "source": [
    "### Problem 2.3: Train the model (3&nbsp;points)"
   ]
  },
  {
   "cell_type": "markdown",
   "metadata": {},
   "source": [
    "The training loop for the recurrent neural network model is essentially identical to the loop that you wrote for the feed-forward model. The only thing to note is that the cross-entropy loss function expects its input to be a two-dimensional tensor; you will therefore have to re-shape the output tensor from the LSTM as well as the gold-standard output tensor in a suitable way. The most efficient way to do so is to use the [`view()`](https://pytorch.org/docs/stable/tensors.html#torch.Tensor.view) method."
   ]
  },
  {
   "cell_type": "code",
   "execution_count": 36,
   "metadata": {},
   "outputs": [],
   "source": [
    "from torch.utils.data import DataLoader\n",
    "import torch.nn.functional as F\n",
    "import torch.optim as optim\n",
    "import numpy as np\n",
    "import tqdm\n",
    "\n",
    "\n",
    "def train_rnn(n_epochs=1, batch_size=1000, bptt_len=32, lr=1e-2):\n",
    "    # create model\n",
    "    model = RNNModel(len(wikitext.vocab))\n",
    "\n",
    "    # init optimizer\n",
    "    optimizer = optim.Adam(model.parameters(), lr=lr)\n",
    "\n",
    "    # init data loader\n",
    "    data_loader = DataLoader(\n",
    "        wikitext.train,\n",
    "        batch_size=batch_size,\n",
    "        shuffle=False,\n",
    "        collate_fn=RNNVectorizer(bptt_len),\n",
    "    )\n",
    "    for _ in range(n_epochs):\n",
    "        with tqdm.tqdm(data_loader) as pbar:\n",
    "            for batch_x, batch_y in pbar:\n",
    "                # zero gradients\n",
    "                optimizer.zero_grad()\n",
    "\n",
    "                # forward pass\n",
    "                output = model.forward(batch_x)\n",
    "                #print(f\"Output size {output.size()}\")\n",
    "                #print(f\"Batch y size {batch_y.size()}\")\n",
    "\n",
    "                formatted_batch_y = batch_y.view(batch_y.size(0) * batch_y.size(1))\n",
    "                formatted_output = output.view(output.size(0) * output.size(1), output.size(2))\n",
    "                #print(f\"Formatted batch y size {formatted_batch_y.size()}\")\n",
    "                # compute loss\n",
    "                loss = F.cross_entropy(\n",
    "                    formatted_output,\n",
    "                    formatted_batch_y,\n",
    "                )\n",
    "\n",
    "                # backward pass\n",
    "                loss.backward()\n",
    "\n",
    "                # update parameters\n",
    "                pbar.set_description_str(f\"loss: {loss.item():.4f}\")\n",
    "\n",
    "                # update parameters\n",
    "                optimizer.step()\n",
    "        # print perplexity\n",
    "        print(f\"Perplexity: {np.exp(loss.item()):.2f}\")\n",
    "    return model"
   ]
  },
  {
   "cell_type": "markdown",
   "metadata": {},
   "source": [
    "Here is the specification of the training function:\n",
    "\n",
    "**train_rnn** (*n_epochs* = 1, *batch_size* = 1000, *bptt_len* = 32, *lr* = 0.01)\n",
    "\n",
    "> Trains a recurrent neural network language model on the WikiText data using minibatch gradient descent and returns it. The parameters *n_epochs* and *batch_size* specify the number of training epochs and the minibatch size, respectively. The parameter *bptt_len* specifies the length of the backpropagation-through-time horizon, that is, the length of the input and output sequences. Training uses the cross-entropy loss function and the [Adam optimizer](https://pytorch.org/docs/stable/optim.html#torch.optim.Adam) with learning rate *lr*. After each epoch, prints the perplexity of the model on the validation data."
   ]
  },
  {
   "cell_type": "markdown",
   "metadata": {},
   "source": [
    "Evaluate your model by running the following code cell:"
   ]
  },
  {
   "cell_type": "code",
   "execution_count": 1,
   "metadata": {},
   "outputs": [
    {
     "ename": "NameError",
     "evalue": "name 'train_rnn' is not defined",
     "output_type": "error",
     "traceback": [
      "\u001b[0;31m---------------------------------------------------------------------------\u001b[0m",
      "\u001b[0;31mNameError\u001b[0m                                 Traceback (most recent call last)",
      "Cell \u001b[0;32mIn[1], line 1\u001b[0m\n\u001b[0;32m----> 1\u001b[0m model_rnn \u001b[38;5;241m=\u001b[39m \u001b[43mtrain_rnn\u001b[49m(bptt_len\u001b[38;5;241m=\u001b[39m\u001b[38;5;241m5\u001b[39m)\n",
      "\u001b[0;31mNameError\u001b[0m: name 'train_rnn' is not defined"
     ]
    }
   ],
   "source": [
    "model_rnn = train_rnn(bptt_len=5)"
   ]
  },
  {
   "cell_type": "markdown",
   "metadata": {},
   "source": [
    "#### Performance goal\n",
    "\n",
    "**Your submitted notebook must contain output demonstrating a validation perplexity of at most 280.** If you do not reach this perplexity after the first epoch, try training for a second epoch."
   ]
  },
  {
   "cell_type": "markdown",
   "metadata": {},
   "source": [
    "## Problem 3: Parameter initialisation (3&nbsp;points)"
   ]
  },
  {
   "cell_type": "markdown",
   "metadata": {},
   "source": [
    "The error surfaces explored when training neural networks can be very complex. Because of this, it is important to choose “good” initial values for the parameters. In PyTorch, the weights of the embedding layer are initialised by sampling from the standard normal distribution $\\mathcal{N}(0, 1)$. Test how changing the initialisation affects the perplexity of your feed-forward language model. Find research articles that propose different initialisation strategies.\n",
    "\n",
    "Write a short (150&nbsp;words) report about your experiments and literature search. Use the following prompts:\n",
    "\n",
    "* What different initialisation did you try? What results did you get?\n",
    "* How do your results compare to what was suggested by the research articles?\n",
    "* What did you learn? How, exactly, did you learn it? Why does this learning matter?\n",
    "\n",
    "You are allowed to consult sources for this problem if you appropriately cite them. If in doubt, please read the [Academic Integrity Policy](https://www.ida.liu.se/~TDDE09/logistics/policies.html#academic-integrity-policy)."
   ]
  },
  {
   "cell_type": "markdown",
   "metadata": {},
   "source": [
    "*TODO: Enter your text here*"
   ]
  }
 ],
 "metadata": {
  "accelerator": "GPU",
  "colab": {
   "collapsed_sections": [],
   "name": "LM.ipynb",
   "provenance": [],
   "toc_visible": true
  },
  "kernelspec": {
   "display_name": "Python 3 (ipykernel)",
   "language": "python",
   "name": "python3"
  },
  "language_info": {
   "codemirror_mode": {
    "name": "ipython",
    "version": 3
   },
   "file_extension": ".py",
   "mimetype": "text/x-python",
   "name": "python",
   "nbconvert_exporter": "python",
   "pygments_lexer": "ipython3",
   "version": "3.11.6"
  }
 },
 "nbformat": 4,
 "nbformat_minor": 1
}
